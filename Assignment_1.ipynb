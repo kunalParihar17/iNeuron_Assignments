{
 "cells": [
  {
   "cell_type": "markdown",
   "id": "4ce57641",
   "metadata": {},
   "source": [
    "**Q1 What is the purpose of Python's OOP?**\n",
    "\n",
    "**Ans**\n"
   ]
  },
  {
   "cell_type": "markdown",
   "id": "93e067e8",
   "metadata": {},
   "source": [
    "OOPs in python is a pattern,. ie a model that uses objects and classess in programming.\n",
    "\n",
    "The main concepts of OOPs are\n",
    "- Class\n",
    "- Objects\n",
    "- Polymorphism\n",
    "- Encapsulation\n",
    "- Inheritance\n",
    "- Data Abstraction\n",
    "\n"
   ]
  },
  {
   "cell_type": "markdown",
   "id": "30246e61",
   "metadata": {},
   "source": [
    "**Q2 Where does an inheritance search look for an attribute?**\n",
    "\n",
    "**Ans**"
   ]
  },
  {
   "cell_type": "markdown",
   "id": "0032a1e2",
   "metadata": {},
   "source": [
    "It looks for an attribute first in the instance object and then in the class which has created that instance,then all the higher superclasses,starting from left to the right. The search is stopped when the first place attribute is found."
   ]
  },
  {
   "cell_type": "markdown",
   "id": "7d456097",
   "metadata": {},
   "source": [
    "**Q3 How do you distinguish between a class object and an instance object?**\n",
    "\n",
    "**Ans**"
   ]
  },
  {
   "cell_type": "markdown",
   "id": "36f3c7e0",
   "metadata": {},
   "source": [
    "Classes can create multiple instances. The classes can also support operatior overloading methords,that can be inherited by classes and  treat any functions nested in the class as methods for processing instances."
   ]
  },
  {
   "cell_type": "markdown",
   "id": "8d1a4c30",
   "metadata": {},
   "source": [
    "**Q4. What makes the first argument in a class’s method function special?**\n",
    "\n",
    "**Ans**\n",
    "\n"
   ]
  },
  {
   "cell_type": "markdown",
   "id": "2c1d270c",
   "metadata": {},
   "source": [
    "It always receives the instance object that is the implied subject of the method call. It’s usually called 'self' by convention."
   ]
  },
  {
   "cell_type": "markdown",
   "id": "eee2743a",
   "metadata": {},
   "source": [
    "**Q5 What is the purpose of the __init__ method?**\n",
    "\n",
    "**Ans**"
   ]
  },
  {
   "cell_type": "markdown",
   "id": "227b05b5",
   "metadata": {},
   "source": [
    "__init__ if used in a code or is inherited by any class in python,it automatically is called each time an instance of that class is credted."
   ]
  },
  {
   "cell_type": "code",
   "execution_count": 4,
   "id": "4ed2a28b",
   "metadata": {},
   "outputs": [],
   "source": [
    "class New():\n",
    "\n",
    "\n",
    "    def __init__(self, arg1, arg2):\n",
    "\n",
    "        self.first_var = arg1\n",
    "\n",
    "        self.second_var = arg2"
   ]
  },
  {
   "cell_type": "markdown",
   "id": "00d77d0c",
   "metadata": {},
   "source": [
    "**Q6 What is the process for creating a class instance?**\n",
    "\n",
    "**Ans**"
   ]
  },
  {
   "cell_type": "markdown",
   "id": "3a4ecb0a",
   "metadata": {},
   "source": [
    "To create the class instance ,the class name is called as if its a function.Any arguments passed into the class name show up as arguments two and beyond in the __init__ constructor method.\n",
    "\n",
    "x = ClassName()\n",
    "y = AnotherClass(arg1, arg2)"
   ]
  },
  {
   "cell_type": "markdown",
   "id": "b9fc86bf",
   "metadata": {},
   "source": [
    "**Q7. What is the process for creating a class?**\n",
    "\n",
    "**Ans**"
   ]
  },
  {
   "cell_type": "code",
   "execution_count": 1,
   "id": "ec3d6b74",
   "metadata": {},
   "outputs": [],
   "source": [
    "class ClassName():\n",
    "    def pandora(*arg):\n",
    "        return 100+100"
   ]
  },
  {
   "cell_type": "markdown",
   "id": "7666987c",
   "metadata": {},
   "source": [
    "**Q8 How would you define the superclasses of a class?**\n",
    "\n",
    "**Ans**"
   ]
  },
  {
   "cell_type": "markdown",
   "id": "cca18db6",
   "metadata": {},
   "source": [
    "These are the classes from which data is inherited\n",
    "\n",
    "Example:\n",
    "\n",
    "class Son(Father, Mother): ...\n",
    "\n",
    "In this case Father and Mother are superclasses for Son subclass."
   ]
  }
 ],
 "metadata": {
  "kernelspec": {
   "display_name": "Python 3 (ipykernel)",
   "language": "python",
   "name": "python3"
  },
  "language_info": {
   "codemirror_mode": {
    "name": "ipython",
    "version": 3
   },
   "file_extension": ".py",
   "mimetype": "text/x-python",
   "name": "python",
   "nbconvert_exporter": "python",
   "pygments_lexer": "ipython3",
   "version": "3.9.12"
  }
 },
 "nbformat": 4,
 "nbformat_minor": 5
}
