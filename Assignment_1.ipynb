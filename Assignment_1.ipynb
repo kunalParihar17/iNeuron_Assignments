{
 "cells": [
  {
   "cell_type": "markdown",
   "id": "a0e87f8f",
   "metadata": {},
   "source": [
    "Q1 1\\. In the below elements which of them are values or an expression?\n",
    "eg:- values can be integer or string and expressions will be\n",
    "mathematical operators.\n",
    "\n",
    "\\*\n",
    "\n",
    "'hello'\n",
    "\n",
    "-87.8\n",
    "\n",
    "\\-\n",
    "\n",
    "/\n",
    "\n",
    "-   \n",
    "\n",
    "6\n",
    "\n",
    "\n",
    "Ans :\n",
    "    \n",
    "\\*      -  Expression\n",
    "\n",
    "'hello' - Value\n",
    "\n",
    "-87.8   - Value\n",
    "\n",
    "\\-      - Expression\n",
    "\n",
    "/       - Expression\n",
    "\n",
    "-       - Expression \n",
    "\n",
    "6       - Value \n"
   ]
  },
  {
   "cell_type": "markdown",
   "id": "859c7a28",
   "metadata": {},
   "source": [
    "Q2 What is the difference between string and variable?\n",
    "\n",
    "Ans \n",
    "\n",
    "**Variable** is an Identifier to store a value in a memory location and can be changed is required.\n",
    "\n",
    "Example x= 200\n",
    "y = 204\n",
    "\n",
    "x and y are varibles that store values 200 and 204 respectively.It can be created by simply assigining a value to it in Python. A Memory location is allocated to store these values in the variable.\n",
    "\n",
    "**Strings**:\n",
    "\n",
    "Anything assigned within single ,double quotes in python can be termed as **string**.\n",
    "Example : 'Data science is amazing' or \"Speed of light is 3 lakh/second\"\n",
    "\n",
    "Example : abc = '20'\n",
    "          def = '30'\n",
    "          print(abc + def) \n",
    "          output : '2030'\n",
    "\n"
   ]
  },
  {
   "cell_type": "markdown",
   "id": "26bb2038",
   "metadata": {},
   "source": [
    "Q3 Describe three different data types.\n",
    "\n",
    "\n",
    "Ans In python there are three different data types\n",
    "\n",
    "1) Numeric\n",
    "\n",
    "2) Sequence Type\n",
    "\n",
    "3) Boolean\n",
    "\n",
    "4) Set\n",
    "\n",
    "5) Dictionary\n",
    "\n",
    "\n",
    "\n",
    "**Numeric**\n",
    "\n",
    "Values represented by int class. Has +ve and -ve whole numbers with no fraction.\n",
    "\n",
    "Float - Has real number with floating point data representation. \n",
    "\n",
    "Complex Number: represented by complex class. Has real part + imaginary part\n",
    "Example : 22 + 34j\n",
    "\n",
    "**Sequence Type**\n",
    "\n",
    "It is a collection of similar or different data types.\n",
    "It is of three types\n",
    "\n",
    "string :  Anything assigned within single ,double quotes in python can be termed as **string**.\n",
    "List : Like arrays is an ordered collection of data. It can contains 'elements' of different data types.\n",
    "Can be created within square brackets Example a = ['abs',23,'max23',2222,]\n",
    "\n",
    "**Tuple**\n",
    "\n",
    "It is an ordered collection of Python objects.\n",
    "Tuple can not be modified after creation. This is the main difference between a tuple and a list.\n",
    "\n",
    "\n",
    "It can be created with round brackets\n",
    "\n",
    "Example: Tuple of strings ('boys','cars')\n",
    "         Tuple of nested tuples ((2,3,232,422,746),('beautiful',('valley'))) \n",
    "\n",
    "**Boolean**\n",
    "\n",
    "\n",
    "It is a data type with two values ***True*** or ***False***\n",
    "\n",
    "**Set**\n",
    "\n",
    "Set is a collection of an unordered collection of data type that can be iterated , mutated(changed) **but has no duplicate elements**\n",
    "\n",
    "Can be created by curly braces\n",
    "\n",
    "Example:{'vintage','Cars',004,'90s_music'}   # Set with different types of elements.\n",
    "\n",
    "**Dictonary**\n",
    "\n",
    "A Dictonary consists of a collection of key-value pairs. Each pair maps  the key to its corresponding value.\n",
    "A Dictonary can be defined by using curly braces.\n",
    "\n",
    "Duplicate keys are not allowed. Dictonary is immutable.\n",
    "Example  obj_dict = dict({1:'bat', 2:'ball'})"
   ]
  },
  {
   "cell_type": "markdown",
   "id": "d0d38db1",
   "metadata": {},
   "source": [
    "Q4 What is an expression made up of? What do all expressions do?\n",
    "\n",
    "\n",
    "Ans An expression consists of operators(example +,-,/) and operands(object capable of being manipulated example a number) that is expected to produce some value.\n",
    "\n",
    "The expression represents some value.\n",
    "Example Arithmetic expression : add = x + y"
   ]
  },
  {
   "cell_type": "markdown",
   "id": "6887fed2",
   "metadata": {},
   "source": [
    "Q5 This assignment statements, like spam = 10. What is the difference\n",
    "between an expression and a statement?\n",
    "\n",
    "Ans  spam = 10 is value '10' being assigned to the variable 'spam'. This is an Expression.                       \n",
    "                                                                                          \n",
    "                                                                                         \n",
    "Difference Between Statement and Expression:                                                   \n",
    "    \n",
    "1) Expression is a sequence or combination of values,operators and variables. Example : a + b = 100. \n",
    "   \n",
    "   While a Statement is the smallest executable unit of code that has an effect, like creating a variable or displaying a value.\n",
    "  \n",
    "2) The execution of Expression does not change state while execution of statement does change state.\n",
    "\n",
    "3) Every expression cannot be a statement but every statement can be an expression. "
   ]
  },
  {
   "cell_type": "markdown",
   "id": "644fa65d",
   "metadata": {},
   "source": [
    "6\\. After running the following code, what does the variable bacon\n",
    "contain?"
   ]
  },
  {
   "cell_type": "code",
   "execution_count": 5,
   "id": "3b581403",
   "metadata": {},
   "outputs": [
    {
     "data": {
      "text/plain": [
       "23"
      ]
     },
     "execution_count": 5,
     "metadata": {},
     "output_type": "execute_result"
    }
   ],
   "source": [
    "bacon = 22\n",
    "bacon + 1"
   ]
  },
  {
   "cell_type": "markdown",
   "id": "08d74754",
   "metadata": {},
   "source": [
    "'Bacon' an variable contained the value 22 and after using the increment opertor(+) with value '1', the value of 'Bacon' increased by one ie., 23.   "
   ]
  },
  {
   "cell_type": "markdown",
   "id": "c205d103",
   "metadata": {},
   "source": [
    "Q8 Why is eggs a valid variable name while 100 is invalid?\n",
    "\n",
    "A variable name cannot begin with a number. They can only have alphanumeric characters and underscores (A-z,0-9,and_)"
   ]
  },
  {
   "cell_type": "markdown",
   "id": "09f1db25",
   "metadata": {},
   "source": [
    "Q9. What three functions can be used to get the integer, floating-point\n",
    "number, or string version of a value?\n",
    "\n",
    "Ans          \n",
    "\n",
    "For integer its  **int()**\n",
    "\n",
    "   For floating-point number its  **float()**\n",
    "     \n",
    "   For string version of a value  its  **str()**"
   ]
  },
  {
   "cell_type": "markdown",
   "id": "26cf90c0",
   "metadata": {},
   "source": [
    "10. Why does this expression cause an error? How can you fix it?\n",
    "\n",
    "'I have eaten ' + 99 + ' burritos.'\n",
    "\n",
    "Ans \n",
    "\n",
    "Only Strings can be concatinated to other strings with '+' operator, 99 is an integer.\n",
    "\n",
    "We can fix this by 'I have eaten' + str(99) + 'burritos'"
   ]
  },
  {
   "cell_type": "code",
   "execution_count": null,
   "id": "2cf54ac5",
   "metadata": {},
   "outputs": [],
   "source": []
  }
 ],
 "metadata": {
  "kernelspec": {
   "display_name": "Python 3 (ipykernel)",
   "language": "python",
   "name": "python3"
  },
  "language_info": {
   "codemirror_mode": {
    "name": "ipython",
    "version": 3
   },
   "file_extension": ".py",
   "mimetype": "text/x-python",
   "name": "python",
   "nbconvert_exporter": "python",
   "pygments_lexer": "ipython3",
   "version": "3.9.12"
  }
 },
 "nbformat": 4,
 "nbformat_minor": 5
}
