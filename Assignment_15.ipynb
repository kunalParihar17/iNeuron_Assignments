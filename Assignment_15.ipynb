{
 "cells": [
  {
   "cell_type": "markdown",
   "id": "7fd0776d",
   "metadata": {},
   "source": [
    "**Q1.How many seconds are in an hour? Use the interactive interpreter as a calculator and multiply the number of seconds in a minute (60) by the number of minutes in an hour (also 60)**\n",
    "\n",
    "**Ans**\n",
    "\n",
    "\n"
   ]
  },
  {
   "cell_type": "code",
   "execution_count": 31,
   "id": "ec6b7859",
   "metadata": {},
   "outputs": [],
   "source": [
    "seconds_in_a_min = 60\n",
    "minutes_in_a_hour = 60\n",
    "hours_in_a_day = 24"
   ]
  },
  {
   "cell_type": "code",
   "execution_count": 32,
   "id": "71650f8f",
   "metadata": {},
   "outputs": [
    {
     "data": {
      "text/plain": [
       "3600"
      ]
     },
     "execution_count": 32,
     "metadata": {},
     "output_type": "execute_result"
    }
   ],
   "source": [
    "seconds_in_a_min*minutes_in_a_hour"
   ]
  },
  {
   "cell_type": "markdown",
   "id": "ae393d55",
   "metadata": {},
   "source": [
    "**Q2 Assign the result from the previous task (seconds in an hour) to a variable called seconds\\_per\\_hour**\n",
    "\n",
    "**Ans**\n"
   ]
  },
  {
   "cell_type": "code",
   "execution_count": 33,
   "id": "e3dc1699",
   "metadata": {},
   "outputs": [],
   "source": [
    "seconds_per_hour = 3600"
   ]
  },
  {
   "cell_type": "markdown",
   "id": "e80b25bf",
   "metadata": {},
   "source": [
    "**Q3 How many seconds do you think there are in a day? Make use of the\n",
    "variables seconds per hour and minutes per hour**\n"
   ]
  },
  {
   "cell_type": "markdown",
   "id": "c62aecc5",
   "metadata": {},
   "source": [
    "**Ans**"
   ]
  },
  {
   "cell_type": "code",
   "execution_count": 35,
   "id": "f8d8b0aa",
   "metadata": {},
   "outputs": [
    {
     "data": {
      "text/plain": [
       "86400"
      ]
     },
     "execution_count": 35,
     "metadata": {},
     "output_type": "execute_result"
    }
   ],
   "source": [
    "seconds_per_hour*hours_in_a_day"
   ]
  },
  {
   "cell_type": "markdown",
   "id": "a955455b",
   "metadata": {},
   "source": [
    "**Q4 Calculate seconds per day again, but this time save the result in a\n",
    "variable called seconds\\_per\\_day**"
   ]
  },
  {
   "cell_type": "code",
   "execution_count": 37,
   "id": "e70a8bd4",
   "metadata": {},
   "outputs": [
    {
     "data": {
      "text/plain": [
       "86400"
      ]
     },
     "execution_count": 37,
     "metadata": {},
     "output_type": "execute_result"
    }
   ],
   "source": [
    "seconds_per_day = seconds_per_hour * 24\n",
    "seconds_per_day"
   ]
  },
  {
   "cell_type": "markdown",
   "id": "8555c548",
   "metadata": {},
   "source": [
    "**Q5 Divide seconds\\_per\\_day by seconds\\_per\\_hour. Use floating-point\n",
    "(/) division.**\n",
    "\n",
    "**Ans**"
   ]
  },
  {
   "cell_type": "code",
   "execution_count": 39,
   "id": "91b0d292",
   "metadata": {},
   "outputs": [
    {
     "name": "stdout",
     "output_type": "stream",
     "text": [
      "24.0\n"
     ]
    }
   ],
   "source": [
    "print(float(seconds_per_day/seconds_per_hour))"
   ]
  },
  {
   "cell_type": "markdown",
   "id": "f6041440",
   "metadata": {},
   "source": [
    "** Q6 Divide seconds\\_per\\_day by seconds\\_per\\_hour, using integer (//)division. Did this number agree with the floating-point value from the previous question, aside from the final **\n",
    "\n",
    "**Ans**"
   ]
  },
  {
   "cell_type": "code",
   "execution_count": 40,
   "id": "dc900bb5",
   "metadata": {},
   "outputs": [
    {
     "name": "stdout",
     "output_type": "stream",
     "text": [
      "24\n"
     ]
    }
   ],
   "source": [
    "print(int(seconds_per_day/seconds_per_hour))"
   ]
  },
  {
   "cell_type": "markdown",
   "id": "16420a07",
   "metadata": {},
   "source": [
    "Yes it agrees with the floating point value"
   ]
  },
  {
   "cell_type": "markdown",
   "id": "5c804e22",
   "metadata": {},
   "source": [
    "**Q7 Write a generator, genPrimes, that returns the sequence of prime\n",
    "numbers on successive calls to its next() method: 2, 3, 5, 7, 11, ...**\n",
    "\n",
    "**Ans**"
   ]
  },
  {
   "cell_type": "code",
   "execution_count": 57,
   "id": "a817ffde",
   "metadata": {},
   "outputs": [],
   "source": [
    "def genPrimes():\n",
    "    primes = []\n",
    "    n = 2\n",
    "    last = n\n",
    "\n",
    "    while True:\n",
    "        for i in primes:\n",
    "            if n % i == 0:\n",
    "                n += 1\n",
    "                break\n",
    "\n",
    "        else:\n",
    "            primes.append(n)\n",
    "            last = n\n",
    "            n += 1\n",
    "            yield last"
   ]
  },
  {
   "cell_type": "code",
   "execution_count": null,
   "id": "350f8c45",
   "metadata": {},
   "outputs": [],
   "source": []
  }
 ],
 "metadata": {
  "kernelspec": {
   "display_name": "Python 3 (ipykernel)",
   "language": "python",
   "name": "python3"
  },
  "language_info": {
   "codemirror_mode": {
    "name": "ipython",
    "version": 3
   },
   "file_extension": ".py",
   "mimetype": "text/x-python",
   "name": "python",
   "nbconvert_exporter": "python",
   "pygments_lexer": "ipython3",
   "version": "3.9.12"
  }
 },
 "nbformat": 4,
 "nbformat_minor": 5
}
