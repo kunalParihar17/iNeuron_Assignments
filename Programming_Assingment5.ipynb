{
 "cells": [
  {
   "cell_type": "markdown",
   "id": "50c8e0c0",
   "metadata": {},
   "source": [
    "**Q1  Write a Python Program to Find LCM?**\n",
    "\n",
    "**Ans**\n"
   ]
  },
  {
   "cell_type": "code",
   "execution_count": 11,
   "id": "067d78f8",
   "metadata": {
    "scrolled": false
   },
   "outputs": [
    {
     "name": "stdout",
     "output_type": "stream",
     "text": [
      "Enter the first number1000\n",
      "Enter the second number2000\n"
     ]
    },
    {
     "data": {
      "text/plain": [
       "2000"
      ]
     },
     "execution_count": 11,
     "metadata": {},
     "output_type": "execute_result"
    }
   ],
   "source": [
    "def lcm():\n",
    "\n",
    "    x = int(input('Enter the first number'))\n",
    "    y = int(input('Enter the second number'))\n",
    "    if x > y:\n",
    "        greater = x\n",
    "    else:\n",
    "        greater = y\n",
    "\n",
    "    while(True):\n",
    "        if((greater % x == 0) and (greater % y == 0)):\n",
    "            lcm = greater\n",
    "            break\n",
    "        greater += 1\n",
    "\n",
    "    return lcm\n",
    "\n",
    "lcm()        "
   ]
  },
  {
   "cell_type": "markdown",
   "id": "704f7bb4",
   "metadata": {},
   "source": [
    "**Q2.  Write a Python Program to Find HCF?**\n",
    "\n",
    "**Ans**"
   ]
  },
  {
   "cell_type": "code",
   "execution_count": 17,
   "id": "cb3cac42",
   "metadata": {},
   "outputs": [
    {
     "name": "stdout",
     "output_type": "stream",
     "text": [
      "Enter the first number600\n",
      "Enter the second number234\n",
      "The H.C.F. is 6\n"
     ]
    }
   ],
   "source": [
    "def compute_hcf(x, y):\n",
    "\n",
    "# choose the smaller number\n",
    "    x = int(input('Enter the first number'))\n",
    "    y = int(input('Enter the second number'))\n",
    "    if x > y:\n",
    "        smaller = y\n",
    "    else:\n",
    "        smaller = x\n",
    "    for i in range(1, smaller+1):\n",
    "        if((x % i == 0) and (y % i == 0)):\n",
    "            hcf = i \n",
    "    return hcf\n",
    "\n",
    "print(\"The H.C.F. is\", compute_hcf(num1, num2))"
   ]
  },
  {
   "cell_type": "markdown",
   "id": "bb88d2c4",
   "metadata": {},
   "source": [
    "**Q3.  Write a Python Program to Convert Decimal to Binary, Octal and\n",
    "    Hexadecimal?**\n",
    "    \n",
    "**Ans**    \n"
   ]
  },
  {
   "cell_type": "code",
   "execution_count": 20,
   "id": "60174b99",
   "metadata": {},
   "outputs": [
    {
     "name": "stdout",
     "output_type": "stream",
     "text": [
      "Enter the binary number766\n",
      "The Binary value is  0b1011111110 \n",
      "\n",
      "The Binary value is  0o1376 \n",
      "\n",
      "The Binary value is  0x2fe\n"
     ]
    }
   ],
   "source": [
    "def convert():\n",
    "    x = int(input('Enter the binary number'))\n",
    "    binary = bin(x)\n",
    "    octal = oct(x)\n",
    "    hexadecimal = hex(x)\n",
    "    print('The Binary value is ',binary,'\\n')\n",
    "    print('The Binary value is ',octal,'\\n')\n",
    "    print('The Binary value is ',hexadecimal)\n",
    "\n",
    "convert()"
   ]
  },
  {
   "cell_type": "markdown",
   "id": "3f413807",
   "metadata": {},
   "source": [
    "**Q4.  Write a Python Program To Find ASCII value of a character?**\n",
    "\n",
    "**Ans**\n"
   ]
  },
  {
   "cell_type": "code",
   "execution_count": 25,
   "id": "c959623c",
   "metadata": {},
   "outputs": [
    {
     "name": "stdout",
     "output_type": "stream",
     "text": [
      "The ASCII value of 'A' is 65\n"
     ]
    }
   ],
   "source": [
    "val = 'A'\n",
    "print(\"The ASCII value of '\" + val + \"' is\", ord(val))"
   ]
  },
  {
   "cell_type": "markdown",
   "id": "901310db",
   "metadata": {},
   "source": [
    "**Q5**.  Write a Python Program to Make a Simple Calculator with 4 basic\n",
    "    mathematical operations?**\n",
    "    \n",
    "**Ans**    "
   ]
  },
  {
   "cell_type": "code",
   "execution_count": 62,
   "id": "51845698",
   "metadata": {},
   "outputs": [
    {
     "name": "stdout",
     "output_type": "stream",
     "text": [
      "Enter the first number4734\n",
      "Enter the first number1324\n",
      "Enter \n",
      "a for A2ddition,\n",
      "b for Subtraction,\n",
      "c for Multiplication \n",
      "d for Divisiona\n",
      "The Sum of  4734 and 1324 is 6058\n"
     ]
    }
   ],
   "source": [
    "def calculator():\n",
    "    x = int(input('Enter the first number'))\n",
    "    y = int(input('Enter the first number'))\n",
    "    operation = input('Enter \\na for A2ddition,\\nb for Subtraction,\\nc for Multiplication \\nd for Division')\n",
    "    if operation == 'a':\n",
    "         print('The Sum of ',x,'and',y,'is',x + y)\n",
    "    elif operation == 'b':\n",
    "         print('The Difference of ',x,'and',y,'is',x-y)\n",
    "    elif operation == 'c':\n",
    "           print('The Multiplication of ',x,'and',y,'is',x*y)                \n",
    "    else: \n",
    "          if y==0:\n",
    "            print('Cannot divide by zero!')\n",
    "          else : \n",
    "            print('The Division of ',x,'and',y,'is',x/y)                \n",
    "                \n",
    "calculator()        "
   ]
  },
  {
   "cell_type": "code",
   "execution_count": 64,
   "id": "b79e6468",
   "metadata": {},
   "outputs": [
    {
     "name": "stdout",
     "output_type": "stream",
     "text": [
      "Enter the first number6000\n",
      "Enter the first number4000\n",
      "Enter \n",
      "a for A2ddition,\n",
      "b for Subtraction,\n",
      "c for Multiplication \n",
      "d for Divisionb\n",
      "The Difference of  6000 and 4000 is 2000\n"
     ]
    }
   ],
   "source": [
    "calculator()        "
   ]
  },
  {
   "cell_type": "code",
   "execution_count": 65,
   "id": "da00eb14",
   "metadata": {},
   "outputs": [
    {
     "name": "stdout",
     "output_type": "stream",
     "text": [
      "Enter the first number62626\n",
      "Enter the first number82828\n",
      "Enter \n",
      "a for A2ddition,\n",
      "b for Subtraction,\n",
      "c for Multiplication \n",
      "d for Divisionc\n",
      "The Multiplication of  62626 and 82828 is 5187186328\n"
     ]
    }
   ],
   "source": [
    "calculator()"
   ]
  },
  {
   "cell_type": "code",
   "execution_count": 66,
   "id": "0564dd1f",
   "metadata": {},
   "outputs": [
    {
     "name": "stdout",
     "output_type": "stream",
     "text": [
      "Enter the first number1234\n",
      "Enter the first number75\n",
      "Enter \n",
      "a for A2ddition,\n",
      "b for Subtraction,\n",
      "c for Multiplication \n",
      "d for Divisiond\n",
      "The Division of  1234 and 75 is 16.453333333333333\n"
     ]
    }
   ],
   "source": [
    "calculator()"
   ]
  }
 ],
 "metadata": {
  "kernelspec": {
   "display_name": "Python 3 (ipykernel)",
   "language": "python",
   "name": "python3"
  },
  "language_info": {
   "codemirror_mode": {
    "name": "ipython",
    "version": 3
   },
   "file_extension": ".py",
   "mimetype": "text/x-python",
   "name": "python",
   "nbconvert_exporter": "python",
   "pygments_lexer": "ipython3",
   "version": "3.9.12"
  }
 },
 "nbformat": 4,
 "nbformat_minor": 5
}
