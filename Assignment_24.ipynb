{
 "cells": [
  {
   "cell_type": "markdown",
   "id": "139cc4d6",
   "metadata": {},
   "source": [
    "**Q1 What is the relationship between def statements and lambda\n",
    "expressions ?**\n",
    "\n",
    "**Ans**\n"
   ]
  },
  {
   "cell_type": "markdown",
   "id": "942d6571",
   "metadata": {},
   "source": [
    "Both lambda and def produce the same kind of function as the metadata and other capabilities are same.The technical difference is in their syntax.\n",
    "\n",
    "A lambda is an expression producing a function.\n",
    "A def is a statement producing a function.\n",
    "This is everything that dictates how they can be used.\n",
    "A lambda is more flexible as expressions can be part of more language constructs while def is more powerful as it can consist of more language constructs."
   ]
  },
  {
   "cell_type": "markdown",
   "id": "1b168081",
   "metadata": {},
   "source": [
    "**Q2 What is the benefit of lambda**\n",
    "\n",
    "**Ans**"
   ]
  },
  {
   "cell_type": "markdown",
   "id": "fdfbfdf9",
   "metadata": {},
   "source": [
    "Lambda allows us to write single use functions that are shot and this helps us save time and space in code.\n",
    " They ares also useful when you need to call a function that expects a function as an argument for a callback such as Map() and Filter() . "
   ]
  },
  {
   "cell_type": "markdown",
   "id": "4dd2a93d",
   "metadata": {},
   "source": [
    "**Q3 Compare and contrast map, filter, and reduce.**\n",
    "\n",
    "**Ans**\n"
   ]
  },
  {
   "cell_type": "markdown",
   "id": "00bfed42",
   "metadata": {},
   "source": [
    "All three functions take function to apply on iterator and iterator as input.\n",
    "\n",
    "\n",
    "- MAP function maps to each element of iterator and collects the result.\n",
    "\n",
    "- FILTER applies function to each element of iterator and collect those elements for which function returns true. For this function need to return boolean value.\n",
    "\n",
    "- REDUCE applies rolling computation to sequential pair of elements in iterator. Initially it takes two elements from iterator in sequence, applies function, collect result, then take next element in sequence from iterator, applies function and repeat this untill list has single value."
   ]
  },
  {
   "cell_type": "code",
   "execution_count": 1,
   "id": "7b9857dc",
   "metadata": {},
   "outputs": [
    {
     "data": {
      "text/plain": [
       "[2, 4, 6, 8]"
      ]
     },
     "execution_count": 1,
     "metadata": {},
     "output_type": "execute_result"
    }
   ],
   "source": [
    "a=[1,2,3,4] \n",
    "b = list(map(lambda x:x*2, a)) \n",
    "b "
   ]
  },
  {
   "cell_type": "code",
   "execution_count": 2,
   "id": "12434575",
   "metadata": {},
   "outputs": [
    {
     "data": {
      "text/plain": [
       "[3, 4]"
      ]
     },
     "execution_count": 2,
     "metadata": {},
     "output_type": "execute_result"
    }
   ],
   "source": [
    "[2, 4, 6, 8] \n",
    "m = list(filter(lambda x:x>2, a)) \n",
    "m"
   ]
  },
  {
   "cell_type": "code",
   "execution_count": 7,
   "id": "fb9b8cdb",
   "metadata": {},
   "outputs": [
    {
     "name": "stdout",
     "output_type": "stream",
     "text": [
      "The sum of the list elements is : 17\n"
     ]
    }
   ],
   "source": [
    "import functools\n",
    "# initializing list\n",
    "lis = [1, 3, 5, 6, 2, ]\n",
    " \n",
    "# reduce function to compute sum of list\n",
    "print(\"The sum of the list elements is : \", end=\"\")\n",
    "print(functools.reduce(lambda a, b: a+b, lis)) "
   ]
  },
  {
   "cell_type": "markdown",
   "id": "f4b7c4f1",
   "metadata": {},
   "source": [
    "**Q4 What are function annotations, and how are they used?**\n",
    "\n",
    "**Ans**"
   ]
  },
  {
   "cell_type": "markdown",
   "id": "eeefa3d5",
   "metadata": {},
   "source": [
    "These are are arbitrary python expressions that associat with various parts of the function. These expressions are evaluated at compile time and have no life in python’s runtime environment. Python does not attach any meaning to these annotations. They take life when interpreted by third party libraries, for example, mypy.\n",
    "\n"
   ]
  },
  {
   "cell_type": "markdown",
   "id": "83e6e67f",
   "metadata": {},
   "source": [
    "**Using ‘__annotations__’ : The function annotations in the above code can be accessed by a special attribute ‘__annotations__’. It outputs the dictionary having a special key ‘return’ and other keys having name of the annotated arguments. The following code will print the annotations.**"
   ]
  },
  {
   "cell_type": "code",
   "execution_count": 8,
   "id": "f6df25e7",
   "metadata": {},
   "outputs": [
    {
     "name": "stdout",
     "output_type": "stream",
     "text": [
      "{'n': 'int', 'output': 'list', 'return': 'list'}\n"
     ]
    }
   ],
   "source": [
    "# Python program to illustrate Function Annotations\n",
    "def fib(n:'int', output:'list'=[])-> 'list':\n",
    "    if n == 0:\n",
    "        return output\n",
    "    else:\n",
    "        if len(output)< 2:\n",
    "            output.append(1)\n",
    "            fib(n-1, output)\n",
    "        else:\n",
    "            last = output[-1]\n",
    "            second_last = output[-2]\n",
    "            output.append(last + second_last)\n",
    "            fib(n-1, output)\n",
    "        return output\n",
    "print(fib.__annotations__)"
   ]
  },
  {
   "cell_type": "markdown",
   "id": "f0075ea8",
   "metadata": {},
   "source": [
    "**Q5 What are recursive functions, and how are they used?**\n",
    "\n",
    "**Ans**"
   ]
  },
  {
   "cell_type": "markdown",
   "id": "45eccceb",
   "metadata": {},
   "source": [
    "A recursive function mostly dependends on a loop, where a varible is called on multiple times and is later altered because of the loop.\n",
    "\n",
    "Factorial is one such exmple in which an integer is multiplied by itself while being decreased incrementally."
   ]
  },
  {
   "cell_type": "code",
   "execution_count": 14,
   "id": "1359a58c",
   "metadata": {},
   "outputs": [
    {
     "data": {
      "text/plain": [
       "120"
      ]
     },
     "execution_count": 14,
     "metadata": {},
     "output_type": "execute_result"
    }
   ],
   "source": [
    "def factorial(fact):\n",
    "    if fact==1:\n",
    "        return fact\n",
    "    else:\n",
    "        return fact*factorial(fact-1)\n",
    "factorial(5)"
   ]
  },
  {
   "cell_type": "markdown",
   "id": "25aca0fb",
   "metadata": {},
   "source": [
    "**Q6 What are some general design guidelines for coding functions?**\n",
    "\n",
    "**Ans**"
   ]
  },
  {
   "cell_type": "markdown",
   "id": "a556fb31",
   "metadata": {},
   "source": [
    "**Here are some important general design guidelines for coding functions:**\n",
    "\n",
    "\n",
    "1) Use 4-space indentation and no tabs."
   ]
  },
  {
   "cell_type": "code",
   "execution_count": 16,
   "id": "dbd96bed",
   "metadata": {},
   "outputs": [],
   "source": [
    "# First line contains no argument. Second line onwards\n",
    "# More indentation included to distinguish this from the rest.\n",
    "def function_name(\n",
    "        variable_one, variable_two, variable_three,\n",
    "        variable_four):\n",
    "    print(variable_one)"
   ]
  },
  {
   "cell_type": "markdown",
   "id": "d9d094d0",
   "metadata": {},
   "source": [
    "2. Use docstrings : \n",
    "\n"
   ]
  },
  {
   "cell_type": "code",
   "execution_count": 19,
   "id": "8f32f134",
   "metadata": {},
   "outputs": [],
   "source": [
    "def exam():\n",
    "    \"\"\"This is an example of a single line docstring\"\"\"\n",
    "\n",
    "    \"\"\"This is an example of\n",
    "    a\n",
    "    multiline comment\"\"\""
   ]
  },
  {
   "cell_type": "markdown",
   "id": "8cf704da",
   "metadata": {},
   "source": [
    "3. Wrap lines so that they don’t exceed 79 characters : The Python standard library is conservative and requires limiting lines to 79 characters. The lines can be wrapped using parenthesis, brackets, and braces. They should be used in preference to backslashes."
   ]
  },
  {
   "cell_type": "code",
   "execution_count": 21,
   "id": "dd9e3cd3",
   "metadata": {},
   "outputs": [],
   "source": [
    "# Example:\n",
    "\n",
    "with open('/path/from/where/you/want/to/read/file') as file_one, \\\n",
    "     open('/path/where/you/want/the/file/to/be/written', 'w') as file_two:\n",
    "    file_two.write(file_one.read())"
   ]
  },
  {
   "cell_type": "markdown",
   "id": "9d28f41a",
   "metadata": {},
   "source": [
    "4. Use Python’s default UTF-8 or ASCII encodings and not any fancy encodings"
   ]
  },
  {
   "cell_type": "markdown",
   "id": "c3f1f879",
   "metadata": {},
   "source": [
    "5. Don’t use non-ASCII characters in identifiers"
   ]
  },
  {
   "cell_type": "markdown",
   "id": "1e1c1234",
   "metadata": {},
   "source": [
    "6. Characters that should not be used for identifiers : ‘l’ (lowercase letter el), ‘O’ (uppercase letter oh), or ‘I’ (uppercase letter eye) as single character variable names as these are similar to the numerals one and zero."
   ]
  },
  {
   "cell_type": "markdown",
   "id": "a2d1c6fe",
   "metadata": {},
   "source": [
    "**Q7 Name three or more ways that functions can communicate results to a\n",
    "caller.**\n",
    "\n",
    "**Ans**"
   ]
  },
  {
   "cell_type": "markdown",
   "id": "b6617322",
   "metadata": {},
   "source": [
    "Some of the ways in which a function can communicate with the calling function is:\n",
    "1) print\n",
    "\n",
    "2) return\n",
    "\n",
    "3) yield"
   ]
  },
  {
   "cell_type": "code",
   "execution_count": null,
   "id": "9d9fb355",
   "metadata": {},
   "outputs": [],
   "source": []
  }
 ],
 "metadata": {
  "kernelspec": {
   "display_name": "Python 3 (ipykernel)",
   "language": "python",
   "name": "python3"
  },
  "language_info": {
   "codemirror_mode": {
    "name": "ipython",
    "version": 3
   },
   "file_extension": ".py",
   "mimetype": "text/x-python",
   "name": "python",
   "nbconvert_exporter": "python",
   "pygments_lexer": "ipython3",
   "version": "3.9.12"
  }
 },
 "nbformat": 4,
 "nbformat_minor": 5
}
