{
 "cells": [
  {
   "cell_type": "markdown",
   "id": "20c805a4",
   "metadata": {},
   "source": [
    "**Q1 Create a function that takes a list of strings and integers, and filters out the list so that it returns a list of integers only.**\n",
    "\n",
    "Examples\n",
    "\n",
    "filter_list([1, 2, 3, \"a\", \"b\", 4]) ➞ [1, 2, 3, 4]\n",
    "\n",
    "filter_list([\"A\", 0, \"Edabit\", 1729, \"Python\", \"1729\"]) ➞ [0, 1729]\n",
    "\n",
    "filter_list([\"Nothing\", \"here\"]) ➞ []"
   ]
  },
  {
   "cell_type": "code",
   "execution_count": 3,
   "id": "a271849b",
   "metadata": {},
   "outputs": [
    {
     "data": {
      "text/plain": [
       "[1, 2, 3, 4]"
      ]
     },
     "execution_count": 3,
     "metadata": {},
     "output_type": "execute_result"
    }
   ],
   "source": [
    "def filter_list(list_a):\n",
    "    abc = [val for val in list_a if type(val)==int]\n",
    "    return(abc)\n",
    "filter_list([1, 2, 3, \"a\", \"b\", 4])"
   ]
  },
  {
   "cell_type": "code",
   "execution_count": 4,
   "id": "6029ee68",
   "metadata": {},
   "outputs": [
    {
     "data": {
      "text/plain": [
       "[0, 1729]"
      ]
     },
     "execution_count": 4,
     "metadata": {},
     "output_type": "execute_result"
    }
   ],
   "source": [
    "filter_list([\"A\", 0, \"Edabit\", 1729, \"Python\", \"1729\"])"
   ]
  },
  {
   "cell_type": "markdown",
   "id": "c8aeae33",
   "metadata": {},
   "source": [
    "**Q2 Given a list of numbers, create a function which returns the list but\n",
    "with each element's index in the list added to itself. This means\n",
    "you add 0 to the number at index 0, add 1 to the number at index 1,\n",
    "etc...**\n",
    "\n",
    "### Examples\n",
    "\n",
    "add\\_indexes(\\[0, 0, 0, 0, 0\\]) ➞ \\[0, 1, 2, 3, 4\\]\n",
    "\n",
    "add\\_indexes(\\[1, 2, 3, 4, 5\\]) ➞ \\[1, 3, 5, 7, 9\\]\n",
    "\n",
    "add\\_indexes(\\[5, 4, 3, 2, 1\\]) ➞ \\[5, 5, 5, 5, 5\\]"
   ]
  },
  {
   "cell_type": "code",
   "execution_count": 34,
   "id": "f89fc6ff",
   "metadata": {},
   "outputs": [
    {
     "data": {
      "text/plain": [
       "[1, 3, 5, 7, 9]"
      ]
     },
     "execution_count": 34,
     "metadata": {},
     "output_type": "execute_result"
    }
   ],
   "source": [
    "def add_indexes(list_a):\n",
    "    abc = []\n",
    "    for i,j in enumerate(list_a):  \n",
    "        var = i+j\n",
    "        abc.append(var)    \n",
    "    return abc \n",
    "add_indexes([1, 2, 3, 4, 5])    "
   ]
  },
  {
   "cell_type": "code",
   "execution_count": 35,
   "id": "3efba561",
   "metadata": {},
   "outputs": [
    {
     "data": {
      "text/plain": [
       "[0, 1, 2, 3, 4]"
      ]
     },
     "execution_count": 35,
     "metadata": {},
     "output_type": "execute_result"
    }
   ],
   "source": [
    "add_indexes([0,0,0,0,0])"
   ]
  },
  {
   "cell_type": "code",
   "execution_count": 36,
   "id": "3e782478",
   "metadata": {},
   "outputs": [
    {
     "data": {
      "text/plain": [
       "[5, 5, 5, 5, 5]"
      ]
     },
     "execution_count": 36,
     "metadata": {},
     "output_type": "execute_result"
    }
   ],
   "source": [
    "add_indexes([5, 4, 3, 2,1])    "
   ]
  },
  {
   "cell_type": "markdown",
   "id": "0972d877",
   "metadata": {},
   "source": [
    "**Q3 Create a function that takes the height and radius of a cone as\n",
    "arguments and returns the volume of the cone rounded to the nearest\n",
    "hundredth. See the resources tab for the formula.**\n",
    "\n",
    "<img src=\"attachment:media/image1.gif\" style=\"width:1.88333in;height:2.2in\" alt=\"Volume of a Cone Image\" />\n",
    "\n",
    "### Examples\n",
    "\n",
    "cone\\_volume(3, 2) ➞ 12.57\n",
    "\n",
    "cone\\_volume(15, 6) ➞ 565.49\n",
    "\n",
    "cone\\_volume(18, 0) ➞ 0\n"
   ]
  },
  {
   "cell_type": "code",
   "execution_count": 58,
   "id": "c7f30d63",
   "metadata": {},
   "outputs": [
    {
     "name": "stdout",
     "output_type": "stream",
     "text": [
      "The area of the cone is 12.56\n"
     ]
    }
   ],
   "source": [
    "def cone_volume(h,r):\n",
    "    area = (1/3)*(3.14)*(r**2)*h\n",
    "    print('The area of the cone is',round(area,3))\n",
    "cone_volume(3,2)    "
   ]
  },
  {
   "cell_type": "code",
   "execution_count": 59,
   "id": "8c7c2213",
   "metadata": {},
   "outputs": [
    {
     "name": "stdout",
     "output_type": "stream",
     "text": [
      "The area of the cone is 565.2\n"
     ]
    }
   ],
   "source": [
    "cone_volume(15,6)"
   ]
  },
  {
   "cell_type": "code",
   "execution_count": 60,
   "id": "81b829aa",
   "metadata": {},
   "outputs": [
    {
     "name": "stdout",
     "output_type": "stream",
     "text": [
      "The area of the cone is 0.0\n"
     ]
    }
   ],
   "source": [
    "cone_volume(18,0)"
   ]
  },
  {
   "cell_type": "markdown",
   "id": "16c49813",
   "metadata": {},
   "source": [
    "**Q4 This Triangular Number Sequence is generated from a pattern of dots that\n",
    "form a triangle. The first 5 numbers of the sequence, or dots, are:**\n",
    "\n",
    "1, 3, 6, 10, 15\n",
    "\n",
    "**This means that the first triangle has just one dot, the second one has\n",
    "three dots, the third one has 6 dots and so on.**\n",
    "\n",
    "**Write a function that gives the number of dots with its corresponding\n",
    "triangle number of the sequence.**\n",
    "\n",
    "### Examples\n",
    "\n",
    "triangle(1) ➞ 1\n",
    "\n",
    "triangle(6) ➞ 21\n",
    "\n",
    "triangle(215) ➞ 23220\n"
   ]
  },
  {
   "cell_type": "code",
   "execution_count": 64,
   "id": "bdc56df5",
   "metadata": {},
   "outputs": [
    {
     "data": {
      "text/plain": [
       "21"
      ]
     },
     "execution_count": 64,
     "metadata": {},
     "output_type": "execute_result"
    }
   ],
   "source": [
    "def triangle_number(num):\n",
    "    sum_a = 0\n",
    "    abc = []\n",
    "    for i in range(1,num+1):\n",
    "        sum_a = sum_a + i\n",
    "        abc.append(sum_a)\n",
    "    return abc[-1]\n",
    "triangle_number(6)"
   ]
  },
  {
   "cell_type": "code",
   "execution_count": 65,
   "id": "302e9b10",
   "metadata": {},
   "outputs": [
    {
     "data": {
      "text/plain": [
       "23220"
      ]
     },
     "execution_count": 65,
     "metadata": {},
     "output_type": "execute_result"
    }
   ],
   "source": [
    "triangle_number(215)"
   ]
  },
  {
   "cell_type": "markdown",
   "id": "3be54f5f",
   "metadata": {},
   "source": [
    "**Q5 Create a function that takes a list of numbers between 1 and 10 (excluding one number) and returns the missing number.**\n",
    "\n",
    "### Examples\n",
    "\n",
    "missing\\_num(\\[1, 2, 3, 4, 6, 7, 8, 9, 10\\]) ➞ 5\n",
    "\n",
    "missing\\_num(\\[7, 2, 3, 6, 5, 9, 1, 4, 8\\]) ➞ 10\n",
    "\n",
    "missing\\_num(\\[10, 5, 1, 2, 4, 6, 8, 3, 9\\]) ➞ 7"
   ]
  },
  {
   "cell_type": "code",
   "execution_count": 13,
   "id": "24c89086",
   "metadata": {},
   "outputs": [
    {
     "name": "stdout",
     "output_type": "stream",
     "text": [
      "[5]\n"
     ]
    }
   ],
   "source": [
    "def missing_num(list_a):\n",
    "    abc = [val for val in range(1,11)]\n",
    "    value = [val for val in abc if val not in list_a]\n",
    "    print(value)\n",
    "list_a = [1, 2, 3, 4, 6, 7, 8, 9, 10]\n",
    "missing_num(list_a)"
   ]
  },
  {
   "cell_type": "code",
   "execution_count": 14,
   "id": "9592731c",
   "metadata": {},
   "outputs": [
    {
     "name": "stdout",
     "output_type": "stream",
     "text": [
      "[7]\n"
     ]
    }
   ],
   "source": [
    "list_a = [10, 5, 1, 2, 4, 6, 8, 3, 9] \n",
    "missing_num(list_a)"
   ]
  }
 ],
 "metadata": {
  "kernelspec": {
   "display_name": "Python 3 (ipykernel)",
   "language": "python",
   "name": "python3"
  },
  "language_info": {
   "codemirror_mode": {
    "name": "ipython",
    "version": 3
   },
   "file_extension": ".py",
   "mimetype": "text/x-python",
   "name": "python",
   "nbconvert_exporter": "python",
   "pygments_lexer": "ipython3",
   "version": "3.9.12"
  }
 },
 "nbformat": 4,
 "nbformat_minor": 5
}
