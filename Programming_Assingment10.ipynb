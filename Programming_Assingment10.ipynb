{
 "cells": [
  {
   "cell_type": "markdown",
   "id": "d4e3d549",
   "metadata": {},
   "source": [
    "**Q1.  Write a Python program to find sum of elements in list?**\n",
    "\n",
    "\n",
    "**Ans**"
   ]
  },
  {
   "cell_type": "code",
   "execution_count": 1,
   "id": "3b587047",
   "metadata": {},
   "outputs": [
    {
     "data": {
      "text/plain": [
       "4032"
      ]
     },
     "execution_count": 1,
     "metadata": {},
     "output_type": "execute_result"
    }
   ],
   "source": [
    "def sum_list(a):\n",
    "    return sum(a)\n",
    "lis=[3,2,73,25,85,353,35,3453,3]\n",
    "sum_list(lis)"
   ]
  },
  {
   "cell_type": "markdown",
   "id": "9b92eec7",
   "metadata": {},
   "source": [
    "**Q2.  Write a Python program to Multiply all numbers in the list?**\n",
    "\n",
    "**Ans**"
   ]
  },
  {
   "cell_type": "code",
   "execution_count": 20,
   "id": "12d00509",
   "metadata": {},
   "outputs": [
    {
     "data": {
      "text/plain": [
       "119122452933750"
      ]
     },
     "execution_count": 20,
     "metadata": {},
     "output_type": "execute_result"
    }
   ],
   "source": [
    "def multiply(numbers):  \n",
    "    total = 1\n",
    "    for x in numbers:\n",
    "        total *= x  \n",
    "    return total  \n",
    "list_a=[3,2,73,25,85,353,35,3453,3]\n",
    "multiply(list_a)"
   ]
  },
  {
   "cell_type": "markdown",
   "id": "06b4a1f0",
   "metadata": {},
   "source": [
    "**Q3.  Write a Python program to find smallest number in a list?**\n",
    "\n",
    "**Ans**\n"
   ]
  },
  {
   "cell_type": "code",
   "execution_count": 24,
   "id": "ab85bcff",
   "metadata": {},
   "outputs": [
    {
     "data": {
      "text/plain": [
       "2"
      ]
     },
     "execution_count": 24,
     "metadata": {},
     "output_type": "execute_result"
    }
   ],
   "source": [
    "list_a=[3,2,73,25,85,353,35,3453]\n",
    "def min_list(a):\n",
    "    return min(a)\n",
    "min_list(list_a)"
   ]
  },
  {
   "cell_type": "markdown",
   "id": "4119f039",
   "metadata": {},
   "source": [
    "**Q4.  Write a Python program to find largest number in a list?**\n",
    "\n",
    "**Ans**"
   ]
  },
  {
   "cell_type": "code",
   "execution_count": 25,
   "id": "b8861444",
   "metadata": {},
   "outputs": [
    {
     "data": {
      "text/plain": [
       "3453"
      ]
     },
     "execution_count": 25,
     "metadata": {},
     "output_type": "execute_result"
    }
   ],
   "source": [
    "list_a=[3,2,73,25,85,353,35,3453]\n",
    "def max_list(a):\n",
    "    return max(a)\n",
    "max_list(list_a)"
   ]
  },
  {
   "cell_type": "markdown",
   "id": "e709236a",
   "metadata": {},
   "source": [
    "**Q5.  Write a Python program to find second largest number in a list?**\n",
    "\n",
    "**Ans**\n"
   ]
  },
  {
   "cell_type": "code",
   "execution_count": 33,
   "id": "a99457e7",
   "metadata": {},
   "outputs": [
    {
     "data": {
      "text/plain": [
       "3453"
      ]
     },
     "execution_count": 33,
     "metadata": {},
     "output_type": "execute_result"
    }
   ],
   "source": [
    "list_a=[3,2,73,25,85,353,35,3453]\n",
    "def sec_max_list(a):\n",
    "    a.sort()\n",
    "    list_a[-2]\n",
    "    return max(a)\n",
    "sec_max_list(list_a)"
   ]
  },
  {
   "cell_type": "markdown",
   "id": "ce419f49",
   "metadata": {},
   "source": [
    "**Q6.  Write a Python program to find N largest elements from a list?**\n",
    "\n",
    "**Ans**"
   ]
  },
  {
   "cell_type": "code",
   "execution_count": 61,
   "id": "b8a673a5",
   "metadata": {},
   "outputs": [
    {
     "name": "stdout",
     "output_type": "stream",
     "text": [
      "Enter how many largest elements to return\n",
      "6\n",
      "\n",
      " 1111119\n",
      "\n",
      " 132134\n",
      "\n",
      " 13212\n",
      "\n",
      " 3453\n",
      "\n",
      " 353\n",
      "\n",
      " 85\n"
     ]
    }
   ],
   "source": [
    "list_a=[3,2,73,25,85,353,35,3453,13,132134,13212,1111119]\n",
    "def N_larg_nums(a):\n",
    "    num=int(input('Enter how many largest elements to return\\n'))\n",
    "    a.sort()\n",
    "    for i in range(1,num+1):\n",
    "        print('\\n',a[-i])\n",
    "N_larg_nums(list_a)        "
   ]
  },
  {
   "cell_type": "markdown",
   "id": "4a035000",
   "metadata": {},
   "source": [
    "**Q7.  Write a Python program to print even numbers in a list?**\n",
    "\n",
    "**Ans**\n"
   ]
  },
  {
   "cell_type": "code",
   "execution_count": 63,
   "id": "69c8f7d0",
   "metadata": {},
   "outputs": [
    {
     "name": "stdout",
     "output_type": "stream",
     "text": [
      "2\n",
      "82\n",
      "352\n",
      "132134\n",
      "13212\n"
     ]
    }
   ],
   "source": [
    "list_a=[3,2,73,25,82,352,35,3453,13,132134,13212,1111119]\n",
    "def even_nums(a):\n",
    "    for i in a:\n",
    "        if i%2==0:\n",
    "            print(i)\n",
    "even_nums(list_a)        "
   ]
  },
  {
   "cell_type": "markdown",
   "id": "24a40584",
   "metadata": {},
   "source": [
    "**Q8.  Write a Python program to print odd numbers in a List?**\n",
    "\n",
    "**Ans**\n"
   ]
  },
  {
   "cell_type": "code",
   "execution_count": 65,
   "id": "504acdb8",
   "metadata": {},
   "outputs": [
    {
     "name": "stdout",
     "output_type": "stream",
     "text": [
      "3\n",
      "73\n",
      "25\n",
      "35\n",
      "3453\n",
      "13\n",
      "1111119\n"
     ]
    }
   ],
   "source": [
    "list_a=[3,2,73,25,82,352,35,3453,13,132134,13212,1111119]\n",
    "def odd_nums(a):\n",
    "    for i in a:\n",
    "        if i%2!=0:\n",
    "            print(i)\n",
    "odd_nums(list_a)        "
   ]
  },
  {
   "cell_type": "markdown",
   "id": "17841552",
   "metadata": {},
   "source": [
    "**Q9.  Write a Python program to Remove empty List from List?**\n",
    "\n",
    "**Ans**\n"
   ]
  },
  {
   "cell_type": "code",
   "execution_count": 73,
   "id": "e110bb7d",
   "metadata": {},
   "outputs": [
    {
     "name": "stdout",
     "output_type": "stream",
     "text": [
      "List before [3, 2, [], 25, 82, 352, [], 3453, [], 132134, 13212, 1111119]\n",
      "List after removal of empty list [3, 2, 25, 82, 352, 3453, 132134, 13212, 1111119]\n"
     ]
    }
   ],
   "source": [
    "list_a=[3,2,[],25,82,352,[],3453,[],132134,13212,1111119]\n",
    "def rem_empty_str(a):\n",
    "    abc = [val for val in a if val!=[]]\n",
    "    print('List before',a)\n",
    "    print('List after removal of empty list',abc)       \n",
    "rem_empty_str(list_a)        "
   ]
  },
  {
   "cell_type": "markdown",
   "id": "5e202ee3",
   "metadata": {},
   "source": [
    "**Q10. Write a Python program to Cloning or Copying a list?**\n",
    "\n",
    "**Ans**\n"
   ]
  },
  {
   "cell_type": "code",
   "execution_count": 74,
   "id": "9b03876a",
   "metadata": {},
   "outputs": [
    {
     "name": "stdout",
     "output_type": "stream",
     "text": [
      "The copy of the list is [3, 2, 25, 82, 352, 3453, 132134]\n"
     ]
    }
   ],
   "source": [
    "list_a=[3,2,25,82,352,3453,132134]\n",
    "def copy_list(a):\n",
    "    copied_list = a.copy()\n",
    "    print('The copy of the list is',copied_list)\n",
    "copy_list(list_a)        "
   ]
  },
  {
   "cell_type": "markdown",
   "id": "1e061900",
   "metadata": {},
   "source": [
    "**Q11. Write a Python program to Count occurrences of an element in a list?**\n",
    "\n",
    "**Ans**"
   ]
  },
  {
   "cell_type": "code",
   "execution_count": 2,
   "id": "7eb5325c",
   "metadata": {},
   "outputs": [
    {
     "name": "stdout",
     "output_type": "stream",
     "text": [
      "{3: 2, 2: 1, 2222: 3, 11: 4, 17: 1, 25: 1, 82: 1, 352: 1, 3453: 1}\n"
     ]
    }
   ],
   "source": [
    "list_a=[3,2,3,2222,11,17,2222,25,82,352,11,11,3453,11,2222]\n",
    "def Countfreq(li):\n",
    "  freq = {}\n",
    "  for items in li:\n",
    "    freq[items] = freq.get(items,0)+1\n",
    "  print(freq)\n",
    "Countfreq(list_a)"
   ]
  }
 ],
 "metadata": {
  "kernelspec": {
   "display_name": "Python 3 (ipykernel)",
   "language": "python",
   "name": "python3"
  },
  "language_info": {
   "codemirror_mode": {
    "name": "ipython",
    "version": 3
   },
   "file_extension": ".py",
   "mimetype": "text/x-python",
   "name": "python",
   "nbconvert_exporter": "python",
   "pygments_lexer": "ipython3",
   "version": "3.9.12"
  }
 },
 "nbformat": 4,
 "nbformat_minor": 5
}
