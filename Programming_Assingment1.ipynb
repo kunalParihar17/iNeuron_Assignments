{
 "cells": [
  {
   "cell_type": "markdown",
   "id": "603ff2e9",
   "metadata": {},
   "source": [
    "**Q1.  Write a Python program to print \"Hello Python\"?**\n",
    "\n",
    "**Ans**\n"
   ]
  },
  {
   "cell_type": "code",
   "execution_count": 1,
   "id": "42a3be3f",
   "metadata": {},
   "outputs": [
    {
     "name": "stdout",
     "output_type": "stream",
     "text": [
      "Hello Python\n"
     ]
    }
   ],
   "source": [
    "print('Hello Python')"
   ]
  },
  {
   "cell_type": "markdown",
   "id": "c165266e",
   "metadata": {},
   "source": [
    "**Q2. Write a Python program to do arithmetical operations addition and\n",
    "    division.?**\n",
    "    \n",
    "**Ans**"
   ]
  },
  {
   "cell_type": "code",
   "execution_count": 2,
   "id": "5db50a1c",
   "metadata": {},
   "outputs": [
    {
     "name": "stdout",
     "output_type": "stream",
     "text": [
      "57\n",
      "1.4782608695652173\n"
     ]
    }
   ],
   "source": [
    "a=34\n",
    "b=23\n",
    "do_sum = a+b\n",
    "print(do_sum)\n",
    "do_div = a/b\n",
    "print(do_div)"
   ]
  },
  {
   "cell_type": "markdown",
   "id": "9267237a",
   "metadata": {},
   "source": [
    "**Q3  Write a Python program to find the area of a triangle?**\n",
    "\n",
    "**Ans**"
   ]
  },
  {
   "cell_type": "code",
   "execution_count": 26,
   "id": "789294be",
   "metadata": {},
   "outputs": [],
   "source": [
    "def area_of_triangle(length,height):\n",
    "    Area = float(1/2 * length * height)\n",
    "    print('Area of triangle is :',Area)"
   ]
  },
  {
   "cell_type": "code",
   "execution_count": 28,
   "id": "ecbd3249",
   "metadata": {},
   "outputs": [
    {
     "name": "stdout",
     "output_type": "stream",
     "text": [
      "Area of triangle is : 485.3\n"
     ]
    }
   ],
   "source": [
    "area_of_triangle(23,42.2)"
   ]
  },
  {
   "cell_type": "markdown",
   "id": "b563eae9",
   "metadata": {},
   "source": [
    "**Q4.  Write a Python program to swap two variables?**\n",
    "\n",
    "**Ans**\n"
   ]
  },
  {
   "cell_type": "code",
   "execution_count": 45,
   "id": "1cf17573",
   "metadata": {},
   "outputs": [],
   "source": [
    "def swap():\n",
    "    a = int(input(print('Enter the value of variable A')))\n",
    "    b = input(print('Enter the value of variable B'))\n",
    "    c=a\n",
    "    d=b\n",
    "    b=c\n",
    "    a=d\n",
    "    print('The value of A is :',a,'\\n The value of B is :',b)"
   ]
  },
  {
   "cell_type": "code",
   "execution_count": 46,
   "id": "3a652067",
   "metadata": {},
   "outputs": [
    {
     "name": "stdout",
     "output_type": "stream",
     "text": [
      "Enter the value of variable A\n",
      "None2\n",
      "Enter the value of variable B\n",
      "None3\n",
      "The value of A is : 3 \n",
      " The value of B is : 2\n"
     ]
    }
   ],
   "source": [
    "swap()"
   ]
  },
  {
   "cell_type": "markdown",
   "id": "33f59623",
   "metadata": {},
   "source": [
    "**Q5.  Write a Python program to generate a random number?**\n",
    "\n",
    "**Ans**"
   ]
  },
  {
   "cell_type": "code",
   "execution_count": 54,
   "id": "13e525b5",
   "metadata": {},
   "outputs": [
    {
     "name": "stdout",
     "output_type": "stream",
     "text": [
      "4\n"
     ]
    }
   ],
   "source": [
    "import random\n",
    "print(random.randint(0,10))"
   ]
  }
 ],
 "metadata": {
  "kernelspec": {
   "display_name": "Python 3 (ipykernel)",
   "language": "python",
   "name": "python3"
  },
  "language_info": {
   "codemirror_mode": {
    "name": "ipython",
    "version": 3
   },
   "file_extension": ".py",
   "mimetype": "text/x-python",
   "name": "python",
   "nbconvert_exporter": "python",
   "pygments_lexer": "ipython3",
   "version": "3.9.12"
  }
 },
 "nbformat": 4,
 "nbformat_minor": 5
}
