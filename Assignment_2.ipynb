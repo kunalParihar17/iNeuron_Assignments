{
 "cells": [
  {
   "cell_type": "markdown",
   "id": "35af1e13",
   "metadata": {},
   "source": [
    "**Q1.What are the two values of the Boolean data type? How do you write them?**\n",
    "\n",
    "Ans  The two values of Boolean data type are True and False. We write them as 0 and 1 in arithmetic context\n",
    "\n",
    "Example "
   ]
  },
  {
   "cell_type": "code",
   "execution_count": 2,
   "id": "3932e711",
   "metadata": {},
   "outputs": [
    {
     "data": {
      "text/plain": [
       "bool"
      ]
     },
     "execution_count": 2,
     "metadata": {},
     "output_type": "execute_result"
    }
   ],
   "source": [
    "maxi = True\n",
    "type(maxi)"
   ]
  },
  {
   "cell_type": "markdown",
   "id": "31daf6f5",
   "metadata": {},
   "source": [
    "**Q2 What are the three different types of Boolean operators?**\n",
    "\n",
    "Ans The three basic Boolean operators are **AND** , **OR** , **NOT**"
   ]
  },
  {
   "cell_type": "markdown",
   "id": "034ef3ae",
   "metadata": {},
   "source": [
    "**Q3 Make a list of each Boolean operator's truth tables (i.e. every\n",
    "possible combination of Boolean values for the operator and what it\n",
    "evaluate.**"
   ]
  },
  {
   "cell_type": "code",
   "execution_count": 3,
   "id": "799ea154",
   "metadata": {},
   "outputs": [
    {
     "name": "stdout",
     "output_type": "stream",
     "text": [
      "True \n",
      "\n",
      "False \n",
      "\n",
      "False \n",
      "\n",
      "False \n",
      "\n"
     ]
    }
   ],
   "source": [
    "# Table for AND\n",
    "\n",
    "print(True and True,'\\n')\n",
    "print(True and False,'\\n')\n",
    "print(False and True,'\\n')\n",
    "print(False and False,'\\n')"
   ]
  },
  {
   "cell_type": "code",
   "execution_count": 4,
   "id": "9bb79cde",
   "metadata": {},
   "outputs": [
    {
     "name": "stdout",
     "output_type": "stream",
     "text": [
      "True \n",
      "\n",
      "True \n",
      "\n",
      "True \n",
      "\n",
      "False \n",
      "\n"
     ]
    }
   ],
   "source": [
    "# Table for OR\n",
    "\n",
    "print(True or True,'\\n')\n",
    "print(True or False,'\\n')\n",
    "print(False or True,'\\n')\n",
    "print(False or False,'\\n')"
   ]
  },
  {
   "cell_type": "code",
   "execution_count": 5,
   "id": "1992ead4",
   "metadata": {},
   "outputs": [
    {
     "name": "stdout",
     "output_type": "stream",
     "text": [
      "False \n",
      "\n"
     ]
    }
   ],
   "source": [
    "# Table for NOT\n",
    "\n",
    "print(not True ,'\\n')"
   ]
  },
  {
   "cell_type": "code",
   "execution_count": 6,
   "id": "805ac2a6",
   "metadata": {},
   "outputs": [
    {
     "name": "stdout",
     "output_type": "stream",
     "text": [
      "False\n"
     ]
    }
   ],
   "source": [
    "print(not True)"
   ]
  },
  {
   "cell_type": "markdown",
   "id": "96d9e350",
   "metadata": {},
   "source": [
    "**Q4 What are the values of the following expressions?**\n",
    "\n",
    "(5 \\> 4) and (3 == 5)\n",
    "\n",
    "not (5 \\> 4)\n",
    "\n",
    "(5 \\> 4) or (3 == 5)\n",
    "\n",
    "not ((5 \\> 4) or (3 == 5))\n",
    "\n",
    "(True and True) and (True == False)\n",
    "\n",
    "(not False) or (not True)\n"
   ]
  },
  {
   "cell_type": "code",
   "execution_count": 7,
   "id": "a84eca6f",
   "metadata": {},
   "outputs": [
    {
     "name": "stdout",
     "output_type": "stream",
     "text": [
      "1 False\n",
      "2 False\n",
      "3 True\n",
      "4 False\n",
      "5 False\n",
      "6 True\n"
     ]
    }
   ],
   "source": [
    "print('1',(5 > 4) and (3 == 5))\n",
    "print('2',not (5 > 4))\n",
    "print('3',(5 > 4) or (3 == 5))\n",
    "print('4',not ((5 > 4) or (3 == 5)))\n",
    "print('5',(True and True) and (True == False))\n",
    "print('6',(not False) or (not True))"
   ]
  },
  {
   "cell_type": "markdown",
   "id": "070755a9",
   "metadata": {},
   "source": [
    "**Q5 What are the six comparison operators?**\n",
    "\n",
    "**Ans** The six comparison operators are :\n",
    "<  : Less than, <= : Less than or equal to,  >  : Greater than ,>= : Greater than or equal to, = : Equal to, !=  Not equal to"
   ]
  },
  {
   "cell_type": "markdown",
   "id": "fd5db481",
   "metadata": {},
   "source": [
    "**Q6 How do you tell the difference between the equal to and assignment\n",
    "operators?Describe a condition and when you would use one.**\n"
   ]
  },
  {
   "cell_type": "markdown",
   "id": "0aa8b7ff",
   "metadata": {},
   "source": [
    "An “=” or 'Equal to'  operatior is used to assign the value on the right to the variable on the left.\n",
    "\n",
    "Example a = 32\n",
    "\n",
    "While an '==' or 'assignment operator' checks if two operanda are equal or not. If yes it returns True else False.\n",
    "\n",
    "Example : (23+23) == (23+24) will return a False"
   ]
  },
  {
   "cell_type": "markdown",
   "id": "a7e0ee8a",
   "metadata": {},
   "source": [
    "**Q7 Identify the three blocks in this code:**\n",
    "\n",
    "spam = 0\n",
    "\n",
    "if spam == 10:\n",
    "\n",
    "print('eggs')\n",
    "\n",
    "if spam \\> 5:\n",
    "\n",
    "print('bacon')\n",
    "\n",
    "else:\n",
    "\n",
    "print('ham')\n",
    "\n",
    "print('spam')\n",
    "\n",
    "print('spam')\n"
   ]
  },
  {
   "cell_type": "code",
   "execution_count": 8,
   "id": "c2b1a72d",
   "metadata": {},
   "outputs": [
    {
     "ename": "IndentationError",
     "evalue": "expected an indented block (1798277740.py, line 5)",
     "output_type": "error",
     "traceback": [
      "\u001b[1;36m  Input \u001b[1;32mIn [8]\u001b[1;36m\u001b[0m\n\u001b[1;33m    print('eggs')   # Need indentation here\u001b[0m\n\u001b[1;37m    ^\u001b[0m\n\u001b[1;31mIndentationError\u001b[0m\u001b[1;31m:\u001b[0m expected an indented block\n"
     ]
    }
   ],
   "source": [
    "spam = 0\n",
    "\n",
    "if spam == 10:\n",
    "\n",
    "print('eggs')   # Need indentation here\n",
    "\n",
    "if spam > 5:\n",
    "\n",
    "print('bacon') # Need indentation here\n",
    "\n",
    "else:\n",
    "\n",
    "print('ham')   # Need indentation here\n",
    "\n",
    "print('spam')  # Need indentation here\n",
    "\n",
    "print('spam')  # Need indentation here"
   ]
  },
  {
   "cell_type": "code",
   "execution_count": null,
   "id": "637d63d2",
   "metadata": {},
   "outputs": [],
   "source": [
    "# Corrected code\n",
    "\n",
    "spam = 0\n",
    "\n",
    "if spam == 10:\n",
    "\n",
    "    print('eggs')   \n",
    "if spam > 5:\n",
    "\n",
    "    print('bacon')\n",
    "else:\n",
    "\n",
    "    print('ham')  \n",
    "    print('spam') \n",
    "    print('spam') "
   ]
  },
  {
   "cell_type": "markdown",
   "id": "0f9994e0",
   "metadata": {},
   "source": [
    "**Q8 Write code that prints Hello if 1 is stored in spam, prints Howdy if 2 is stored in spam, and prints Greetings! if anything else is stored in spam.**"
   ]
  },
  {
   "cell_type": "code",
   "execution_count": 9,
   "id": "bfd4f7a6",
   "metadata": {},
   "outputs": [
    {
     "name": "stdout",
     "output_type": "stream",
     "text": [
      "Enter 1 or 2\n",
      "\n",
      "1\n",
      "Hello\n"
     ]
    }
   ],
   "source": [
    "spam = int(input('Enter 1 or 2\\n\\n'))\n",
    "def print_salutation(data):\n",
    "    if data == 1:\n",
    "        print('Hello')\n",
    "    elif data == 2:\n",
    "        print('Howdy')\n",
    "    else : print('Greetings')\n",
    "print_salutation(spam)        "
   ]
  },
  {
   "cell_type": "markdown",
   "id": "b9169f2c",
   "metadata": {},
   "source": [
    "**Q9 If your programme is stuck in an endless loop, what keys you’ll press?**\n"
   ]
  },
  {
   "cell_type": "markdown",
   "id": "a9d2b1b7",
   "metadata": {},
   "source": [
    "Ans \n",
    "\n",
    "ctrl + c"
   ]
  },
  {
   "cell_type": "markdown",
   "id": "e6827894",
   "metadata": {},
   "source": [
    "**Q10 How can you tell the difference between break and continue?**"
   ]
  },
  {
   "cell_type": "markdown",
   "id": "73c6cc60",
   "metadata": {},
   "source": [
    "Ans Break brings the compiler out ofthe loop while ie terminates the execution of the current loop,continue moves the compiler to the next line ie skips the current iteration and executes the next iteration."
   ]
  },
  {
   "cell_type": "markdown",
   "id": "928d8029",
   "metadata": {},
   "source": [
    "**Q11 In a for loop, what is the difference between range(10), range(0,\n",
    "10), and range(0, 10, 1)?**"
   ]
  },
  {
   "cell_type": "markdown",
   "id": "eef0b3b2",
   "metadata": {},
   "source": [
    "range function allows user to generate a series of numbers within a given range.\n",
    "\n",
    "It takes three arguments:\n",
    "\n",
    "start,stop and step\n"
   ]
  },
  {
   "cell_type": "markdown",
   "id": "3165de14",
   "metadata": {},
   "source": [
    "range(10)\n",
    "\n",
    "The output will be every whole number upto but not includeing the 'stop' number.\n",
    "\n",
    "range (0,10)\n",
    "\n",
    "The user gets to decide not only where the series stops but also where it starts. Example above it starts with zero upto 9\n",
    "\n",
    "range(0,10,1)\n",
    "\n",
    "The user can control where the series can start,stop but also the difference between one number and the next. the default value is '1'."
   ]
  },
  {
   "cell_type": "markdown",
   "id": "c1b01fbe",
   "metadata": {},
   "source": [
    "**Q12  Write a short program that prints the numbers 1 to 10 using a for\n",
    "loop. Then write an equivalent program that prints the numbers 1 to 10\n",
    "using a while loop.**\n"
   ]
  },
  {
   "cell_type": "code",
   "execution_count": 8,
   "id": "123dd54e",
   "metadata": {},
   "outputs": [
    {
     "name": "stdout",
     "output_type": "stream",
     "text": [
      "1\n",
      "2\n",
      "3\n",
      "4\n",
      "5\n",
      "6\n",
      "7\n",
      "8\n",
      "9\n",
      "10\n"
     ]
    }
   ],
   "source": [
    "# Using For loop\n",
    "def print_range_of_num_using_for(number):\n",
    "    for i in range(1,number+1):\n",
    "        print(i)\n",
    "print_range_of_num_using_for(10)        "
   ]
  },
  {
   "cell_type": "code",
   "execution_count": 9,
   "id": "050639b3",
   "metadata": {},
   "outputs": [
    {
     "name": "stdout",
     "output_type": "stream",
     "text": [
      "1\n",
      "2\n",
      "3\n",
      "4\n",
      "5\n",
      "6\n",
      "7\n",
      "8\n",
      "9\n",
      "10\n"
     ]
    }
   ],
   "source": [
    "# Using while loop\n",
    "def print_range_of_num_using_while(number):\n",
    "    i=1\n",
    "    while i < number+1:\n",
    "        print(i)\n",
    "        i+=1\n",
    "print_range_of_num_using_while(10)        "
   ]
  },
  {
   "cell_type": "code",
   "execution_count": 24,
   "id": "dbffeb33",
   "metadata": {},
   "outputs": [
    {
     "name": "stdout",
     "output_type": "stream",
     "text": [
      "1\n",
      "2\n",
      "3\n",
      "4\n",
      "5\n"
     ]
    }
   ],
   "source": [
    "i = 1\n",
    "while i < 6:\n",
    "  print(i)\n",
    "  i += 1"
   ]
  },
  {
   "cell_type": "markdown",
   "id": "09885e3b",
   "metadata": {},
   "source": [
    "**Q13 If you had a function named bacon() inside a module named spam, how\n",
    "would you call it after importing spam?**"
   ]
  },
  {
   "cell_type": "code",
   "execution_count": null,
   "id": "faad21ac",
   "metadata": {},
   "outputs": [],
   "source": [
    "spam.bacon()"
   ]
  }
 ],
 "metadata": {
  "kernelspec": {
   "display_name": "Python 3 (ipykernel)",
   "language": "python",
   "name": "python3"
  },
  "language_info": {
   "codemirror_mode": {
    "name": "ipython",
    "version": 3
   },
   "file_extension": ".py",
   "mimetype": "text/x-python",
   "name": "python",
   "nbconvert_exporter": "python",
   "pygments_lexer": "ipython3",
   "version": "3.9.12"
  }
 },
 "nbformat": 4,
 "nbformat_minor": 5
}
