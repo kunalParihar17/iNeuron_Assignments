{
 "cells": [
  {
   "cell_type": "markdown",
   "id": "ef677f7a",
   "metadata": {},
   "source": [
    "**Q1. What is the concept of a metaclass?**\n",
    "\n",
    "**Ans**\n"
   ]
  },
  {
   "cell_type": "markdown",
   "id": "a69fae85",
   "metadata": {},
   "source": [
    "A Metaclass in Python is a class of a class that defines how a class behaved. A class is itself a instance of Metaclass, and any Instance of Class in Python is an Instance of type metaclass. E.g. Type of of int, str, float, list, tuple and many more is of metaclass type."
   ]
  },
  {
   "cell_type": "markdown",
   "id": "89e863d3",
   "metadata": {},
   "source": [
    "**Q2. What is the best way to declare a class's metaclass?**\n",
    "\n",
    "**Ans**\n"
   ]
  },
  {
   "cell_type": "markdown",
   "id": "3c72b369",
   "metadata": {},
   "source": [
    "A way to declare a class’ metaclass is by using metaclass keyword in class definition."
   ]
  },
  {
   "cell_type": "code",
   "execution_count": 2,
   "id": "9887b490",
   "metadata": {},
   "outputs": [
    {
     "name": "stdout",
     "output_type": "stream",
     "text": [
      "<class 'type'>\n",
      "<class '__main__.meta'>\n"
     ]
    }
   ],
   "source": [
    "\n",
    "class meta(type):\n",
    "    pass\n",
    "class class_meta(metaclass=meta):\n",
    "    pass\n",
    "print(type(meta))\n",
    "print(type(class_meta))"
   ]
  },
  {
   "cell_type": "markdown",
   "id": "58ea1d17",
   "metadata": {},
   "source": [
    "**Q3. How do class decorators overlap with metaclasses for handling classes?**"
   ]
  },
  {
   "cell_type": "markdown",
   "id": "883188fa",
   "metadata": {},
   "source": [
    "**Ans**"
   ]
  },
  {
   "cell_type": "markdown",
   "id": "da8e6753",
   "metadata": {},
   "source": [
    "Anything that can be done woth a class decorator,can be done with custom metaclasses  (just apply the functionality of the \"decorator function\", i.e., the one that takes a class object and modifies it, in the course of the metaclass's new or init that make the class object!). "
   ]
  }
 ],
 "metadata": {
  "kernelspec": {
   "display_name": "Python 3 (ipykernel)",
   "language": "python",
   "name": "python3"
  },
  "language_info": {
   "codemirror_mode": {
    "name": "ipython",
    "version": 3
   },
   "file_extension": ".py",
   "mimetype": "text/x-python",
   "name": "python",
   "nbconvert_exporter": "python",
   "pygments_lexer": "ipython3",
   "version": "3.9.12"
  }
 },
 "nbformat": 4,
 "nbformat_minor": 5
}
