{
 "cells": [
  {
   "cell_type": "markdown",
   "id": "5e09f7e9",
   "metadata": {},
   "source": [
    "**Q1 What is the relationship between classes and modules?**\n",
    "\n",
    "**Ans**"
   ]
  },
  {
   "cell_type": "markdown",
   "id": "021efc84",
   "metadata": {},
   "source": [
    "Classes can generate instances (objects) and have per-instance state (instance variables)).\n",
    "\n",
    "Modules may be mixed in to classes and other modules. The mixed in module’s constants and methods blend into that class’s own, augmenting the class’s functionality. Classes, however, cannot be mixed in to anything."
   ]
  },
  {
   "cell_type": "markdown",
   "id": "56dc6725",
   "metadata": {},
   "source": [
    "**Q2 How do you make instances and classes?**\n",
    "\n",
    "**Ans**\n"
   ]
  },
  {
   "cell_type": "markdown",
   "id": "ec7f103f",
   "metadata": {},
   "source": [
    "To make a class instance we can call a class by its name and can pass arguments whcih are accepted by the **\\__init\\__** methord.\n",
    "\n",
    "engine = car('hosrepower',2000). Here engine is an instance of class car with attriubutes 'horsepower' and 2000\n",
    "\n",
    "on the other hand a class is created with the use of the keyword **class** followed by classname and semicolon.\n"
   ]
  },
  {
   "cell_type": "code",
   "execution_count": 5,
   "id": "5070dcef",
   "metadata": {},
   "outputs": [],
   "source": [
    "class car:\n",
    "\n",
    "    wheels = 4\n",
    "    \n",
    "    def __init__(car_type,color,price,speed_limit):\n",
    "    \n",
    "        self.type = car_type # instance attribute\n",
    "        \n",
    "        self.color = color "
   ]
  },
  {
   "cell_type": "markdown",
   "id": "b281c415",
   "metadata": {},
   "source": [
    "**Q3 Where and how should be class attributes created?**\n",
    "\n",
    "**Ans**"
   ]
  },
  {
   "cell_type": "markdown",
   "id": "0e0f0127",
   "metadata": {},
   "source": [
    "Class attributes or Class level Attributes belong to the class itself. Every instance of the class shares these attributes.\n",
    "Hence these are defined at the top of the class defination outside all methords.\n",
    "\n",
    "Example: In the below code we are defining a class attribute called no_of_wheels which will be shared by all the instances of the class Car\n"
   ]
  },
  {
   "cell_type": "code",
   "execution_count": 6,
   "id": "6f94a831",
   "metadata": {},
   "outputs": [],
   "source": [
    "class Car:\n",
    "    no_of_wheels = 4; # this is a class attribute\n",
    "    def __init__(self,color,price,engine):\n",
    "        self.color = color # instance attributes\n",
    "        self.price = price\n",
    "        self.engine = engine"
   ]
  },
  {
   "cell_type": "markdown",
   "id": "8946105a",
   "metadata": {},
   "source": [
    "**Q4 Where and how are instance attributes created?**\n",
    "\n",
    "**Ans**\n"
   ]
  },
  {
   "cell_type": "markdown",
   "id": "8d73bd1d",
   "metadata": {},
   "source": [
    "Instances attributes are passed to the class when an object of the class is created. Unlike class attributes, instance attributes are not shared by all objects of the classs. instead each object maintains its own copy of instance attributes at object level. whereas incase of class attributes all instances of class refer to a single copy. Usually instance attributes are defined within the __init__ method of class\n",
    "\n",
    "Example: In the below sample code we are creating a class Car with instance varaibles color, price, engine, which will be provided when an instance of class Car is created.\n"
   ]
  },
  {
   "cell_type": "code",
   "execution_count": 4,
   "id": "47303a39",
   "metadata": {},
   "outputs": [],
   "source": [
    "class Car:\n",
    "    def __init__(self,color,price,engine):\n",
    "        self.color = color # All this are instance attributes\n",
    "        self.price = price\n",
    "        self.engine = engine\n",
    "\n",
    "tiago_ev = Car('Indigo Blue', 1400000, 'electric')\n",
    "maruti = Car('Pearl White',2100000, 'petrol')"
   ]
  },
  {
   "cell_type": "markdown",
   "id": "8176774e",
   "metadata": {},
   "source": [
    "tiago_ev, maruti are both the instances of class Car with different instance variables."
   ]
  },
  {
   "cell_type": "markdown",
   "id": "087ced09",
   "metadata": {},
   "source": [
    "**Q5. What does the term \"self\" in a Python class mean?**\n",
    "\n",
    "**Ans**\n"
   ]
  },
  {
   "cell_type": "markdown",
   "id": "a81ce9bb",
   "metadata": {},
   "source": [
    "**self** and object itself is an instance of the class.When **self** is used,we can access the attributes and methords of the class within the class in python.It binds the attributes with the given arguments."
   ]
  },
  {
   "cell_type": "code",
   "execution_count": 10,
   "id": "678912d1",
   "metadata": {},
   "outputs": [
    {
     "name": "stdout",
     "output_type": "stream",
     "text": [
      "{'propellant': 'liq-hyd', 'molecular_weight': 1.00784, 'temperature': -253}\n"
     ]
    }
   ],
   "source": [
    "class rocket_fuel:\n",
    "    def __init__(self,propellant,molecular_weight,temperature):\n",
    "        self.propellant = propellant # All this are instance attributes\n",
    "        self.molecular_weight = molecular_weight\n",
    "        self.temperature = temperature\n",
    "\n",
    "rock = rocket_fuel('liq-hyd',1.00784,-253)\n",
    "\n",
    "print(rock.__dict__)"
   ]
  },
  {
   "cell_type": "markdown",
   "id": "4eb1d368",
   "metadata": {},
   "source": [
    "**Q6. How does a Python class handle operator overloading?**\n",
    "\n",
    "**Ans**"
   ]
  },
  {
   "cell_type": "markdown",
   "id": "4e751d19",
   "metadata": {},
   "source": [
    "Python Classes handle operator overloading by using special methods called Magic methods. these special methods usually begin and end with __ (double underscore)"
   ]
  },
  {
   "cell_type": "markdown",
   "id": "25b84ff7",
   "metadata": {},
   "source": [
    "##### +         \\__add\\__()\n",
    "##### -         \\__sub\\__()\n",
    "##### *         \\__mul\\__()\n",
    "##### /         \\__div\\__()"
   ]
  },
  {
   "cell_type": "markdown",
   "id": "20219e7a",
   "metadata": {},
   "source": [
    "**Q7. When do you consider allowing operator overloading of your classes?**\n",
    "\n",
    "**Ans`**"
   ]
  },
  {
   "cell_type": "markdown",
   "id": "e6c80ff0",
   "metadata": {},
   "source": [
    "When we want to have different meaning for the same operator accroding to the context we use operator overloading."
   ]
  },
  {
   "cell_type": "markdown",
   "id": "83fbbc56",
   "metadata": {},
   "source": [
    "**Q8. What is the most popular form of operator overloading?**\n",
    "\n",
    "**Ans**\n"
   ]
  },
  {
   "cell_type": "markdown",
   "id": "e955d4aa",
   "metadata": {},
   "source": [
    "The most popular methord of operator overloading is by using Magic methords which usually begin and end with double underscore\n",
    "\n",
    "\n",
    "The most popular form of operator overloading in python is by special methods called Magic methods. Which usually beign and end with double underscore __<method name>__."
   ]
  },
  {
   "cell_type": "code",
   "execution_count": 9,
   "id": "570f2d94",
   "metadata": {},
   "outputs": [
    {
     "name": "stdout",
     "output_type": "stream",
     "text": [
      "Sum -> 3\n",
      "String Concatenation -> MachuPicchu\n"
     ]
    }
   ],
   "source": [
    "class A:\n",
    "    def __init__(self,a):\n",
    "        self.a = a\n",
    "    def __add__(self,o):\n",
    "        return self.a+o.a\n",
    "obj1 = A(1)\n",
    "obj2 = A(2)\n",
    "obj3 = A('Machu')\n",
    "obj4 = A('Picchu')\n",
    "print(f'Sum -> {obj1+obj2}')\n",
    "print(f'String Concatenation -> {obj3+obj4}')"
   ]
  },
  {
   "cell_type": "markdown",
   "id": "b124f953",
   "metadata": {},
   "source": [
    "**Q9 What are the two most important concepts to grasp in order to comprehend Python OOP code?**\n",
    "\n",
    "**Ans**"
   ]
  },
  {
   "cell_type": "markdown",
   "id": "ab25ed62",
   "metadata": {},
   "source": [
    "Most important concepts are Classes and Objects . These are entities that represent instances of general abstract concept called class\n",
    "\n",
    "Along with classes and objects the important concepts to grasp are:\n",
    "\n",
    "- Inheritence\n",
    "- Abstraction\n",
    "- Polymorphism\n",
    "- Encapsulation"
   ]
  },
  {
   "cell_type": "code",
   "execution_count": null,
   "id": "a152da8f",
   "metadata": {},
   "outputs": [],
   "source": []
  }
 ],
 "metadata": {
  "kernelspec": {
   "display_name": "Python 3 (ipykernel)",
   "language": "python",
   "name": "python3"
  },
  "language_info": {
   "codemirror_mode": {
    "name": "ipython",
    "version": 3
   },
   "file_extension": ".py",
   "mimetype": "text/x-python",
   "name": "python",
   "nbconvert_exporter": "python",
   "pygments_lexer": "ipython3",
   "version": "3.9.12"
  }
 },
 "nbformat": 4,
 "nbformat_minor": 5
}
