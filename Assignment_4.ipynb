{
 "cells": [
  {
   "cell_type": "markdown",
   "id": "8c98c78b",
   "metadata": {},
   "source": [
    "**Q1 What exactly is \\[\\]?**\n",
    "\n",
    "**Ans** \n",
    "\n",
    "This is an Empty List"
   ]
  },
  {
   "cell_type": "markdown",
   "id": "da91ca14",
   "metadata": {},
   "source": [
    "**Q2 In a list of values stored in a variable called spam, how would you assign the value 'hello' as the third value? (Assume \\[2, 4, 6, 8, 10\\]are in spam.)**"
   ]
  },
  {
   "cell_type": "code",
   "execution_count": 40,
   "id": "68e5c4c4",
   "metadata": {},
   "outputs": [],
   "source": [
    "spam = [2,4,6,8,10]"
   ]
  },
  {
   "cell_type": "code",
   "execution_count": 41,
   "id": "e35a65a4",
   "metadata": {},
   "outputs": [],
   "source": [
    "spam[2] = 'hello'"
   ]
  },
  {
   "cell_type": "code",
   "execution_count": 42,
   "id": "7f2d14ed",
   "metadata": {},
   "outputs": [
    {
     "data": {
      "text/plain": [
       "[2, 4, 'hello', 8, 10]"
      ]
     },
     "execution_count": 42,
     "metadata": {},
     "output_type": "execute_result"
    }
   ],
   "source": [
    "spam"
   ]
  },
  {
   "cell_type": "markdown",
   "id": "220cf384",
   "metadata": {},
   "source": [
    "**Let's pretend the spam includes the list \\['a', 'b', 'c', 'd'\\] for the\n",
    "next three queries.**"
   ]
  },
  {
   "cell_type": "markdown",
   "id": "04bcef01",
   "metadata": {},
   "source": [
    "**Q4 What is the value of spam\\[int(int('3' \\* 2) / 11)\\]?**\n",
    "\n",
    "\n",
    "**Ans**\n",
    "\n"
   ]
  },
  {
   "cell_type": "code",
   "execution_count": 43,
   "id": "c687591b",
   "metadata": {},
   "outputs": [
    {
     "data": {
      "text/plain": [
       "8"
      ]
     },
     "execution_count": 43,
     "metadata": {},
     "output_type": "execute_result"
    }
   ],
   "source": [
    "spam[int(int('3' * 2) / 11)]"
   ]
  },
  {
   "cell_type": "markdown",
   "id": "172818b6",
   "metadata": {},
   "source": [
    "- '3' * 2 returns string '33'\n",
    "- This string is then passed as INT before being divided by 11.\n",
    "- This gives 3 which is passed as INT\n",
    "- The final expression becomes spam[3] which evaluates to the number 8."
   ]
  },
  {
   "cell_type": "markdown",
   "id": "342eb646",
   "metadata": {},
   "source": [
    "**Q4 What is the value of spam\\[-1\\]?**\n",
    "\n",
    "**Ans** "
   ]
  },
  {
   "cell_type": "code",
   "execution_count": 44,
   "id": "902afe46",
   "metadata": {},
   "outputs": [
    {
     "data": {
      "text/plain": [
       "10"
      ]
     },
     "execution_count": 44,
     "metadata": {},
     "output_type": "execute_result"
    }
   ],
   "source": [
    "spam[-1]"
   ]
  },
  {
   "cell_type": "markdown",
   "id": "673a7e27",
   "metadata": {},
   "source": [
    "**Q5\\. What is the value of spam\\[:2\\]?**\n",
    "\n",
    "**Ans**\n",
    "\n"
   ]
  },
  {
   "cell_type": "code",
   "execution_count": 45,
   "id": "1dd0b2fc",
   "metadata": {},
   "outputs": [
    {
     "data": {
      "text/plain": [
       "[2, 4]"
      ]
     },
     "execution_count": 45,
     "metadata": {},
     "output_type": "execute_result"
    }
   ],
   "source": [
    "spam[:2]"
   ]
  },
  {
   "cell_type": "markdown",
   "id": "83bd6521",
   "metadata": {},
   "source": [
    "**Let's pretend bacon has the list \\[3.14, 'cat,' 11, 'cat,' True\\] for\n",
    "the next three questions.**"
   ]
  },
  {
   "cell_type": "markdown",
   "id": "4af2e648",
   "metadata": {},
   "source": [
    "**Q6 What is the value of bacon.index('cat')?**\n",
    "\n",
    "**Ans** \n",
    "\n",
    "Its value is 1"
   ]
  },
  {
   "cell_type": "code",
   "execution_count": 65,
   "id": "7b872a87",
   "metadata": {},
   "outputs": [],
   "source": [
    "bacon = [3.14, 'cat', 11, 'cat', True]"
   ]
  },
  {
   "cell_type": "code",
   "execution_count": 66,
   "id": "c127bacc",
   "metadata": {},
   "outputs": [
    {
     "data": {
      "text/plain": [
       "1"
      ]
     },
     "execution_count": 66,
     "metadata": {},
     "output_type": "execute_result"
    }
   ],
   "source": [
    "bacon.index('cat')"
   ]
  },
  {
   "cell_type": "markdown",
   "id": "09d0d691",
   "metadata": {},
   "source": [
    "**Q7 How does bacon.append(99) change the look of the list value in\n",
    "bacon?**"
   ]
  },
  {
   "cell_type": "markdown",
   "id": "3f6c9311",
   "metadata": {},
   "source": [
    "**Ans**"
   ]
  },
  {
   "cell_type": "markdown",
   "id": "a887c9f3",
   "metadata": {},
   "source": [
    "The keyword 'append' appends the value '99' at the end of the list 'bacon'"
   ]
  },
  {
   "cell_type": "code",
   "execution_count": 67,
   "id": "55c62ef5",
   "metadata": {},
   "outputs": [],
   "source": [
    "bacon.append(99)"
   ]
  },
  {
   "cell_type": "code",
   "execution_count": 68,
   "id": "870af750",
   "metadata": {},
   "outputs": [
    {
     "data": {
      "text/plain": [
       "[3.14, 'cat', 11, 'cat', True, 99]"
      ]
     },
     "execution_count": 68,
     "metadata": {},
     "output_type": "execute_result"
    }
   ],
   "source": [
    "bacon"
   ]
  },
  {
   "cell_type": "markdown",
   "id": "8648ee3a",
   "metadata": {},
   "source": [
    "**Q8 How does bacon.remove('cat') change the look of the list in bacon?**\n",
    "\n",
    "**Ans**\n",
    "\n",
    "It removes the element 'cat' from the left. "
   ]
  },
  {
   "cell_type": "code",
   "execution_count": 69,
   "id": "6a231675",
   "metadata": {},
   "outputs": [
    {
     "data": {
      "text/plain": [
       "[3.14, 11, 'cat', True, 99]"
      ]
     },
     "execution_count": 69,
     "metadata": {},
     "output_type": "execute_result"
    }
   ],
   "source": [
    "bacon.remove('cat')\n",
    "bacon"
   ]
  },
  {
   "cell_type": "markdown",
   "id": "9bdfa4e6",
   "metadata": {},
   "source": [
    "**Q9 What are the list concatenation and list replication operators?**\n",
    "**Ans**\n",
    "\n",
    "For list the operator is '+'\n",
    "\n",
    "For replication the operator is '*'"
   ]
  },
  {
   "cell_type": "markdown",
   "id": "3b36d902",
   "metadata": {},
   "source": [
    "**Q10 What is difference between the list methods append() and insert()?**\n",
    "\n",
    "**Ans**  \n",
    "\n",
    "**Append** methords adds an element at the end of the list. \n",
    "\n",
    "**Insert()** methord allows us to insert an element at an specified index of the list."
   ]
  },
  {
   "cell_type": "markdown",
   "id": "9dd61b6e",
   "metadata": {},
   "source": [
    "**Q11 What are the two methods for removing items from a list?**\n",
    "\n",
    "**Ans** \n",
    "\n",
    "The two methords for removing an element from the list are **pop** and **remove**\n",
    "\n",
    "**remove** helps remove the very first element matching from the list.\n",
    "\n",
    "**pop** helps remove an element from the list based on index"
   ]
  },
  {
   "cell_type": "markdown",
   "id": "82d3c2c1",
   "metadata": {},
   "source": [
    "**Q12 Describe how list values and string values are identical.**\n",
    "\n",
    "**Ans** "
   ]
  },
  {
   "cell_type": "markdown",
   "id": "56037ece",
   "metadata": {},
   "source": [
    "Both lists and strings are identical in a way that they are of sequence type."
   ]
  },
  {
   "cell_type": "markdown",
   "id": "2dc99256",
   "metadata": {},
   "source": [
    "**Q13  What's the difference between tuples and lists?**\n",
    "\n",
    "**Ans**\n"
   ]
  },
  {
   "cell_type": "markdown",
   "id": "b90abc7e",
   "metadata": {},
   "source": [
    "1) Tuples are immutable objects while lists are mutable objects.\n",
    "\n",
    "2) Tuples take less space as compared to lists."
   ]
  },
  {
   "cell_type": "markdown",
   "id": "db0cc94a",
   "metadata": {},
   "source": [
    "**Q14 How do you type a tuple value that only contains the integer 42?**\n",
    "\n",
    "**Ans**"
   ]
  },
  {
   "cell_type": "markdown",
   "id": "3d47b40f",
   "metadata": {},
   "source": [
    "To make a tuple with only one single element we need to add a comma (,) after the element."
   ]
  },
  {
   "cell_type": "code",
   "execution_count": 74,
   "id": "2bcb5431",
   "metadata": {},
   "outputs": [
    {
     "data": {
      "text/plain": [
       "int"
      ]
     },
     "execution_count": 74,
     "metadata": {},
     "output_type": "execute_result"
    }
   ],
   "source": [
    "tuple_value_a = (42)\n",
    "type(tuple_value_a)"
   ]
  },
  {
   "cell_type": "code",
   "execution_count": 75,
   "id": "3b96cfef",
   "metadata": {},
   "outputs": [
    {
     "data": {
      "text/plain": [
       "tuple"
      ]
     },
     "execution_count": 75,
     "metadata": {},
     "output_type": "execute_result"
    }
   ],
   "source": [
    "tuple_value_b = (42,)\n",
    "type(tuple_value_b)"
   ]
  },
  {
   "cell_type": "markdown",
   "id": "975c5237",
   "metadata": {},
   "source": [
    "**Q15 How do you get a list value's tuple form? How do you get a tuple value's list form?**\n",
    "\n",
    "**Ans** "
   ]
  },
  {
   "cell_type": "markdown",
   "id": "1d044e6f",
   "metadata": {},
   "source": [
    "**Tuple value's list form**"
   ]
  },
  {
   "cell_type": "code",
   "execution_count": 99,
   "id": "b5741cf8",
   "metadata": {},
   "outputs": [],
   "source": [
    "tuple_a = (2,342,'beautiful',11,11,'positivity')\n",
    "def convert_to_list(tuple):\n",
    "    return list(i for i in tuple)"
   ]
  },
  {
   "cell_type": "code",
   "execution_count": 100,
   "id": "a23e001a",
   "metadata": {},
   "outputs": [
    {
     "data": {
      "text/plain": [
       "[2, 342, 'beautiful', 11, 11, 'positivity']"
      ]
     },
     "execution_count": 100,
     "metadata": {},
     "output_type": "execute_result"
    }
   ],
   "source": [
    "convert_to_list(tuple_a)"
   ]
  },
  {
   "cell_type": "markdown",
   "id": "73dae48b",
   "metadata": {},
   "source": [
    "**List value's tuple form**\n"
   ]
  },
  {
   "cell_type": "code",
   "execution_count": 94,
   "id": "2604e9cf",
   "metadata": {},
   "outputs": [],
   "source": [
    "list_b = [2,342,'beautiful',11,11,'positivity']\n",
    "def convert_to_tuple(list):\n",
    "    return tuple(i for i in list)"
   ]
  },
  {
   "cell_type": "code",
   "execution_count": 95,
   "id": "a806bacd",
   "metadata": {},
   "outputs": [
    {
     "data": {
      "text/plain": [
       "(2, 342, 'beautiful', 11, 11, 'positivity')"
      ]
     },
     "execution_count": 95,
     "metadata": {},
     "output_type": "execute_result"
    }
   ],
   "source": [
    "convert_to_tuple(list_b)"
   ]
  },
  {
   "cell_type": "markdown",
   "id": "1f2b8271",
   "metadata": {},
   "source": [
    "**Q16 Variables that \"contain\" list values are not necessarily lists themselves. Instead, what do they contain?**\n",
    "\n",
    "**Ans**\n",
    "\n",
    "\n",
    "Variables can have references to the values of a list instead of list values themselves.\n",
    "Python stores elements as references whenever they are mutable. For immutable they are not references but rather values themselves. Example strings,integers and tuples."
   ]
  },
  {
   "cell_type": "markdown",
   "id": "076a5cf6",
   "metadata": {},
   "source": [
    "**Q17 How do you distinguish between copy.copy() and copy.deepcopy()?**\n",
    "\n",
    "**Ans**\n",
    "\n",
    "In **shadow copying** a new collection object is created and then filled with references to the child objects which are found in the orignal.\n"
   ]
  },
  {
   "cell_type": "code",
   "execution_count": 118,
   "id": "19d7f316",
   "metadata": {},
   "outputs": [
    {
     "name": "stdout",
     "output_type": "stream",
     "text": [
      "[['a', 'b'], [3, 6], [7, 8, 9]]\n",
      "[['a', 'b'], [3, 6], [7, 8, 9]]\n"
     ]
    }
   ],
   "source": [
    "cop = [['a', 'b'], [3,6], [7, 8, 9]]\n",
    "print(cop)\n",
    "pop = list(cop)  # Make a shallow copy\n",
    "print(pop)"
   ]
  },
  {
   "cell_type": "markdown",
   "id": "08fc04b5",
   "metadata": {},
   "source": [
    "There is no change. pop is new and independent object with same contents as cop as can be seen above"
   ]
  },
  {
   "cell_type": "markdown",
   "id": "3ba4ec6f",
   "metadata": {},
   "source": [
    "Appending the orignal list with a new element does not change the new list"
   ]
  },
  {
   "cell_type": "code",
   "execution_count": 119,
   "id": "d2a8615d",
   "metadata": {},
   "outputs": [
    {
     "name": "stdout",
     "output_type": "stream",
     "text": [
      "[['a', 'b'], [3, 6], [7, 8, 9], ['new sublist']]\n"
     ]
    }
   ],
   "source": [
    "cop.append(['new sublist']) # orignal list being appended with new element\n",
    "print(cop)"
   ]
  },
  {
   "cell_type": "code",
   "execution_count": 120,
   "id": "be32f641",
   "metadata": {},
   "outputs": [
    {
     "name": "stdout",
     "output_type": "stream",
     "text": [
      "[['a', 'b'], [3, 6], [7, 8, 9]]\n"
     ]
    }
   ],
   "source": [
    "print(pop) # No change on the new list"
   ]
  },
  {
   "cell_type": "markdown",
   "id": "a7f1a0ca",
   "metadata": {},
   "source": [
    "While **deep copiying** the process becomes recursive. What it means is that first a new collection object is constructed and then it is recursively filled with copies of child objects found in the orignal."
   ]
  },
  {
   "cell_type": "code",
   "execution_count": 121,
   "id": "eed1d256",
   "metadata": {},
   "outputs": [],
   "source": [
    "import copy\n",
    "deepcopy1 = [[1, 2, 3], [4, 5, 6], [7, 8, 9]]\n",
    "deepcopy2 = copy.deepcopy(deepcopy1)"
   ]
  },
  {
   "cell_type": "code",
   "execution_count": 123,
   "id": "a776982a",
   "metadata": {},
   "outputs": [
    {
     "name": "stdout",
     "output_type": "stream",
     "text": [
      "[[1, 2, 3], [4, 5, 6], [7, 8, 9]]\n",
      "[[1, 2, 3], [4, 5, 6], [7, 8, 9]]\n"
     ]
    }
   ],
   "source": [
    "print(deepcopy1)\n",
    "print(deepcopy2) # both are identical"
   ]
  },
  {
   "cell_type": "markdown",
   "id": "2e489477",
   "metadata": {},
   "source": [
    "However changing one of the child objects from the orignal list (deepcopy1) does not change the new list (deepcopy2) which is a deepcopy of the orignal."
   ]
  },
  {
   "cell_type": "code",
   "execution_count": 126,
   "id": "7aca951f",
   "metadata": {},
   "outputs": [
    {
     "name": "stdout",
     "output_type": "stream",
     "text": [
      "[[1, 2, 3], ['clasic', 5, 6], [7, 8, 9]]\n",
      "[[1, 2, 3], [4, 5, 6], [7, 8, 9]]\n"
     ]
    }
   ],
   "source": [
    "deepcopy1[1][0] = 'clasic'\n",
    "print(deepcopy1)\n",
    "print(deepcopy2)\n",
    "# Both the objects are fully independent now."
   ]
  },
  {
   "cell_type": "code",
   "execution_count": null,
   "id": "af737c2f",
   "metadata": {},
   "outputs": [],
   "source": []
  }
 ],
 "metadata": {
  "kernelspec": {
   "display_name": "Python 3 (ipykernel)",
   "language": "python",
   "name": "python3"
  },
  "language_info": {
   "codemirror_mode": {
    "name": "ipython",
    "version": 3
   },
   "file_extension": ".py",
   "mimetype": "text/x-python",
   "name": "python",
   "nbconvert_exporter": "python",
   "pygments_lexer": "ipython3",
   "version": "3.9.12"
  }
 },
 "nbformat": 4,
 "nbformat_minor": 5
}
