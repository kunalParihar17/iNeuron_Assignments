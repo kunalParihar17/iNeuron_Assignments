{
 "cells": [
  {
   "cell_type": "markdown",
   "id": "76756fc2",
   "metadata": {},
   "source": [
    "**Q1 What advantages do Excel spreadsheets have over CSV spreadsheets?**\n",
    "\n",
    "**Ans**"
   ]
  },
  {
   "cell_type": "markdown",
   "id": "aae3221c",
   "metadata": {},
   "source": [
    "Differences\n",
    "\n",
    "1) Excel can be read onlhy by applications while CSV does not need a specific platform to open.\n",
    "\n",
    "2) Excel takes more memory as compared to CSV\n",
    "\n",
    "3)CSV is faster as compared to EXCEL\n",
    "\n",
    "4) Reading large data in Excel is much easier for the end user compared to CSV"
   ]
  },
  {
   "cell_type": "markdown",
   "id": "a5ee5836",
   "metadata": {},
   "source": [
    "**Q2.What do you pass to csv.reader() and csv.writer() to create reader and writer objects?**\n",
    "\n",
    "**Ans**\n",
    "\n",
    "We pass a File object which is obtained from a call to open()"
   ]
  },
  {
   "cell_type": "markdown",
   "id": "8e907d70",
   "metadata": {},
   "source": [
    "**Q3 What modes do File objects for reader and writer objects need to be\n",
    "opened in?**\n"
   ]
  },
  {
   "cell_type": "markdown",
   "id": "ad4df189",
   "metadata": {},
   "source": [
    "**Ans** \n",
    "\n",
    "The FIle objects must be opened in 'read-binary (rb)' for reader objects and write-binary ('wb') for writer objects"
   ]
  },
  {
   "cell_type": "markdown",
   "id": "afeafe65",
   "metadata": {},
   "source": [
    "**Q4 What method takes a list argument and writes it to a CSV file**\n",
    "\n",
    "**Ans**"
   ]
  },
  {
   "cell_type": "markdown",
   "id": "23abc1a7",
   "metadata": {},
   "source": [
    "The 'writerow()' methord takes a list argument and writes it to a CSV file."
   ]
  },
  {
   "cell_type": "markdown",
   "id": "1b834d72",
   "metadata": {},
   "source": [
    "**Q5 What do the keyword arguments delimiter and line terminator do**\n",
    "\n",
    "**Ans**\n",
    "\n",
    "\n",
    "The 'delimiter' changes the string which seperated cells in a row while the 'line terminator' is used to change the string which seperates the rows"
   ]
  },
  {
   "cell_type": "markdown",
   "id": "7f33936d",
   "metadata": {},
   "source": [
    "**Q6 What function takes a string of JSON data and returns a Python data\n",
    "structure?**\n",
    "\n",
    "**Ans**"
   ]
  },
  {
   "cell_type": "markdown",
   "id": "6eed602d",
   "metadata": {},
   "source": [
    "The function **json.loads()** takes in a string of JSON data and returns a python data structure"
   ]
  },
  {
   "cell_type": "markdown",
   "id": "94046c8f",
   "metadata": {},
   "source": [
    "**Q7 What function takes a Python data structure and returns a string of JSON data?**\n",
    "\n",
    "\n",
    "**Ans**"
   ]
  },
  {
   "cell_type": "markdown",
   "id": "701db863",
   "metadata": {},
   "source": [
    "The function **json.dumps** takes a python data structure and returns a string if JSON data."
   ]
  },
  {
   "cell_type": "code",
   "execution_count": null,
   "id": "5cc979ce",
   "metadata": {},
   "outputs": [],
   "source": []
  }
 ],
 "metadata": {
  "kernelspec": {
   "display_name": "Python 3 (ipykernel)",
   "language": "python",
   "name": "python3"
  },
  "language_info": {
   "codemirror_mode": {
    "name": "ipython",
    "version": 3
   },
   "file_extension": ".py",
   "mimetype": "text/x-python",
   "name": "python",
   "nbconvert_exporter": "python",
   "pygments_lexer": "ipython3",
   "version": "3.9.12"
  }
 },
 "nbformat": 4,
 "nbformat_minor": 5
}
