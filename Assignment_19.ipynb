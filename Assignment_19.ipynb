{
 "cells": [
  {
   "cell_type": "markdown",
   "id": "df5234cd",
   "metadata": {},
   "source": [
    "**Q1. Make a class called Thing with no contents and print it. Then, create an object called example from this class and also print it. Are the printed values the same or different?**\n",
    "\n",
    "**Ans**"
   ]
  },
  {
   "cell_type": "code",
   "execution_count": 9,
   "id": "a416badc",
   "metadata": {},
   "outputs": [
    {
     "name": "stdout",
     "output_type": "stream",
     "text": [
      "<__main__.thing object at 0x000001C3B2C617F0>\n"
     ]
    }
   ],
   "source": [
    "class thing():\n",
    "    # statement 1\n",
    "    # statement 2\n",
    "    pass\n",
    "example = thing()\n",
    "print(example)"
   ]
  },
  {
   "cell_type": "markdown",
   "id": "29052cc1",
   "metadata": {},
   "source": [
    "**Q2. Create a new class called Thing2 and add the value 'abc' to the\n",
    "letters class attribute. Letters should be printed.**\n",
    "\n",
    "**Ans**\n"
   ]
  },
  {
   "cell_type": "code",
   "execution_count": 8,
   "id": "2bdbdc42",
   "metadata": {},
   "outputs": [
    {
     "data": {
      "text/plain": [
       "'abc'"
      ]
     },
     "execution_count": 8,
     "metadata": {},
     "output_type": "execute_result"
    }
   ],
   "source": [
    "class Thing2():\n",
    "    letters = 'abc'\n",
    "Thing2.letters    "
   ]
  },
  {
   "cell_type": "markdown",
   "id": "87245bf1",
   "metadata": {},
   "source": [
    "**Q3 Make yet another class called, of course, Thing3. This time, assign\n",
    "the value 'xyz' to an instance (object) attribute called letters. Print\n",
    "letters. Do you need to make an object from the class to do this?**\n",
    "\n",
    "**Ans**\n"
   ]
  },
  {
   "cell_type": "code",
   "execution_count": 11,
   "id": "5c19e082",
   "metadata": {},
   "outputs": [
    {
     "name": "stdout",
     "output_type": "stream",
     "text": [
      "xyz\n"
     ]
    }
   ],
   "source": [
    "class Thing3():\n",
    "    def __init__(self,word):\n",
    "        self.word = word\n",
    "    def letters(self):\n",
    "        print(self.word)\n",
    "Thing3('xyz').letters()"
   ]
  },
  {
   "cell_type": "markdown",
   "id": "c0d9c0fa",
   "metadata": {},
   "source": [
    "**Q4\\. Create an Element class with the instance attributes name, symbol,\n",
    "and number. Create a class object with the values 'Hydrogen,' 'H,' and\n",
    "1.**\n",
    "\n",
    "**Ans**"
   ]
  },
  {
   "cell_type": "code",
   "execution_count": 12,
   "id": "9c949fbe",
   "metadata": {},
   "outputs": [],
   "source": [
    "class Element():\n",
    "    def __init__(self,name,symbol,number):\n",
    "        self.name = name\n",
    "        self.symbol = symbol\n",
    "        self.number = number  "
   ]
  },
  {
   "cell_type": "code",
   "execution_count": 14,
   "id": "19b76c35",
   "metadata": {},
   "outputs": [],
   "source": [
    "a =Element('Hydrogen','H',1)"
   ]
  },
  {
   "cell_type": "code",
   "execution_count": 15,
   "id": "b0ebadc2",
   "metadata": {},
   "outputs": [
    {
     "data": {
      "text/plain": [
       "'Hydrogen'"
      ]
     },
     "execution_count": 15,
     "metadata": {},
     "output_type": "execute_result"
    }
   ],
   "source": [
    "a.name"
   ]
  },
  {
   "cell_type": "markdown",
   "id": "33a4c25b",
   "metadata": {},
   "source": [
    "**Q5 Make a dictionary with these keys and values: 'name': 'Hydrogen',\n",
    "'symbol': 'H', 'number': 1. Then, create an object called hydrogen from\n",
    "class Element using this dictionary.**\n",
    "\n",
    "\n",
    "**Ans**\n"
   ]
  },
  {
   "cell_type": "code",
   "execution_count": 26,
   "id": "e389a01d",
   "metadata": {},
   "outputs": [
    {
     "data": {
      "text/plain": [
       "<__main__.Element at 0x1c3b495d910>"
      ]
     },
     "execution_count": 26,
     "metadata": {},
     "output_type": "execute_result"
    }
   ],
   "source": [
    "hyd = { 'name': 'Hydrogen', 'symbol': 'H', 'number': 1. }\n",
    "# hydrogen = Element(a['name'], a['symbol'],a['number'])\n",
    "hydrogen = Element(**hyd)\n",
    "hydrogen"
   ]
  },
  {
   "cell_type": "markdown",
   "id": "73e997d0",
   "metadata": {},
   "source": [
    "**Q6 For the Element class, define a method called dump() that prints the\n",
    "values of the object’s attributes (name, symbol, and number). Create the\n",
    "hydrogen object from this new definition and use dump() to print its\n",
    "attributes.**\n",
    "\n",
    "**Ans**\n"
   ]
  },
  {
   "cell_type": "code",
   "execution_count": 35,
   "id": "5fa1476e",
   "metadata": {},
   "outputs": [],
   "source": [
    "class Element():\n",
    "    def __init__(self,name,symbol,number):\n",
    "        self.name = name\n",
    "        self.symbol = symbol\n",
    "        self.number = number\n",
    "    def dump(self):\n",
    "        print('name=%s, symbol=%s, number=%s'% (self.name, self.symbol, self.number) )"
   ]
  },
  {
   "cell_type": "code",
   "execution_count": 36,
   "id": "9b2e2afb",
   "metadata": {},
   "outputs": [
    {
     "name": "stdout",
     "output_type": "stream",
     "text": [
      "name=Hydrogen, symbol=H, number=1.0\n"
     ]
    }
   ],
   "source": [
    "hydrogen = Element(**hyd)\n",
    "hydrogen.dump()"
   ]
  },
  {
   "cell_type": "markdown",
   "id": "45fd203d",
   "metadata": {},
   "source": [
    "**Q7 Call print(hydrogen). In the definition of Element, change the name\n",
    "of method dump to \\_\\_str\\_\\_, create a new hydrogen object, and call\n",
    "print(hydrogen) again.**\n",
    "\n",
    "**Ans**\n"
   ]
  },
  {
   "cell_type": "code",
   "execution_count": 38,
   "id": "f5000325",
   "metadata": {},
   "outputs": [],
   "source": [
    "class Element(): \n",
    "    def __init__(self ,name,symbol,number):\n",
    "        self.name = name\n",
    "        self.symbol = symbol\n",
    "        self.number = number\n",
    "    def __str__(self):\n",
    "        return ('name=%s, symbol=%s, number=%s'% (self.name, self.symbol, self.number) )"
   ]
  },
  {
   "cell_type": "code",
   "execution_count": 39,
   "id": "3f8c68e1",
   "metadata": {},
   "outputs": [],
   "source": [
    "hydrogen = Element(**a)"
   ]
  },
  {
   "cell_type": "code",
   "execution_count": 40,
   "id": "364a979f",
   "metadata": {},
   "outputs": [
    {
     "name": "stdout",
     "output_type": "stream",
     "text": [
      "name=Hydrogen, symbol=H, number=1.0\n"
     ]
    }
   ],
   "source": [
    "print(hydrogen)"
   ]
  },
  {
   "cell_type": "markdown",
   "id": "a9906f74",
   "metadata": {},
   "source": [
    "**Q8 Modify Element to make the attributes name, symbol, and number\n",
    "private. Define a getter property for each to return its value.**\n",
    "\n",
    "**Ans**"
   ]
  },
  {
   "cell_type": "code",
   "execution_count": 41,
   "id": "c6452c8b",
   "metadata": {},
   "outputs": [
    {
     "data": {
      "text/plain": [
       "'Hydrogen'"
      ]
     },
     "execution_count": 41,
     "metadata": {},
     "output_type": "execute_result"
    }
   ],
   "source": [
    "class Element(): \n",
    "    def __init__(self ,name,symbol,number):\n",
    "        self.__name = name\n",
    "        self.__symbol = symbol\n",
    "        self.__number = number\n",
    "    @property\n",
    "    def name(self):\n",
    "        return (self.__name)\n",
    "    @property\n",
    "    def symbol(self):\n",
    "        return (self.__symbol)\n",
    "    @property\n",
    "    def number(self):\n",
    "        return (self.__number)\n",
    "hydrogen = Element(**a)\n",
    "hydrogen.name"
   ]
  },
  {
   "cell_type": "markdown",
   "id": "0fb3fe45",
   "metadata": {},
   "source": [
    "**Q9 Define three classes: Bear, Rabbit, and Octothorpe. For each, define\n",
    "only one method: eats(). This should return 'berries' (Bear), 'clover'\n",
    "(Rabbit), or 'campers' (Octothorpe). Create one object from each and\n",
    "print what it eats.**\n",
    "\n",
    "\n",
    "**Ans**"
   ]
  },
  {
   "cell_type": "code",
   "execution_count": 42,
   "id": "9c3f5c35",
   "metadata": {},
   "outputs": [],
   "source": [
    "class Bear():\n",
    "    def eats():\n",
    "        print('berries')\n",
    "class Rabbit():\n",
    "    def eats():\n",
    "        print('clover')\n",
    "class Octothrope():\n",
    "    def eats():\n",
    "        print('campers')        "
   ]
  },
  {
   "cell_type": "code",
   "execution_count": 43,
   "id": "eae32193",
   "metadata": {},
   "outputs": [
    {
     "name": "stdout",
     "output_type": "stream",
     "text": [
      "berries\n"
     ]
    }
   ],
   "source": [
    "Bear.eats()"
   ]
  },
  {
   "cell_type": "code",
   "execution_count": 44,
   "id": "e23b0715",
   "metadata": {},
   "outputs": [
    {
     "name": "stdout",
     "output_type": "stream",
     "text": [
      "clover\n"
     ]
    }
   ],
   "source": [
    "Rabbit.eats()"
   ]
  },
  {
   "cell_type": "code",
   "execution_count": 45,
   "id": "4e86843f",
   "metadata": {},
   "outputs": [
    {
     "name": "stdout",
     "output_type": "stream",
     "text": [
      "campers\n"
     ]
    }
   ],
   "source": [
    "Octothrope.eats()"
   ]
  },
  {
   "cell_type": "markdown",
   "id": "9968d2f2",
   "metadata": {},
   "source": [
    "**Q10 Define these classes: Laser, Claw, and SmartPhone. Each has only\n",
    "one method: does(). This returns 'disintegrate' (Laser), 'crush' (Claw),\n",
    "or 'ring' (SmartPhone). Then, define the class Robot that has one\n",
    "instance (object) of each of these. Define a does() method for the Robot\n",
    "that prints what its component objects do.**\n",
    "\n",
    "**Ans**"
   ]
  },
  {
   "cell_type": "code",
   "execution_count": 56,
   "id": "8fea8e28",
   "metadata": {},
   "outputs": [
    {
     "name": "stdout",
     "output_type": "stream",
     "text": [
      "Laser is disitegrate, Claw is crush, SmartPhone is ring\n"
     ]
    }
   ],
   "source": [
    "class Laser:\n",
    "    def does(self):\n",
    "        return('disitegrate')\n",
    "class Claw:\n",
    "    def does(self):\n",
    "        return('crush')\n",
    "class SmartPhone:\n",
    "    def does(self):\n",
    "        return('ring')\n",
    "        \n",
    "class Robot:\n",
    "    def __init__(self):\n",
    "        self.laser = Laser()\n",
    "        self.claw = Claw()\n",
    "        self.smartphone = SmartPhone()\n",
    "    def does(self):\n",
    "        return ('Laser is %s, Claw is %s, SmartPhone is %s' % (self.laser.does(),self.claw.does(),self.smartphone.does()))\n",
    "r = Robot()\n",
    "print(r.does())"
   ]
  }
 ],
 "metadata": {
  "kernelspec": {
   "display_name": "Python 3 (ipykernel)",
   "language": "python",
   "name": "python3"
  },
  "language_info": {
   "codemirror_mode": {
    "name": "ipython",
    "version": 3
   },
   "file_extension": ".py",
   "mimetype": "text/x-python",
   "name": "python",
   "nbconvert_exporter": "python",
   "pygments_lexer": "ipython3",
   "version": "3.9.12"
  }
 },
 "nbformat": 4,
 "nbformat_minor": 5
}
