{
 "cells": [
  {
   "cell_type": "markdown",
   "id": "183f0788",
   "metadata": {},
   "source": [
    "**Q1 Create a function that takes a string and returns a string in which each character is repeated once.**\n",
    "\n",
    "Examples\n",
    "\n",
    "double_char(\"String\") ➞ \"SSttrriinngg\"\n",
    "\n",
    "double_char(\"Hello World!\") ➞ \"HHeelllloo WWoorrlldd!!\"\n",
    "\n",
    "double_char(\"1234!_ \") ➞ \"11223344!!__ \""
   ]
  },
  {
   "cell_type": "code",
   "execution_count": 39,
   "id": "16a70ce4",
   "metadata": {},
   "outputs": [
    {
     "name": "stdout",
     "output_type": "stream",
     "text": [
      "Enter the string\n",
      "Neapolitan pizzas are the best!\n",
      "Neapolitan pizzas are the best!\n",
      "NNeeaappoolliittaann  ppiizzzzaass  aarree  tthhee  bbeesstt!!\n"
     ]
    }
   ],
   "source": [
    "def str_char_rep():\n",
    "    abc = []\n",
    "    string = str(input('Enter the string\\n'))\n",
    "    print(string)\n",
    "    for i in string:    \n",
    "        abc.append(i)\n",
    "        abc.append(i)\n",
    "    print(''.join(abc))        \n",
    "#     print(abc)    \n",
    "str_char_rep()        "
   ]
  },
  {
   "cell_type": "markdown",
   "id": "02c700f9",
   "metadata": {},
   "source": [
    "**Q2 Create a function that reverses a boolean value and returns the string\n",
    "\"boolean expected\" if another variable type is given.**\n",
    "\n",
    "### Examples\n",
    "\n",
    "reverse(True) ➞ False\n",
    "\n",
    "reverse(False) ➞ True\n",
    "\n",
    "reverse(0) ➞ \"boolean expected\"\n",
    "\n",
    "reverse(None) ➞ \"boolean expected\"\n"
   ]
  },
  {
   "cell_type": "code",
   "execution_count": 45,
   "id": "9622d443",
   "metadata": {},
   "outputs": [
    {
     "name": "stdout",
     "output_type": "stream",
     "text": [
      "False\n",
      "True\n",
      "boolean expected\n",
      "boolean expected\n"
     ]
    }
   ],
   "source": [
    "def reverse(arg=None):\n",
    "    return not arg if type(arg) == bool else \"boolean expected\"\n",
    "\n",
    "print(reverse(True)) \n",
    "print(reverse(False))\n",
    "print(reverse(0)) \n",
    "print(reverse(None))"
   ]
  },
  {
   "cell_type": "markdown",
   "id": "8533dab4",
   "metadata": {},
   "source": [
    "**Q3 Create a function that returns the thickness (in meters) of a piece of paper after folding it n number of times. The paper starts off with a thickness of 0.5mm.**\n",
    "\n",
    "### Examples\n",
    "\n",
    "num\\_layers(1) ➞ \"0.001m\"\n",
    "\n",
    "\\# Paper folded once is 1mm (equal to 0.001m)\n",
    "\n",
    "num\\_layers(4) ➞ \"0.008m\"\n",
    "\n",
    "\\# Paper folded 4 times is 8mm (equal to 0.008m)\n",
    "\n",
    "num\\_layers(21) ➞ \"1048.576m\"\n",
    "\n",
    "\\# Paper folded 21 times is 1048576mm (equal to 1048.576m)\n"
   ]
  },
  {
   "cell_type": "code",
   "execution_count": 61,
   "id": "09527047",
   "metadata": {},
   "outputs": [
    {
     "data": {
      "text/plain": [
       "0.008"
      ]
     },
     "execution_count": 61,
     "metadata": {},
     "output_type": "execute_result"
    }
   ],
   "source": [
    "def fn(a):\n",
    "    res = 0.5\n",
    "    for _ in range(a):\n",
    "        res *= 2\n",
    "    return res / 1000 \n",
    "fn(4)"
   ]
  },
  {
   "cell_type": "markdown",
   "id": "c4a11527",
   "metadata": {},
   "source": [
    "**Q4 Create a function that takes a single string as argument and returns an\n",
    "ordered list containing the indices of all capital letters in the\n",
    "string.**\n",
    "\n",
    "### Examples\n",
    "\n",
    "index\\_of\\_caps(\"eDaBiT\") ➞ \\[1, 3, 5\\]\n",
    "\n",
    "index\\_of\\_caps(\"eQuINoX\") ➞ \\[1, 3, 4, 6\\]\n",
    "\n",
    "index\\_of\\_caps(\"determine\") ➞ \\[\\]\n",
    "\n",
    "index\\_of\\_caps(\"STRIKE\") ➞ \\[0, 1, 2, 3, 4, 5\\]\n",
    "\n",
    "index\\_of\\_caps(\"sUn\") ➞ \\[1\\]\n"
   ]
  },
  {
   "cell_type": "code",
   "execution_count": 83,
   "id": "5c8bd5b3",
   "metadata": {},
   "outputs": [
    {
     "data": {
      "text/plain": [
       "[1, 3, 5]"
      ]
     },
     "execution_count": 83,
     "metadata": {},
     "output_type": "execute_result"
    }
   ],
   "source": [
    "def index_of_caps(string):\n",
    "    index = []\n",
    "    for i in range(len(string)):\n",
    "        if string[i].isupper()==True:\n",
    "            index.append(string.index(string[i]))\n",
    "    return index        \n",
    "index_of_caps(\"eDaBiT\")    "
   ]
  },
  {
   "cell_type": "markdown",
   "id": "ae8ca122",
   "metadata": {},
   "source": [
    "**Q5 Using list comprehensions, create a function that finds all even numbers\n",
    "from 1 to the given number.**\n",
    "find\\_even\\_nums(8) ➞ \\[2, 4, 6, 8\\]\n",
    "\n",
    "find\\_even\\_nums(4) ➞ \\[2, 4\\]\n",
    "\n",
    "find\\_even\\_nums(2) ➞ \\[2\\]"
   ]
  },
  {
   "cell_type": "code",
   "execution_count": 89,
   "id": "6f21dbfa",
   "metadata": {},
   "outputs": [
    {
     "data": {
      "text/plain": [
       "[2, 4]"
      ]
     },
     "execution_count": 89,
     "metadata": {},
     "output_type": "execute_result"
    }
   ],
   "source": [
    "def find_even_nums(n):\n",
    "    abc = [val for val in range(1,n+1) if val%2==0]\n",
    "    return(abc)\n",
    "find_even_nums(4)"
   ]
  }
 ],
 "metadata": {
  "kernelspec": {
   "display_name": "Python 3 (ipykernel)",
   "language": "python",
   "name": "python3"
  },
  "language_info": {
   "codemirror_mode": {
    "name": "ipython",
    "version": 3
   },
   "file_extension": ".py",
   "mimetype": "text/x-python",
   "name": "python",
   "nbconvert_exporter": "python",
   "pygments_lexer": "ipython3",
   "version": "3.9.12"
  }
 },
 "nbformat": 4,
 "nbformat_minor": 5
}
