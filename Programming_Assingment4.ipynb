{
 "cells": [
  {
   "cell_type": "markdown",
   "id": "a3794c81",
   "metadata": {},
   "source": [
    "**Q1.  Write a Python Program to Find the Factorial of a Number?**\n",
    "\n",
    "**Ans**\n"
   ]
  },
  {
   "cell_type": "code",
   "execution_count": 30,
   "id": "97862a0a",
   "metadata": {},
   "outputs": [
    {
     "name": "stdout",
     "output_type": "stream",
     "text": [
      "Enter the number5\n",
      "120\n"
     ]
    }
   ],
   "source": [
    "def factorial():\n",
    "    num = int(input('Enter the number'))\n",
    "    fact = 1\n",
    "    for i in range(1,num+1):\n",
    "        fact = fact*i\n",
    "    print(fact)\n",
    "    \n",
    "factorial()    "
   ]
  },
  {
   "cell_type": "markdown",
   "id": "ae73abde",
   "metadata": {},
   "source": [
    "**Q2.  Write a Python Program to Display the multiplication Table?**\n",
    "\n",
    "**Ans**\n"
   ]
  },
  {
   "cell_type": "code",
   "execution_count": 36,
   "id": "82efa7de",
   "metadata": {},
   "outputs": [
    {
     "name": "stdout",
     "output_type": "stream",
     "text": [
      "Enter the number to print its Table4\n",
      "4  x  1 = 4\n",
      "4  x  2 = 8\n",
      "4  x  3 = 12\n",
      "4  x  4 = 16\n",
      "4  x  5 = 20\n",
      "4  x  6 = 24\n",
      "4  x  7 = 28\n",
      "4  x  8 = 32\n",
      "4  x  9 = 36\n",
      "4  x  10 = 40\n"
     ]
    }
   ],
   "source": [
    "def multiplication_table():\n",
    "    num = int(input('Enter the number to print its Table'))\n",
    "    for i in range(1,11):\n",
    "        print(num,' x ',i,'=',num*i)\n",
    "        \n",
    "multiplication_table()"
   ]
  },
  {
   "cell_type": "markdown",
   "id": "eace99b1",
   "metadata": {},
   "source": [
    "**Q3.  Write a Python Program to Print the Fibonacci sequence?**\n",
    "\n",
    "**Ans**\n"
   ]
  },
  {
   "cell_type": "code",
   "execution_count": 44,
   "id": "1825c8be",
   "metadata": {},
   "outputs": [
    {
     "data": {
      "text/plain": [
       "(0, 1, 1, 2, 3, 5, 8, 13, 21, 34, 55, 89, 144)"
      ]
     },
     "execution_count": 44,
     "metadata": {},
     "output_type": "execute_result"
    }
   ],
   "source": [
    "0, 1, 1, 2, 3, 5, 8, 13, 21, 34, 55, 89, 144"
   ]
  },
  {
   "cell_type": "code",
   "execution_count": 55,
   "id": "6f70d1fe",
   "metadata": {},
   "outputs": [
    {
     "name": "stdout",
     "output_type": "stream",
     "text": [
      "Enter the terms upto which Fabonacci series has to be printed10\n",
      "0 1 1 2 3 5 8 13 21 34 "
     ]
    }
   ],
   "source": [
    "a=int(input(\"Enter the terms upto which Fabonacci series has to be printed\"))\n",
    "f=0                                         \n",
    "s=1                                         \n",
    "if a<=0:\n",
    "    print(\"The series is\",f)\n",
    "else:\n",
    "    print(f,s,end=\" \")\n",
    "    for x in range(2,a):\n",
    "        next=f+s                           \n",
    "        print(next,end=\" \")\n",
    "        f=s\n",
    "        s=next"
   ]
  },
  {
   "cell_type": "markdown",
   "id": "2ff5fa20",
   "metadata": {},
   "source": [
    "**Q4  Write a Python Program to Check Armstrong Number?**\n",
    "\n",
    "**Ans**\n"
   ]
  },
  {
   "cell_type": "code",
   "execution_count": null,
   "id": "837512ef",
   "metadata": {},
   "outputs": [],
   "source": [
    "153"
   ]
  },
  {
   "cell_type": "code",
   "execution_count": 84,
   "id": "89ee4f5d",
   "metadata": {},
   "outputs": [],
   "source": [
    "def armstrong():\n",
    "    num = str(input('Enter the number to to check'))    \n",
    "    if len(num)==3:\n",
    "        a=int(num[0])\n",
    "        b=int(num[1])\n",
    "        c=int(num[2])\n",
    "        if (a*a*a)+(b*b*b)+(c*c*c)==int(num):\n",
    "            print(num,'is an Armstrong Number')\n",
    "        else:    \n",
    "            print(num,'is not an Armstrong Number')\n",
    "    elif len(num)==4:\n",
    "        a=int(num[0])\n",
    "        b=int(num[1])\n",
    "        c=int(num[2])\n",
    "        d=int(num[3])\n",
    "        if (a*a*a*a)+(b*b*b*b)+(c*c*c*c)+(d*d*d*d)==int(num):\n",
    "            print(num,'is an Armstrong Number')        \n",
    "        else :   \n",
    "            print(num,'is not an Armstrong Number')"
   ]
  },
  {
   "cell_type": "code",
   "execution_count": 85,
   "id": "c4d57bba",
   "metadata": {},
   "outputs": [
    {
     "name": "stdout",
     "output_type": "stream",
     "text": [
      "Enter the number to to check232\n",
      "232 is not an Armstrong Number\n"
     ]
    }
   ],
   "source": [
    "armstrong()"
   ]
  },
  {
   "cell_type": "code",
   "execution_count": 71,
   "id": "efc55ad1",
   "metadata": {},
   "outputs": [
    {
     "name": "stdout",
     "output_type": "stream",
     "text": [
      "Enter the number to to check153\n",
      "153 is an Armstrong Number\n"
     ]
    }
   ],
   "source": [
    "armstrong()"
   ]
  },
  {
   "cell_type": "code",
   "execution_count": 73,
   "id": "f6f39d52",
   "metadata": {},
   "outputs": [
    {
     "name": "stdout",
     "output_type": "stream",
     "text": [
      "Enter the number to to check9474\n",
      "9474 is an Armstrong Number\n"
     ]
    }
   ],
   "source": [
    "armstrong()"
   ]
  },
  {
   "cell_type": "markdown",
   "id": "7d8c6bc8",
   "metadata": {},
   "source": [
    "**Q5.  Write a Python Program to Find Armstrong Number in an Interval?**\n",
    "\n",
    "**Ans**"
   ]
  },
  {
   "cell_type": "code",
   "execution_count": 97,
   "id": "d62b72d6",
   "metadata": {},
   "outputs": [
    {
     "data": {
      "text/plain": [
       "53"
      ]
     },
     "execution_count": 97,
     "metadata": {},
     "output_type": "execute_result"
    }
   ],
   "source": [
    "a=1234\n",
    "b=23\n",
    "a//b"
   ]
  },
  {
   "cell_type": "code",
   "execution_count": 100,
   "id": "46988441",
   "metadata": {},
   "outputs": [
    {
     "name": "stdout",
     "output_type": "stream",
     "text": [
      "Enter Range starting300\n",
      "Enter range ending100000\n",
      "370\n",
      "371\n",
      "407\n",
      "1634\n",
      "8208\n",
      "9474\n",
      "54748\n",
      "92727\n",
      "93084\n"
     ]
    }
   ],
   "source": [
    "A=int(input('Enter Range starting'))\n",
    "B=int(input('Enter range ending'))\n",
    "\n",
    "for i in range(A, B+1):\n",
    "   x = len(str(i))\n",
    "   sum1 = 0\n",
    "   temp = i\n",
    "   while temp > 0:\n",
    "       digit = temp % 10\n",
    "       sum1 += digit ** x\n",
    "       temp //= 10\n",
    "   if i == sum1:\n",
    "       print(i)"
   ]
  },
  {
   "cell_type": "markdown",
   "id": "c40fc88f",
   "metadata": {},
   "source": [
    "**Q6  Write a Python Program to Find the Sum of Natural Numbers?**\n",
    "\n",
    "**Ans**"
   ]
  },
  {
   "cell_type": "code",
   "execution_count": 103,
   "id": "da60050e",
   "metadata": {},
   "outputs": [
    {
     "name": "stdout",
     "output_type": "stream",
     "text": [
      "Enter the First number123\n",
      "Enter the Second number876\n",
      "The sum is 999\n"
     ]
    }
   ],
   "source": [
    "def sum():\n",
    "    num1 = int(input(\"Enter the First number\"))\n",
    "    num2 = int(input(\"Enter the Second number\"))\n",
    "    sumofnum = num1 + num2\n",
    "    print('The sum is',sumofnum)\n",
    "sum()    "
   ]
  }
 ],
 "metadata": {
  "kernelspec": {
   "display_name": "Python 3 (ipykernel)",
   "language": "python",
   "name": "python3"
  },
  "language_info": {
   "codemirror_mode": {
    "name": "ipython",
    "version": 3
   },
   "file_extension": ".py",
   "mimetype": "text/x-python",
   "name": "python",
   "nbconvert_exporter": "python",
   "pygments_lexer": "ipython3",
   "version": "3.9.12"
  }
 },
 "nbformat": 4,
 "nbformat_minor": 5
}
