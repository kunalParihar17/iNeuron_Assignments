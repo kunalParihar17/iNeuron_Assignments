{
 "cells": [
  {
   "cell_type": "markdown",
   "id": "aad9379a",
   "metadata": {},
   "source": [
    "**Q1 Create a function that takes an integer and returns a list from 1 to the\n",
    "given number, where:**\n",
    "\n",
    "1.  If the number **can be divided** evenly by 4, amplify it by 10 (i.e.\n",
    "    return 10 times the number).\n",
    "\n",
    "2.  If the number **cannot be divided** evenly by 4, simply return the\n",
    "    number.\n",
    "\n",
    "**Examples**\n",
    "\n",
    "amplify(4) ➞ \\[1, 2, 3, 40\\]\n",
    "\n",
    "amplify(3) ➞ \\[1, 2, 3\\]\n",
    "\n",
    "amplify(25) ➞ \\[1, 2, 3, 40, 5, 6, 7, 80, 9, 10, 11, 120, 13, 14, 15,\n",
    "160, 17, 18, 19, 200, 21, 22, 23, 240, 25\\]\n",
    "\n",
    "**Notes**\n",
    "\n",
    "-   The given integer will always be equal to or greater than 1.\n",
    "\n",
    "-   Include the number (see example above).\n",
    "\n",
    "-   To perform this problem with its intended purpose, try doing it with\n",
    "    list comprehensions. If that's too difficult, just solve the\n",
    "    challenge any way you can."
   ]
  },
  {
   "cell_type": "code",
   "execution_count": 4,
   "id": "121400c0",
   "metadata": {},
   "outputs": [
    {
     "name": "stdout",
     "output_type": "stream",
     "text": [
      "[1, 2, 3, 40, 5, 6, 7, 80, 9, 10, 11, 120, 13, 14, 15, 160, 17, 18, 19, 200, 21, 22, 23, 240, 25] "
     ]
    }
   ],
   "source": [
    "def amplify(num):\n",
    "    abc = []\n",
    "    for i in range(1,num+1):\n",
    "        if i%4==0:\n",
    "            abc.append(i*10)\n",
    "        else:\n",
    "            abc.append(i)\n",
    "    print(abc,end=' ')\n",
    "amplify(25)"
   ]
  },
  {
   "cell_type": "markdown",
   "id": "63e1172b",
   "metadata": {},
   "source": [
    "**Q2 Create a function that takes a list of numbers and return the number\n",
    "that's unique.**\n",
    "\n",
    "### Examples\n",
    "\n",
    "unique(\\[3, 3, 3, 7, 3, 3\\]) ➞ 7\n",
    "\n",
    "unique(\\[0, 0, 0.77, 0, 0\\]) ➞ 0.77\n",
    "\n",
    "unique(\\[0, 1, 1, 1, 1, 1, 1, 1\\]) ➞ 0\n",
    "\n",
    "### Notes\n",
    "\n",
    "Test cases will always have exactly one unique number while all others\n",
    "are the same.\n"
   ]
  },
  {
   "cell_type": "code",
   "execution_count": 9,
   "id": "d269be8f",
   "metadata": {},
   "outputs": [
    {
     "data": {
      "text/plain": [
       "[0]"
      ]
     },
     "execution_count": 9,
     "metadata": {},
     "output_type": "execute_result"
    }
   ],
   "source": [
    "def unique(list_a):\n",
    "    abc = [val for val in list_a if list_a.count(val)==1]\n",
    "    return abc\n",
    "unique([0, 1, 1, 1, 1, 1, 1, 1])"
   ]
  },
  {
   "cell_type": "code",
   "execution_count": 10,
   "id": "6760703c",
   "metadata": {},
   "outputs": [
    {
     "data": {
      "text/plain": [
       "[7]"
      ]
     },
     "execution_count": 10,
     "metadata": {},
     "output_type": "execute_result"
    }
   ],
   "source": [
    "unique([3, 3, 3, 7, 3, 3])"
   ]
  },
  {
   "cell_type": "code",
   "execution_count": 11,
   "id": "51fa3518",
   "metadata": {},
   "outputs": [
    {
     "data": {
      "text/plain": [
       "[0.77]"
      ]
     },
     "execution_count": 11,
     "metadata": {},
     "output_type": "execute_result"
    }
   ],
   "source": [
    "unique([0, 0, 0.77, 0, 0])"
   ]
  },
  {
   "cell_type": "markdown",
   "id": "4cdd9b35",
   "metadata": {},
   "source": [
    "**Q3 Your task is to create a Circle constructor that creates a circle with a\n",
    "radius provided by an argument. The circles constructed must have two\n",
    "getters getArea() (PI*r^2) and getPerimeter() (2*PI\\*r) which give both\n",
    "respective areas and perimeter (circumference).**\n",
    "\n",
    "For help with this class, I have provided you with a Rectangle\n",
    "constructor which you can use as a base example.\n",
    "\n",
    "### Examples\n",
    "\n",
    "circy = Circle(11)\n",
    "\n",
    "circy.getArea()\n",
    "\n",
    "\\# Should return 380.132711084365\n",
    "\n",
    "circy = Circle(4.44)\n",
    "\n",
    "circy.getPerimeter()\n",
    "\n",
    "\\# Should return 27.897342763877365\n",
    "\n",
    "### Notes\n",
    "\n",
    "Round results up to the nearest integer.\n"
   ]
  },
  {
   "cell_type": "code",
   "execution_count": 12,
   "id": "e75ef170",
   "metadata": {},
   "outputs": [
    {
     "name": "stdout",
     "output_type": "stream",
     "text": [
      "200.96\n",
      "50.24\n"
     ]
    }
   ],
   "source": [
    "class Circle():\n",
    "    def __init__(self, r):\n",
    "        self.radius = r\n",
    "\n",
    "    def area(self):\n",
    "        return self.radius**2*3.14\n",
    "    \n",
    "    def perimeter(self):\n",
    "        return 2*self.radius*3.14\n",
    "\n",
    "NewCircle = Circle(8)\n",
    "print(NewCircle.area())\n",
    "print(NewCircle.perimeter())"
   ]
  },
  {
   "cell_type": "markdown",
   "id": "6d58cc55",
   "metadata": {},
   "source": [
    "**Q4 Create a function that takes a list of strings and return a list, sorted\n",
    "from shortest to longest.**\n",
    "\n",
    "### Examples\n",
    "\n",
    "sort\\_by\\_length(\\[\"Google\", \"Apple\", \"Microsoft\"\\])\n",
    "\n",
    "➞ \\[\"Apple\", \"Google\", \"Microsoft\"\\]\n",
    "\n",
    "sort\\_by\\_length(\\[\"Leonardo\", \"Michelangelo\", \"Raphael\", \"Donatello\"\\])\n",
    "\n",
    "➞ \\[\"Raphael\", \"Leonardo\", \"Donatello\", \"Michelangelo\"\\]\n",
    "\n",
    "sort\\_by\\_length(\\[\"Turing\", \"Einstein\", \"Jung\"\\])\n",
    "\n",
    "➞ \\[\"Jung\", \"Turing\", \"Einstein\"\\]\n",
    "\n",
    "### Notes\n",
    "\n",
    "All test cases contain lists with strings of *different* lengths, so you\n",
    "won't have to deal with multiple strings of the same length.\n"
   ]
  },
  {
   "cell_type": "code",
   "execution_count": null,
   "id": "c37cf3ee",
   "metadata": {},
   "outputs": [],
   "source": [
    "def sort_by length(lst_of_strs):\n",
    "    for i in lst_of_strs:\n",
    "        abc = "
   ]
  },
  {
   "cell_type": "code",
   "execution_count": 162,
   "id": "8e59ba79",
   "metadata": {},
   "outputs": [
    {
     "data": {
      "text/plain": [
       "['Apple', 'Google', 'Microsoft']"
      ]
     },
     "execution_count": 162,
     "metadata": {},
     "output_type": "execute_result"
    }
   ],
   "source": [
    "def sort_by_length(abc):\n",
    "    cdf = sorted([len(val) for val in abc])\n",
    "    cbd = []\n",
    "    for i,j in enumerate(abc):\n",
    "        cbd.append([len(j),j])\n",
    "    return (list(dict(sorted(cbd)).values()))\n",
    "abc = [\"Apple\", \"Google\", \"Microsoft\"]\n",
    "sort_by_length(abc)"
   ]
  },
  {
   "cell_type": "code",
   "execution_count": 163,
   "id": "1b75b5f1",
   "metadata": {},
   "outputs": [
    {
     "data": {
      "text/plain": [
       "['Jung', 'Turing', 'Einstein']"
      ]
     },
     "execution_count": 163,
     "metadata": {},
     "output_type": "execute_result"
    }
   ],
   "source": [
    "sort_by_length([\"Turing\", \"Einstein\", \"Jung\"])"
   ]
  },
  {
   "cell_type": "code",
   "execution_count": 164,
   "id": "837e82c5",
   "metadata": {},
   "outputs": [
    {
     "data": {
      "text/plain": [
       "['Raphael', 'Leonardo', 'Donatello', 'Michelangelo']"
      ]
     },
     "execution_count": 164,
     "metadata": {},
     "output_type": "execute_result"
    }
   ],
   "source": [
    "sort_by_length(([\"Leonardo\", \"Michelangelo\", \"Raphael\", \"Donatello\"]))"
   ]
  },
  {
   "cell_type": "markdown",
   "id": "e728c35c",
   "metadata": {},
   "source": [
    "\n",
    "**Q5 Create a function that validates whether three given integers form a\n",
    "Pythagorean triplet. The sum of the squares of the *two smallest\n",
    "integers* must equal the square of the *largest number* to be validated.**\n",
    "\n",
    "### Examples\n",
    "\n",
    "is\\_triplet(3, 4, 5) ➞ True\n",
    "\n",
    "\\# 3² + 4² = 25\n",
    "\n",
    "\\# 5² = 25\n",
    "\n",
    "is\\_triplet(13, 5, 12) ➞ True\n",
    "\n",
    "\\# 5² + 12² = 169\n",
    "\n",
    "\\# 13² = 169\n",
    "\n",
    "is\\_triplet(1, 2, 3) ➞ False\n",
    "\n",
    "\\# 1² + 2² = 5\n",
    "\n",
    "\\# 3² = 9\n",
    "\n",
    "### Notes\n",
    "\n",
    "Numbers may not be given in a sorted order."
   ]
  },
  {
   "cell_type": "code",
   "execution_count": 171,
   "id": "d5554d5e",
   "metadata": {},
   "outputs": [
    {
     "name": "stdout",
     "output_type": "stream",
     "text": [
      "The numbers are Pythagorean Triplet!\n"
     ]
    }
   ],
   "source": [
    "def is_triplet(a,b,c):\n",
    "    abc = [a,b,c]\n",
    "    cbd = max(abc)\n",
    "    abc.pop(abc.index(cbd))\n",
    "    cdf = [val for val in abc if val != cbd]\n",
    "    if (cbd**2 == cdf[0]**2 + cdf[1]**2):\n",
    "        print('The numbers are Pythagorean Triplet!')\n",
    "    else :\n",
    "        print('The numbers are not Pythagorean Triplet!')\n",
    "is_triplet(5,12,13)        "
   ]
  },
  {
   "cell_type": "code",
   "execution_count": 172,
   "id": "8bcae9a4",
   "metadata": {},
   "outputs": [
    {
     "name": "stdout",
     "output_type": "stream",
     "text": [
      "The numbers are not Pythagorean Triplet!\n"
     ]
    }
   ],
   "source": [
    "is_triplet(5,15,13)        "
   ]
  },
  {
   "cell_type": "code",
   "execution_count": 173,
   "id": "15ae4424",
   "metadata": {},
   "outputs": [
    {
     "name": "stdout",
     "output_type": "stream",
     "text": [
      "The numbers are Pythagorean Triplet!\n"
     ]
    }
   ],
   "source": [
    "is_triplet(16, 63, 65)"
   ]
  },
  {
   "cell_type": "code",
   "execution_count": 175,
   "id": "9fcb2975",
   "metadata": {},
   "outputs": [
    {
     "name": "stdout",
     "output_type": "stream",
     "text": [
      "The numbers are Pythagorean Triplet!\n"
     ]
    }
   ],
   "source": [
    "is_triplet(8, 15, 17)"
   ]
  },
  {
   "cell_type": "code",
   "execution_count": 176,
   "id": "0a6f089f",
   "metadata": {},
   "outputs": [
    {
     "name": "stdout",
     "output_type": "stream",
     "text": [
      "The numbers are not Pythagorean Triplet!\n"
     ]
    }
   ],
   "source": [
    "is_triplet(10, 15, 17)"
   ]
  }
 ],
 "metadata": {
  "kernelspec": {
   "display_name": "Python 3 (ipykernel)",
   "language": "python",
   "name": "python3"
  },
  "language_info": {
   "codemirror_mode": {
    "name": "ipython",
    "version": 3
   },
   "file_extension": ".py",
   "mimetype": "text/x-python",
   "name": "python",
   "nbconvert_exporter": "python",
   "pygments_lexer": "ipython3",
   "version": "3.9.12"
  }
 },
 "nbformat": 4,
 "nbformat_minor": 5
}
