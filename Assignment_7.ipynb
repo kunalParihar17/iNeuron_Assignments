{
 "cells": [
  {
   "cell_type": "markdown",
   "id": "21a256ae",
   "metadata": {},
   "source": [
    "**Q1 What is the name of the feature responsible for generating Regex objects?**\n",
    "\n",
    "**Ans**"
   ]
  },
  {
   "cell_type": "markdown",
   "id": "21f4d0b2",
   "metadata": {},
   "source": [
    "The function re.compile() returns regex object "
   ]
  },
  {
   "cell_type": "markdown",
   "id": "f86e9ca3",
   "metadata": {},
   "source": [
    "**Q2 Why do raw strings often appear in Regex objects?**\n",
    "\n",
    "**Ans**"
   ]
  },
  {
   "cell_type": "markdown",
   "id": "9cf8ae68",
   "metadata": {},
   "source": [
    "To prevent the escape of backslashes , Raw strings are used."
   ]
  },
  {
   "cell_type": "markdown",
   "id": "839d61e1",
   "metadata": {},
   "source": [
    "**Q3 What is the return value of the search() method?**\n",
    "\n",
    "**Ans**"
   ]
  },
  {
   "cell_type": "markdown",
   "id": "a8c48c0a",
   "metadata": {},
   "source": [
    "The index position of the first match is returned.\n",
    "\n",
    "The search() returns -1 is no match is found."
   ]
  },
  {
   "cell_type": "markdown",
   "id": "55688eea",
   "metadata": {},
   "source": [
    "**Q4 From a Match item, how do you get the actual strings that match the pattern?**\n",
    "\n",
    "**Ans**\n",
    "\n",
    "The group() method returns strings of the matched text."
   ]
  },
  {
   "cell_type": "markdown",
   "id": "9a0424cc",
   "metadata": {},
   "source": [
    "**Q5\\. In the regex which created from the\n",
    "r'(\\\\d\\\\d\\\\d)-(\\\\d\\\\d\\\\d-\\\\d\\\\d\\\\d\\\\d)', what does group zero cover?\n",
    "Group 2? Group 1?**"
   ]
  },
  {
   "cell_type": "markdown",
   "id": "5a7cbd14",
   "metadata": {},
   "source": [
    "**Ans**"
   ]
  },
  {
   "cell_type": "markdown",
   "id": "edfa8579",
   "metadata": {},
   "source": [
    "r'(\\\\d\\\\d\\\\d)-(\\\\d\\\\d\\\\d-\\\\d\\\\d\\\\d\\\\d)'"
   ]
  },
  {
   "cell_type": "markdown",
   "id": "3c3177a1",
   "metadata": {},
   "source": [
    "Group 0 matches the entire thing,Group 1 covers first set of paranthesis and Group 2 covers only the second set of parentheses."
   ]
  },
  {
   "cell_type": "markdown",
   "id": "4f1aa1ac",
   "metadata": {},
   "source": [
    "**Q6 In standard expression syntax, parentheses and intervals have\n",
    "distinct meanings. How can you tell a regex that you want it to fit real\n",
    "parentheses and periods?**"
   ]
  },
  {
   "cell_type": "markdown",
   "id": "d041e94d",
   "metadata": {},
   "source": [
    "**Ans**\n",
    "\n",
    "Real parentheses and periods can be ecsaped using backslash."
   ]
  },
  {
   "cell_type": "markdown",
   "id": "27fe0862",
   "metadata": {},
   "source": [
    "**Q7 The findall() method returns a string list or a list of string\n",
    "tuples. What causes it to return one of the two options?** \n",
    "\n",
    "**Ans**"
   ]
  },
  {
   "cell_type": "markdown",
   "id": "2d9c68b0",
   "metadata": {},
   "source": [
    "If there are no groups in regex, a list of strings is returned. On the other hand if regex does have groups,a list of tuples of strings will be returned."
   ]
  },
  {
   "cell_type": "markdown",
   "id": "4fa64dd0",
   "metadata": {},
   "source": [
    "**Q8 In standard expressions, what does the \\\\ | character mean?**\n",
    "\n",
    "**Ans**\n",
    "\n",
    "**\\\\ |** This is vertical bar escaping using a backslash to match **'|'**"
   ]
  },
  {
   "cell_type": "markdown",
   "id": "9266607e",
   "metadata": {},
   "source": [
    "**Q9 In regular expressions, what does the character stand for?**\n",
    "\n",
    "**Ans**\n",
    "\n",
    "In regex a character can be a letter,number or an underscore. This can be represented by regex character set [a-zA-Z0-9_] \n"
   ]
  },
  {
   "cell_type": "markdown",
   "id": "dfebf34d",
   "metadata": {},
   "source": [
    "**Q10 In regular expressions, what is the difference between the + and \\*characters?**\n",
    "\n",
    "**Ans**"
   ]
  },
  {
   "cell_type": "markdown",
   "id": "a080a5e1",
   "metadata": {},
   "source": [
    "**' \\* '** is used if **zero** or more has to be matched."
   ]
  },
  {
   "cell_type": "markdown",
   "id": "224efdeb",
   "metadata": {},
   "source": [
    "Lets understand this by an example"
   ]
  },
  {
   "cell_type": "code",
   "execution_count": 101,
   "id": "603ec91a",
   "metadata": {},
   "outputs": [
    {
     "name": "stdout",
     "output_type": "stream",
     "text": [
      "<re.Match object; span=(0, 0), match=''>\n"
     ]
    }
   ],
   "source": [
    "txt = \"abc\"\n",
    "x = re.search(\"[0-9]*\", txt)\n",
    "print(x)"
   ]
  },
  {
   "cell_type": "markdown",
   "id": "bbc52d5d",
   "metadata": {},
   "source": [
    "The above match results in **TRUE** since there are **zero** digits matching."
   ]
  },
  {
   "cell_type": "markdown",
   "id": "6ebee704",
   "metadata": {},
   "source": [
    "**' \\+ '** is used if **one** or more has to be matched."
   ]
  },
  {
   "cell_type": "code",
   "execution_count": 102,
   "id": "00d68f5c",
   "metadata": {},
   "outputs": [
    {
     "name": "stdout",
     "output_type": "stream",
     "text": [
      "None\n"
     ]
    }
   ],
   "source": [
    "# Example\n",
    "\n",
    "txt = \"abc\"\n",
    "x = re.search(\"[0-9]+\", txt)\n",
    "print(x)"
   ]
  },
  {
   "cell_type": "markdown",
   "id": "aca6d643",
   "metadata": {},
   "source": [
    "The above regex gives the outpur as False as **<ins>atleast one digit needed to be matched<ins>**."
   ]
  },
  {
   "cell_type": "markdown",
   "id": "983737fe",
   "metadata": {},
   "source": [
    "**Q11 What is the difference between {4} and {4,5} in regular expression?**\n",
    "\n",
    "**Ans** \n",
    "\n",
    "{4} means matching exactly 4 number of occurences "
   ]
  },
  {
   "cell_type": "code",
   "execution_count": 113,
   "id": "9cf2b572",
   "metadata": {},
   "outputs": [
    {
     "name": "stdout",
     "output_type": "stream",
     "text": [
      "<re.Match object; span=(0, 6), match='Planet'>\n"
     ]
    }
   ],
   "source": [
    "# Example\n",
    "\n",
    "txt = \"Planet earth\"\n",
    "x = re.search(\"Pl.{4}\", txt)\n",
    "print(x)"
   ]
  },
  {
   "cell_type": "markdown",
   "id": "17b9de6d",
   "metadata": {},
   "source": [
    "In the above exaple the sequence which starts with 'Pl', followed exactly by any 4 characters"
   ]
  },
  {
   "cell_type": "markdown",
   "id": "6d122b08",
   "metadata": {},
   "source": [
    "========================================================================================================================"
   ]
  },
  {
   "cell_type": "markdown",
   "id": "dce7ef74",
   "metadata": {},
   "source": [
    "{4,5} means atleast 4 and at most 5 repetitions of the pattern left to it."
   ]
  },
  {
   "cell_type": "code",
   "execution_count": 139,
   "id": "113f0892",
   "metadata": {},
   "outputs": [
    {
     "name": "stdout",
     "output_type": "stream",
     "text": [
      "<re.Match object; span=(0, 8), match='Patterso'>\n"
     ]
    }
   ],
   "source": [
    "# Example\n",
    "\n",
    "txt = \"Patterson James\"\n",
    "x = re.search(\"Pat.{4,5}\", txt)\n",
    "print(x)"
   ]
  },
  {
   "cell_type": "markdown",
   "id": "1e627047",
   "metadata": {},
   "source": [
    "**Q 12 What do you mean by the \\\\d, \\\\w, and \\\\s shorthand character classes signify in regular expressions?**\n",
    "\n",
    "**Ans**\n",
    "\n",
    "\n",
    "**\\\\d :** means match any decimal digit. Also equivalent  to [0-9]\n",
    "\n",
    "**\\\\w :** means match any alphanumeric characters.Equivalent to [a-zA-Z0-9_]. Also underscore **_** is alphanumeric too.\n",
    "\n",
    "**\\\\s :** means match whitespace characters"
   ]
  },
  {
   "cell_type": "markdown",
   "id": "07e484e9",
   "metadata": {},
   "source": [
    "**Q13 What do means by \\\\D, \\\\W, and \\\\S shorthand character classes signify in regular expressions?**\n",
    "\n",
    "**Ans**\n",
    "\n",
    "\n",
    "**\\\\D :** means match any non decimal digit. Also equivalent  to [^0-9]\n",
    "\n",
    "**\\\\W :** means match any non alphanumeric character.Equivalent to [^a-zA-Z0-9_].\n",
    "\n",
    "**\\\\S :** means match non whitespace character.Equivalent to [^ \\t\\n\\r\\f\\v]"
   ]
  },
  {
   "cell_type": "markdown",
   "id": "1a8d3513",
   "metadata": {},
   "source": [
    "**Q15 What is the syntax for matching both numbers and lowercase letters with a character class?**\n",
    "\n",
    "**Ans**\n",
    "\n",
    "[0-9a-zA-Z_]"
   ]
  },
  {
   "cell_type": "markdown",
   "id": "66c93259",
   "metadata": {},
   "source": [
    "**Q16 What is the procedure for making a normal expression in regax case insensitive?**\n",
    "\n",
    "**Ans**\n",
    "\n",
    "The **re.IGNORECASE** can be used to enable case insensitive search in a text. The characters [A-Z] will be considered the same as [a-z] in a string."
   ]
  },
  {
   "cell_type": "markdown",
   "id": "a62d8d28",
   "metadata": {},
   "source": [
    "**Q17 What does the . character normally match? What does it match if re.DOTALL is passed as 2nd argument in re.compile()?**\n",
    "\n",
    "**Ans**"
   ]
  },
  {
   "cell_type": "markdown",
   "id": "497583c6",
   "metadata": {},
   "source": [
    "The dot '.' in regex is a special character that is used to match any one character."
   ]
  },
  {
   "cell_type": "code",
   "execution_count": 142,
   "id": "321a2db9",
   "metadata": {},
   "outputs": [
    {
     "name": "stdout",
     "output_type": "stream",
     "text": [
      "<re.Match object; span=(0, 4), match='STRI'>\n"
     ]
    }
   ],
   "source": [
    "#Example\n",
    "\n",
    "txt = \"STRING ONE\"\n",
    "x = re.search(\"....\", txt)\n",
    "print(x)"
   ]
  },
  {
   "cell_type": "markdown",
   "id": "4829fedb",
   "metadata": {},
   "source": [
    "'....' matches first four characters in the above string"
   ]
  },
  {
   "cell_type": "markdown",
   "id": "59e6dddf",
   "metadata": {},
   "source": [
    "**Q18 If numReg = re.compile(r'\\\\d+'), what will numRegex.sub('X', '11drummers, 10 pipers, five rings, 4 hen') return?**\n",
    "\n",
    "**Ans**"
   ]
  },
  {
   "cell_type": "code",
   "execution_count": 143,
   "id": "673f7603",
   "metadata": {},
   "outputs": [],
   "source": [
    "numReg = re.compile(r'\\d+')"
   ]
  },
  {
   "cell_type": "code",
   "execution_count": 145,
   "id": "a739e9fd",
   "metadata": {},
   "outputs": [
    {
     "data": {
      "text/plain": [
       "'Xdrummers, X pipers, five rings, X hen'"
      ]
     },
     "execution_count": 145,
     "metadata": {},
     "output_type": "execute_result"
    }
   ],
   "source": [
    "numReg.sub('X', '11drummers, 10 pipers, five rings, 4 hen')"
   ]
  },
  {
   "cell_type": "markdown",
   "id": "ca9c0d7f",
   "metadata": {},
   "source": [
    "**Q19 What does passing re.VERBOSE as the 2nd argument to re.compile() allow to do?**\n",
    "\n",
    "**Ans**\n",
    "\n",
    "VERBOSE allows us to write regular expressions that make is better to read them visually by seperating the logical sections of the pattern and add comments.\n",
    "\n",
    "Adding VERBOSE as a second argument ignores comments and whitespaces in the regular expression."
   ]
  },
  {
   "cell_type": "markdown",
   "id": "d27bc58e",
   "metadata": {},
   "source": [
    "**Q20 How would you write a regex that match a number with comma for every three digits? It must match the given following:**\n",
    "\n",
    "'42'\n",
    "\n",
    "'1,234'\n",
    "\n",
    "'6,368,745'\n",
    "\n",
    "but not the following:\n",
    "\n",
    "'12,34,567' (which has only two digits between the commas)\n",
    "\n",
    "'1234' (which lacks commas)"
   ]
  },
  {
   "cell_type": "code",
   "execution_count": 167,
   "id": "43ff468c",
   "metadata": {},
   "outputs": [
    {
     "name": "stdout",
     "output_type": "stream",
     "text": [
      "<re.Match object; span=(0, 9), match='6,368,745'>\n"
     ]
    }
   ],
   "source": [
    "txt = \"6,368,745\"\n",
    "x = re.search(\"(^\\d{1,3}(,\\d{3})*$)\", txt)\n",
    "print(x)"
   ]
  },
  {
   "cell_type": "markdown",
   "id": "267c1d6a",
   "metadata": {},
   "source": [
    "**Q 21 How would you write a regex that matches the full name of someone whose last name is Watanabe? You can assume that the first name that comes before it will always be one word that begins with a capital letter. The regex must match the following:**\n",
    "\n",
    "'Haruto Watanabe'\n",
    "\n",
    "'Alice Watanabe'\n",
    "\n",
    "'RoboCop Watanabe'\n",
    "\n",
    "but not the following:\n",
    "\n",
    "'haruto Watanabe' (where the first name is not capitalized)\n",
    "\n",
    "'Mr. Watanabe' (where the preceding word has a nonletter character)\n",
    "\n",
    "'Watanabe' (which has no first name)\n",
    "\n",
    "'Haruto watanabe' (where Watanabe is not capitalized)**"
   ]
  },
  {
   "cell_type": "code",
   "execution_count": 223,
   "id": "fd16b23a",
   "metadata": {},
   "outputs": [
    {
     "name": "stdout",
     "output_type": "stream",
     "text": [
      "<re.Match object; span=(0, 16), match='RoboCop Watanabe'>\n"
     ]
    }
   ],
   "source": [
    "txt = \"RoboCop Watanabe\"\n",
    "x = re.search(\"[A-Z][A-Za-z]*\\sWatanabe\", txt)\n",
    "print(x)"
   ]
  },
  {
   "cell_type": "markdown",
   "id": "692a6dfb",
   "metadata": {},
   "source": [
    "**Q22 How would you write a regex that matches a sentence where the first word is either Alice, Bob, or Carol; the second word is either eats,pets, or throws; the third word is apples, cats, or baseballs; and the sentence ends with a period? This regex should be case-insensitive. It must match the following:**\n",
    "\n",
    "'Alice eats apples.'\n",
    "\n",
    "'Bob pets cats.'\n",
    "\n",
    "'Carol throws baseballs.'\n",
    "\n",
    "'Alice throws Apples.'\n",
    "\n",
    "'BOB EATS CATS.'\n",
    "\n",
    "but not the following:\n",
    "\n",
    "'RoboCop eats apples.'\n",
    "\n",
    "'ALICE THROWS FOOTBALLS.'\n",
    "\n",
    "'Carol eats 7 cats.'**"
   ]
  },
  {
   "cell_type": "markdown",
   "id": "36e30e76",
   "metadata": {},
   "source": [
    "**Ans**"
   ]
  },
  {
   "cell_type": "code",
   "execution_count": null,
   "id": "4fe40085",
   "metadata": {},
   "outputs": [],
   "source": [
    "re.compile(r'(Alice|Bob|Carol)\\s(eats|pets|throws)\\ s(apples|cats|baseballs)\\.', re.IGNORECASE)"
   ]
  },
  {
   "cell_type": "code",
   "execution_count": null,
   "id": "a154002d",
   "metadata": {},
   "outputs": [],
   "source": []
  }
 ],
 "metadata": {
  "kernelspec": {
   "display_name": "Python 3 (ipykernel)",
   "language": "python",
   "name": "python3"
  },
  "language_info": {
   "codemirror_mode": {
    "name": "ipython",
    "version": 3
   },
   "file_extension": ".py",
   "mimetype": "text/x-python",
   "name": "python",
   "nbconvert_exporter": "python",
   "pygments_lexer": "ipython3",
   "version": "3.9.12"
  }
 },
 "nbformat": 4,
 "nbformat_minor": 5
}
