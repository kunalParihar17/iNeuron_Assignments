{
 "cells": [
  {
   "cell_type": "markdown",
   "id": "1a58db89",
   "metadata": {},
   "source": []
  },
  {
   "cell_type": "markdown",
   "id": "65ddc94c",
   "metadata": {},
   "source": [
    "**Q1 Write a function that takes a list and a number as arguments. Add the\n",
    "number to the end of the list, then remove the first element of the\n",
    "list. The function should then return the updated list.**\n",
    "\n",
    "**Examples**\n",
    "\n",
    "next\\_in\\_line(\\[5, 6, 7, 8, 9\\], 1) ➞ \\[6, 7, 8, 9, 1\\]\n",
    "\n",
    "next\\_in\\_line(\\[7, 6, 3, 23, 17\\], 10) ➞ \\[6, 3, 23, 17, 10\\]\n",
    "\n",
    "next\\_in\\_line(\\[1, 10, 20, 42 \\], 6) ➞ \\[10, 20, 42, 6\\]\n",
    "\n",
    "next\\_in\\_line(\\[\\], 6) ➞ \"No list has been selected\"\n"
   ]
  },
  {
   "cell_type": "code",
   "execution_count": 28,
   "id": "abe64635",
   "metadata": {},
   "outputs": [],
   "source": [
    "def update_list(list,i):\n",
    "    list.append(i)\n",
    "    list.pop(list.index(list[0]))\n",
    "#     list_a = list_a.append(i)\n",
    "#     list_a = list_a.pop(list.index(i))\n",
    "    return list"
   ]
  },
  {
   "cell_type": "code",
   "execution_count": 33,
   "id": "760684bb",
   "metadata": {},
   "outputs": [
    {
     "data": {
      "text/plain": [
       "[6, 7, 8, 9, 1]"
      ]
     },
     "execution_count": 33,
     "metadata": {},
     "output_type": "execute_result"
    }
   ],
   "source": [
    "update_list([5, 6, 7, 8, 9], 1)"
   ]
  },
  {
   "cell_type": "code",
   "execution_count": 30,
   "id": "b0402c4f",
   "metadata": {},
   "outputs": [
    {
     "data": {
      "text/plain": [
       "[6, 3, 23, 17, 10]"
      ]
     },
     "execution_count": 30,
     "metadata": {},
     "output_type": "execute_result"
    }
   ],
   "source": [
    "update_list([7, 6, 3, 23, 17],10)"
   ]
  },
  {
   "cell_type": "markdown",
   "id": "6c2c6246",
   "metadata": {},
   "source": [
    "**Q2 Create the function that takes a list of dictionaries and returns the\n",
    "sum of people's budgets.**\n",
    "\n",
    "### Examples\n",
    "\n",
    "get\\_budgets(\\[\n",
    "\n",
    "{ \"name\": \"John\", \"age\": 21, \"budget\": 23000 },\n",
    "\n",
    "{ \"name\": \"Steve\", \"age\": 32, \"budget\": 40000 },\n",
    "\n",
    "{ \"name\": \"Martin\", \"age\": 16, \"budget\": 2700 }\n",
    "\n",
    "\\]) ➞ 65700\n",
    "\n",
    "get\\_budgets(\\[\n",
    "\n",
    "{ \"name\": \"John\", \"age\": 21, \"budget\": 29000 },\n",
    "\n",
    "{ \"name\": \"Steve\", \"age\": 32, \"budget\": 32000 },\n",
    "\n",
    "{ \"name\": \"Martin\", \"age\": 16, \"budget\": 1600 }\n",
    "\n",
    "\\]) ➞ 62600\n"
   ]
  },
  {
   "cell_type": "code",
   "execution_count": 72,
   "id": "ffa09f97",
   "metadata": {},
   "outputs": [],
   "source": [
    "def sum_of_dict(list_of_dicts):\n",
    "    abc = []\n",
    "    for i in range(len(list_of_dicts)):\n",
    "        abc.append(list_of_dicts[i]['budget'])\n",
    "    print('The sum of Budgets is',sum(abc))   "
   ]
  },
  {
   "cell_type": "code",
   "execution_count": 73,
   "id": "69defbc4",
   "metadata": {},
   "outputs": [],
   "source": [
    "get_budgets_a = ([\n",
    "\n",
    "{ \"name\": \"John\", \"age\": 21, \"budget\": 23000 },\n",
    "\n",
    "{ \"name\": \"Steve\", \"age\": 32, \"budget\": 40000 },\n",
    "\n",
    "{ \"name\": \"Martin\", \"age\": 16, \"budget\": 2700 }\n",
    "\n",
    "]) \n",
    "\n",
    "get_budgets_b = ([\n",
    "\n",
    "{ \"name\": \"John\", \"age\": 21, \"budget\": 29000 },\n",
    "\n",
    "{ \"name\": \"Steve\", \"age\": 32, \"budget\": 32000 },\n",
    "\n",
    "{ \"name\": \"Martin\", \"age\": 16, \"budget\": 1600 }\n",
    "\n",
    "]) \n",
    "\n"
   ]
  },
  {
   "cell_type": "code",
   "execution_count": 74,
   "id": "1b10a85f",
   "metadata": {},
   "outputs": [
    {
     "name": "stdout",
     "output_type": "stream",
     "text": [
      "The sum of Budgets is 65700\n"
     ]
    }
   ],
   "source": [
    "sum_of_dict(get_budgets_a)"
   ]
  },
  {
   "cell_type": "code",
   "execution_count": 75,
   "id": "f78df957",
   "metadata": {},
   "outputs": [
    {
     "name": "stdout",
     "output_type": "stream",
     "text": [
      "The sum of Budgets is 62600\n"
     ]
    }
   ],
   "source": [
    "sum_of_dict(get_budgets_b)"
   ]
  },
  {
   "cell_type": "markdown",
   "id": "3476b255",
   "metadata": {},
   "source": [
    "**Q3 Create a function that takes a string and returns a string with its\n",
    "letters in alphabetical order.**\n",
    "\n",
    "### Examples\n",
    "\n",
    "alphabet\\_soup(\"hello\") ➞ \"ehllo\"\n",
    "\n",
    "alphabet\\_soup(\"edabit\") ➞ \"abdeit\"\n",
    "\n",
    "alphabet\\_soup(\"hacker\") ➞ \"acehkr\"\n",
    "\n",
    "alphabet\\_soup(\"geek\") ➞ \"eegk\"\n",
    "\n",
    "alphabet\\_soup(\"javascript\") ➞ \"aacijprstv\"\n",
    "\n"
   ]
  },
  {
   "cell_type": "code",
   "execution_count": 10,
   "id": "fb29d9f5",
   "metadata": {},
   "outputs": [
    {
     "name": "stdout",
     "output_type": "stream",
     "text": [
      "Enter The string\n",
      "hello\n",
      "ehllo\n"
     ]
    }
   ],
   "source": [
    "def rev_str():\n",
    "    string = str(input('Enter The string\\n'))\n",
    "    string = [val for val in string]\n",
    "    print(''.join(sorted(string)))\n",
    "rev_str()    \n",
    "    "
   ]
  },
  {
   "cell_type": "code",
   "execution_count": 11,
   "id": "dd6dab7d",
   "metadata": {},
   "outputs": [
    {
     "name": "stdout",
     "output_type": "stream",
     "text": [
      "Enter The string\n",
      "edabit\n",
      "abdeit\n"
     ]
    }
   ],
   "source": [
    "rev_str()"
   ]
  },
  {
   "cell_type": "markdown",
   "id": "d72943f1",
   "metadata": {},
   "source": [
    "**Q4 Suppose that you invest $10,000 for 10 years at an interest rate of 6%\n",
    "compounded monthly. What will be the value of your investment at the end\n",
    "of the 10 year period?**\n",
    "\n",
    "**Create a function that accepts the principal p, the term in years t, the\n",
    "interest rate r, and the number of compounding periods per year n. The\n",
    "function returns the value at the end of term rounded to the nearest\n",
    "cent.**\n",
    "\n",
    "For the example above:\n",
    "\n",
    "compound\\_interest(10000, 10, 0.06, 12) ➞ 18193.97\n",
    "\n",
    "Note that the interest rate is given as a decimal and n=12 because with\n",
    "monthly compounding there are 12 periods per year. Compounding can also\n",
    "be done annually, quarterly, weekly, or daily.\n",
    "\n",
    "### Examples\n",
    "\n",
    "compound\\_interest(100, 1, 0.05, 1) ➞ 105.0\n",
    "\n",
    "compound\\_interest(3500, 15, 0.1, 4) ➞ 15399.26\n",
    "\n",
    "compound\\_interest(100000, 20, 0.15, 365) ➞ 2007316.26\n",
    "\n"
   ]
  },
  {
   "cell_type": "code",
   "execution_count": 27,
   "id": "f052be17",
   "metadata": {},
   "outputs": [
    {
     "name": "stdout",
     "output_type": "stream",
     "text": [
      "Enter the principle \n",
      "10000\n",
      "Enter the tenure\n",
      "5\n",
      "Enter the interest rate\n",
      "10.25\n",
      "The Compound interest is 16288.946267774416\n"
     ]
    }
   ],
   "source": [
    "def comp_int():\n",
    "    principle = int(input('Enter the principle \\n'))\n",
    "    tenure = int(input('Enter the tenure\\n'))\n",
    "    rate = float(input('Enter the interest rate\\n'))\n",
    "    amount = principle * (pow((1 + rate / 100), tenure))\n",
    "    print('The Compound interest is',amount)\n",
    "comp_int()    "
   ]
  },
  {
   "cell_type": "markdown",
   "id": "0eed4a57",
   "metadata": {},
   "source": [
    "**Q5 Write a function that takes a list of elements and returns only the\n",
    "integers.**\n",
    "\n",
    "### Examples\n",
    "\n",
    "return\\_only\\_integer(\\[9, 2, \"space\", \"car\", \"lion\", 16\\]) ➞ \\[9, 2,\n",
    "16\\]\n",
    "\n",
    "return\\_only\\_integer(\\[\"hello\", 81, \"basketball\", 123, \"fox\"\\]) ➞ \\[81,\n",
    "123\\]\n",
    "\n",
    "return\\_only\\_integer(\\[10, \"121\", 56, 20, \"car\", 3, \"lion\"\\]) ➞ \\[10,\n",
    "56, 20, 3\\]\n",
    "\n",
    "return\\_only\\_integer(\\[\"String\", True, 3.3, 1\\]) ➞ \\[1\\]"
   ]
  },
  {
   "cell_type": "code",
   "execution_count": 28,
   "id": "ed80de0f",
   "metadata": {},
   "outputs": [
    {
     "data": {
      "text/plain": [
       "[2, 3, 4, 123]"
      ]
     },
     "execution_count": 28,
     "metadata": {},
     "output_type": "execute_result"
    }
   ],
   "source": [
    "def return_only_integer(list_a):\n",
    "    abc = [val for val in list_a if type(val)==int]\n",
    "    return (abc)\n",
    "return_only_integer([2,3,4,'Jack',123,'max'])"
   ]
  },
  {
   "cell_type": "code",
   "execution_count": 29,
   "id": "90f1c2a9",
   "metadata": {},
   "outputs": [
    {
     "data": {
      "text/plain": [
       "[9, 2, 16]"
      ]
     },
     "execution_count": 29,
     "metadata": {},
     "output_type": "execute_result"
    }
   ],
   "source": [
    "return_only_integer([9, 2, \"space\", \"car\", \"lion\", 16])"
   ]
  },
  {
   "cell_type": "code",
   "execution_count": null,
   "id": "745f1388",
   "metadata": {},
   "outputs": [],
   "source": []
  }
 ],
 "metadata": {
  "kernelspec": {
   "display_name": "Python 3 (ipykernel)",
   "language": "python",
   "name": "python3"
  },
  "language_info": {
   "codemirror_mode": {
    "name": "ipython",
    "version": 3
   },
   "file_extension": ".py",
   "mimetype": "text/x-python",
   "name": "python",
   "nbconvert_exporter": "python",
   "pygments_lexer": "ipython3",
   "version": "3.9.12"
  }
 },
 "nbformat": 4,
 "nbformat_minor": 5
}
