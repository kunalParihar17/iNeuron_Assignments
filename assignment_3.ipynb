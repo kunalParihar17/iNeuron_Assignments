{
 "cells": [
  {
   "cell_type": "markdown",
   "id": "f1dfa057",
   "metadata": {},
   "source": [
    "**Q1. What is the concept of an abstract superclass?**\n",
    "\n",
    "**Ans**\n"
   ]
  },
  {
   "cell_type": "markdown",
   "id": "728db087",
   "metadata": {},
   "source": [
    "The abstract class or a superclass can be thought of as a blueprint for all the other classes. It gives permission to form a set of methords that must be created within any child classes built from the abstract class. A class which contains one or more abstract methods is called an abstract class.\n",
    "\n",
    "Whereas an abstract method is a method that has a declaration but does not have an implementation"
   ]
  },
  {
   "cell_type": "code",
   "execution_count": 3,
   "id": "264e4e38",
   "metadata": {},
   "outputs": [],
   "source": [
    "from football import chelsea, arsenal\n",
    "class soccer(football): # Abstract Class\n",
    "    @abstractmethod\n",
    "    def jabulani(self): # Abstract Method\n",
    "        pass\n",
    "class field(Polygon):\n",
    "    def dimentions(self):  # overriding abstract method in child class feild\n",
    "        print(\"105m long and 68m wid\")\n",
    "class Pentagon(Polygon):\n",
    "    def players(self): # overriding abstract method in child class Pentagon\n",
    "        print(\"Fabregas\")"
   ]
  },
  {
   "cell_type": "markdown",
   "id": "cc48156b",
   "metadata": {},
   "source": [
    "**Q2 What happens when a class statement's top level contains a basic assignment statement?**\n",
    "\n",
    "**Ans**\n"
   ]
  },
  {
   "cell_type": "markdown",
   "id": "bea7b295",
   "metadata": {},
   "source": [
    "When a Class statement's top level contains a basic assignment statement, it is treated as a class attribute or class level variable. The assignment statements in the methords now become the \n",
    "\n",
    "When an instance of a class is created a single copy of class attributes is maintained and shared to all instances of class. where as each instance object maintains its own copy of instance variables."
   ]
  },
  {
   "cell_type": "code",
   "execution_count": 2,
   "id": "6806330f",
   "metadata": {},
   "outputs": [],
   "source": [
    "class Cercopithecidae:\n",
    "    species = 'monkeys' # class attribute\n",
    "    def __init__(self,age,gender):\n",
    "        self.name = age # instance attributes\n",
    "        self.gender = gender"
   ]
  },
  {
   "cell_type": "markdown",
   "id": "619a6e60",
   "metadata": {},
   "source": [
    "**Q3. Why does a class need to manually call a superclass's init method?**"
   ]
  },
  {
   "cell_type": "markdown",
   "id": "cceb4b17",
   "metadata": {},
   "source": [
    "**Ans** \n",
    "\n",
    "If a child class has __init__ method, then it does not inherit the __init__ method of the parent class. The __init__ methord of the child class overrides the one of the parent class.In other words the __init__ method of the child class overrides the __init__ method of the parent class. Hence we manually call a parent superclass's __init__ using super() method"
   ]
  },
  {
   "cell_type": "code",
   "execution_count": 4,
   "id": "c35ceef5",
   "metadata": {},
   "outputs": [
    {
     "name": "stdout",
     "output_type": "stream",
     "text": [
      "{'name': 'Vivek', 'age': 28, 'salary': 20000}\n"
     ]
    }
   ],
   "source": [
    "class Person:\n",
    "    def __init__(self,name,age):\n",
    "        self.name = name\n",
    "        self.age = age       \n",
    "class Employee(Person):\n",
    "    def __init__(self,name,age,salary):\n",
    "        super().__init__(name,age)\n",
    "        self.salary = salary\n",
    "emp_1 = Employee('Paras',38,200000)\n",
    "print(emp_1.__dict__)\n"
   ]
  },
  {
   "cell_type": "markdown",
   "id": "00fc3680",
   "metadata": {},
   "source": [
    "**Q4 How can you augment, instead of completely replacing, an inherited method?**\n",
    "\n",
    "**Ans**"
   ]
  },
  {
   "cell_type": "markdown",
   "id": "3fae5e2a",
   "metadata": {},
   "source": [
    "super() method can be used to augment, instead of completely replacing, an inherited method."
   ]
  },
  {
   "cell_type": "code",
   "execution_count": 5,
   "id": "9fb60d35",
   "metadata": {},
   "outputs": [
    {
     "name": "stdout",
     "output_type": "stream",
     "text": [
      "{'name': 'Vivek', 'gender': 'Male', 'salary': 10000}\n"
     ]
    }
   ],
   "source": [
    "class Person:\n",
    "    def __init__(self,name,gender):\n",
    "        self.name = name\n",
    "        self.gender = gender\n",
    "class Employee(Person):\n",
    "    def __init__(self,name,gender,salary):\n",
    "        super().__init__(name,gender) \n",
    "        self.salary = salary\n",
    "emp_1 = Employee('Vivek','Male',10000)\n",
    "print(emp_1.__dict__)       "
   ]
  },
  {
   "cell_type": "markdown",
   "id": "661c222e",
   "metadata": {},
   "source": [
    "**Q5. How is the local scope of a class different from that of a function?**\n",
    "\n",
    "**Ans**\n"
   ]
  },
  {
   "cell_type": "markdown",
   "id": "efcf1dba",
   "metadata": {},
   "source": [
    "A Variable which is defined inside a function is local to that function. it is accesible from the point at which it is defined until the end of the function, and exists for as long as the function is existing.\n",
    "\n",
    "Similary a variable inside of a class also has a local variable scope. Variables which are defined in the class body (but outside all methods) are called as class level variables or class attributes. they can be referenced by there bare names within the same scope, but they can also be accessed from outside this scope if we use the attribute access operator (.). on a class or an instance of the class."
   ]
  },
  {
   "cell_type": "code",
   "execution_count": 7,
   "id": "d7838978",
   "metadata": {},
   "outputs": [
    {
     "name": "stdout",
     "output_type": "stream",
     "text": [
      "you're name is Mano Vishnu\n",
      "Name varible is not available outside hello function scope\n",
      "HomeSapines\n",
      "HomeSapines\n"
     ]
    }
   ],
   "source": [
    "def hello(name):\n",
    "    name = name\n",
    "    print(f'you\\'re name is {name}')\n",
    "hello('Mano Vishnu')\n",
    "try:\n",
    "    name\n",
    "except NameError:\n",
    "    print('Name varible is not available outside hello function scope')\n",
    "\n",
    "class Person:\n",
    "    species = \"HomeSapines\"\n",
    "    def __init__(self):\n",
    "        pass\n",
    "print(Person.species) # Accessing species using class name\n",
    "Male = Person()\n",
    "print(Male.species) # Accessing species using instance of class\n"
   ]
  },
  {
   "cell_type": "code",
   "execution_count": null,
   "id": "3a4898a0",
   "metadata": {},
   "outputs": [],
   "source": []
  }
 ],
 "metadata": {
  "kernelspec": {
   "display_name": "Python 3 (ipykernel)",
   "language": "python",
   "name": "python3"
  },
  "language_info": {
   "codemirror_mode": {
    "name": "ipython",
    "version": 3
   },
   "file_extension": ".py",
   "mimetype": "text/x-python",
   "name": "python",
   "nbconvert_exporter": "python",
   "pygments_lexer": "ipython3",
   "version": "3.9.12"
  }
 },
 "nbformat": 4,
 "nbformat_minor": 5
}
