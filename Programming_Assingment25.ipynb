{
 "cells": [
  {
   "cell_type": "markdown",
   "id": "82b208e5",
   "metadata": {},
   "source": [
    "**Q1 Create a function that takes three integer arguments (a, b, c) and\n",
    "returns the amount of integers which are of equal value.**\n",
    "\n",
    "**Examples**\n",
    "\n",
    "equal(3, 4, 3) ➞ 2\n",
    "\n",
    "equal(1, 1, 1) ➞ 3\n",
    "\n",
    "equal(3, 4, 1) ➞ 0\n",
    "\n",
    "**Notes**\n",
    "\n",
    "Your function must return 0, 2 or 3."
   ]
  },
  {
   "cell_type": "code",
   "execution_count": 39,
   "id": "5351d360",
   "metadata": {},
   "outputs": [
    {
     "data": {
      "text/plain": [
       "2"
      ]
     },
     "execution_count": 39,
     "metadata": {},
     "output_type": "execute_result"
    }
   ],
   "source": [
    "def equal(a,b,c):\n",
    "    abc = [a,b,c]\n",
    "    cdf = [abc.count(val) for val in abc]\n",
    "    if max(cdf) == 1:\n",
    "        return 0\n",
    "    else:\n",
    "        return max(cdf)\n",
    "equal(2,2,3)"
   ]
  },
  {
   "cell_type": "code",
   "execution_count": 40,
   "id": "f85fc4c0",
   "metadata": {},
   "outputs": [
    {
     "data": {
      "text/plain": [
       "0"
      ]
     },
     "execution_count": 40,
     "metadata": {},
     "output_type": "execute_result"
    }
   ],
   "source": [
    "equal(1,2,3)"
   ]
  },
  {
   "cell_type": "code",
   "execution_count": 41,
   "id": "bba3a71d",
   "metadata": {},
   "outputs": [
    {
     "data": {
      "text/plain": [
       "3"
      ]
     },
     "execution_count": 41,
     "metadata": {},
     "output_type": "execute_result"
    }
   ],
   "source": [
    "equal(4,4,4)"
   ]
  },
  {
   "cell_type": "markdown",
   "id": "b6f3bdb3",
   "metadata": {},
   "source": [
    "**Q Write a function that converts a dictionary into a list of keys-values tuples.**\n",
    "\n",
    "Examples\n",
    "dict_to_list({\n",
    "\n",
    "\"D\": 1,\n",
    "\n",
    "\"B\": 2,\n",
    "\n",
    "\"C\": 3\n",
    "\n",
    "}) ➞ [(\"B\", 2), (\"C\", 3), (\"D\", 1)]\n",
    "\n",
    "dict_to_list({\n",
    "\n",
    "\"likes\": 2,\n",
    "\n",
    "\"dislikes\": 3,\n",
    "\n",
    "\"followers\": 10\n",
    "\n",
    "}) ➞ [(\"dislikes\", 3), (\"followers\", 10), (\"likes\", 2)]\n",
    "\n",
    "Notes\n",
    "Return the elements in the list in alphabetical order."
   ]
  },
  {
   "cell_type": "code",
   "execution_count": 93,
   "id": "aef5e1ca",
   "metadata": {},
   "outputs": [
    {
     "data": {
      "text/plain": [
       "[('B', 2), ('C', 3), ('D', 1)]"
      ]
     },
     "execution_count": 93,
     "metadata": {},
     "output_type": "execute_result"
    }
   ],
   "source": [
    "def dict_to_list(dict_a):\n",
    "    dict_a = list(dict_a.items())\n",
    "    return sorted(dict_a)\n",
    "cdf = {\"B\": 2, \"C\": 3, \"D\": 1}\n",
    "dict_to_list(cdf)"
   ]
  },
  {
   "cell_type": "code",
   "execution_count": 94,
   "id": "bd281e5a",
   "metadata": {},
   "outputs": [
    {
     "data": {
      "text/plain": [
       "[('dislikes', 3), ('followers', 10), ('likes', 2)]"
      ]
     },
     "execution_count": 94,
     "metadata": {},
     "output_type": "execute_result"
    }
   ],
   "source": [
    "ggg = {\n",
    "\n",
    "\"likes\": 2,\n",
    "\n",
    "\"dislikes\": 3,\n",
    "\n",
    "\"followers\": 10\n",
    "\n",
    "}\n",
    "dict_to_list(ggg)"
   ]
  },
  {
   "cell_type": "markdown",
   "id": "185ff671",
   "metadata": {},
   "source": [
    "**Q3 Write a function that creates a dictionary with each **(key, value)**\n",
    "pair being the **(lower case, upper case)** versions of a letter,\n",
    "respectively.**\n",
    "\n",
    "### Examples\n",
    "\n",
    "mapping(\\[\"p\", \"s\"\\]) ➞ { \"p\": \"P\", \"s\": \"S\" }\n",
    "\n",
    "mapping(\\[\"a\", \"b\", \"c\"\\]) ➞ { \"a\": \"A\", \"b\": \"B\", \"c\": \"C\" }\n",
    "\n",
    "mapping(\\[\"a\", \"v\", \"y\", \"z\"\\]) ➞ { \"a\": \"A\", \"v\": \"V\", \"y\": \"Y\", \"z\":\n",
    "\"Z\" }\n",
    "\n",
    "### Notes\n",
    "\n",
    "All of the letters in the input list will always be lowercase.\n",
    "\n"
   ]
  },
  {
   "cell_type": "code",
   "execution_count": 101,
   "id": "9e5cd07d",
   "metadata": {},
   "outputs": [
    {
     "name": "stdout",
     "output_type": "stream",
     "text": [
      "{'p': 'P', 's': 'S'}\n"
     ]
    }
   ],
   "source": [
    "def mapping(inp):\n",
    "    abc = {}\n",
    "    for i in inp:\n",
    "        abc[i] = i.upper()\n",
    "    print(abc)\n",
    "mapping([\"p\",\"s\"])"
   ]
  },
  {
   "cell_type": "code",
   "execution_count": 102,
   "id": "a34a4223",
   "metadata": {},
   "outputs": [
    {
     "name": "stdout",
     "output_type": "stream",
     "text": [
      "{'a': 'A', 'v': 'V', 'y': 'Y', 'z': 'Z'}\n"
     ]
    }
   ],
   "source": [
    "mapping([\"a\", \"v\", \"y\", \"z\"])"
   ]
  },
  {
   "cell_type": "markdown",
   "id": "70682a19",
   "metadata": {},
   "source": [
    "**Q4 Write a function, that replaces all vowels in a string with a specified\n",
    "vowel.**\n",
    "\n",
    "### Examples\n",
    "\n",
    "vow\\_replace(\"apples and bananas\", \"u\") ➞ \"upplus und bununus\"\n",
    "\n",
    "vow\\_replace(\"cheese casserole\", \"o\") ➞ \"chooso cossorolo\"\n",
    "\n",
    "vow\\_replace(\"stuffed jalapeno poppers\", \"e\") ➞ \"steffed jelepene\n",
    "peppers\"\n",
    "\n",
    "### Notes\n",
    "\n",
    "All words will be lowercase. Y is not considered a vowel.\n"
   ]
  },
  {
   "cell_type": "code",
   "execution_count": 104,
   "id": "fd3f14d5",
   "metadata": {},
   "outputs": [
    {
     "name": "stdout",
     "output_type": "stream",
     "text": [
      "steffed jelepene peppers\n"
     ]
    }
   ],
   "source": [
    "def vow_replace(string,char):\n",
    "    string.lower()\n",
    "    abc = []\n",
    "    vowel = ['a','e','i','o','u']\n",
    "    for i in string:\n",
    "        if i in vowel:\n",
    "            abc.append(char)\n",
    "        else:\n",
    "            abc.append(i)\n",
    "    print(''.join(abc))\n",
    "vow_replace(\"stuffed jalapeno poppers\", \"e\")"
   ]
  },
  {
   "cell_type": "code",
   "execution_count": 105,
   "id": "28e608fb",
   "metadata": {},
   "outputs": [
    {
     "name": "stdout",
     "output_type": "stream",
     "text": [
      "chooso cossorolo\n"
     ]
    }
   ],
   "source": [
    "vow_replace(\"cheese casserole\", \"o\")"
   ]
  },
  {
   "cell_type": "markdown",
   "id": "9f143ce4",
   "metadata": {},
   "source": [
    "**Q5 Create a function that takes a string as input and capitalizes a letter\n",
    "if its ASCII code is even and returns its lower case version if its\n",
    "ASCII code is odd.**\n",
    "\n",
    "### Examples\n",
    "\n",
    "ascii\\_capitalize(\"to be or not to be!\") ➞ \"To Be oR NoT To Be!\"\n",
    "\n",
    "ascii\\_capitalize(\"THE LITTLE MERMAID\") ➞ \"THe LiTTLe meRmaiD\"\n",
    "\n",
    "ascii\\_capitalize(\"Oh what a beautiful morning.\") ➞ \"oH wHaT a BeauTiFuL\n",
    "moRNiNg.\""
   ]
  },
  {
   "cell_type": "code",
   "execution_count": 110,
   "id": "32f56bdb",
   "metadata": {},
   "outputs": [
    {
     "name": "stdout",
     "output_type": "stream",
     "text": [
      "oH wHaT a BeauTiFuL moRNiNg.\n"
     ]
    }
   ],
   "source": [
    "def ascii_capitalize(string):\n",
    "    abc = []\n",
    "    for i in string:\n",
    "        if ord(i)%2==0:\n",
    "           abc.append(i.upper())\n",
    "        else:\n",
    "            abc.append(i.lower())\n",
    "    print(''.join(abc))\n",
    "ascii_capitalize(\"Oh what a beautiful morning.\")"
   ]
  },
  {
   "cell_type": "code",
   "execution_count": 107,
   "id": "5ec8caae",
   "metadata": {},
   "outputs": [
    {
     "data": {
      "text/plain": [
       "97"
      ]
     },
     "execution_count": 107,
     "metadata": {},
     "output_type": "execute_result"
    }
   ],
   "source": [
    "ord('a')"
   ]
  },
  {
   "cell_type": "code",
   "execution_count": 111,
   "id": "c3011a6d",
   "metadata": {},
   "outputs": [
    {
     "name": "stdout",
     "output_type": "stream",
     "text": [
      "To Be oR NoT To Be!\n"
     ]
    }
   ],
   "source": [
    "ascii_capitalize(\"to be or not to be!\") "
   ]
  },
  {
   "cell_type": "code",
   "execution_count": 112,
   "id": "18d558db",
   "metadata": {},
   "outputs": [
    {
     "name": "stdout",
     "output_type": "stream",
     "text": [
      "THe LiTTLe meRmaiD\n"
     ]
    }
   ],
   "source": [
    "ascii_capitalize(\"THE LITTLE MERMAID\") "
   ]
  }
 ],
 "metadata": {
  "kernelspec": {
   "display_name": "Python 3 (ipykernel)",
   "language": "python",
   "name": "python3"
  },
  "language_info": {
   "codemirror_mode": {
    "name": "ipython",
    "version": 3
   },
   "file_extension": ".py",
   "mimetype": "text/x-python",
   "name": "python",
   "nbconvert_exporter": "python",
   "pygments_lexer": "ipython3",
   "version": "3.9.12"
  }
 },
 "nbformat": 4,
 "nbformat_minor": 5
}
