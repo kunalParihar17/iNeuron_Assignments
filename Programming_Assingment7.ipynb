{
 "cells": [
  {
   "cell_type": "markdown",
   "id": "94e0e779",
   "metadata": {},
   "source": [
    "**Q1.  Write a Python Program to find sum of array?**\n",
    "\n",
    "**Ans**\n"
   ]
  },
  {
   "cell_type": "code",
   "execution_count": 7,
   "id": "72f98df8",
   "metadata": {},
   "outputs": [
    {
     "data": {
      "text/plain": [
       "10"
      ]
     },
     "execution_count": 7,
     "metadata": {},
     "output_type": "execute_result"
    }
   ],
   "source": [
    "import array \n",
    "sum=0\n",
    "array = [1,2,3,4]\n",
    "for i in array:\n",
    "    sum = sum+i\n",
    "sum    "
   ]
  },
  {
   "cell_type": "markdown",
   "id": "a02fb704",
   "metadata": {},
   "source": [
    "**Q2.  Write a Python Program to find largest element in an array?**\n",
    "\n",
    "**Ans**\n"
   ]
  },
  {
   "cell_type": "code",
   "execution_count": 8,
   "id": "e607cd9a",
   "metadata": {},
   "outputs": [
    {
     "name": "stdout",
     "output_type": "stream",
     "text": [
      "1135\n"
     ]
    }
   ],
   "source": [
    "array = [23,34,2,234,1135]\n",
    "print(max(array))"
   ]
  },
  {
   "cell_type": "markdown",
   "id": "9b24a7b6",
   "metadata": {},
   "source": [
    "**Q3.  Write a Python Program for array rotation?**\n",
    "\n",
    "**Ans**\n"
   ]
  },
  {
   "cell_type": "code",
   "execution_count": 19,
   "id": "c5fb0c06",
   "metadata": {},
   "outputs": [],
   "source": [
    "arr = [1,23,3,2124,2]"
   ]
  },
  {
   "cell_type": "code",
   "execution_count": 20,
   "id": "1a19401b",
   "metadata": {},
   "outputs": [],
   "source": [
    "def rotate_array(arr,d):\n",
    "    n=len(arr)\n",
    "    temp = []\n",
    "    i = 0\n",
    "    while (i < d):\n",
    "        temp.append(arr[i])\n",
    "        i = i + 1\n",
    "    i = 0\n",
    "    while (d < n):\n",
    "        arr[i] = arr[d]\n",
    "        i = i + 1\n",
    "        d = d + 1\n",
    "    arr[:] = arr[: i] + temp\n",
    "    return arr"
   ]
  },
  {
   "cell_type": "code",
   "execution_count": 21,
   "id": "b862b1cd",
   "metadata": {},
   "outputs": [
    {
     "name": "stdout",
     "output_type": "stream",
     "text": [
      "[3, 2124, 2, 1, 23]\n"
     ]
    }
   ],
   "source": [
    "print(rotate_array(arr,2))"
   ]
  },
  {
   "cell_type": "markdown",
   "id": "4d40997b",
   "metadata": {},
   "source": [
    "**Q4.  Write a Python Program to Split the array and add the first part to\n",
    "    the end?**\n"
   ]
  },
  {
   "cell_type": "code",
   "execution_count": 2,
   "id": "77a769b4",
   "metadata": {},
   "outputs": [
    {
     "name": "stdout",
     "output_type": "stream",
     "text": [
      "15 16 50 36 15 40 "
     ]
    }
   ],
   "source": [
    "def SplitArray(arr, n, k):\n",
    "    for i in range(0, k):\n",
    "        x = arr[0]\n",
    "        for j in range(0, n-1):\n",
    "            arr[j] = arr[j + 1]\n",
    "        \n",
    "        arr[n-1] = x\n",
    "arr = [15, 40, 15, 16, 50, 36]\n",
    "n = len(arr)\n",
    "position = 2\n",
    "SplitArray(arr, n, position)\n",
    "for i in range(0, n):\n",
    "    print(arr[i], end = ' ')"
   ]
  },
  {
   "cell_type": "markdown",
   "id": "7a7c2aeb",
   "metadata": {},
   "source": [
    "**Q5.  Write a Python Program to check if given array is Monotonic?**\n",
    "\n",
    "**Ans**"
   ]
  },
  {
   "cell_type": "code",
   "execution_count": 3,
   "id": "ffcddde4",
   "metadata": {},
   "outputs": [],
   "source": [
    "def check(arr):\n",
    "    N = len(arr)\n",
    "    inc = True\n",
    "    dec = True\n",
    "     \n",
    "    for i in range(0, N-1):\n",
    "        if arr[i] > arr[i+1]:\n",
    "            inc = False\n",
    "    for i in range(0, N-1):\n",
    "        if arr[i] < arr[i+1]:\n",
    "            dec = False\n",
    "    return inc or dec"
   ]
  },
  {
   "cell_type": "code",
   "execution_count": 5,
   "id": "e37a787d",
   "metadata": {},
   "outputs": [
    {
     "data": {
      "text/plain": [
       "True"
      ]
     },
     "execution_count": 5,
     "metadata": {},
     "output_type": "execute_result"
    }
   ],
   "source": [
    "check([1,2,3,4])"
   ]
  },
  {
   "cell_type": "code",
   "execution_count": 6,
   "id": "c541d3e7",
   "metadata": {},
   "outputs": [
    {
     "data": {
      "text/plain": [
       "False"
      ]
     },
     "execution_count": 6,
     "metadata": {},
     "output_type": "execute_result"
    }
   ],
   "source": [
    "check([1,21,33,4])"
   ]
  },
  {
   "cell_type": "code",
   "execution_count": 7,
   "id": "88780e7c",
   "metadata": {},
   "outputs": [
    {
     "data": {
      "text/plain": [
       "True"
      ]
     },
     "execution_count": 7,
     "metadata": {},
     "output_type": "execute_result"
    }
   ],
   "source": [
    "check([1,21,33,42])"
   ]
  },
  {
   "cell_type": "code",
   "execution_count": 8,
   "id": "30dea405",
   "metadata": {},
   "outputs": [
    {
     "data": {
      "text/plain": [
       "True"
      ]
     },
     "execution_count": 8,
     "metadata": {},
     "output_type": "execute_result"
    }
   ],
   "source": [
    "check([121,111,33,4])"
   ]
  },
  {
   "cell_type": "code",
   "execution_count": null,
   "id": "496af309",
   "metadata": {},
   "outputs": [],
   "source": []
  }
 ],
 "metadata": {
  "kernelspec": {
   "display_name": "Python 3 (ipykernel)",
   "language": "python",
   "name": "python3"
  },
  "language_info": {
   "codemirror_mode": {
    "name": "ipython",
    "version": 3
   },
   "file_extension": ".py",
   "mimetype": "text/x-python",
   "name": "python",
   "nbconvert_exporter": "python",
   "pygments_lexer": "ipython3",
   "version": "3.9.12"
  }
 },
 "nbformat": 4,
 "nbformat_minor": 5
}
