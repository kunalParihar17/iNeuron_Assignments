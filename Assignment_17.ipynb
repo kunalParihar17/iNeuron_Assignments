{
 "cells": [
  {
   "cell_type": "markdown",
   "id": "dba99a58",
   "metadata": {},
   "source": [
    "**Q1. Assign the value 7 to the variable guess\\_me. Then, write the\n",
    "conditional tests (if, else, and elif) to print the string 'too low' if\n",
    "guess\\_me is less than 7, 'too high' if greater than 7, and 'just right'\n",
    "if equal to 7.**\n",
    "\n",
    "\n",
    "**Ans**"
   ]
  },
  {
   "cell_type": "code",
   "execution_count": 6,
   "id": "ce5e247c",
   "metadata": {},
   "outputs": [
    {
     "name": "stdout",
     "output_type": "stream",
     "text": [
      "just right\n"
     ]
    }
   ],
   "source": [
    "guess_me = 7\n",
    "\n",
    "if guess_me< 7:\n",
    "    print('too low')\n",
    "elif guess_me>7:\n",
    "    print('too high')\n",
    "else : print('just right')    "
   ]
  },
  {
   "cell_type": "markdown",
   "id": "ddefb240",
   "metadata": {},
   "source": [
    "**Q2 Assign the value 7 to the variable guess\\_me and the value 1 to the\n",
    "variable start. Write a while loop that compares start with guess\\_me.\n",
    "Print too low if start is less than guess me. If start equals guess\\_me,\n",
    "print 'found it!' and exit the loop. If start is greater than guess\\_me,\n",
    "print 'oops' and exit the loop. Increment start at the end of the loop.**\n",
    "\n",
    "**Ans**\n"
   ]
  },
  {
   "cell_type": "code",
   "execution_count": 41,
   "id": "683e71f2",
   "metadata": {},
   "outputs": [
    {
     "name": "stdout",
     "output_type": "stream",
     "text": [
      "too low\n",
      "too low\n",
      "too low\n",
      "too low\n",
      "too low\n",
      "too low\n",
      "too low\n",
      "found it!\n"
     ]
    }
   ],
   "source": [
    "guess_me = 10\n",
    "start = 3\n",
    "while True:\n",
    "    if start<guess_me:\n",
    "        print('too low')\n",
    "    elif (start == guess_me):\n",
    "        print('found it!')\n",
    "        break\n",
    "    else : \n",
    "        print('oops')\n",
    "        break\n",
    "    start +=1    "
   ]
  },
  {
   "cell_type": "markdown",
   "id": "1d5586a2",
   "metadata": {},
   "source": [
    "**Q3 Print the following values of the list \\[3, 2, 1, 0\\] using a for\n",
    "loop.**\n",
    "\n",
    "**Ans**\n"
   ]
  },
  {
   "cell_type": "code",
   "execution_count": 42,
   "id": "74c37b80",
   "metadata": {},
   "outputs": [
    {
     "name": "stdout",
     "output_type": "stream",
     "text": [
      "3\n",
      "2\n",
      "1\n",
      "0\n"
     ]
    }
   ],
   "source": [
    "a = [3,2,1,0]\n",
    "for i in a:\n",
    "    print(i)"
   ]
  },
  {
   "cell_type": "markdown",
   "id": "43173dc1",
   "metadata": {},
   "source": [
    "**Q4 Use a list comprehension to make a list of the even numbers in\n",
    "range(10)**\n",
    "\n",
    "**Ans**\n"
   ]
  },
  {
   "cell_type": "code",
   "execution_count": 50,
   "id": "8b4d1317",
   "metadata": {},
   "outputs": [
    {
     "data": {
      "text/plain": [
       "[2, 4, 6, 8, 10]"
      ]
     },
     "execution_count": 50,
     "metadata": {},
     "output_type": "execute_result"
    }
   ],
   "source": [
    "random_list = [1,2,3,4,5,6,7,8,9,10]\n",
    "even_list = [num for num in random_list if num%2==0]\n",
    "even_list"
   ]
  },
  {
   "cell_type": "code",
   "execution_count": 110,
   "id": "0cc04a36",
   "metadata": {},
   "outputs": [],
   "source": [
    "nums = [i for i in range(1,1001)]\n",
    "string = \"Practice Problems to Drill List Comprehension in Your Head.\""
   ]
  },
  {
   "cell_type": "markdown",
   "id": "e32601ce",
   "metadata": {},
   "source": [
    "Use a nested list comprehension to find all of the numbers from 1–1000 that are divisible by any single digit besides 1 (2–9)"
   ]
  },
  {
   "cell_type": "markdown",
   "id": "48099939",
   "metadata": {},
   "source": [
    "**Q5 Use a dictionary comprehension to create the dictionary squares. Use\n",
    "range(10) to return the keys, and use the square of each key as its\n",
    "value.**\n",
    "\n",
    "**Ans**"
   ]
  },
  {
   "cell_type": "code",
   "execution_count": 111,
   "id": "37800b8a",
   "metadata": {},
   "outputs": [],
   "source": [
    "q6_answer = {word:len(word) for word in words}"
   ]
  },
  {
   "cell_type": "code",
   "execution_count": 122,
   "id": "d3255bbd",
   "metadata": {},
   "outputs": [
    {
     "data": {
      "text/plain": [
       "[1, 2, 3, 4, 5, 6, 7, 8, 9, 10]"
      ]
     },
     "execution_count": 122,
     "metadata": {},
     "output_type": "execute_result"
    }
   ],
   "source": [
    "listofnumbers = [i for i in range(1,11)]\n",
    "listofnumbers"
   ]
  },
  {
   "cell_type": "code",
   "execution_count": 123,
   "id": "101f6696",
   "metadata": {},
   "outputs": [
    {
     "data": {
      "text/plain": [
       "{1: 1, 2: 4, 3: 9, 4: 16, 5: 25, 6: 36, 7: 49, 8: 64, 9: 81, 10: 100}"
      ]
     },
     "execution_count": 123,
     "metadata": {},
     "output_type": "execute_result"
    }
   ],
   "source": [
    "var = {num:num**2 for num in listofnumbers}\n",
    "var"
   ]
  },
  {
   "cell_type": "markdown",
   "id": "6d53913a",
   "metadata": {},
   "source": [
    "**Q6 Construct the set odd from the odd numbers in the range using a set\n",
    "comprehension (10).**\n",
    "\n",
    "**Ans**\n"
   ]
  },
  {
   "cell_type": "code",
   "execution_count": 126,
   "id": "1135ce19",
   "metadata": {},
   "outputs": [
    {
     "data": {
      "text/plain": [
       "{1, 3, 5, 7, 9}"
      ]
     },
     "execution_count": 126,
     "metadata": {},
     "output_type": "execute_result"
    }
   ],
   "source": [
    "odd = {num for num in listofnumbers if num%2==1}\n",
    "odd"
   ]
  },
  {
   "cell_type": "markdown",
   "id": "77f567f3",
   "metadata": {},
   "source": [
    "**Q7 Use a generator comprehension to return the string 'Got ' and a\n",
    "number for the numbers in range(10). Iterate through this by using a for\n",
    "loop.**\n",
    "\n",
    "**Ans**"
   ]
  },
  {
   "cell_type": "code",
   "execution_count": 130,
   "id": "40759258",
   "metadata": {},
   "outputs": [
    {
     "name": "stdout",
     "output_type": "stream",
     "text": [
      "['Got 1', 'Got 2', 'Got 3', 'Got 4', 'Got 5', 'Got 6', 'Got 7', 'Got 8', 'Got 9', 'Got 10']\n"
     ]
    }
   ],
   "source": [
    "listofnumbers = [i for i in range(1,11)]\n",
    "generator = ['Got ' + str(num) for num in listofnumbers]\n",
    "print(generator)"
   ]
  },
  {
   "cell_type": "markdown",
   "id": "9c973546",
   "metadata": {},
   "source": [
    "**Q8 Define a function called good that returns the list \\['Harry',\n",
    "'Ron', 'Hermione'\\].**\n",
    "\n",
    "**Ans**\n"
   ]
  },
  {
   "cell_type": "code",
   "execution_count": 144,
   "id": "b95bec8a",
   "metadata": {},
   "outputs": [],
   "source": [
    "def good():\n",
    "    return ['harry','Ron','Hermione']"
   ]
  },
  {
   "cell_type": "code",
   "execution_count": 145,
   "id": "56e8a968",
   "metadata": {},
   "outputs": [
    {
     "data": {
      "text/plain": [
       "['harry', 'Ron', 'Hermione']"
      ]
     },
     "execution_count": 145,
     "metadata": {},
     "output_type": "execute_result"
    }
   ],
   "source": [
    "good()"
   ]
  },
  {
   "cell_type": "markdown",
   "id": "ba5c6bce",
   "metadata": {},
   "source": [
    "**Q9 Define a generator function called get\\_odds that returns the odd\n",
    "numbers from range(10). Use a for loop to find and print the third value\n",
    "returned.**\n",
    "\n",
    "**Ans**"
   ]
  },
  {
   "cell_type": "code",
   "execution_count": 202,
   "id": "531aa764",
   "metadata": {},
   "outputs": [
    {
     "name": "stdout",
     "output_type": "stream",
     "text": [
      "1\n",
      "3\n",
      "5\n",
      "7\n",
      "9\n"
     ]
    }
   ],
   "source": [
    "def get_odds():\n",
    "    yield (n for n in range(10) if n % 2 != 0)\n",
    "for n in next(get_odds()):\n",
    "    print(n)"
   ]
  },
  {
   "cell_type": "markdown",
   "id": "8b67e3e4",
   "metadata": {},
   "source": [
    "**Q10 Define an exception called OopsException. Raise this exception to\n",
    "see what happens. Then write the code to catch this exception and print\n",
    "'Caught an oops'.**\n",
    "\n",
    "**Ans**"
   ]
  },
  {
   "cell_type": "code",
   "execution_count": 190,
   "id": "a8585041",
   "metadata": {},
   "outputs": [
    {
     "name": "stdout",
     "output_type": "stream",
     "text": [
      "Caught an oops\n"
     ]
    }
   ],
   "source": [
    "class OopsException(Exception):\n",
    "    pass\n",
    "\n",
    "\n",
    "def with_exception(a):\n",
    "    if a < 0:\n",
    "        raise OopsException(a)\n",
    "\n",
    "\n",
    "try:\n",
    "    with_exception(-1)\n",
    "except OopsException as err:\n",
    "    print('Caught an oops')\n"
   ]
  },
  {
   "cell_type": "markdown",
   "id": "ec027896",
   "metadata": {},
   "source": [
    "**Q11 Use zip() to make a dictionary called movies that pairs these\n",
    "lists: titles = \\['Creature of Habit', 'Crewel Fate'\\] and plots = \\['A\n",
    "nun turns into a monster', 'A haunted yarn shop'\\].**\n",
    "                                                                     \n",
    "**Ans**                                                                     "
   ]
  },
  {
   "cell_type": "code",
   "execution_count": 196,
   "id": "776512d9",
   "metadata": {},
   "outputs": [
    {
     "data": {
      "text/plain": [
       "{'Creature of Habit': 'A nun turns into a monster',\n",
       " 'Crewel Fate': 'A haunted yarn shop'}"
      ]
     },
     "execution_count": 196,
     "metadata": {},
     "output_type": "execute_result"
    }
   ],
   "source": [
    "titles = ['Creature of Habit', 'Crewel Fate'] \n",
    "plots = ['A nun turns into a monster', 'A haunted yarn shop']\n",
    "\n",
    "movies = dict(zip(titles,plots))\n",
    "movies"
   ]
  }
 ],
 "metadata": {
  "kernelspec": {
   "display_name": "Python 3 (ipykernel)",
   "language": "python",
   "name": "python3"
  },
  "language_info": {
   "codemirror_mode": {
    "name": "ipython",
    "version": 3
   },
   "file_extension": ".py",
   "mimetype": "text/x-python",
   "name": "python",
   "nbconvert_exporter": "python",
   "pygments_lexer": "ipython3",
   "version": "3.9.12"
  }
 },
 "nbformat": 4,
 "nbformat_minor": 5
}
