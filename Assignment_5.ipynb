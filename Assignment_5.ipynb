{
 "cells": [
  {
   "cell_type": "markdown",
   "id": "b46d4970",
   "metadata": {},
   "source": [
    "**Q1 What does an empty dictionary's code look like?**\n",
    "\n",
    "**Ans** "
   ]
  },
  {
   "cell_type": "markdown",
   "id": "e4870876",
   "metadata": {},
   "source": [
    "An empty dictonary is created by assigning no elements in curly brackets{}."
   ]
  },
  {
   "cell_type": "code",
   "execution_count": 4,
   "id": "2ba30027",
   "metadata": {},
   "outputs": [],
   "source": [
    "empty_dict = {}"
   ]
  },
  {
   "cell_type": "markdown",
   "id": "e1d98b0d",
   "metadata": {},
   "source": [
    "**Q2 What is the value of a dictionary value with the key 'foo' and the value 42?**\n",
    "\n",
    "**Ans**"
   ]
  },
  {
   "cell_type": "code",
   "execution_count": 5,
   "id": "3da5ec43",
   "metadata": {},
   "outputs": [],
   "source": [
    "dict_1 = {'foo':42}"
   ]
  },
  {
   "cell_type": "code",
   "execution_count": 7,
   "id": "551b16a7",
   "metadata": {},
   "outputs": [
    {
     "data": {
      "text/plain": [
       "{'foo': 42}"
      ]
     },
     "execution_count": 7,
     "metadata": {},
     "output_type": "execute_result"
    }
   ],
   "source": [
    "dict_1"
   ]
  },
  {
   "cell_type": "markdown",
   "id": "45642550",
   "metadata": {},
   "source": [
    "**Q3 What is the most significant distinction between a dictionary and a list?**\n",
    "\n",
    "**Ans**\n",
    "\n",
    "A list contains a sequence of objects in an order and manner that we can index through or iterate over the elements.\n",
    "Most significant difference is dictonary contains 'key-value' pairs unlike lists where there are just elements. It is an implementation of a hash table."
   ]
  },
  {
   "cell_type": "markdown",
   "id": "d6d5710e",
   "metadata": {},
   "source": [
    "**Q4 What happens if you try to access spam\\['foo'\\] if spam is {'bar':100}?**\n",
    "\n",
    "\n",
    "**Ans**"
   ]
  },
  {
   "cell_type": "code",
   "execution_count": 8,
   "id": "779adcd3",
   "metadata": {},
   "outputs": [],
   "source": [
    "spam = {'bar':100}"
   ]
  },
  {
   "cell_type": "code",
   "execution_count": 10,
   "id": "d9907dff",
   "metadata": {},
   "outputs": [
    {
     "data": {
      "text/plain": [
       "100"
      ]
     },
     "execution_count": 10,
     "metadata": {},
     "output_type": "execute_result"
    }
   ],
   "source": [
    "spam['bar']"
   ]
  },
  {
   "cell_type": "markdown",
   "id": "793f340d",
   "metadata": {},
   "source": [
    "Since the key 'foo' does now exist in the dictonary 'spam', the compiler will throw an error as shown in the below example."
   ]
  },
  {
   "cell_type": "code",
   "execution_count": 11,
   "id": "076b29c1",
   "metadata": {},
   "outputs": [
    {
     "ename": "KeyError",
     "evalue": "'foo'",
     "output_type": "error",
     "traceback": [
      "\u001b[1;31m---------------------------------------------------------------------------\u001b[0m",
      "\u001b[1;31mKeyError\u001b[0m                                  Traceback (most recent call last)",
      "Input \u001b[1;32mIn [11]\u001b[0m, in \u001b[0;36m<cell line: 1>\u001b[1;34m()\u001b[0m\n\u001b[1;32m----> 1\u001b[0m \u001b[43mspam\u001b[49m\u001b[43m[\u001b[49m\u001b[38;5;124;43m'\u001b[39;49m\u001b[38;5;124;43mfoo\u001b[39;49m\u001b[38;5;124;43m'\u001b[39;49m\u001b[43m]\u001b[49m\n",
      "\u001b[1;31mKeyError\u001b[0m: 'foo'"
     ]
    }
   ],
   "source": [
    "spam['foo']"
   ]
  },
  {
   "cell_type": "markdown",
   "id": "fe885425",
   "metadata": {},
   "source": [
    "**Q5 If a dictionary is stored in spam, what is the difference between the expressions 'cat' in spam and 'cat' in spam.keys()?**\n",
    "\n",
    "**Ans** \n",
    "\n",
    "Cat in spam.keys() checks if there is a key called 'cat' exists in the dictonary 'spam'.\n",
    "While cat in spam.values() gives the value the key is associated with."
   ]
  },
  {
   "cell_type": "markdown",
   "id": "a722c783",
   "metadata": {},
   "source": [
    "**Q7 What is a shortcut for the following code?**"
   ]
  },
  {
   "cell_type": "markdown",
   "id": "97fe5351",
   "metadata": {},
   "source": [
    "if 'color' not in spam:\n",
    "\n",
    "spam\\['color'\\] = 'black'"
   ]
  },
  {
   "cell_type": "code",
   "execution_count": 17,
   "id": "abe0c814",
   "metadata": {},
   "outputs": [
    {
     "data": {
      "text/plain": [
       "'black'"
      ]
     },
     "execution_count": 17,
     "metadata": {},
     "output_type": "execute_result"
    }
   ],
   "source": [
    "spam.setdefault(\"color\", \"black\")\n",
    "\n",
    "#The setdefault() method returns the value of the item with the specified key.\n",
    "#If the key does not exist, insert the key, with the specified value, see example below\n",
    "#Reference : https://www.w3schools.com/python/ref_dictionary_setdefault.asp"
   ]
  },
  {
   "cell_type": "markdown",
   "id": "dfce5f66",
   "metadata": {},
   "source": [
    "**Q8 How do you \"pretty print\" dictionary values using which module and\n",
    "function?**"
   ]
  },
  {
   "cell_type": "code",
   "execution_count": 18,
   "id": "2efc6b43",
   "metadata": {},
   "outputs": [],
   "source": [
    "# Pretty printing helps present data in a more readable format or style "
   ]
  },
  {
   "cell_type": "markdown",
   "id": "f2174650",
   "metadata": {},
   "source": [
    "The module used to pretty print dictonary values is **pprint**. Within this module we can use function with the same name **pprint** which can be used to pretty print the given string or object."
   ]
  },
  {
   "cell_type": "markdown",
   "id": "dab7042c",
   "metadata": {},
   "source": [
    "Array of dictonaries"
   ]
  },
  {
   "cell_type": "code",
   "execution_count": 25,
   "id": "8d9c1577",
   "metadata": {},
   "outputs": [],
   "source": [
    "dictonary_array = [\n",
    "    {'trust':20,'self_love':30,'listening':10,'compromise':40},\n",
    "    {'engine':30,'tyres':10,'steering':20,'trunk':40},\n",
    "    {'monitor':10,'cpu':40,'ram':20,'mouse':22},\n",
    "    {'Deloitte':20,'EY':20,'KPMG':20,'PwC':20}\n",
    "]"
   ]
  },
  {
   "cell_type": "code",
   "execution_count": 28,
   "id": "cb0826cc",
   "metadata": {},
   "outputs": [
    {
     "data": {
      "text/plain": [
       "[{'trust': 20, 'self_love': 30, 'listening': 10, 'compromise': 40},\n",
       " {'engine': 30, 'tyres': 10, 'steering': 20, 'trunk': 40},\n",
       " {'monitor': 10, 'cpu': 40, 'ram': 20, 'mouse': 22},\n",
       " {'Deloitte': 20, 'EY': 20, 'KPMG': 20, 'PwC': 20}]"
      ]
     },
     "execution_count": 28,
     "metadata": {},
     "output_type": "execute_result"
    }
   ],
   "source": [
    "dictonary_array"
   ]
  },
  {
   "cell_type": "code",
   "execution_count": 27,
   "id": "e03f113a",
   "metadata": {},
   "outputs": [
    {
     "name": "stdout",
     "output_type": "stream",
     "text": [
      "[{'compromise': 40, 'listening': 10, 'self_love': 30, 'trust': 20},\n",
      " {'engine': 30, 'steering': 20, 'trunk': 40, 'tyres': 10},\n",
      " {'cpu': 40, 'monitor': 10, 'mouse': 22, 'ram': 20},\n",
      " {'Deloitte': 20, 'EY': 20, 'KPMG': 20, 'PwC': 20}]\n"
     ]
    }
   ],
   "source": [
    "import pprint \n",
    "pprint.pprint(dictonary_array)"
   ]
  },
  {
   "cell_type": "code",
   "execution_count": null,
   "id": "365718b2",
   "metadata": {},
   "outputs": [],
   "source": []
  }
 ],
 "metadata": {
  "kernelspec": {
   "display_name": "Python 3 (ipykernel)",
   "language": "python",
   "name": "python3"
  },
  "language_info": {
   "codemirror_mode": {
    "name": "ipython",
    "version": 3
   },
   "file_extension": ".py",
   "mimetype": "text/x-python",
   "name": "python",
   "nbconvert_exporter": "python",
   "pygments_lexer": "ipython3",
   "version": "3.9.12"
  }
 },
 "nbformat": 4,
 "nbformat_minor": 5
}
