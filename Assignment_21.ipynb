{
 "cells": [
  {
   "cell_type": "markdown",
   "id": "cd663146",
   "metadata": {},
   "source": [
    "**Q1 Add the current date to the text file today.txt as a string.**\n",
    "\n",
    "**Ans**\n"
   ]
  },
  {
   "cell_type": "code",
   "execution_count": 1,
   "id": "cb0ea01b",
   "metadata": {},
   "outputs": [],
   "source": [
    "from datetime import date\n",
    "now = date.today()\n",
    "now_str = now.isoformat()\n",
    "with open('today', 'wt') as output:\n",
    "    print(now_str, file=output)"
   ]
  },
  {
   "cell_type": "markdown",
   "id": "7ec062b4",
   "metadata": {},
   "source": [
    "**Q2 Read the text file today.txt into the string today\\_string**\n",
    "\n",
    "**Ans**\n"
   ]
  },
  {
   "cell_type": "code",
   "execution_count": 2,
   "id": "c4a6127c",
   "metadata": {},
   "outputs": [
    {
     "data": {
      "text/plain": [
       "'2022-07-04\\n'"
      ]
     },
     "execution_count": 2,
     "metadata": {},
     "output_type": "execute_result"
    }
   ],
   "source": [
    "with open('today', 'rt') as input:\n",
    "    today_string = input.read()\n",
    "today_string"
   ]
  },
  {
   "cell_type": "markdown",
   "id": "e9084e06",
   "metadata": {},
   "source": [
    "**Q3 Parse the date from today\\_string.**\n",
    "\n",
    "**Ans**\n"
   ]
  },
  {
   "cell_type": "code",
   "execution_count": 10,
   "id": "89d95826",
   "metadata": {},
   "outputs": [],
   "source": [
    "import time\n",
    "from time import strptime "
   ]
  },
  {
   "cell_type": "code",
   "execution_count": 11,
   "id": "3202cf35",
   "metadata": {},
   "outputs": [
    {
     "data": {
      "text/plain": [
       "datetime.datetime(2014, 2, 4, 0, 0)"
      ]
     },
     "execution_count": 11,
     "metadata": {},
     "output_type": "execute_result"
    }
   ],
   "source": [
    "fmt = '%Y-%m-%d\\n'\n",
    "time.strptime(today_string, fmt)\n",
    "datetime.datetime(2014, 2, 4, 0, 0)"
   ]
  },
  {
   "cell_type": "markdown",
   "id": "8d04b76d",
   "metadata": {},
   "source": [
    "**Q4 List the files in your current directory**\n",
    "\n",
    "**Ans**\n"
   ]
  },
  {
   "cell_type": "code",
   "execution_count": 12,
   "id": "2c249c9f",
   "metadata": {},
   "outputs": [
    {
     "data": {
      "text/plain": [
       "['.ipynb_checkpoints',\n",
       " 'Assignment_1.ipynb',\n",
       " 'Assignment_10.ipynb',\n",
       " 'Assignment_11.ipynb',\n",
       " 'Assignment_12.ipynb',\n",
       " 'Assignment_13.ipynb',\n",
       " 'Assignment_14.ipynb',\n",
       " 'Assignment_15.ipynb',\n",
       " 'Assignment_16.ipynb',\n",
       " 'Assignment_17.ipynb',\n",
       " 'Assignment_18.ipynb',\n",
       " 'Assignment_19.ipynb',\n",
       " 'Assignment_2.ipynb',\n",
       " 'Assignment_20.ipynb',\n",
       " 'Assignment_21.ipynb',\n",
       " 'Assignment_22.ipynb',\n",
       " 'Assignment_3.ipynb',\n",
       " 'Assignment_4.ipynb',\n",
       " 'Assignment_5.ipynb',\n",
       " 'Assignment_6.ipynb',\n",
       " 'Assignment_7.ipynb',\n",
       " 'Assignment_8.ipynb',\n",
       " 'Assignment_9.ipynb',\n",
       " 'books.csv',\n",
       " 'books.db',\n",
       " 'programLog.txt',\n",
       " 'text.txt',\n",
       " 'today',\n",
       " 'Zophie.jpg']"
      ]
     },
     "execution_count": 12,
     "metadata": {},
     "output_type": "execute_result"
    }
   ],
   "source": [
    "import os\n",
    "os.listdir('.')"
   ]
  },
  {
   "cell_type": "markdown",
   "id": "0baea17d",
   "metadata": {},
   "source": [
    "**Q5 Create a list of all of the files in your parent directory (minimum\n",
    "five files should be available).**\n",
    "\n",
    "**Ans**"
   ]
  },
  {
   "cell_type": "code",
   "execution_count": 17,
   "id": "cf63cec7",
   "metadata": {},
   "outputs": [
    {
     "data": {
      "text/plain": [
       "['iNeuron Assignments', 'ML 1', 'ML 3', 'ML 4', 'ML2']"
      ]
     },
     "execution_count": 17,
     "metadata": {},
     "output_type": "execute_result"
    }
   ],
   "source": [
    "import os\n",
    "os.listdir('..')"
   ]
  },
  {
   "cell_type": "markdown",
   "id": "00bbd556",
   "metadata": {},
   "source": [
    "**Q6 Use multiprocessing to create three separate processes. Make each\n",
    "one wait a random number of seconds between one and five, print the\n",
    "current time, and then exit.**\n",
    "\n",
    "**Ans**\n"
   ]
  },
  {
   "cell_type": "code",
   "execution_count": 30,
   "id": "a0d4ecb9",
   "metadata": {},
   "outputs": [
    {
     "name": "stdout",
     "output_type": "stream",
     "text": [
      "Done\n"
     ]
    }
   ],
   "source": [
    "from multiprocessing import Process\n",
    "def halfit(x):\n",
    "    from time import sleep\n",
    "#     sleep(3)\n",
    "    for x in my_numbers:\n",
    "        print('%s half is %s' % (x, x/2))\n",
    "\n",
    "def doubleit(x):\n",
    "#     sleep(4)\n",
    "    for x in my_numbers:\n",
    "        print('%s is double of %s' % (2*x,x))\n",
    "\n",
    "def cuberoot(x):\n",
    "#     sleep(5)\n",
    "    for x in my_numbers:\n",
    "        print('%s is the cuberoot of %s ' % (x ** (1. / 3),x))\n",
    "if __name__ == '__main__':\n",
    "      my_numbers = [3, 4, 5, 6, 7, 8]\n",
    "      my_process1 = Process(target=halfit, args=('x',))\n",
    "      my_process2 = Process(target=doubleit, args=('x',))\n",
    "      my_process3 = Process(target=cuberoot, args=('x',))\n",
    "      my_process1.start()\n",
    "      my_process2.start()\n",
    "      my_process3.start()\n",
    "      my_process1.join()\n",
    "      my_process2.join()\n",
    "      my_process3.join()    \n",
    "      print (\"Done\")"
   ]
  },
  {
   "cell_type": "markdown",
   "id": "89bdf064",
   "metadata": {},
   "source": [
    "**Q7 Create a date object of your day of birth.**\n",
    "\n",
    "**Ans**\n"
   ]
  },
  {
   "cell_type": "code",
   "execution_count": 34,
   "id": "7cf6d527",
   "metadata": {},
   "outputs": [],
   "source": [
    "birth_date = datetime.datetime(int(year), int(month), int(day))"
   ]
  },
  {
   "cell_type": "markdown",
   "id": "bf89b2c3",
   "metadata": {},
   "source": [
    "**Q8 What day of the week was your day of birth?**\n",
    "\n",
    "**Ans**\n"
   ]
  },
  {
   "cell_type": "code",
   "execution_count": null,
   "id": "5acdae68",
   "metadata": {},
   "outputs": [],
   "source": [
    "day_of_birth = get_birthday(birth_date) "
   ]
  },
  {
   "cell_type": "markdown",
   "id": "397607e1",
   "metadata": {},
   "source": [
    "**Q9 When will you be (or when were you) 10,000 days old?**\n",
    "\n",
    "**Ans**"
   ]
  },
  {
   "cell_type": "code",
   "execution_count": 43,
   "id": "62541665",
   "metadata": {},
   "outputs": [
    {
     "data": {
      "text/plain": [
       "datetime.date(2021, 9, 2)"
      ]
     },
     "execution_count": 43,
     "metadata": {},
     "output_type": "execute_result"
    }
   ],
   "source": [
    "from datetime import timedelta,date\n",
    "my_bday = date(1994, 4, 17)\n",
    "b_day = my_bday + timedelta(days=10000)\n",
    "b_day"
   ]
  }
 ],
 "metadata": {
  "kernelspec": {
   "display_name": "Python 3 (ipykernel)",
   "language": "python",
   "name": "python3"
  },
  "language_info": {
   "codemirror_mode": {
    "name": "ipython",
    "version": 3
   },
   "file_extension": ".py",
   "mimetype": "text/x-python",
   "name": "python",
   "nbconvert_exporter": "python",
   "pygments_lexer": "ipython3",
   "version": "3.9.12"
  }
 },
 "nbformat": 4,
 "nbformat_minor": 5
}
