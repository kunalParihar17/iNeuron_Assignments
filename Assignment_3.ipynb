{
 "cells": [
  {
   "cell_type": "markdown",
   "id": "65849802",
   "metadata": {},
   "source": [
    "**Q1. Why are functions advantageous to have in your programs?**\n",
    "\n",
    "\n",
    "**Ans** Functions does not let us make duplicate codes. Due to this programs are shorter,easier to read and update.\n",
    "       It breaks a large progam into small groups which makes it easier to remove the bugs quickly. It lets us call same methord but wigth different inputs."
   ]
  },
  {
   "cell_type": "markdown",
   "id": "f228e0bf",
   "metadata": {},
   "source": [
    "**Q2 When does the code in a function run: when it's specified or when it's called?**\n",
    "\n",
    "**Ans** The code in the function only executes whrn it is called and not when it is defined"
   ]
  },
  {
   "cell_type": "markdown",
   "id": "65c83aef",
   "metadata": {},
   "source": [
    "**Q3 What statement creates a function?**\n",
    "\n",
    "**Ans** A function can begin parenthes.esy using the keyword **def** followed by the name of the function and the parentheses.\n",
    "The parentheses hold the input parameters or arguments. The code block in an function starts with a  colon **(:)**.\n",
    "The **return** keyword exits a function and has an option to pass an expression. "
   ]
  },
  {
   "cell_type": "markdown",
   "id": "ee63a57c",
   "metadata": {},
   "source": [
    "**Q4 What is the difference between a function and a function call?**"
   ]
  },
  {
   "cell_type": "code",
   "execution_count": 5,
   "id": "ea14acd3",
   "metadata": {},
   "outputs": [],
   "source": [
    "#  Ans A function block does a particular operation and gives a result or an output. Input parameters are passed to obtain a result.\n",
    "\n",
    "#   Example       \n",
    "#         def this_function():                ## function defination\n",
    "  \n",
    "#             print(\"How you doin\")\n",
    "\n",
    "#         this_function()                      ## calling a function\n",
    "\n",
    "\n",
    "#  Where as a **function call** is used to give control to a function.\n",
    "\n",
    "#  Example\n",
    "\n",
    "#          def this_function():\n",
    "#              print(\"How you doin\")\n",
    "##\n",
    "#          this_function()                     ## calling a function\n"
   ]
  },
  {
   "cell_type": "markdown",
   "id": "6ddc7741",
   "metadata": {},
   "source": [
    "**Q5. How many global scopes are there in a Python program? How many local scopes?**\n",
    "\n",
    "\n",
    "**Ans** \n",
    "\n",
    "There is only one global scope for every python program execution. The scope remains until it terminates and all the names are forgotten.\n",
    "\n",
    "A variable put inside a function is said to be local scope variable of that function and can only be used inside that function.\n",
    "It is created at function call and not at the definition of function. Hence there are as many different local scopes as there are function calls."
   ]
  },
  {
   "cell_type": "markdown",
   "id": "467ea431",
   "metadata": {},
   "source": [
    "**Q6 What happens to variables in a local scope when the function call returns?**\n"
   ]
  },
  {
   "cell_type": "markdown",
   "id": "685f5ab1",
   "metadata": {},
   "source": [
    "**Ans**\n",
    "\n",
    "If a variable is defined inside a function it becomes local to that function. It can be accessed since its defining until the end of the function and exists as long as the function is executing.\n",
    "\n",
    "When the function call returns and output is given by the function, the variables cease to exist. If called outside the local scope they will throw an error."
   ]
  },
  {
   "cell_type": "markdown",
   "id": "bd1b05ab",
   "metadata": {},
   "source": [
    "**Q7 What is the concept of a return value? Is it possible to have a return value in an expression?**\n",
    "\n",
    "**Ans** \n",
    "\n",
    "A function takes some value as **Argument(s)**, does some operation on them and returns a value. That value that a function returns is known as return value. \n",
    "\n",
    "\n",
    "**Yes** it is possible to have a return value in an expression.\n",
    "\n",
    "Example\n",
    "\n",
    "def get_even(numbers):\n",
    "\n",
    "> even_number = [num for num in numbers if not num % 2]\n",
    "\n",
    "> return even_number\n",
    "...\n",
    "\n",
    "def get_even(numbers):\n",
    ">return [num for num in numbers if not num % 2]\n",
    "\n",
    "get_even([1, 2, 3, 4, 5, 6])\n",
    "\n",
    "Output\n",
    "\n",
    "[2, 4, 6]"
   ]
  },
  {
   "cell_type": "code",
   "execution_count": null,
   "id": "f081a3fd",
   "metadata": {},
   "outputs": [],
   "source": [
    "Yes "
   ]
  },
  {
   "cell_type": "markdown",
   "id": "c615211f",
   "metadata": {},
   "source": [
    "**Q 8 If a function does not have a return statement, what is the return value of a call to that function?**\n",
    "\n",
    "\n",
    "**Ans** \n",
    "\n",
    "If there is no retuen statemnet in the function defination,control is returned to the function after the last line of the function is executed. In this case the return value is undefined.\n",
    "\n",
    "If there is no return type ,the compiler understands that the default return type is int is a default return type of int.\n",
    "\n",
    "\n",
    "\n",
    "void report_square( arg ):\n",
    "\n",
    ">>int value = INT_MAX\n",
    "\n",
    ">>squared = square( arg )\n",
    "\n",
    ">>print( squared )\n",
    "\n",
    "\n",
    "\n",
    "// Use an empty expression to return void.\n",
    "}"
   ]
  },
  {
   "cell_type": "markdown",
   "id": "b6e7b023",
   "metadata": {},
   "source": [
    "**Q9 How do you make a function variable refer to the global variable?**\n",
    "\n",
    "\n",
    "**Ans** \n",
    "\n",
    "milk_value = 2\n",
    "\n",
    "def cake(ingri_1,ingri_2,ingri_3):\n",
    "\n",
    "> total_quan = (milk_value * ingri_1) + ingri_2\n",
    "\n",
    ">return total_quan\n",
    "\n",
    "milk_value is a Global variable accessable the function 'cake'"
   ]
  },
  {
   "cell_type": "markdown",
   "id": "9e7c5f13",
   "metadata": {},
   "source": [
    "**Q10 What is the data type of None?**\n",
    "\n",
    "\n",
    "**Ans**  \n",
    "\n",
    "**None** it is a keyword used to define a **null** value or **no value** at all.\n",
    "\n",
    "It is of **NoneType** as a datatype. It is the same as False.\n"
   ]
  },
  {
   "cell_type": "markdown",
   "id": "2d5d20e4",
   "metadata": {},
   "source": [
    "**Q11 What does the sentence import areallyourpetsnamederic do?**"
   ]
  },
  {
   "cell_type": "markdown",
   "id": "3cda33f6",
   "metadata": {},
   "source": [
    "**Ans** \n",
    "\n",
    "This import statement **imports** the **areallyourpetsnamederic** **module**. \n",
    "\n",
    "Although its not a real module."
   ]
  },
  {
   "cell_type": "markdown",
   "id": "04068b4b",
   "metadata": {},
   "source": [
    "**Q12 If you had a bacon() feature in a spam module, what would you call it after importing spam?**\n",
    "\n",
    "**Ans**\n",
    "\n",
    "form spam import bacon "
   ]
  },
  {
   "cell_type": "markdown",
   "id": "9291b855",
   "metadata": {},
   "source": [
    "**Q13 What can you do to save a programme from crashing if it encounters an error?**\n",
    "\n",
    "**Ans**\n",
    "\n",
    "If there is a block of code that has the chances of failing , we can bypass it by using the keywords 'try' and 'except'\n",
    "\n",
    "try:\n",
    ">x = int(input(\"Enter a number: \"))\n",
    "\n",
    ">y = 120 / x\n",
    "\n",
    "except ValueError:\n",
    "\n",
    ">print(\"Error Encountered\")\n",
    "\n",
    "except ZeroDivisionError:\n",
    "\n",
    ">print(\"Division by Zero!\")\n",
    "\n",
    "except Exception:\n",
    "\n",
    ">print(\"Error!!!!\")\n"
   ]
  },
  {
   "cell_type": "markdown",
   "id": "7cec0b4f",
   "metadata": {},
   "source": [
    "The Execution\n",
    "- Statement with 'try' keyword is executed\n",
    "- If the above is executed without an error ,both the 'except' and 'finally' keywords are **not** executed. Compiller skips through these clauses.\n",
    "- If the code in 'try' encountes an error, the code block in the first 'except'gets executed.If this statement encounters an error due to value error(non digit not converted to an int) 'Expert ValueError' block is executed.\n",
    "- If the code block inside 'try' fails and the error is not a valueError,the second except code block is executed. If it fails due to 'ZeroDivisionError'(ie division by zero),the code inside the except ZeroDivisionError block is executed.\n"
   ]
  },
  {
   "cell_type": "markdown",
   "id": "27639654",
   "metadata": {},
   "source": [
    "**Q14 What is the purpose of the try clause? What is the purpose of the\n",
    "except clause?**"
   ]
  },
  {
   "cell_type": "markdown",
   "id": "2f7e6e2f",
   "metadata": {},
   "source": [
    "**Ans** \n",
    "\n",
    "\n",
    "To test a block of code for errors **try** is used while the **except** block enables the user to handle the error.\n",
    "\n",
    ">while True:\n",
    ">>try:\n",
    "\n",
    ">>>x = int(input(\"Please enter a number: \"))\n",
    "\n",
    ">>>break\n",
    "\n",
    ">>except ValueError:\n",
    "\n",
    ">>>print(\"Invalid Number,Please Try again\")\n",
    "\n"
   ]
  }
 ],
 "metadata": {
  "kernelspec": {
   "display_name": "Python 3 (ipykernel)",
   "language": "python",
   "name": "python3"
  },
  "language_info": {
   "codemirror_mode": {
    "name": "ipython",
    "version": 3
   },
   "file_extension": ".py",
   "mimetype": "text/x-python",
   "name": "python",
   "nbconvert_exporter": "python",
   "pygments_lexer": "ipython3",
   "version": "3.9.12"
  }
 },
 "nbformat": 4,
 "nbformat_minor": 5
}
