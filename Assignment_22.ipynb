{
 "cells": [
  {
   "cell_type": "markdown",
   "id": "f0e41cb3",
   "metadata": {},
   "source": [
    "**Q1 What is the result of the code, and explain?**\n",
    "\n",
    "**Ans**"
   ]
  },
  {
   "cell_type": "code",
   "execution_count": 1,
   "id": "7693f470",
   "metadata": {},
   "outputs": [
    {
     "name": "stdout",
     "output_type": "stream",
     "text": [
      "iNeuron\n"
     ]
    }
   ],
   "source": [
    "X = 'iNeuron'\n",
    "\n",
    "def func():\n",
    "\n",
    "    print(X)\n",
    "\n",
    "func()"
   ]
  },
  {
   "cell_type": "markdown",
   "id": "396d63de",
   "metadata": {},
   "source": [
    "The above code contains a function that prints the value of variable 'X'.\n",
    "A string is passed in the variable which is given as the output by the function."
   ]
  },
  {
   "cell_type": "markdown",
   "id": "931f4f42",
   "metadata": {},
   "source": [
    "**Q2 What is the result of the code, and explain?**\n",
    "\n",
    "**Ans**"
   ]
  },
  {
   "cell_type": "code",
   "execution_count": 8,
   "id": "c9d297a9",
   "metadata": {},
   "outputs": [
    {
     "name": "stdout",
     "output_type": "stream",
     "text": [
      "iNeuron\n"
     ]
    }
   ],
   "source": [
    "X = 'iNeuron'\n",
    "\n",
    "def func():\n",
    "\n",
    "    X = 'NI!'\n",
    "func()\n",
    "\n",
    "print(X)"
   ]
  },
  {
   "cell_type": "markdown",
   "id": "1b314f77",
   "metadata": {},
   "source": [
    "**Q3\\. What does this code print, and why?**\n",
    "\n",
    "**Ans**"
   ]
  },
  {
   "cell_type": "code",
   "execution_count": 9,
   "id": "45896732",
   "metadata": {},
   "outputs": [
    {
     "name": "stdout",
     "output_type": "stream",
     "text": [
      "NI\n",
      "iNeuron\n"
     ]
    }
   ],
   "source": [
    "X = 'iNeuron'\n",
    "\n",
    "def func():\n",
    "\n",
    "    X = 'NI'\n",
    "\n",
    "    print(X)\n",
    "\n",
    "func()\n",
    "\n",
    "print(X)\n"
   ]
  },
  {
   "cell_type": "markdown",
   "id": "a3597bd4",
   "metadata": {},
   "source": [
    "1) Variable x is given the value of string 'iNeuron\n",
    "\n",
    "2) Function is defined which returns as a print of the value of 'X'. The output is 'NI' as the local variable X = 'NI' is given preference over the Global variable X = 'Ineuron'\n",
    "\n",
    "3) Finally a simple print statement 'print(X)' prints the value of X as 'iNeuron' since the global variable X = 'iNeuron' is accessable."
   ]
  },
  {
   "cell_type": "markdown",
   "id": "594d4778",
   "metadata": {},
   "source": [
    "**Q4 What output does this code produce? Why?**\n",
    "\n",
    "**Ans**"
   ]
  },
  {
   "cell_type": "code",
   "execution_count": 10,
   "id": "a0fc4316",
   "metadata": {},
   "outputs": [
    {
     "name": "stdout",
     "output_type": "stream",
     "text": [
      "NI\n"
     ]
    }
   ],
   "source": [
    "X = 'iNeuron'\n",
    "\n",
    "def func():\n",
    "\n",
    "    global X\n",
    "\n",
    "    X = 'NI'\n",
    "\n",
    "func()\n",
    "\n",
    "print(X)"
   ]
  },
  {
   "cell_type": "markdown",
   "id": "42e5a99b",
   "metadata": {},
   "source": [
    "If a variable is assigned a value anywhere within the function’s body, it’s assumed to be a local unless explicitly declared as global."
   ]
  },
  {
   "cell_type": "markdown",
   "id": "25d75491",
   "metadata": {},
   "source": [
    "**global X** assigns the value of **iNeuron** to the variable **X** as it is declared as a **global** variable"
   ]
  },
  {
   "cell_type": "markdown",
   "id": "394afca2",
   "metadata": {},
   "source": [
    "**Q5 What about this code—what’s the output, and why?**\n",
    "\n",
    "**Ans**"
   ]
  },
  {
   "cell_type": "code",
   "execution_count": 15,
   "id": "d6e51d34",
   "metadata": {},
   "outputs": [
    {
     "name": "stdout",
     "output_type": "stream",
     "text": [
      "NI\n"
     ]
    }
   ],
   "source": [
    "X = 'iNeuron'#1\n",
    "def func():    #2\n",
    "    X = 'NI'      #3\n",
    "\n",
    "    def nested():   #4\n",
    "\n",
    "        print(X) #5\n",
    "\n",
    "    nested() # 6\n",
    "\n",
    "func() #7\n"
   ]
  },
  {
   "cell_type": "markdown",
   "id": "895a3c17",
   "metadata": {},
   "source": [
    "1) The value of X is 'iNeuron' (line 1)\n",
    "\n",
    "2) func() is defined (line 2) which is called at line (7)\n",
    "\n",
    "2) As function 'func()' is defined it contains the local variable x = 'NI' (Line 5)\n",
    "\n",
    "3) 'nested()' is defined (line 6) and print(X) is executed. This prints the value 'NI' since it is locally assigned to 'X' (line 3)\n"
   ]
  },
  {
   "cell_type": "markdown",
   "id": "54b61f04",
   "metadata": {},
   "source": [
    "**Q6 How about this code: what is its output in Python 3, and explain?**\n",
    "    \n",
    "**Ans**    "
   ]
  },
  {
   "cell_type": "code",
   "execution_count": 19,
   "id": "ba93bcbe",
   "metadata": {},
   "outputs": [
    {
     "name": "stdout",
     "output_type": "stream",
     "text": [
      "Spam\n"
     ]
    }
   ],
   "source": [
    "def func():              # 1\n",
    "\n",
    "    X = 'NI'             # 2\n",
    "\n",
    "    def nested():        # 3\n",
    "\n",
    "        nonlocal X       # 4 \n",
    "\n",
    "        X = 'Spam'       # 5\n",
    "\n",
    "    nested()             # 6\n",
    "    \n",
    "    print(X)             # 7 \n",
    "\n",
    "func()                   # 8"
   ]
  },
  {
   "cell_type": "markdown",
   "id": "cbb29252",
   "metadata": {},
   "source": [
    "The output is 'Spam' because of the nonlocal keyword at line 4. This means that the assignment to 'X' inside the nested function changes X in the function's local scope. If the statement is not present (line 4), the variable 'X' will be classified as local to nested function making it a different variable,then the output will be 'NI'"
   ]
  }
 ],
 "metadata": {
  "kernelspec": {
   "display_name": "Python 3 (ipykernel)",
   "language": "python",
   "name": "python3"
  },
  "language_info": {
   "codemirror_mode": {
    "name": "ipython",
    "version": 3
   },
   "file_extension": ".py",
   "mimetype": "text/x-python",
   "name": "python",
   "nbconvert_exporter": "python",
   "pygments_lexer": "ipython3",
   "version": "3.9.12"
  }
 },
 "nbformat": 4,
 "nbformat_minor": 5
}
