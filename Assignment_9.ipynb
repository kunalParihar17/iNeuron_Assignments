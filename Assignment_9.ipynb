{
 "cells": [
  {
   "cell_type": "markdown",
   "id": "67660a42",
   "metadata": {},
   "source": [
    "2\\. What does an absolute path start with your operating system?\n",
    "\n",
    "3\\. What do the functions os.getcwd() and os.chdir() do?\n",
    "\n",
    "4\\. What are the . and .. folders?\n",
    "\n",
    "5\\. In C:\\\\bacon\\\\eggs\\\\spam.txt, which part is the dir name, and which\n",
    "part is the base name?\n",
    "\n",
    "6\\. What are the three “mode” arguments that can be passed to the open()\n",
    "function?\n",
    "\n",
    "7\\. What happens if an existing file is opened in write mode?\n",
    "\n",
    "8\\. How do you tell the difference between read() and readlines()?\n",
    "\n",
    "9\\. What data structure does a shelf value resemble?"
   ]
  },
  {
   "cell_type": "markdown",
   "id": "92056acd",
   "metadata": {},
   "source": [
    "**Q1 To what does a relative path refer?**\n",
    "\n",
    "**Ans** "
   ]
  },
  {
   "cell_type": "code",
   "execution_count": 9,
   "id": "f5b863ef",
   "metadata": {},
   "outputs": [],
   "source": [
    "import os\n",
    "os.makedirs('delicious\\walnut\\waffles\\pop.txt')"
   ]
  },
  {
   "cell_type": "code",
   "execution_count": null,
   "id": "21df8334",
   "metadata": {},
   "outputs": [],
   "source": []
  },
  {
   "cell_type": "code",
   "execution_count": null,
   "id": "1f399c60",
   "metadata": {},
   "outputs": [],
   "source": []
  }
 ],
 "metadata": {
  "kernelspec": {
   "display_name": "Python 3 (ipykernel)",
   "language": "python",
   "name": "python3"
  },
  "language_info": {
   "codemirror_mode": {
    "name": "ipython",
    "version": 3
   },
   "file_extension": ".py",
   "mimetype": "text/x-python",
   "name": "python",
   "nbconvert_exporter": "python",
   "pygments_lexer": "ipython3",
   "version": "3.9.12"
  }
 },
 "nbformat": 4,
 "nbformat_minor": 5
}
