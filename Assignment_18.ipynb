{
 "cells": [
  {
   "cell_type": "markdown",
   "id": "556936e8",
   "metadata": {},
   "source": [
    "2\\. In the interactive interpreter, import the zoo module as menagerie\n",
    "and call its hours() function.\n",
    "\n",
    "3\\. Using the interpreter, explicitly import and call the hours()\n",
    "function from zoo.\n",
    "\n",
    "4\\. Import the hours() function as info and call it.\n",
    "\n",
    "5\\. Create a plain dictionary with the key-value pairs 'a': 1, 'b': 2,\n",
    "and 'c': 3, and print it out.\n",
    "\n",
    "6.Make an OrderedDict called fancy from the same pairs listed in 5 and\n",
    "print it. Did it print in the same order as plain?\n",
    "\n",
    "7\\. Make a default dictionary called dict\\_of\\_lists and pass it the\n",
    "argument list. Make the list dict\\_of\\_lists\\['a'\\] and append the value\n",
    "'something for a' to it in one assignment. Print dict\\_of\\_lists\\['a'\\]."
   ]
  },
  {
   "cell_type": "markdown",
   "id": "a64d1733",
   "metadata": {},
   "source": [
    "**Q1 Create a zoo.py file first. Define the hours() function, which\n",
    "prints the string 'Open 9-5 daily'. Then, use the interactive\n",
    "interpreter to import the zoo module and call its hours() function.**\n",
    "\n",
    "\n",
    "**Ans**\n"
   ]
  },
  {
   "cell_type": "code",
   "execution_count": 8,
   "id": "693f7b8a",
   "metadata": {},
   "outputs": [
    {
     "ename": "ModuleNotFoundError",
     "evalue": "No module named 'zoo'",
     "output_type": "error",
     "traceback": [
      "\u001b[1;31m---------------------------------------------------------------------------\u001b[0m",
      "\u001b[1;31mModuleNotFoundError\u001b[0m                       Traceback (most recent call last)",
      "Input \u001b[1;32mIn [8]\u001b[0m, in \u001b[0;36m<cell line: 1>\u001b[1;34m()\u001b[0m\n\u001b[1;32m----> 1\u001b[0m \u001b[38;5;28;01mimport\u001b[39;00m \u001b[38;5;21;01mzoo\u001b[39;00m\n\u001b[0;32m      2\u001b[0m \u001b[38;5;28;01mfrom\u001b[39;00m \u001b[38;5;21;01mimportlib\u001b[39;00m \u001b[38;5;28;01mimport\u001b[39;00m reload\n\u001b[0;32m      3\u001b[0m reload(zoo)\n",
      "\u001b[1;31mModuleNotFoundError\u001b[0m: No module named 'zoo'"
     ]
    }
   ],
   "source": [
    "import zoo\n",
    "from importlib import reload\n",
    "reload(zoo)\n",
    "\n",
    "zoo.hours()"
   ]
  },
  {
   "cell_type": "code",
   "execution_count": null,
   "id": "d99e2268",
   "metadata": {},
   "outputs": [],
   "source": []
  }
 ],
 "metadata": {
  "kernelspec": {
   "display_name": "Python 3 (ipykernel)",
   "language": "python",
   "name": "python3"
  },
  "language_info": {
   "codemirror_mode": {
    "name": "ipython",
    "version": 3
   },
   "file_extension": ".py",
   "mimetype": "text/x-python",
   "name": "python",
   "nbconvert_exporter": "python",
   "pygments_lexer": "ipython3",
   "version": "3.9.12"
  }
 },
 "nbformat": 4,
 "nbformat_minor": 5
}
