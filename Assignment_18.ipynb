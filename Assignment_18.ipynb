{
 "cells": [
  {
   "cell_type": "markdown",
   "id": "556936e8",
   "metadata": {},
   "source": [
    "2\\. In the interactive interpreter, import the zoo module as menagerie\n",
    "and call its hours() function.\n",
    "\n",
    "3\\. Using the interpreter, explicitly import and call the hours()\n",
    "function from zoo.\n",
    "\n",
    "4\\. Import the hours() function as info and call it.\n",
    "\n",
    "5\\. Create a plain dictionary with the key-value pairs 'a': 1, 'b': 2,\n",
    "and 'c': 3, and print it out.\n",
    "\n",
    "6.Make an OrderedDict called fancy from the same pairs listed in 5 and\n",
    "print it. Did it print in the same order as plain?\n",
    "\n",
    "7\\. Make a default dictionary called dict\\_of\\_lists and pass it the\n",
    "argument list. Make the list dict\\_of\\_lists\\['a'\\] and append the value\n",
    "'something for a' to it in one assignment. Print dict\\_of\\_lists\\['a'\\]."
   ]
  },
  {
   "cell_type": "markdown",
   "id": "8565caa6",
   "metadata": {},
   "source": [
    "**Q1 Create a zoo.py file first. Define the hours() function, which\n",
    "prints the string 'Open 9-5 daily'. Then, use the interactive\n",
    "interpreter to import the zoo module and call its hours() function.**\n",
    "\n",
    "\n",
    "**Ans**\n"
   ]
  },
  {
   "cell_type": "code",
   "execution_count": 1,
   "id": "c081a6f7",
   "metadata": {},
   "outputs": [
    {
     "ename": "ModuleNotFoundError",
     "evalue": "No module named 'zoo'",
     "output_type": "error",
     "traceback": [
      "\u001b[1;31m---------------------------------------------------------------------------\u001b[0m",
      "\u001b[1;31mModuleNotFoundError\u001b[0m                       Traceback (most recent call last)",
      "Input \u001b[1;32mIn [1]\u001b[0m, in \u001b[0;36m<cell line: 1>\u001b[1;34m()\u001b[0m\n\u001b[1;32m----> 1\u001b[0m \u001b[38;5;28;01mimport\u001b[39;00m \u001b[38;5;21;01mzoo\u001b[39;00m\n\u001b[0;32m      2\u001b[0m \u001b[38;5;28;01mfrom\u001b[39;00m \u001b[38;5;21;01mimportlib\u001b[39;00m \u001b[38;5;28;01mimport\u001b[39;00m reload\n\u001b[0;32m      3\u001b[0m reload(zoo)\n",
      "\u001b[1;31mModuleNotFoundError\u001b[0m: No module named 'zoo'"
     ]
    }
   ],
   "source": [
    "import zoo\n",
    "from importlib import reload\n",
    "reload(zoo)\n",
    "\n",
    "zoo.hours()"
   ]
  },
  {
   "cell_type": "code",
   "execution_count": 2,
   "id": "c57e987c",
   "metadata": {},
   "outputs": [
    {
     "name": "stdout",
     "output_type": "stream",
     "text": [
      "Requirement already satisfied: zoo in c:\\users\\kunal parihar\\anaconda3\\lib\\site-packages (0.1a0)Note: you may need to restart the kernel to use updated packages.\n",
      "\n"
     ]
    }
   ],
   "source": [
    "pip install zoo"
   ]
  },
  {
   "cell_type": "markdown",
   "id": "ec166648",
   "metadata": {},
   "source": [
    "**Q5 Create a plain dictionary with the key-value pairs 'a': 1, 'b': 2, and 'c': 3, and print it out.**\n",
    "\n",
    "**Ans**"
   ]
  },
  {
   "cell_type": "code",
   "execution_count": 4,
   "id": "2c54f65e",
   "metadata": {},
   "outputs": [
    {
     "data": {
      "text/plain": [
       "{'a': 1, 'b': 2, 'c': 3}"
      ]
     },
     "execution_count": 4,
     "metadata": {},
     "output_type": "execute_result"
    }
   ],
   "source": [
    "abc = {'a': 1, 'b': 2, 'c': 3}\n",
    "abc"
   ]
  },
  {
   "cell_type": "markdown",
   "id": "8b0f66a7",
   "metadata": {},
   "source": [
    "**Q6 Make an OrderedDict called fancy from the same pairs listed in 5 and print it. Did it print in the same order as plain?**\n",
    "\n",
    "**Ans**"
   ]
  },
  {
   "cell_type": "code",
   "execution_count": 7,
   "id": "acd6f1e0",
   "metadata": {},
   "outputs": [],
   "source": [
    "from collections import OrderedDict"
   ]
  },
  {
   "cell_type": "code",
   "execution_count": 11,
   "id": "f6b79d88",
   "metadata": {},
   "outputs": [
    {
     "data": {
      "text/plain": [
       "OrderedDict([('a', 1), ('b', 2), ('c', 3)])"
      ]
     },
     "execution_count": 11,
     "metadata": {},
     "output_type": "execute_result"
    }
   ],
   "source": [
    "fancy = OrderedDict({'a': 1, 'b': 2, 'c': 3})\n",
    "fancy"
   ]
  },
  {
   "cell_type": "markdown",
   "id": "f942f59c",
   "metadata": {},
   "source": [
    "Yes it is printed in the same order"
   ]
  },
  {
   "cell_type": "markdown",
   "id": "81ce67e6",
   "metadata": {},
   "source": [
    "**Q7. Make a default dictionary called dict\\_of\\_lists and pass it the\n",
    "argument list. Make the list dict\\_of\\_lists\\['a'\\] and append the value\n",
    "'something for a' to it in one assignment. Print dict\\_of\\_lists\\['a'\\].**\n",
    "\n",
    "**Ans**"
   ]
  },
  {
   "cell_type": "code",
   "execution_count": 14,
   "id": "f55f6eec",
   "metadata": {},
   "outputs": [
    {
     "data": {
      "text/plain": [
       "['something for a']"
      ]
     },
     "execution_count": 14,
     "metadata": {},
     "output_type": "execute_result"
    }
   ],
   "source": [
    "from collections import defaultdict\n",
    "dict_of_lists = defaultdict(list)\n",
    "dict_of_lists['a'].append('something for a')\n",
    "dict_of_lists['a']"
   ]
  }
 ],
 "metadata": {
  "kernelspec": {
   "display_name": "Python 3 (ipykernel)",
   "language": "python",
   "name": "python3"
  },
  "language_info": {
   "codemirror_mode": {
    "name": "ipython",
    "version": 3
   },
   "file_extension": ".py",
   "mimetype": "text/x-python",
   "name": "python",
   "nbconvert_exporter": "python",
   "pygments_lexer": "ipython3",
   "version": "3.9.12"
  }
 },
 "nbformat": 4,
 "nbformat_minor": 5
}
