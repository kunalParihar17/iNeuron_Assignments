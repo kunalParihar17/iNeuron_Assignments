{
 "cells": [
  {
   "cell_type": "markdown",
   "id": "ff4fcdf3",
   "metadata": {},
   "source": [
    "\n",
    "\n"
   ]
  },
  {
   "cell_type": "markdown",
   "id": "7540384a",
   "metadata": {},
   "source": [
    "**Q1 How do you distinguish between shutil.copy() and shutil.copytree()?**\n",
    "\n",
    "**Ans** \n",
    "\n",
    "**shutil.copy()** can copy one single file where as **shutil.copytree()** will copy an entire folder with all of its contents.\n"
   ]
  },
  {
   "cell_type": "markdown",
   "id": "2e4bbbba",
   "metadata": {},
   "source": [
    "**Q2 What function is used to rename files??**\n",
    "\n",
    "**Ans**This function used for renaming files and also for moving them. "
   ]
  },
  {
   "cell_type": "markdown",
   "id": "c376b6a4",
   "metadata": {},
   "source": [
    "**Q3 What is the difference between the delete functions in the send2trash and shutil modules?**\n",
    "\n",
    "\n",
    "**Ans**\n",
    "\n",
    "The **send2trash** function can move an entire folder,a file to the recycle bin,whereas shutil function can permanently delete files and folders."
   ]
  },
  {
   "cell_type": "markdown",
   "id": "b09ca24a",
   "metadata": {},
   "source": [
    "**Q4 ZipFile objects have a close() method just like File objects’ close() method. What ZipFile method is equivalent to File objects’ open() method?**\n",
    "\n",
    "**Ans**"
   ]
  },
  {
   "cell_type": "markdown",
   "id": "076ac5c2",
   "metadata": {},
   "source": [
    "Zipfile.Zipfilr() is same as open() function. The first argument is filename,second is the mode to open ZIP file.in (read, write, or append)."
   ]
  },
  {
   "cell_type": "markdown",
   "id": "64b55454",
   "metadata": {},
   "source": [
    "**Q5 Create a programme that searches a folder tree for files with a certain file extension (such as .pdf or .jpg). Copy these files from whatever location they are in to a new folder.**\n",
    "\n",
    "**Ans**\n"
   ]
  },
  {
   "cell_type": "markdown",
   "id": "7f04fa7d",
   "metadata": {},
   "source": [
    "Function to search a folder tree to copy file swith certain extention to a new folder.\n"
   ]
  },
  {
   "cell_type": "code",
   "execution_count": 5,
   "id": "ea2e97d1",
   "metadata": {},
   "outputs": [],
   "source": [
    "import shutil,os"
   ]
  },
  {
   "cell_type": "code",
   "execution_count": 6,
   "id": "3b111901",
   "metadata": {},
   "outputs": [
    {
     "data": {
      "text/plain": [
       "'C:\\\\Users\\\\Kunal Parihar\\\\Desktop\\\\Machine Learning\\\\iNeuron Assignments'"
      ]
     },
     "execution_count": 6,
     "metadata": {},
     "output_type": "execute_result"
    }
   ],
   "source": [
    "os.getcwd()"
   ]
  },
  {
   "cell_type": "code",
   "execution_count": 7,
   "id": "5cd34baa",
   "metadata": {},
   "outputs": [],
   "source": [
    "os.makedirs('C:\\\\Users\\\\Kunal Parihar\\\\Desktop\\\\Machine Learning\\\\iNeuron Assignments\\\\files')\n",
    "os.makedirs('C:\\\\Users\\\\Kunal Parihar\\\\Desktop\\\\Machine Learning\\\\iNeuron Assignments\\\\files\\\\text_files')\n",
    "os.makedirs('C:\\\\Users\\\\Kunal Parihar\\\\Desktop\\\\Machine Learning\\\\iNeuron Assignments\\\\files\\\\pdf_files')\n",
    "os.makedirs('C:\\\\Users\\\\Kunal Parihar\\\\Desktop\\\\Machine Learning\\\\iNeuron Assignments\\\\files\\\\mp3_files')"
   ]
  },
  {
   "cell_type": "code",
   "execution_count": 8,
   "id": "0865d333",
   "metadata": {},
   "outputs": [],
   "source": [
    "os.chdir(r'C:\\\\Users\\\\Kunal Parihar\\\\Desktop\\\\Machine Learning\\\\iNeuron Assignments\\\\files')"
   ]
  },
  {
   "cell_type": "code",
   "execution_count": 9,
   "id": "63aae5c1",
   "metadata": {},
   "outputs": [
    {
     "data": {
      "text/plain": [
       "'C:\\\\Users\\\\Kunal Parihar\\\\Desktop\\\\Machine Learning\\\\iNeuron Assignments\\\\files'"
      ]
     },
     "execution_count": 9,
     "metadata": {},
     "output_type": "execute_result"
    }
   ],
   "source": [
    "os.getcwd()"
   ]
  },
  {
   "cell_type": "code",
   "execution_count": 11,
   "id": "57328a07",
   "metadata": {},
   "outputs": [
    {
     "name": "stdout",
     "output_type": "stream",
     "text": [
      "Looking for files in C:\\Users\\Kunal Parihar\\Desktop\\Machine Learning\\iNeuron Assignments\\files for files with extensions of : .txt, .pdf, mp3\n"
     ]
    }
   ],
   "source": [
    "import os, shutil\n",
    "\n",
    "def seperate_Copy(orig_folder, extensions, desti_Folder):\n",
    "    orig_folder = os.path.abspath(orig_folder)\n",
    "    desti_Folder = os.path.abspath(desti_Folder)\n",
    "    print('Looking for files in', orig_folder, 'for files with extensions of :', ', '.join(extensions))\n",
    "    for foldername, subfolders, filenames in os.walk(orig_folder):\n",
    "        for filename in filenames:\n",
    "            name, extension = os.path.splitext(filename)\n",
    "            if extension in extensions:\n",
    "                fileAbsPath = foldername + os.path.sep + filename\n",
    "                print('Coping', fileAbsPath, 'to', desti_Folder)\n",
    "                shutil.copy(fileAbsPath, desti_Folder)\n",
    "\n",
    "extensions = ['.txt', '.pdf', 'mp3']\n",
    "orig_folder = 'C:\\\\Users\\\\Kunal Parihar\\\\Desktop\\\\Machine Learning\\\\iNeuron Assignments\\\\files'\n",
    "desti_Folder = 'C:\\\\Users\\\\Kunal Parihar\\\\Desktop\\\\Machine Learning\\\\iNeuron Assignments\\\\files'\n",
    "seperate_Copy(orig_folder, extensions, desti_Folder)"
   ]
  },
  {
   "cell_type": "code",
   "execution_count": null,
   "id": "f5ecc02b",
   "metadata": {},
   "outputs": [],
   "source": []
  }
 ],
 "metadata": {
  "kernelspec": {
   "display_name": "Python 3 (ipykernel)",
   "language": "python",
   "name": "python3"
  },
  "language_info": {
   "codemirror_mode": {
    "name": "ipython",
    "version": 3
   },
   "file_extension": ".py",
   "mimetype": "text/x-python",
   "name": "python",
   "nbconvert_exporter": "python",
   "pygments_lexer": "ipython3",
   "version": "3.9.12"
  }
 },
 "nbformat": 4,
 "nbformat_minor": 5
}
