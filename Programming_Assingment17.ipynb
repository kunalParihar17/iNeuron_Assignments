{
 "cells": [
  {
   "cell_type": "markdown",
   "id": "0db6ce29",
   "metadata": {},
   "source": [
    "**Q1. Create a function that takes three arguments a, b, c and\n",
    "returns the sum of the numbers that are evenly divided by c from the\n",
    "range a, b inclusive.**\n",
    "\n",
    "**Examples**\n",
    "\n",
    "evenly\\_divisible(1, 10, 20) ➞ 0\n",
    "\n",
    "\\# No number between 1 and 10 can be evenly divided by 20.\n",
    "\n",
    "evenly\\_divisible(1, 10, 2) ➞ 30\n",
    "\n",
    "\\# 2 + 4 + 6 + 8 + 10 = 30\n",
    "\n",
    "evenly\\_divisible(1, 10, 3) ➞ 18\n",
    "\n",
    "\\# 3 + 6 + 9 = 18"
   ]
  },
  {
   "cell_type": "code",
   "execution_count": 3,
   "id": "3f116c74",
   "metadata": {},
   "outputs": [
    {
     "name": "stdout",
     "output_type": "stream",
     "text": [
      "Enter the first value1\n",
      "Enter the second value10\n",
      "Enter the third value20\n"
     ]
    },
    {
     "data": {
      "text/plain": [
       "0"
      ]
     },
     "execution_count": 3,
     "metadata": {},
     "output_type": "execute_result"
    }
   ],
   "source": [
    "def math_operation():\n",
    "    emp_lst = []\n",
    "    a = int(input('Enter the first value'))\n",
    "    b = int(input('Enter the second value'))\n",
    "    c = int(input('Enter the third value'))\n",
    "    for i in range(a,b):\n",
    "        if i%c==0:\n",
    "            emp_lst.append(i)\n",
    "    return sum(emp_lst)\n",
    "math_operation()"
   ]
  },
  {
   "cell_type": "code",
   "execution_count": 7,
   "id": "aff34e0b",
   "metadata": {},
   "outputs": [
    {
     "name": "stdout",
     "output_type": "stream",
     "text": [
      "Enter the first value1\n",
      "Enter the second value10\n",
      "Enter the third value2\n"
     ]
    },
    {
     "data": {
      "text/plain": [
       "20"
      ]
     },
     "execution_count": 7,
     "metadata": {},
     "output_type": "execute_result"
    }
   ],
   "source": [
    "math_operation()"
   ]
  },
  {
   "cell_type": "code",
   "execution_count": 5,
   "id": "b2a5b076",
   "metadata": {},
   "outputs": [
    {
     "name": "stdout",
     "output_type": "stream",
     "text": [
      "Enter the first value1\n",
      "Enter the second value10\n",
      "Enter the third value3\n"
     ]
    },
    {
     "data": {
      "text/plain": [
       "18"
      ]
     },
     "execution_count": 5,
     "metadata": {},
     "output_type": "execute_result"
    }
   ],
   "source": [
    "math_operation()"
   ]
  },
  {
   "cell_type": "markdown",
   "id": "7ad90803",
   "metadata": {},
   "source": [
    "**Question2. Create a function that returns True if a given inequality\n",
    "expression is correct and False otherwise.**\n",
    "\n",
    "### Examples\n",
    "\n",
    "correct\\_signs(\"3 \\< 7 \\< 11\") ➞ True\n",
    "\n",
    "correct\\_signs(\"13 \\> 44 \\> 33 \\> 1\") ➞ False\n",
    "\n",
    "correct\\_signs(\"1 \\< 2 \\< 6 \\< 9 \\> 3\") ➞ True\n",
    "\n"
   ]
  },
  {
   "cell_type": "code",
   "execution_count": 37,
   "id": "506fc35a",
   "metadata": {},
   "outputs": [
    {
     "name": "stdout",
     "output_type": "stream",
     "text": [
      "True\n",
      "False\n",
      "True\n"
     ]
    }
   ],
   "source": [
    "\n",
    "def correct_signs(s):\n",
    "    exp=eval(s)\n",
    "    if exp:\n",
    "        return True\n",
    "    else:\n",
    "        return False \n",
    "print(correct_signs(\"3 < 7 < 11\"))\n",
    "print(correct_signs(\"13 > 44 > 33 > 1\"))\n",
    "print(correct_signs(\"1 < 2 < 6 < 9 > 3\"))"
   ]
  },
  {
   "cell_type": "markdown",
   "id": "6ad6e86f",
   "metadata": {},
   "source": [
    "**Q3 Create a function that replaces all the vowels in a string\n",
    "with a specified character.**\n",
    "### Examples\n",
    "\n",
    "replace\\_vowels(\"the aardvark\", \"\\#\") ➞ \"th\\# \\#\\#rdv\\#rk\"\n",
    "\n",
    "replace\\_vowels(\"minnie mouse\", \"?\") ➞ \"m?nn?? m??s?\"\n",
    "\n",
    "replace\\_vowels(\"shakespeare\", \"\\*\") ➞ \"sh\\*k\\*sp\\*\\*r\\*\""
   ]
  },
  {
   "cell_type": "code",
   "execution_count": 60,
   "id": "bc6b014a",
   "metadata": {},
   "outputs": [],
   "source": [
    "import re"
   ]
  },
  {
   "cell_type": "code",
   "execution_count": 63,
   "id": "46c5a2e4",
   "metadata": {},
   "outputs": [
    {
     "name": "stdout",
     "output_type": "stream",
     "text": [
      "Enter the string\n",
      "I would love to sing really high on the top of my pitch inside a cave in a mountain\n",
      "Enter the char which will replace the vovels in string\n",
      "#\n"
     ]
    },
    {
     "data": {
      "text/plain": [
       "'I w##ld l#v# t# s#ng r##lly h#gh #n th# t#p #f my p#tch #ns#d# # c#v# #n # m##nt##n'"
      ]
     },
     "execution_count": 63,
     "metadata": {},
     "output_type": "execute_result"
    }
   ],
   "source": [
    "def rep_vov():\n",
    "    string = str(input('Enter the string\\n'))\n",
    "    char = str(input('Enter the char which will replace the vovels in string\\n'))\n",
    "    txt = re.sub('[a,e,i,o,u]',char, string)# first argument is letters to be replaced, second is character to replace,third is \n",
    "    #string to be operated upon\n",
    "    return (txt)\n",
    "rep_vov()"
   ]
  },
  {
   "cell_type": "markdown",
   "id": "71e28a19",
   "metadata": {},
   "source": [
    "\n",
    "**Q4 Write a function that calculates the factorial of a\n",
    "number** **recursively** \n",
    "\n",
    "### Examples\n",
    "\n",
    "factorial(5) ➞ 120\n",
    "\n",
    "factorial(3) ➞ 6\n",
    "\n",
    "factorial(1) ➞ 1\n",
    "\n",
    "factorial(0) ➞ 1"
   ]
  },
  {
   "cell_type": "code",
   "execution_count": 7,
   "id": "4dc9c088",
   "metadata": {},
   "outputs": [
    {
     "data": {
      "text/plain": [
       "120"
      ]
     },
     "execution_count": 7,
     "metadata": {},
     "output_type": "execute_result"
    }
   ],
   "source": [
    "def factorial(num):  \n",
    "   if num == 1:  \n",
    "       return n  \n",
    "   else:  \n",
    "       return num*factorial(num-1)  \n",
    "recur_factorial(5)    "
   ]
  },
  {
   "cell_type": "markdown",
   "id": "22d4fe67",
   "metadata": {},
   "source": [
    "**Q5 Hamming distance is the number of characters that differ between two\n",
    "strings.**\n",
    "\n",
    "To illustrate:\n",
    "\n",
    "String1: \"abcbba\"\n",
    "\n",
    "String2: \"abcbda\"\n",
    "\n",
    "Hamming Distance: 1 - \"b\" vs. \"d\" is the only difference.\n",
    "\n",
    "Create a function that computes the **hamming distance** between two\n",
    "strings.\n",
    "\n",
    "### Examples\n",
    "\n",
    "hamming\\_distance(\"abcde\", \"bcdef\") ➞ 5\n",
    "\n",
    "hamming\\_distance(\"abcde\", \"abcde\") ➞ 0\n",
    "\n",
    "hamming\\_distance(\"strong\", \"strung\") ➞ 1"
   ]
  },
  {
   "cell_type": "code",
   "execution_count": 21,
   "id": "f652a8b3",
   "metadata": {},
   "outputs": [
    {
     "name": "stdout",
     "output_type": "stream",
     "text": [
      "Enter first string\n",
      "maximus\n",
      "Enter second string\n",
      "maximus\n"
     ]
    },
    {
     "data": {
      "text/plain": [
       "0"
      ]
     },
     "execution_count": 21,
     "metadata": {},
     "output_type": "execute_result"
    }
   ],
   "source": [
    "def hamming_distance():\n",
    "    dist = 0\n",
    "    str1 = str(input('Enter first string\\n'))\n",
    "    str2 = str(input('Enter second string\\n'))\n",
    "    if len(str1)!=len(str2):\n",
    "        print('Enter strings of equal length\\n')\n",
    "    else:\n",
    "        for i in range(len(str1)):\n",
    "            if str1[i]!=str2[i]:\n",
    "               dist=dist+1\n",
    "    return(dist)\n",
    "hamming_distance()"
   ]
  },
  {
   "cell_type": "code",
   "execution_count": 22,
   "id": "c3c5c04a",
   "metadata": {},
   "outputs": [
    {
     "name": "stdout",
     "output_type": "stream",
     "text": [
      "Enter first string\n",
      "classicmemory\n",
      "Enter second string\n",
      "classicmammry\n"
     ]
    },
    {
     "data": {
      "text/plain": [
       "2"
      ]
     },
     "execution_count": 22,
     "metadata": {},
     "output_type": "execute_result"
    }
   ],
   "source": [
    "hamming_distance()"
   ]
  },
  {
   "cell_type": "code",
   "execution_count": 23,
   "id": "707babd5",
   "metadata": {},
   "outputs": [
    {
     "name": "stdout",
     "output_type": "stream",
     "text": [
      "Enter first string\n",
      "pingpongballgame\n",
      "Enter second string\n",
      "pingpangbellgane\n"
     ]
    },
    {
     "data": {
      "text/plain": [
       "3"
      ]
     },
     "execution_count": 23,
     "metadata": {},
     "output_type": "execute_result"
    }
   ],
   "source": [
    "hamming_distance()"
   ]
  }
 ],
 "metadata": {
  "kernelspec": {
   "display_name": "Python 3 (ipykernel)",
   "language": "python",
   "name": "python3"
  },
  "language_info": {
   "codemirror_mode": {
    "name": "ipython",
    "version": 3
   },
   "file_extension": ".py",
   "mimetype": "text/x-python",
   "name": "python",
   "nbconvert_exporter": "python",
   "pygments_lexer": "ipython3",
   "version": "3.9.12"
  }
 },
 "nbformat": 4,
 "nbformat_minor": 5
}
