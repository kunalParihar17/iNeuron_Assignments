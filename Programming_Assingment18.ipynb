{
 "cells": [
  {
   "cell_type": "markdown",
   "id": "57d66248",
   "metadata": {},
   "source": [
    "**Q1 Create a function that takes a list of non-negative integers and strings and return a new list without the strings.**\n",
    "\n",
    "Examples\n",
    "\n",
    "filter_list([1, 2, \"a\", \"b\"]) ➞ [1, 2]\n",
    "\n",
    "filter_list([1, \"a\", \"b\", 0, 15]) ➞ [1, 0, 15]\n",
    "\n",
    "filter_list([1, 2, \"aasf\", \"1\", \"123\", 123]) ➞ [1, 2, 123"
   ]
  },
  {
   "cell_type": "code",
   "execution_count": 21,
   "id": "4c39cbce",
   "metadata": {},
   "outputs": [
    {
     "data": {
      "text/plain": [
       "[2, 34, 131, 3, 1, 11]"
      ]
     },
     "execution_count": 21,
     "metadata": {},
     "output_type": "execute_result"
    }
   ],
   "source": [
    "def lst_with_str(list_a):\n",
    "    abc = [val for val in list_b if not str(val).isalpha()]\n",
    "    return (abc)\n",
    "list_b = [2,34,131,3,'dsd',1,'adad',11]\n",
    "lst_with_str(list_b)"
   ]
  },
  {
   "cell_type": "markdown",
   "id": "d300e5f1",
   "metadata": {},
   "source": [
    "**Q2 The \"Reverser\" takes a string as input and returns that string in\n",
    "reverse order, with the opposite case.**\n",
    "\n",
    "### Examples\n",
    "\n",
    "reverse(\"Hello World\") ➞ \"DLROw OLLEh\"\n",
    "\n",
    "reverse(\"ReVeRsE\") ➞ \"eSrEvEr\"\n",
    "\n",
    "reverse(\"Radar\") ➞ \"RADAr\""
   ]
  },
  {
   "cell_type": "code",
   "execution_count": 78,
   "id": "eb890251",
   "metadata": {},
   "outputs": [
    {
     "name": "stdout",
     "output_type": "stream",
     "text": [
      "Enter the string\n",
      "\n",
      "Hello my name is Rockt in pocket\n"
     ]
    },
    {
     "data": {
      "text/plain": [
       "'TEKCOP NI TKCOr SI EMAN YM OLLEh'"
      ]
     },
     "execution_count": 78,
     "metadata": {},
     "output_type": "execute_result"
    }
   ],
   "source": [
    "def reverser():\n",
    "    string = str(input('Enter the string\\n\\n'))\n",
    "    abc=[]\n",
    "    for i in range(1,len(string)+1):\n",
    "        if string[i-1].isupper()==True:\n",
    "           abc.append(string[i-1].lower())\n",
    "        else:\n",
    "           abc.append(string[i-1].upper())\n",
    "    abc = abc[::-1]    \n",
    "    return(''.join(abc))\n",
    "reverser()        "
   ]
  },
  {
   "cell_type": "code",
   "execution_count": 79,
   "id": "b52b62ee",
   "metadata": {},
   "outputs": [
    {
     "name": "stdout",
     "output_type": "stream",
     "text": [
      "Enter the string\n",
      "\n",
      "Hello World\n"
     ]
    },
    {
     "data": {
      "text/plain": [
       "'DLROw OLLEh'"
      ]
     },
     "execution_count": 79,
     "metadata": {},
     "output_type": "execute_result"
    }
   ],
   "source": [
    "reverser() "
   ]
  },
  {
   "cell_type": "markdown",
   "id": "d1376154",
   "metadata": {},
   "source": [
    "**Q3 You can assign variables from lists like this:**\n",
    "\n",
    "lst = \\[1, 2, 3, 4, 5, 6\\]\n",
    "\n",
    "first = lst\\[0\\]\n",
    "\n",
    "middle = lst\\[1:-1\\]\n",
    "\n",
    "last = lst\\[-1\\]\n",
    "\n",
    "print(first) ➞ outputs 1\n",
    "\n",
    "print(middle) ➞ outputs \\[2, 3, 4, 5\\]\n",
    "\n",
    "print(last) ➞ outputs 6\n",
    "\n",
    "With Python 3, you can assign variables from lists in a much more\n",
    "succinct way. Create variables first, middle and last from the given\n",
    "list using **destructuring assignment** (check the **Resources** tab for\n",
    "some examples), where:\n",
    "\n",
    "first ➞ 1\n",
    "\n",
    "middle ➞ \\[2, 3, 4, 5\\]\n",
    "\n",
    "last ➞ 6\n",
    "\n",
    "Your task is to unpack the list writeyourcodehere into three variables,\n",
    "being first, middle, and last, with middle being everything in between\n",
    "the first and last element. Then print all three variables.\n"
   ]
  },
  {
   "cell_type": "code",
   "execution_count": 122,
   "id": "a623093e",
   "metadata": {},
   "outputs": [
    {
     "name": "stdout",
     "output_type": "stream",
     "text": [
      "Enter the number of items in the list\n",
      "5\n",
      "Enter the Element number\n",
      "1\n",
      "Enter the Element number\n",
      "2\n",
      "Enter the Element number\n",
      "3\n",
      "Enter the Element number\n",
      "4\n",
      "Enter the Element number\n",
      "5\n",
      "[1, 2, 3, 4, 5]\n",
      "The First variable is 1 \n",
      "\n",
      "The Middle variables are [2, 3, 4] \n",
      "\n",
      "The Last variable is 5 \n",
      "\n"
     ]
    }
   ],
   "source": [
    "def destructure_list():\n",
    "    list_a = []\n",
    "    num_of_ele = int(input('Enter the number of items in the list\\n'))\n",
    "    for i in range(1,num_of_ele+1):\n",
    "        element = int(input('Enter the Element number\\n'))\n",
    "        list_a.append(element)\n",
    "    print(list_a)    \n",
    "    #------The usual way------\n",
    "    \n",
    "    #     first = list_a[0]\n",
    "    #     middle = list_a[1:-1]\n",
    "    #     last = list_a[-1]\n",
    "    \n",
    "    \n",
    "    #------The Destructuring methord------\n",
    "    \n",
    "    first,*middle,last = list_a\n",
    "    \n",
    "    print('The First variable is',first,'\\n')\n",
    "    print('The Middle variables are',middle,'\\n')\n",
    "    print('The Last variable is',last,'\\n')\n",
    "    \n",
    "destructure_list()"
   ]
  },
  {
   "cell_type": "markdown",
   "id": "a4ed571c",
   "metadata": {},
   "source": [
    "**Q4 Write a function that calculates the factorial of a number recursively**.\n",
    "\n",
    "### Examples\n",
    "\n",
    "factorial(5) ➞ 120\n",
    "\n",
    "factorial(3) ➞ 6\n",
    "\n",
    "factorial(1) ➞ 1\n",
    "\n",
    "factorial(0) ➞ 1"
   ]
  },
  {
   "cell_type": "code",
   "execution_count": 2,
   "id": "bc821119",
   "metadata": {},
   "outputs": [
    {
     "name": "stdout",
     "output_type": "stream",
     "text": [
      "Enter the number whose factorial has to be calculated\n",
      "5\n"
     ]
    },
    {
     "data": {
      "text/plain": [
       "120"
      ]
     },
     "execution_count": 2,
     "metadata": {},
     "output_type": "execute_result"
    }
   ],
   "source": [
    "num = int(input('Enter the number whose factorial has to be calculated\\n'))\n",
    "def factorical(num):\n",
    "    if num==1:\n",
    "        return(num)\n",
    "    else:\n",
    "        return(num*factorical(num-1))\n",
    "factorical(num)        "
   ]
  },
  {
   "cell_type": "markdown",
   "id": "43159861",
   "metadata": {},
   "source": [
    "**Q5 Write a function that moves all elements of one type to the end of the list.**\n",
    "\n",
    "### Examples\n",
    "\n",
    "move\\_to\\_end(\\[1, 3, 2, 4, 4, 1\\], 1) ➞ \\[3, 2, 4, 4, 1, 1\\]\n",
    "\n",
    "\\# Move all the 1s to the end of the array.\n",
    "\n",
    "move\\_to\\_end(\\[7, 8, 9, 1, 2, 3, 4\\], 9) ➞ \\[7, 8, 1, 2, 3, 4, 9\\]\n",
    "\n",
    "move\\_to\\_end(\\[\"a\", \"a\", \"a\", \"b\"\\], \"a\") ➞ \\[\"b\", \"a\", \"a\", \"a\"\\]"
   ]
  },
  {
   "cell_type": "code",
   "execution_count": 52,
   "id": "efb6ddcc",
   "metadata": {},
   "outputs": [
    {
     "name": "stdout",
     "output_type": "stream",
     "text": [
      "Enter the number of items in the list\n",
      "10\n",
      "Enter the Element \n",
      "2\n",
      "Enter the Element \n",
      "4\n",
      "Enter the Element \n",
      "7\n",
      "Enter the Element \n",
      "3\n",
      "Enter the Element \n",
      "1\n",
      "Enter the Element \n",
      "7\n",
      "Enter the Element \n",
      "44\n",
      "Enter the Element \n",
      "2\n",
      "Enter the Element \n",
      "7\n",
      "Enter the Element \n",
      "3\n",
      "[2, 4, 7, 3, 1, 7, 44, 2, 7, 3]\n",
      "Enter the element of the list to be moved\n",
      "44\n",
      "[2, 4, 7, 3, 1, 7, 2, 7, 3, 44]\n"
     ]
    }
   ],
   "source": [
    "def move_elements():\n",
    "    list_a = []\n",
    "    list_abc = []\n",
    "    num_of_ele = int(input('Enter the number of items in the list\\n'))\n",
    "    for i in range(1,num_of_ele+1):\n",
    "        element = int(input('Enter the Element \\n'))\n",
    "        list_a.append(element)\n",
    "    print(list_a)    \n",
    "    element = int(input('Enter the element of the list to be moved\\n'))\n",
    "    list_a.remove(element)\n",
    "    list_a.append(element)\n",
    "    print(list_a)\n",
    "move_elements()        "
   ]
  }
 ],
 "metadata": {
  "kernelspec": {
   "display_name": "Python 3 (ipykernel)",
   "language": "python",
   "name": "python3"
  },
  "language_info": {
   "codemirror_mode": {
    "name": "ipython",
    "version": 3
   },
   "file_extension": ".py",
   "mimetype": "text/x-python",
   "name": "python",
   "nbconvert_exporter": "python",
   "pygments_lexer": "ipython3",
   "version": "3.9.12"
  }
 },
 "nbformat": 4,
 "nbformat_minor": 5
}
