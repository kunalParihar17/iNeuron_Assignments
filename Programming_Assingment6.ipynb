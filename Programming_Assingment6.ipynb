{
 "cells": [
  {
   "cell_type": "markdown",
   "id": "e6a86c46",
   "metadata": {},
   "source": [
    "**Q1.  Write a Python Program to Display Fibonacci Sequence Using\n",
    "    Recursion?**\n",
    "    \n",
    "**Ans**    "
   ]
  },
  {
   "cell_type": "code",
   "execution_count": 7,
   "id": "9e8693bf",
   "metadata": {},
   "outputs": [
    {
     "data": {
      "text/plain": [
       "(1, 1, 2, 3, 5, 8, 13, 21, 34, 55, 89, 144)"
      ]
     },
     "execution_count": 7,
     "metadata": {},
     "output_type": "execute_result"
    }
   ],
   "source": [
    "1, 1, 2, 3, 5, 8, 13, 21, 34, 55, 89, 144"
   ]
  },
  {
   "cell_type": "code",
   "execution_count": 22,
   "id": "749c445a",
   "metadata": {},
   "outputs": [
    {
     "name": "stdout",
     "output_type": "stream",
     "text": [
      "Enter the number of terms? 10\n",
      "Fibonacci sequence:\n",
      "0\n",
      "1\n",
      "1\n",
      "2\n",
      "3\n",
      "5\n",
      "8\n",
      "13\n",
      "21\n",
      "34\n"
     ]
    }
   ],
   "source": [
    "def fibonaccirec(a):  \n",
    "   if a <= 1:  \n",
    "       return a  \n",
    "   else:  \n",
    "       return(fibonaccirec(a-1) + fibonaccirec(a-2))  \n",
    "terms = int(input(\"Enter the number of terms? \"))  \n",
    "if terms <= 0:  \n",
    "   print(\"Enter a positive integer\")  \n",
    "else:  \n",
    "   print(\"Fibonacci sequence:\")  \n",
    "   for z in range(terms):  \n",
    "       print(fibonaccirec(z))\n"
   ]
  },
  {
   "cell_type": "markdown",
   "id": "0c1137fd",
   "metadata": {},
   "source": [
    "**Q2.  Write a Python Program to Find Factorial of Number Using Recursion?**\n",
    "\n",
    "**Ans**\n"
   ]
  },
  {
   "cell_type": "code",
   "execution_count": 6,
   "id": "e9c7e422",
   "metadata": {},
   "outputs": [
    {
     "data": {
      "text/plain": [
       "24"
      ]
     },
     "execution_count": 6,
     "metadata": {},
     "output_type": "execute_result"
    }
   ],
   "source": [
    "def factorial_recursion(x):\n",
    "    if x==1:\n",
    "        return 1\n",
    "    else:\n",
    "        return x*factorial_recursion(x-1) \n",
    "factorial_recursion(4)    "
   ]
  },
  {
   "cell_type": "markdown",
   "id": "a15b9d7c",
   "metadata": {},
   "source": [
    "**Q3.  Write a Python Program to calculate your Body Mass Index?**\n",
    "\n",
    "**Ans**\n"
   ]
  },
  {
   "cell_type": "code",
   "execution_count": 33,
   "id": "ee269715",
   "metadata": {},
   "outputs": [
    {
     "name": "stdout",
     "output_type": "stream",
     "text": [
      "Enter the weight in kg? 70\n",
      "Enter the height in meters in decimal\n",
      "Example 1.73 meters or 1.70 meters? 1.80\n",
      "The BMI is 21.604938271604937\n"
     ]
    }
   ],
   "source": [
    "def calculate_bmi():\n",
    "    weight = int(input(\"Enter the weight in kg? \"))  \n",
    "    height = float(input(\"Enter the height in meters in decimal\\nExample 1.73 meters or 1.70 meters? \"))\n",
    "    bmi = weight / ((height)**2)\n",
    "    print('The BMI is',bmi)\n",
    "calculate_bmi()"
   ]
  },
  {
   "cell_type": "markdown",
   "id": "0558c893",
   "metadata": {},
   "source": [
    "**Q4 Write a Python Program to calculate the natural logarithm of any\n",
    "    number?**\n",
    "    \n",
    "**Ans**    "
   ]
  },
  {
   "cell_type": "code",
   "execution_count": 36,
   "id": "f9d76ceb",
   "metadata": {},
   "outputs": [],
   "source": [
    "import math"
   ]
  },
  {
   "cell_type": "code",
   "execution_count": 43,
   "id": "8c5bf12b",
   "metadata": {},
   "outputs": [
    {
     "name": "stdout",
     "output_type": "stream",
     "text": [
      "Enter the numbe 45\n"
     ]
    },
    {
     "data": {
      "text/plain": [
       "3.8066624897703196"
      ]
     },
     "execution_count": 43,
     "metadata": {},
     "output_type": "execute_result"
    }
   ],
   "source": [
    "def calculate_log():\n",
    "    num = int(input(\"Enter the numbe \"))  \n",
    "    val = math.log(num)\n",
    "    return val\n",
    "calculate_log()"
   ]
  },
  {
   "cell_type": "markdown",
   "id": "ff4ec64b",
   "metadata": {},
   "source": [
    "**Q5.  Write a Python Program for cube sum of first n natural numbers?**\n",
    "\n",
    "**Ans**"
   ]
  },
  {
   "cell_type": "code",
   "execution_count": 51,
   "id": "cf006963",
   "metadata": {},
   "outputs": [
    {
     "name": "stdout",
     "output_type": "stream",
     "text": [
      "Enter the range to print sum of cube12\n",
      "The list of cubes is [1, 8, 27, 64, 125, 216, 343, 512, 729, 1000, 1331, 1728]\n",
      "The sum is 6084\n"
     ]
    }
   ],
   "source": [
    "def cube_of_nums():\n",
    "    list_a=[]\n",
    "    num = int(input('Enter the range to print sum of cube'))\n",
    "    for i in range(1,num+1):\n",
    "        list_a.append(i*i*i)\n",
    "    print('The list of cubes is',list_a)\n",
    "    print('The sum is',sum(list_a))\n",
    "cube_of_nums()    "
   ]
  }
 ],
 "metadata": {
  "kernelspec": {
   "display_name": "Python 3 (ipykernel)",
   "language": "python",
   "name": "python3"
  },
  "language_info": {
   "codemirror_mode": {
    "name": "ipython",
    "version": 3
   },
   "file_extension": ".py",
   "mimetype": "text/x-python",
   "name": "python",
   "nbconvert_exporter": "python",
   "pygments_lexer": "ipython3",
   "version": "3.9.12"
  }
 },
 "nbformat": 4,
 "nbformat_minor": 5
}
