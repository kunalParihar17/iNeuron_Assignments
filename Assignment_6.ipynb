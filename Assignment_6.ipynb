{
 "cells": [
  {
   "cell_type": "markdown",
   "id": "58174951",
   "metadata": {},
   "source": [
    "**Q1 What are escape characters, and how do you use them?**\n",
    "\n",
    "**Ans**\n",
    "\n",
    "Escape characters help insert illegal characters in a string.\n",
    "\n",
    "It is represented by a backslash ' \\\\ ' followed by the character we want to insert.\n",
    "\n",
    "Example : Writing a string containing double quotes"
   ]
  },
  {
   "cell_type": "code",
   "execution_count": 5,
   "id": "28275414",
   "metadata": {},
   "outputs": [
    {
     "data": {
      "text/plain": [
       "'We live on a giant piece of rock floating in space at a speed of 220km/s called \"Earth\"  '"
      ]
     },
     "execution_count": 5,
     "metadata": {},
     "output_type": "execute_result"
    }
   ],
   "source": [
    "\"We live on a giant piece of rock floating in space at a speed of 220km/s called \\\"Earth\\\"  \""
   ]
  },
  {
   "cell_type": "markdown",
   "id": "0ca3245e",
   "metadata": {},
   "source": [
    "**Q2 What do the escape characters n and t stand for?**\n",
    "\n",
    "**Ans**\n",
    "\n",
    "\\n is used for vertical tab. This escape character take sthe cursor to the next line.\n",
    "\n",
    "\n",
    "\\t is used for horizontal tab.\n",
    "\n",
    "For e.g.,\n"
   ]
  },
  {
   "cell_type": "code",
   "execution_count": 8,
   "id": "20cb8a38",
   "metadata": {},
   "outputs": [
    {
     "name": "stdout",
     "output_type": "stream",
     "text": [
      "Where do you live \n",
      " I live in india. \t Thats amazing\n"
     ]
    }
   ],
   "source": [
    "# Example\n",
    "\n",
    "print('Where do you live \\n I live in india. \\t Thats amazing')"
   ]
  },
  {
   "cell_type": "markdown",
   "id": "f1fe1d12",
   "metadata": {},
   "source": [
    "**Q3 What is the way to include backslash characters in a string?**\n",
    "\n",
    "**Ans**\n",
    "\n",
    "We can use another back slash to talk about back slash characters in a string\n"
   ]
  },
  {
   "cell_type": "code",
   "execution_count": 13,
   "id": "10147880",
   "metadata": {},
   "outputs": [
    {
     "name": "stdout",
     "output_type": "stream",
     "text": [
      "The special character for using a tab is \\t\n",
      "The special character for using a new line is \\n\n"
     ]
    }
   ],
   "source": [
    "# Example\n",
    "\n",
    "print(\"The special character for using a tab is \\\\t\")\n",
    "print(\"The special character for using a new line is \\\\n\")"
   ]
  },
  {
   "cell_type": "markdown",
   "id": "e1f0310a",
   "metadata": {},
   "source": [
    "**Q4 The string \"Howl's Moving Castle\" is a correct value. Why isn't the single quote character in the word Howl's not escaped a problem?**\n",
    "\n",
    "**Ans**\n",
    "\n",
    "To use the string with an apostrophe we need to use a backslash."
   ]
  },
  {
   "cell_type": "code",
   "execution_count": 14,
   "id": "a5208856",
   "metadata": {},
   "outputs": [
    {
     "name": "stdout",
     "output_type": "stream",
     "text": [
      "Howl's Moving Castle\n"
     ]
    }
   ],
   "source": [
    "print(\"Howl's Moving Castle\" )"
   ]
  },
  {
   "cell_type": "markdown",
   "id": "b0b849ca",
   "metadata": {},
   "source": [
    "Double quotes are used at the start and end of the string. Hence there is no error."
   ]
  },
  {
   "cell_type": "markdown",
   "id": "c6e3c8c7",
   "metadata": {},
   "source": [
    "**Q5 How do you write a string of newlines if you don't want to use the n character?**\n",
    "\n",
    "**Ans**"
   ]
  },
  {
   "cell_type": "markdown",
   "id": "fee4e2c7",
   "metadata": {},
   "source": [
    "We need to use different print statements if we do not wish to use '\\\\n'"
   ]
  },
  {
   "cell_type": "code",
   "execution_count": 16,
   "id": "afa8c405",
   "metadata": {},
   "outputs": [
    {
     "name": "stdout",
     "output_type": "stream",
     "text": [
      "Line one\n",
      "Line two\n",
      "Line three\n",
      "Line four\n"
     ]
    }
   ],
   "source": [
    "# Example\n",
    "print(\"Line one\")\n",
    "print(\"Line two\")\n",
    "print(\"Line three\")\n",
    "print(\"Line four\")"
   ]
  },
  {
   "cell_type": "markdown",
   "id": "eba9e4e9",
   "metadata": {},
   "source": [
    "**Q6 What are the values of the given expressions?**\n",
    "\n",
    "'Hello, world!'\\[1\\]\n",
    "\n",
    "'Hello, world!'\\[0:5\\]\n",
    "\n",
    "'Hello, world!'\\[:5\\]\n",
    "\n",
    "'Hello, world!'\\[3:\\]"
   ]
  },
  {
   "cell_type": "markdown",
   "id": "7cd2abfa",
   "metadata": {},
   "source": [
    "**Ans**"
   ]
  },
  {
   "cell_type": "code",
   "execution_count": 21,
   "id": "469c3398",
   "metadata": {},
   "outputs": [
    {
     "name": "stdout",
     "output_type": "stream",
     "text": [
      "e\n",
      "Hello\n",
      "Hello\n",
      "lo, world!\n"
     ]
    }
   ],
   "source": [
    "print('Hello, world!'[1])\n",
    "\n",
    "print('Hello, world!'[0:5])\n",
    "\n",
    "print('Hello, world!'[:5])\n",
    "\n",
    "print('Hello, world!'[3:])"
   ]
  },
  {
   "cell_type": "markdown",
   "id": "f0ef33e3",
   "metadata": {},
   "source": [
    "**Q7 What are the values of the following expressions?**\n",
    "\n",
    "'Hello'.upper()\n",
    "\n",
    "'Hello'.upper().isupper()\n",
    "\n",
    "'Hello'.upper().lower()"
   ]
  },
  {
   "cell_type": "code",
   "execution_count": 52,
   "id": "790e9557",
   "metadata": {},
   "outputs": [
    {
     "name": "stdout",
     "output_type": "stream",
     "text": [
      "HELLO \t\t<------- Converted string to uppercase using \".upper()\"\n"
     ]
    }
   ],
   "source": [
    "print('Hello'.upper(),'\\t\\t<------- Converted string to uppercase using \\\".upper()\\\"')"
   ]
  },
  {
   "cell_type": "code",
   "execution_count": 53,
   "id": "421f1941",
   "metadata": {},
   "outputs": [
    {
     "name": "stdout",
     "output_type": "stream",
     "text": [
      "True \t\t<------- \".isupper()\" returns True if the all the characters in string are uppercase\n"
     ]
    }
   ],
   "source": [
    "print('Hello'.upper().isupper(),'\\t\\t<------- \\\".isupper()\\\" returns True if the all the characters in string are uppercase')"
   ]
  },
  {
   "cell_type": "code",
   "execution_count": 56,
   "id": "6bc1f0f9",
   "metadata": {},
   "outputs": [
    {
     "name": "stdout",
     "output_type": "stream",
     "text": [
      " HELLO \t\t<------- Firstly \".isupper()\" turns all the characters in upper case\n",
      " hello \t\t<------- Finally \".islower()\" turns all the characters in lower case\n",
      "\n"
     ]
    }
   ],
   "source": [
    "print(' Hello'.upper(),'\\t\\t<------- Firstly \\\".isupper()\\\" turns all the characters in upper case\\n','HELLO'.lower(),'\\t\\t<------- Finally \\\".islower()\\\" turns all the characters in lower case\\n')"
   ]
  },
  {
   "cell_type": "markdown",
   "id": "e5717295",
   "metadata": {},
   "source": [
    "**Q8 What are the values of the following expressions?**\n",
    "\n",
    "**(a)**'Remember, remember, the fifth of July.'.split()\n",
    "\n",
    "**(b)**'-'.join('There can only one.'.split())\n"
   ]
  },
  {
   "cell_type": "code",
   "execution_count": 103,
   "id": "9949f00b",
   "metadata": {},
   "outputs": [
    {
     "name": "stdout",
     "output_type": "stream",
     "text": [
      "(a)\n",
      "\n",
      "\n",
      "['Remember,', 'remember,', 'the', 'fifth', 'of', 'July.'] \n",
      "\n",
      "Using '.split()' the string is seperated with no delimiter.\n",
      "\n",
      "\n"
     ]
    }
   ],
   "source": [
    "print('(a)\\n\\n')\n",
    "print('Remember, remember, the fifth of July.'.split(),'\\n')\n",
    "\n",
    "print('Using \\'.split()\\' the string is seperated with no delimiter.\\n\\n' )"
   ]
  },
  {
   "cell_type": "markdown",
   "id": "fa19ac13",
   "metadata": {},
   "source": [
    "========================================================================================================================="
   ]
  },
  {
   "cell_type": "code",
   "execution_count": 106,
   "id": "b2a49cfe",
   "metadata": {},
   "outputs": [
    {
     "name": "stdout",
     "output_type": "stream",
     "text": [
      "(b)\n",
      "\n"
     ]
    }
   ],
   "source": [
    "print('(b)\\n')"
   ]
  },
  {
   "cell_type": "code",
   "execution_count": 107,
   "id": "88ea6e20",
   "metadata": {},
   "outputs": [
    {
     "name": "stdout",
     "output_type": "stream",
     "text": [
      "['There', 'can', 'only', 'one.']\n",
      "First The string is seperated by using 'split()' function\n"
     ]
    }
   ],
   "source": [
    "print('There can only one.\\n\\n'.split())\n",
    "print('First The string is seperated by using \\'split()\\' function')"
   ]
  },
  {
   "cell_type": "code",
   "execution_count": 96,
   "id": "db4f8032",
   "metadata": {},
   "outputs": [
    {
     "name": "stdout",
     "output_type": "stream",
     "text": [
      "There-can-only-one.\n",
      "     ^\n",
      "     |\n",
      "     | Then Using '.join()' with a seperator '-', the string is joined \n",
      "\n",
      "\n"
     ]
    }
   ],
   "source": [
    "print('-'.join('There can only one.'.split()))\n",
    "print('     ^\\n     |\\n     | Then Using \\'.join()\\' with a seperator \\'-\\', the string is joined \\n\\n' )"
   ]
  },
  {
   "cell_type": "markdown",
   "id": "7106e1d7",
   "metadata": {},
   "source": [
    "**Q9 What are the methods for right-justifying, left-justifying, and centering a string?**\n",
    "\n",
    "**Ans**"
   ]
  },
  {
   "cell_type": "markdown",
   "id": "62cbafcb",
   "metadata": {},
   "source": [
    "**Centering Alignment**"
   ]
  },
  {
   "cell_type": "code",
   "execution_count": 112,
   "id": "30b05572",
   "metadata": {},
   "outputs": [
    {
     "name": "stdout",
     "output_type": "stream",
     "text": [
      "Original string is : \n",
      " I love python \n",
      "\n",
      "Center aligned string is : \n",
      "             I love python               \n",
      "\n",
      "Here the fillchr which is optional is used to fill in remaining space.\n"
     ]
    }
   ],
   "source": [
    "cent_str = \"I love python\"\n",
    "  \n",
    "# The original string\n",
    "print (\"Original string is : \\n\", cent_str, \"\\n\")\n",
    "  \n",
    "# center aligned string \n",
    "print (\"Center aligned string is : \")\n",
    "print (cent_str.center(40), \"\\n\")\n",
    "\n",
    "print('Here the fillchr which is optional is used to fill in remaining space.')"
   ]
  },
  {
   "cell_type": "markdown",
   "id": "ee8b3d1f",
   "metadata": {},
   "source": [
    "**Left Alignment**\n",
    "\n",
    "The function aligns the string on the left. If the fillchr is not passed the remaining space is filled with blank space."
   ]
  },
  {
   "cell_type": "code",
   "execution_count": 131,
   "id": "86147504",
   "metadata": {},
   "outputs": [
    {
     "name": "stdout",
     "output_type": "stream",
     "text": [
      "Original string is : \n",
      " I love pizza \n",
      "\n",
      "Left aligned string is : \n",
      "I love pizza---------------------------- \n",
      "\n"
     ]
    }
   ],
   "source": [
    "left_str = \"I love pizza\"\n",
    "  \n",
    "# The original string\n",
    "print (\"Original string is : \\n\", left_str, \"\\n\")\n",
    "  \n",
    "# Left aligned string \n",
    "print (\"Left aligned string is : \")\n",
    "print (left_str.ljust(40,'-'), \"\\n\")\n",
    "\n",
    "# Here the fillchr which is optional is used with \\'-\\' to fill in remaining space."
   ]
  },
  {
   "cell_type": "markdown",
   "id": "f574f589",
   "metadata": {},
   "source": [
    "**Right Alignment**"
   ]
  },
  {
   "cell_type": "markdown",
   "id": "331a0b94",
   "metadata": {},
   "source": [
    "The function aligns the string on the right. If the fillchr is not passed the remaining space is filled with blank space."
   ]
  },
  {
   "cell_type": "code",
   "execution_count": 132,
   "id": "cc287d4d",
   "metadata": {},
   "outputs": [
    {
     "name": "stdout",
     "output_type": "stream",
     "text": [
      "Original string is : \n",
      " Cosmos is infinite and expanding \n",
      "\n",
      "Right aligned string is : \n",
      "--------Cosmos is infinite and expanding \n",
      "\n"
     ]
    }
   ],
   "source": [
    "right_str = \"Cosmos is infinite and expanding\"\n",
    "  \n",
    "# The original string\n",
    "print (\"Original string is : \\n\", right_str, \"\\n\")\n",
    "  \n",
    "# center aligned string \n",
    "print (\"Right aligned string is : \")\n",
    "print (right_str.rjust(40,'-'), \"\\n\")\n",
    "\n",
    "# Here the fillchr which is optional is used with \\'-\\' to fill in remaining space."
   ]
  },
  {
   "cell_type": "markdown",
   "id": "d656be9f",
   "metadata": {},
   "source": [
    "**Q10 What is the best way to remove whitespace characters from the start\n",
    "or end?**"
   ]
  },
  {
   "cell_type": "markdown",
   "id": "1971062c",
   "metadata": {},
   "source": [
    "**Ans**"
   ]
  },
  {
   "cell_type": "code",
   "execution_count": 133,
   "id": "34c6e255",
   "metadata": {},
   "outputs": [
    {
     "name": "stdout",
     "output_type": "stream",
     "text": [
      "The baby boy was only 3 months old\n"
     ]
    }
   ],
   "source": [
    "# Using .strip() we can remove the spaces at the beginning and at the end of the string.\n",
    "text = \"     boy     \"\n",
    "\n",
    "x = text.strip()\n",
    "\n",
    "print(\"The baby\", x, \"was only 3 months old\")"
   ]
  },
  {
   "cell_type": "code",
   "execution_count": null,
   "id": "886da7f9",
   "metadata": {},
   "outputs": [],
   "source": []
  }
 ],
 "metadata": {
  "kernelspec": {
   "display_name": "Python 3 (ipykernel)",
   "language": "python",
   "name": "python3"
  },
  "language_info": {
   "codemirror_mode": {
    "name": "ipython",
    "version": 3
   },
   "file_extension": ".py",
   "mimetype": "text/x-python",
   "name": "python",
   "nbconvert_exporter": "python",
   "pygments_lexer": "ipython3",
   "version": "3.9.12"
  }
 },
 "nbformat": 4,
 "nbformat_minor": 5
}
