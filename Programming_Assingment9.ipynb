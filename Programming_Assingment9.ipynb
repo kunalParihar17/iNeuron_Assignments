{
 "cells": [
  {
   "cell_type": "markdown",
   "id": "8d79cd55",
   "metadata": {},
   "source": [
    "**Q1.  Write a Python program to check if the given number is a Disarium Number?**\n",
    "\n",
    "**Ans**"
   ]
  },
  {
   "cell_type": "code",
   "execution_count": 31,
   "id": "2ae21177",
   "metadata": {},
   "outputs": [
    {
     "data": {
      "text/plain": [
       "False"
      ]
     },
     "execution_count": 31,
     "metadata": {},
     "output_type": "execute_result"
    }
   ],
   "source": [
    "def is_disarium(num):\n",
    "    temp=0\n",
    "    for i in range(len(str(num))):\n",
    "        temp+=int(str(num)[i])**(i+1)\n",
    "        return temp == num\n",
    "is_disarium(89)   "
   ]
  },
  {
   "cell_type": "markdown",
   "id": "a2a107c1",
   "metadata": {},
   "source": [
    "**Q2.  Write a Python program to print all disarium numbers between 1 to 100?**\n",
    "\n",
    "**Ans**"
   ]
  },
  {
   "cell_type": "code",
   "execution_count": 37,
   "id": "8bdfa0ac",
   "metadata": {},
   "outputs": [
    {
     "name": "stdout",
     "output_type": "stream",
     "text": [
      "Enter the Minimum Disarium Number = 100\n",
      "Enter the Maximum Disarium Number = 1000000\n",
      "\n",
      "The List of Disarium Numbers from 100 and 1000000\n",
      "135   175   518   598   1306   1676   2427   "
     ]
    }
   ],
   "source": [
    "import math\n",
    "\n",
    "def digitCount(num):\n",
    "    length = 0\n",
    "    while num  != 0:\n",
    "        length = length + 1\n",
    "        num = num // 10\n",
    "    return length\n",
    "\n",
    "def digitSum(num):\n",
    "    Sum = 0\n",
    "    rem = 0\n",
    "    length = digitCount(num)\n",
    "    while num > 0:\n",
    "        rem = num % 10\n",
    "        Sum = Sum + math.pow(rem, length)\n",
    "        num = num // 10\n",
    "        length = length - 1\n",
    "    return Sum\n",
    "\n",
    "\n",
    "minDis = int(input(\"Enter the Minimum Disarium Number = \"))\n",
    "maxDis = int(input(\"Enter the Maximum Disarium Number = \"))\n",
    "\n",
    "print(\"\\nThe List of Disarium Numbers from {0} and {1}\".format(minDis, maxDis)) \n",
    "for i in range(minDis, maxDis):\n",
    "    Sum = digitSum(i)\n",
    "\n",
    "    if Sum == i:\n",
    "        print(i, end = \"   \")"
   ]
  },
  {
   "cell_type": "markdown",
   "id": "462c04d1",
   "metadata": {},
   "source": [
    "**Q3.  Write a Python program to check if the given number is Happy Number?**\n",
    "\n",
    "**Ans**"
   ]
  },
  {
   "cell_type": "code",
   "execution_count": 17,
   "id": "1e2ccf9a",
   "metadata": {},
   "outputs": [
    {
     "name": "stdout",
     "output_type": "stream",
     "text": [
      "Enter the number82\n",
      "82 is a Happy number!\n"
     ]
    }
   ],
   "source": [
    "def numSquareSum(n):\n",
    "    squareSum = 0;\n",
    "    while(n):\n",
    "        squareSum += (n % 10) * (n % 10);\n",
    "        n = int(n / 10);\n",
    "    return squareSum;\n",
    "\n",
    "def isHappynumber(n):\n",
    " \n",
    "    slow = n;\n",
    "    fast = n;\n",
    "    while(True):\n",
    "         \n",
    "        slow = numSquareSum(slow);\n",
    " \n",
    "        # move fast number\n",
    "        # by two iteration\n",
    "        fast = numSquareSum(numSquareSum(fast));\n",
    "        if(slow != fast):\n",
    "            continue;\n",
    "        else:\n",
    "            break;\n",
    "\n",
    "    return (slow == 1);\n",
    "n=int(input('Enter the number'))\n",
    "if (isHappynumber(n)):\n",
    "    print(n , \"is a Happy number!\");\n",
    "else:\n",
    "    print(n , \"is not a Happy number!\");"
   ]
  },
  {
   "cell_type": "markdown",
   "id": "c3ca6477",
   "metadata": {},
   "source": [
    "**Q4.  Write a Python program to print all happy numbers between 1 and 100?**\n",
    "\n",
    "**Ans**\n"
   ]
  },
  {
   "cell_type": "code",
   "execution_count": 26,
   "id": "831c95be",
   "metadata": {},
   "outputs": [
    {
     "name": "stdout",
     "output_type": "stream",
     "text": [
      "Happy numbers between 1 and 100 are : \n",
      "1\n",
      "7\n",
      "10\n",
      "13\n",
      "19\n",
      "23\n",
      "28\n",
      "31\n",
      "32\n",
      "44\n",
      "49\n",
      "68\n",
      "70\n",
      "79\n",
      "82\n",
      "86\n",
      "91\n",
      "94\n",
      "97\n",
      "100\n"
     ]
    }
   ],
   "source": [
    "def happy_nums_1to100(my_num):\n",
    "   rem = sum_val = 0\n",
    "   while(my_num > 0):\n",
    "      rem = my_num%10\n",
    "      sum_val = sum_val + (rem*rem)\n",
    "      my_num = my_num//10\n",
    "   return sum_val\n",
    "print(\"Happy numbers between 1 and 100 are : \")\n",
    "for i in range(1, 101):\n",
    "   result = i\n",
    "   while(result != 1 and result != 4):\n",
    "      result = happy_nums_1to100(result)\n",
    "   if(result == 1):\n",
    "      print(i)"
   ]
  },
  {
   "cell_type": "markdown",
   "id": "3f8c23bf",
   "metadata": {},
   "source": [
    "**Q5. Write a Python program to determine whether the given number is a\n",
    "    Harshad Number?**\n",
    "    \n",
    "    \n",
    "**Ans**    "
   ]
  },
  {
   "cell_type": "code",
   "execution_count": 47,
   "id": "6106694d",
   "metadata": {},
   "outputs": [
    {
     "name": "stdout",
     "output_type": "stream",
     "text": [
      "Enter the number18\n",
      "18  is a Harshad Number\n"
     ]
    }
   ],
   "source": [
    "def harshad_num():\n",
    "    num=str(input('Enter the number'))\n",
    "    abc=0\n",
    "    for i in num:\n",
    "        abc= abc + int(i)\n",
    "    if int(num)%abc==0:\n",
    "        print(num,' is a Harshad Number')\n",
    "    else: \n",
    "        print(num,' is not a Harshad Number')\n",
    "harshad_num()        "
   ]
  },
  {
   "cell_type": "markdown",
   "id": "393e298f",
   "metadata": {},
   "source": [
    "**Q6.  Write a Python program to print all pronic numbers between 1 and\n",
    "    100?**\n",
    "    \n",
    "**Ans**    "
   ]
  },
  {
   "cell_type": "code",
   "execution_count": 61,
   "id": "2a32407a",
   "metadata": {},
   "outputs": [
    {
     "name": "stdout",
     "output_type": "stream",
     "text": [
      "0 2 6 12 20 30 42 56 72 90 110 132 156 182 "
     ]
    }
   ],
   "source": [
    "import math\n",
    "def checkpronicnum (x) :\n",
    "    i = 0\n",
    "    while ( i <= (int)(math.sqrt(x)) ) :\n",
    "        if ( x == i * (i + 1)) :\n",
    "            return True\n",
    "        i = i + 1\n",
    " \n",
    "    return False\n",
    "i = 0\n",
    "while (i <= 200 ) :\n",
    "    if checkpronicnum(i) :\n",
    "        print(i,end=\" \")\n",
    "    i = i + 1"
   ]
  },
  {
   "cell_type": "code",
   "execution_count": null,
   "id": "d1c4209d",
   "metadata": {},
   "outputs": [],
   "source": []
  }
 ],
 "metadata": {
  "kernelspec": {
   "display_name": "Python 3 (ipykernel)",
   "language": "python",
   "name": "python3"
  },
  "language_info": {
   "codemirror_mode": {
    "name": "ipython",
    "version": 3
   },
   "file_extension": ".py",
   "mimetype": "text/x-python",
   "name": "python",
   "nbconvert_exporter": "python",
   "pygments_lexer": "ipython3",
   "version": "3.9.12"
  }
 },
 "nbformat": 4,
 "nbformat_minor": 5
}
