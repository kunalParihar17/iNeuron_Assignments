{
 "cells": [
  {
   "cell_type": "markdown",
   "id": "0c3d62d1",
   "metadata": {},
   "source": []
  },
  {
   "cell_type": "markdown",
   "id": "922fb770",
   "metadata": {},
   "source": [
    "**Q1.  Write a Python Program to Add Two Matrices?**\n",
    "\n",
    "**Ans**\n"
   ]
  },
  {
   "cell_type": "code",
   "execution_count": 37,
   "id": "5633d0ce",
   "metadata": {},
   "outputs": [
    {
     "data": {
      "text/plain": [
       "[[17, 10, 3], [12, 5, 9], [9, 11, 18]]"
      ]
     },
     "execution_count": 37,
     "metadata": {},
     "output_type": "execute_result"
    }
   ],
   "source": [
    "X = [[12,7,2],\n",
    "    [4 ,4,6],\n",
    "    [7 ,2,9]]\n",
    "Y = [[5,3,1],\n",
    "    [8,1,3],\n",
    "    [2,9,9]]\n",
    "result = [[0,0,0],\n",
    "          [0,0,0],\n",
    "          [0,0,0]]\n",
    "for i in range(len(X)):\n",
    "    for j in range(len(Y[0])):\n",
    "        result[i][j] += X[i][j]+Y[i][j]\n",
    "result        "
   ]
  },
  {
   "cell_type": "markdown",
   "id": "f721e5b0",
   "metadata": {},
   "source": [
    "**Q2.  Write a Python Program to Multiply Two Matrices?**\n",
    "**Ans**\n"
   ]
  },
  {
   "cell_type": "code",
   "execution_count": 54,
   "id": "d055cdbf",
   "metadata": {},
   "outputs": [
    {
     "data": {
      "text/plain": [
       "[[122, 70, 60, 27], [64, 70, 70, 14], [69, 104, 94, 23]]"
      ]
     },
     "execution_count": 54,
     "metadata": {},
     "output_type": "execute_result"
    }
   ],
   "source": [
    "X = [[12,7,3],\n",
    "    [4 ,4,6],\n",
    "    [7 ,2,9]]\n",
    "Y = [[5,3,1,2],\n",
    "    [8,1,3,0],\n",
    "    [2,9,9,1]]\n",
    "res = [[0,0,0,0],\n",
    "         [0,0,0,0],\n",
    "         [0,0,0,0]]\n",
    "\n",
    "for i in range(len(X)):\n",
    "   for j in range(len(Y[0])):\n",
    "       for k in range(len(Y)):\n",
    "           res[i][j] += X[i][k] * Y[k][j]\n",
    "res"
   ]
  },
  {
   "cell_type": "markdown",
   "id": "60fe9fb5",
   "metadata": {},
   "source": [
    "**Q3.  Write a Python Program to Transpose a Matrix?**\n",
    "\n",
    "**Ans**\n"
   ]
  },
  {
   "cell_type": "code",
   "execution_count": 63,
   "id": "69582371",
   "metadata": {},
   "outputs": [
    {
     "name": "stdout",
     "output_type": "stream",
     "text": [
      "[12, 4, 7]\n",
      "[7, 4, 2]\n",
      "[3, 6, 9]\n"
     ]
    }
   ],
   "source": [
    "X = [[12,7,3],\n",
    "    [4 ,4,6],\n",
    "    [7 ,2,9]]\n",
    "result = [[0,0,0],\n",
    "       [0,0,0],\n",
    "       [0,0,0]]\n",
    "for i in range(len(X)):\n",
    "    for j in range(len(X[0])):\n",
    "         result[i][j] = X[j][i] \n",
    "for i in result:\n",
    "    print(i)   "
   ]
  },
  {
   "cell_type": "markdown",
   "id": "c77f146e",
   "metadata": {},
   "source": [
    "**Q4.  Write a Python Program to Sort Words in Alphabetic Order?**\n",
    "\n",
    "**Ans**"
   ]
  },
  {
   "cell_type": "code",
   "execution_count": null,
   "id": "b254dc27",
   "metadata": {},
   "outputs": [],
   "source": [
    "[[7, 7, 3],\n",
    " [4, 2, 6],\n",
    " [7, 2, 6]]"
   ]
  },
  {
   "cell_type": "code",
   "execution_count": 72,
   "id": "77d7bf84",
   "metadata": {},
   "outputs": [
    {
     "name": "stdout",
     "output_type": "stream",
     "text": [
      "Words sorted alphabetically : ['confused', 'empathy', 'fear', 'happy', 'love', 'pain']\n"
     ]
    }
   ],
   "source": [
    "x = ['happy','confused','love','pain','fear','empathy']\n",
    "x.sort()\n",
    "print('Words sorted alphabetically :',x)"
   ]
  },
  {
   "cell_type": "markdown",
   "id": "4e244f61",
   "metadata": {},
   "source": [
    "**Q5.  Write a Python Program to Remove Punctuation From a String?**\n",
    "\n",
    "**Ans**"
   ]
  },
  {
   "cell_type": "code",
   "execution_count": 134,
   "id": "de2572ed",
   "metadata": {},
   "outputs": [
    {
     "ename": "TypeError",
     "evalue": "object of type 'bool' has no len()",
     "output_type": "error",
     "traceback": [
      "\u001b[1;31m---------------------------------------------------------------------------\u001b[0m",
      "\u001b[1;31mTypeError\u001b[0m                                 Traceback (most recent call last)",
      "Input \u001b[1;32mIn [134]\u001b[0m, in \u001b[0;36m<cell line: 2>\u001b[1;34m()\u001b[0m\n\u001b[0;32m      1\u001b[0m string \u001b[38;5;241m=\u001b[39m \u001b[38;5;124m'\u001b[39m\u001b[38;5;124mLife is beautiful.It must not be evaluated,judged or be upset about! It must be felt and experienced with utmost courage and acceptance.The main ingeridient : love \u001b[39m\u001b[38;5;124m'\u001b[39m\n\u001b[1;32m----> 2\u001b[0m string_new \u001b[38;5;241m=\u001b[39m [val \u001b[38;5;28;01mfor\u001b[39;00m val \u001b[38;5;129;01min\u001b[39;00m string \u001b[38;5;28;01mif\u001b[39;00m \u001b[38;5;28mlen\u001b[39m(val\u001b[38;5;241m==\u001b[39m\u001b[38;5;241m1\u001b[39m)]\n",
      "Input \u001b[1;32mIn [134]\u001b[0m, in \u001b[0;36m<listcomp>\u001b[1;34m(.0)\u001b[0m\n\u001b[0;32m      1\u001b[0m string \u001b[38;5;241m=\u001b[39m \u001b[38;5;124m'\u001b[39m\u001b[38;5;124mLife is beautiful.It must not be evaluated,judged or be upset about! It must be felt and experienced with utmost courage and acceptance.The main ingeridient : love \u001b[39m\u001b[38;5;124m'\u001b[39m\n\u001b[1;32m----> 2\u001b[0m string_new \u001b[38;5;241m=\u001b[39m [val \u001b[38;5;28;01mfor\u001b[39;00m val \u001b[38;5;129;01min\u001b[39;00m string \u001b[38;5;28;01mif\u001b[39;00m \u001b[38;5;28;43mlen\u001b[39;49m\u001b[43m(\u001b[49m\u001b[43mval\u001b[49m\u001b[38;5;241;43m==\u001b[39;49m\u001b[38;5;241;43m1\u001b[39;49m\u001b[43m)\u001b[49m]\n",
      "\u001b[1;31mTypeError\u001b[0m: object of type 'bool' has no len()"
     ]
    }
   ],
   "source": [
    "string = 'Life is beautiful.It must not be evaluated,judged or be upset about! It must be felt and experienced with utmost courage and acceptance.The main ingeridient : love '\n",
    "string_new = [val for val in string if len(val==1)]"
   ]
  },
  {
   "cell_type": "code",
   "execution_count": 159,
   "id": "371f0914",
   "metadata": {},
   "outputs": [
    {
     "data": {
      "text/plain": [
       "'Life is beautifulIt must not be evaluatedjudged or be upset about It must be felt and experienced with utmost courage and acceptanceThe main ingeridient  love '"
      ]
     },
     "execution_count": 159,
     "metadata": {},
     "output_type": "execute_result"
    }
   ],
   "source": [
    "import re\n",
    "string = 'Life is beautiful.It must not be evaluated,judged or be upset about! It must be felt and experienced with utmost courage and acceptance.The main ingeridient : love '\n",
    "punc = '''!()-[]{};:'\"\\,<>./?@#$%^&*_~'''''\n",
    "new_string = re.sub(r'[^\\w\\s]', '', string)\n",
    "new_string"
   ]
  },
  {
   "cell_type": "code",
   "execution_count": null,
   "id": "86dd1ccc",
   "metadata": {},
   "outputs": [],
   "source": []
  }
 ],
 "metadata": {
  "kernelspec": {
   "display_name": "Python 3 (ipykernel)",
   "language": "python",
   "name": "python3"
  },
  "language_info": {
   "codemirror_mode": {
    "name": "ipython",
    "version": 3
   },
   "file_extension": ".py",
   "mimetype": "text/x-python",
   "name": "python",
   "nbconvert_exporter": "python",
   "pygments_lexer": "ipython3",
   "version": "3.9.12"
  }
 },
 "nbformat": 4,
 "nbformat_minor": 5
}
