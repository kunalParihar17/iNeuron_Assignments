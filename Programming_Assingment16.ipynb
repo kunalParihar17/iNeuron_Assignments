{
 "cells": [
  {
   "cell_type": "markdown",
   "id": "e31cc1fa",
   "metadata": {},
   "source": [
    "**Q1. Write a function that stutters a word as if someone is\n",
    "struggling to read it. The first two letters are repeated twice with an\n",
    "ellipsis ... and space after each, and then the word is pronounced with\n",
    "a question mark ?.**\n",
    "\n",
    "**Examples**\n",
    "\n",
    "stutter(\"incredible\") ➞ \"in... in... incredible?\"\n",
    "\n",
    "stutter(\"enthusiastic\") ➞ \"en... en... enthusiastic?\"\n",
    "\n",
    "stutter(\"outstanding\") ➞ \"ou... ou... outstanding?\"\n",
    "\n",
    "Hint :- Assume all input is in lower case and at least two characters\n",
    "long."
   ]
  },
  {
   "cell_type": "code",
   "execution_count": 58,
   "id": "de47f10e",
   "metadata": {},
   "outputs": [
    {
     "name": "stdout",
     "output_type": "stream",
     "text": [
      "en ... en ... enthusuastic\n"
     ]
    }
   ],
   "source": [
    "def stutter(string):\n",
    "    print(string[0:2],'...',string[0:2],'...',string )   \n",
    "        \n",
    "stutter('enthusuastic')        "
   ]
  },
  {
   "cell_type": "markdown",
   "id": "78f2c1e1",
   "metadata": {},
   "source": [
    "**Q2 Create a function that takes an angle in radians and returns\n",
    "the corresponding angle in degrees rounded to one decimal place.**\n",
    "\n",
    "### Examples\n",
    "\n",
    "radians\\_to\\_degrees(1) ➞ 57.3\n",
    "\n",
    "radians\\_to\\_degrees(20) ➞ 1145.9\n",
    "\n",
    "radians\\_to\\_degrees(50) ➞ 2864.8"
   ]
  },
  {
   "cell_type": "code",
   "execution_count": 74,
   "id": "0f80e7df",
   "metadata": {},
   "outputs": [
    {
     "name": "stdout",
     "output_type": "stream",
     "text": [
      "Enter the Angle in radians\n",
      "23.4334\n",
      "The angle 23.4334 entered in radians, converted in degrees is 1342.7\n"
     ]
    }
   ],
   "source": [
    "def convert_to_deg():\n",
    "    angle = float(input('Enter the Angle in radians\\n'))\n",
    "    print('The angle',angle,'entered in radians, converted in degrees is',round(angle*57.3,1))\n",
    "convert_to_deg()    \n",
    "    "
   ]
  },
  {
   "cell_type": "markdown",
   "id": "7d262423",
   "metadata": {},
   "source": [
    "**Q3. In this challenge, establish if a given integer num is a\n",
    "Curzon number. If 1 plus 2 elevated to num is exactly divisible by 1\n",
    "plus 2 multiplied by num, then num is a Curzon number.**\n",
    "\n",
    "**Given a non-negative integer num, implement a function that returns True\n",
    "if num is a Curzon number, or False otherwise.**\n",
    "\n",
    "### Examples\n",
    "\n",
    "is\\_curzon(5) ➞ True\n",
    "\n",
    "\\# 2 \\*\\* 5 + 1 = 33\n",
    "\n",
    "\\# 2 \\* 5 + 1 = 11\n",
    "\n",
    "\\# 33 is a multiple of 11\n",
    "\n",
    "is\\_curzon(10) ➞ False\n",
    "\n",
    "\\# 2 \\*\\* 10 + 1 = 1025\n",
    "\n",
    "\\# 2 \\* 10 + 1 = 21\n",
    "\n",
    "\\# 1025 is not a multiple of 21\n",
    "\n",
    "is\\_curzon(14) ➞ True\n",
    "\n",
    "\\# 2 \\*\\* 14 + 1 = 16385\n",
    "\n",
    "\\# 2 \\* 14 + 1 = 29\n",
    "\n",
    "\\# 16385 is a multiple of 29\n"
   ]
  },
  {
   "cell_type": "code",
   "execution_count": 79,
   "id": "1649bdf7",
   "metadata": {},
   "outputs": [
    {
     "name": "stdout",
     "output_type": "stream",
     "text": [
      "Enter the number\n",
      "\n",
      "5\n",
      "5 is a curzon number\n"
     ]
    }
   ],
   "source": [
    "def is_curzon():\n",
    "    num = int(input('Enter the number\\n\\n'))\n",
    "    a = 2**num + 1\n",
    "    b = 2*num + 1\n",
    "    if a%b==0:\n",
    "        print(num,'is a curzon number')\n",
    "    else :\n",
    "        print(num,'is not a curzon number')\n",
    "is_curzon()        "
   ]
  },
  {
   "cell_type": "code",
   "execution_count": 81,
   "id": "c0153d75",
   "metadata": {},
   "outputs": [
    {
     "name": "stdout",
     "output_type": "stream",
     "text": [
      "Enter the number\n",
      "\n",
      "10\n",
      "10 is not a curzon number\n"
     ]
    }
   ],
   "source": [
    "is_curzon()        "
   ]
  },
  {
   "cell_type": "code",
   "execution_count": 83,
   "id": "95392eb6",
   "metadata": {},
   "outputs": [
    {
     "name": "stdout",
     "output_type": "stream",
     "text": [
      "Enter the number\n",
      "\n",
      "14\n",
      "14 is a curzon number\n"
     ]
    }
   ],
   "source": [
    "is_curzon()        "
   ]
  },
  {
   "cell_type": "markdown",
   "id": "6da75346",
   "metadata": {},
   "source": [
    "**Q4.Given the side length x find the area of a hexagon.**\n",
    "\n",
    "<img src=\"attachment:media/image1.jpeg\" style=\"width:4.79167in;height:3.59167in\" alt=\"Formula to find the area of a hexagon\" />\n",
    "\n",
    "### Examples\n",
    "\n",
    "area\\_of\\_hexagon(1) ➞ 2.6\n",
    "\n",
    "area\\_of\\_hexagon(2) ➞ 10.4\n",
    "\n",
    "area\\_of\\_hexagon(3) ➞ 23.4\n",
    "\n"
   ]
  },
  {
   "cell_type": "code",
   "execution_count": 89,
   "id": "75a64aec",
   "metadata": {},
   "outputs": [
    {
     "name": "stdout",
     "output_type": "stream",
     "text": [
      "Enter the side length44\n",
      "The are of the Hexagon is 5029.87554518002\n"
     ]
    }
   ],
   "source": [
    "def area_of_hexagon():\n",
    "    num = int(input('Enter the side length'))\n",
    "    print('The are of the Hexagon is',(3*(3**(0.5))*(num**2))/2)\n",
    "area_of_hexagon()    "
   ]
  },
  {
   "cell_type": "markdown",
   "id": "5a23541f",
   "metadata": {},
   "source": [
    "**Q5. Create a function that returns a base-2 (binary)\n",
    "representation of a base-10 (decimal) string number. To convert is\n",
    "simple: ((2) means base-2 and (10) means base-10) 010101001(2) = 1 + 8 +\n",
    "32 + 128.**\n",
    "\n",
    "**Going from right to left, the value of the most right bit is 1, now from\n",
    "that every bit to the left will be x2 the value, value of an 8 bit\n",
    "binary numbers are (256, 128, 64, 32, 16, 8, 4, 2, 1).**\n",
    "\n",
    "### Examples\n",
    "\n",
    "binary(1) ➞ \"1\"\n",
    "\n",
    "\\# 1\\*1 = 1\n",
    "\n",
    "binary(5) ➞ \"101\"\n",
    "\n",
    "\\# 1\\*1 + 1\\*4 = 5\n",
    "\n",
    "binary(10) ➞ \"1010\"\n",
    "\n",
    "\\# 1\\*2 + 1\\*8 = 10"
   ]
  },
  {
   "cell_type": "code",
   "execution_count": 90,
   "id": "e3ee1ef5",
   "metadata": {},
   "outputs": [],
   "source": [
    "import math"
   ]
  },
  {
   "cell_type": "code",
   "execution_count": 93,
   "id": "cceb1709",
   "metadata": {},
   "outputs": [
    {
     "ename": "TypeError",
     "evalue": "not all arguments converted during string formatting",
     "output_type": "error",
     "traceback": [
      "\u001b[1;31m---------------------------------------------------------------------------\u001b[0m",
      "\u001b[1;31mTypeError\u001b[0m                                 Traceback (most recent call last)",
      "Input \u001b[1;32mIn [93]\u001b[0m, in \u001b[0;36m<cell line: 9>\u001b[1;34m()\u001b[0m\n\u001b[0;32m      7\u001b[0m         decimal \u001b[38;5;241m=\u001b[39m math\u001b[38;5;241m.\u001b[39mfloor(decimal\u001b[38;5;241m/\u001b[39m\u001b[38;5;241m2\u001b[39m)\n\u001b[0;32m      8\u001b[0m     \u001b[38;5;28;01mreturn\u001b[39;00m result\u001b[38;5;241m.\u001b[39msplit(\u001b[38;5;124m\"\u001b[39m\u001b[38;5;124m\"\u001b[39m)\u001b[38;5;241m.\u001b[39mreverse()\u001b[38;5;241m.\u001b[39mjoin(\u001b[38;5;124m\"\u001b[39m\u001b[38;5;124m\"\u001b[39m)\n\u001b[1;32m----> 9\u001b[0m \u001b[43mbinary\u001b[49m\u001b[43m(\u001b[49m\u001b[38;5;241;43m1\u001b[39;49m\u001b[43m)\u001b[49m\n",
      "Input \u001b[1;32mIn [93]\u001b[0m, in \u001b[0;36mbinary\u001b[1;34m(decimal)\u001b[0m\n\u001b[0;32m      4\u001b[0m     result \u001b[38;5;241m=\u001b[39m \u001b[38;5;124m'\u001b[39m\u001b[38;5;124m0\u001b[39m\u001b[38;5;124m'\u001b[39m\n\u001b[0;32m      5\u001b[0m \u001b[38;5;28;01mwhile\u001b[39;00m (decimal \u001b[38;5;241m>\u001b[39m \u001b[38;5;241m0\u001b[39m):\n\u001b[1;32m----> 6\u001b[0m     result \u001b[38;5;241m+\u001b[39m\u001b[38;5;241m=\u001b[39m \u001b[43mresult\u001b[49m\u001b[43m \u001b[49m\u001b[38;5;241;43m%\u001b[39;49m\u001b[43m \u001b[49m\u001b[38;5;241;43m2\u001b[39;49m\n\u001b[0;32m      7\u001b[0m     decimal \u001b[38;5;241m=\u001b[39m math\u001b[38;5;241m.\u001b[39mfloor(decimal\u001b[38;5;241m/\u001b[39m\u001b[38;5;241m2\u001b[39m)\n\u001b[0;32m      8\u001b[0m \u001b[38;5;28;01mreturn\u001b[39;00m result\u001b[38;5;241m.\u001b[39msplit(\u001b[38;5;124m\"\u001b[39m\u001b[38;5;124m\"\u001b[39m)\u001b[38;5;241m.\u001b[39mreverse()\u001b[38;5;241m.\u001b[39mjoin(\u001b[38;5;124m\"\u001b[39m\u001b[38;5;124m\"\u001b[39m)\n",
      "\u001b[1;31mTypeError\u001b[0m: not all arguments converted during string formatting"
     ]
    }
   ],
   "source": [
    "def binary(decimal):\n",
    "    result = ''\n",
    "    if (decimal == 0):\n",
    "        result = '0'\n",
    "    while (decimal > 0):\n",
    "        result += result % 2\n",
    "        decimal = math.floor(decimal/2)\n",
    "    return result.split(\"\").reverse().join(\"\")\n",
    "binary(1)"
   ]
  }
 ],
 "metadata": {
  "kernelspec": {
   "display_name": "Python 3 (ipykernel)",
   "language": "python",
   "name": "python3"
  },
  "language_info": {
   "codemirror_mode": {
    "name": "ipython",
    "version": 3
   },
   "file_extension": ".py",
   "mimetype": "text/x-python",
   "name": "python",
   "nbconvert_exporter": "python",
   "pygments_lexer": "ipython3",
   "version": "3.9.12"
  }
 },
 "nbformat": 4,
 "nbformat_minor": 5
}
