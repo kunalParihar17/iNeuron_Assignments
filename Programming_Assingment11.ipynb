{
 "cells": [
  {
   "cell_type": "markdown",
   "id": "2e62086b",
   "metadata": {},
   "source": [
    "**Q1.  Write a Python program to find words which are greater than given\n",
    "    length k?**\n",
    "    \n",
    "**Ans**    "
   ]
  },
  {
   "cell_type": "code",
   "execution_count": 2,
   "id": "cac98843",
   "metadata": {},
   "outputs": [
    {
     "name": "stdout",
     "output_type": "stream",
     "text": [
      "Enter the length of word5\n"
     ]
    },
    {
     "data": {
      "text/plain": [
       "['called', 'Jungle”', 'because', 'hunting', 'capacity']"
      ]
     },
     "execution_count": 2,
     "metadata": {},
     "output_type": "execute_result"
    }
   ],
   "source": [
    "string = 'Lion is called as “King of Jungle” because of its huge size and hunting capacity'\n",
    "def words():\n",
    "    list_a = []\n",
    "    size = int(input('Enter the length of word'))\n",
    "    for word in string.split():\n",
    "        if len(word)>size:\n",
    "            list_a.append(word)\n",
    "    return list_a    \n",
    "words()"
   ]
  },
  {
   "cell_type": "markdown",
   "id": "5569769c",
   "metadata": {},
   "source": [
    "**Q2.  Write a Python program for removing i-th character from a string?**\n",
    "\n",
    "**Ans**\n"
   ]
  },
  {
   "cell_type": "code",
   "execution_count": 30,
   "id": "8b3ce302",
   "metadata": {},
   "outputs": [
    {
     "name": "stdout",
     "output_type": "stream",
     "text": [
      "Lionis called as “King of Jungle” because of its huge size and hunting capacity\n"
     ]
    }
   ],
   "source": [
    "def rem_ith_char(s, i):\n",
    "    a = s[ : i]\n",
    "    b = s[i + 1: ]\n",
    "\n",
    "    return a+b\n",
    "\n",
    "string = \"Lion is called as “King of Jungle” because of its huge size and hunting capacity\"\n",
    "i = 5\n",
    "print(rem_ith_char(string,i-1))"
   ]
  },
  {
   "cell_type": "markdown",
   "id": "7fc4fd54",
   "metadata": {},
   "source": [
    "**Q3.  Write a Python program to split and join a string?**\n",
    "\n",
    "**Ans**"
   ]
  },
  {
   "cell_type": "code",
   "execution_count": 39,
   "id": "70e17ab9",
   "metadata": {},
   "outputs": [
    {
     "name": "stdout",
     "output_type": "stream",
     "text": [
      "After Splitting:\n",
      " ['Lion', 'is', 'called', 'as', '“King', 'of', 'Jungle”', 'because', 'of', 'its', 'huge', 'size', 'and', 'hunting', 'capacity'] \n",
      "\n",
      "after joining:\n",
      " Lion is called as “King of Jungle” because of its huge size and hunting capacity\n"
     ]
    }
   ],
   "source": [
    "string = \"Lion is called as “King of Jungle” because of its huge size and hunting capacity\"\n",
    "\n",
    "def split_and_join(string):\n",
    "    print('After Splitting:\\n',string.split(),'\\n')\n",
    "    print('after joining:\\n',''.join(string))\n",
    "split_and_join(string)\n"
   ]
  },
  {
   "cell_type": "markdown",
   "id": "1b60d0f2",
   "metadata": {},
   "source": [
    "**Q4.  Write a Python to check if a given string is binary string or not?**\n",
    "\n",
    "**Ans**\n"
   ]
  },
  {
   "cell_type": "code",
   "execution_count": 6,
   "id": "29007ee4",
   "metadata": {},
   "outputs": [
    {
     "name": "stdout",
     "output_type": "stream",
     "text": [
      "Stringa is not a binary string.\n",
      "Stringb is not a binary string.\n"
     ]
    }
   ],
   "source": [
    "stringa = '01101011010111'\n",
    "b = {'0','1'}\n",
    "t = set(stringa)\n",
    "\n",
    "if b == t or t == {'0'} or t == {'1'}:\n",
    "    print(\"Stringa is a binary string.\")\n",
    "else:\n",
    "    print(\"Stringa is not a binary string.\")\n",
    "\n",
    "stringb = '012021010100111'\n",
    "u = set(stringb)\n",
    "\n",
    "if b == u or u == {'0'} or u == {'1'}:\n",
    "    print(\"Stringb is a binary string.\")\n",
    "else:\n",
    "    print(\"Stringb is not a binary string.\")"
   ]
  },
  {
   "cell_type": "markdown",
   "id": "70eb9633",
   "metadata": {},
   "source": [
    "**Q5.  Write a Python program to find uncommon words from two Strings?**\n",
    "\n",
    "**Ans**"
   ]
  },
  {
   "cell_type": "code",
   "execution_count": 28,
   "id": "72250d6a",
   "metadata": {},
   "outputs": [
    {
     "data": {
      "text/plain": [
       "['After',\n",
       " 'I',\n",
       " 'college,',\n",
       " 'I',\n",
       " 'spent',\n",
       " 'years',\n",
       " 'traveling',\n",
       " 'around',\n",
       " 'the',\n",
       " 'world.']"
      ]
     },
     "execution_count": 28,
     "metadata": {},
     "output_type": "execute_result"
    }
   ],
   "source": [
    "string_1 = 'After I graduated from college, I spent two years traveling around the world.'\n",
    "string_2 = 'Every student who has graduated from our university has studied English with a native speaker for at least two years.'\n",
    "\n",
    "def uncommon_words(str1,str2):\n",
    "    uncommon=[]\n",
    "    for i in str1.split():\n",
    "        if i not in str2.split():\n",
    "            uncommon.append(i)\n",
    "    return(uncommon)\n",
    "uncommon_words(string_1,string_2)"
   ]
  },
  {
   "cell_type": "markdown",
   "id": "3d00ecb0",
   "metadata": {},
   "source": [
    "**Q6.  Write a Python to find all duplicate characters in string?**\n",
    "\n",
    "**Ans**\n"
   ]
  },
  {
   "cell_type": "code",
   "execution_count": 85,
   "id": "a25db17c",
   "metadata": {},
   "outputs": [
    {
     "name": "stdout",
     "output_type": "stream",
     "text": [
      "Common words in strings: ['graduated', 'from', 'two']\n"
     ]
    }
   ],
   "source": [
    "string_1 = 'After I graduated from college, I spent two years traveling around the world.'\n",
    "string_2 = 'Every student who has graduated from our university has studied English with a native speaker for at least two years.'\n",
    "from collections import Counter\n",
    "def common_words(str1,str2):\n",
    "    abc = {'duplicate_word':[]} \n",
    "    for i in string_1.split():\n",
    "        for j in string_2.split():\n",
    "            if i==j:\n",
    "                abc['duplicate_word'].append(i)\n",
    "    print('Common words in strings:',abc['duplicate_word'])        \n",
    "common_words(string_1,string_2)    "
   ]
  },
  {
   "cell_type": "markdown",
   "id": "c8988d6d",
   "metadata": {},
   "source": [
    "**Q7.  Write a Python Program to check if a string contains any special\n",
    "    character?**\n",
    "    \n",
    "**Ans**    "
   ]
  },
  {
   "cell_type": "code",
   "execution_count": 61,
   "id": "fda62f5f",
   "metadata": {},
   "outputs": [
    {
     "name": "stdout",
     "output_type": "stream",
     "text": [
      "['! ', '& ', '@ ']\n"
     ]
    }
   ],
   "source": [
    "import re\n",
    "string = 'After I graduated from college! & I my roll number was 123@ perry and email was matthew@univedu.com'\n",
    "x = re.findall(\"\\W\\s\", string)\n",
    "print(x)"
   ]
  },
  {
   "cell_type": "code",
   "execution_count": null,
   "id": "c8fffdf6",
   "metadata": {},
   "outputs": [],
   "source": []
  }
 ],
 "metadata": {
  "kernelspec": {
   "display_name": "Python 3 (ipykernel)",
   "language": "python",
   "name": "python3"
  },
  "language_info": {
   "codemirror_mode": {
    "name": "ipython",
    "version": 3
   },
   "file_extension": ".py",
   "mimetype": "text/x-python",
   "name": "python",
   "nbconvert_exporter": "python",
   "pygments_lexer": "ipython3",
   "version": "3.9.12"
  }
 },
 "nbformat": 4,
 "nbformat_minor": 5
}
