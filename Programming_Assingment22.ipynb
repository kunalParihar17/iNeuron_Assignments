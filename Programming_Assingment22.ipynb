{
 "cells": [
  {
   "cell_type": "markdown",
   "id": "20dad474",
   "metadata": {},
   "source": [
    "**Q1 Create a function that takes three parameters where:**\n",
    "\n",
    "-   x is the start of the range (inclusive).\n",
    "\n",
    "-   y is the end of the range (inclusive).\n",
    "\n",
    "-   n is the divisor to be checked against.\n",
    "\n",
    "**Return an ordered list with numbers in the range that are divisible by\n",
    "the third parameter n. Return an empty list if there are no numbers that\n",
    "are divisible by n.**\n",
    "\n",
    "**Examples**\n",
    "\n",
    "list\\_operation(1, 10, 3) ➞ \\[3, 6, 9\\]\n",
    "\n",
    "list\\_operation(7, 9, 2) ➞ \\[8\\]\n",
    "\n",
    "list\\_operation(15, 20, 7) ➞ \\[\\]"
   ]
  },
  {
   "cell_type": "code",
   "execution_count": 3,
   "id": "fffd38fe",
   "metadata": {},
   "outputs": [
    {
     "data": {
      "text/plain": [
       "[3, 6, 9]"
      ]
     },
     "execution_count": 3,
     "metadata": {},
     "output_type": "execute_result"
    }
   ],
   "source": [
    "def list_operation(a,b,c):\n",
    "    abc = []\n",
    "    for i in range(a,b):\n",
    "        if i%c==0:\n",
    "            abc.append(i)\n",
    "    return(abc)\n",
    "list_operation(2,10,3)    "
   ]
  },
  {
   "cell_type": "code",
   "execution_count": 4,
   "id": "79abbac4",
   "metadata": {},
   "outputs": [
    {
     "data": {
      "text/plain": [
       "[8]"
      ]
     },
     "execution_count": 4,
     "metadata": {},
     "output_type": "execute_result"
    }
   ],
   "source": [
    "list_operation(7,9,2)    "
   ]
  },
  {
   "cell_type": "markdown",
   "id": "2e226f8b",
   "metadata": {},
   "source": [
    "**Q2 Create a function that takes in two lists and returns True if the second\n",
    "list follows the first list by one element, and False otherwise. In\n",
    "other words, determine if the second list is the first list shifted to\n",
    "the right by 1.**\n",
    "\n",
    "**Examples**\n",
    "\n",
    "simon\\_says(\\[1, 2\\], \\[5, 1\\]) ➞ True\n",
    "\n",
    "simon\\_says(\\[1, 2\\], \\[5, 5\\]) ➞ False\n",
    "\n",
    "simon\\_says(\\[1, 2, 3, 4, 5\\], \\[0, 1, 2, 3, 4\\]) ➞ True\n",
    "\n",
    "simon\\_says(\\[1, 2, 3, 4, 5\\], \\[5, 5, 1, 2, 3\\]) ➞ False\n",
    "\n",
    "**Notes**\n",
    "\n",
    "-   Both input lists will be of the same length, and will have a minimum\n",
    "    length of 2.\n",
    "\n",
    "-   The values of the 0-indexed element in the second list and the n-1th\n",
    "    indexed element in the first list do not matter."
   ]
  },
  {
   "cell_type": "code",
   "execution_count": 27,
   "id": "0be427b0",
   "metadata": {},
   "outputs": [
    {
     "name": "stdout",
     "output_type": "stream",
     "text": [
      "True\n"
     ]
    }
   ],
   "source": [
    "def simon_says(l1,l2):\n",
    "    if ((l1[-1]==l2[-1]+1) or (l1[-1]==l2[-1]-1)) :\n",
    "        print('True')\n",
    "    else :\n",
    "        print('False')\n",
    "simon_says([1, 2, 3, 4, 5],[0, 1, 2, 3, 4])"
   ]
  },
  {
   "cell_type": "code",
   "execution_count": 26,
   "id": "bab005d1",
   "metadata": {},
   "outputs": [
    {
     "name": "stdout",
     "output_type": "stream",
     "text": [
      "False\n"
     ]
    }
   ],
   "source": [
    "simon_says([1, 2, 3, 4, 5],[5, 5, 1, 2, 3])"
   ]
  },
  {
   "cell_type": "code",
   "execution_count": 30,
   "id": "585bcd4e",
   "metadata": {},
   "outputs": [
    {
     "name": "stdout",
     "output_type": "stream",
     "text": [
      "True\n"
     ]
    }
   ],
   "source": [
    "simon_says([1, 2],[5,1])"
   ]
  },
  {
   "cell_type": "markdown",
   "id": "956ae54b",
   "metadata": {},
   "source": [
    "**Q3 A group of friends have decided to start a secret society. The name will\n",
    "be the first letter of each of their names, sorted in alphabetical\n",
    "order. Create a function that takes in a list of names and returns the name of\n",
    "the secret society.**\n",
    "\n",
    "### Examples\n",
    "\n",
    "society\\_name(\\[\"Adam\", \"Sarah\", \"Malcolm\"\\]) ➞ \"AMS\"\n",
    "\n",
    "society\\_name(\\[\"Harry\", \"Newt\", \"Luna\", \"Cho\"\\]) ➞ \"CHLN\"\n",
    "\n",
    "society\\_name(\\[\"Phoebe\", \"Chandler\", \"Rachel\", \"Ross\", \"Monica\",\n",
    "\"Joey\"\\])\n"
   ]
  },
  {
   "cell_type": "code",
   "execution_count": 37,
   "id": "4be6f5a5",
   "metadata": {},
   "outputs": [
    {
     "name": "stdout",
     "output_type": "stream",
     "text": [
      "AMS\n"
     ]
    }
   ],
   "source": [
    "def society_name(list_a):\n",
    "    abc = []\n",
    "    for i in list_a:\n",
    "        abc.append(i[0])\n",
    "        abc = sorted(abc)\n",
    "    print(''.join(abc))\n",
    "society_name([\"Adam\", \"Sarah\", \"Malcolm\"])    "
   ]
  },
  {
   "cell_type": "code",
   "execution_count": 38,
   "id": "f4ecb9e8",
   "metadata": {},
   "outputs": [
    {
     "name": "stdout",
     "output_type": "stream",
     "text": [
      "CHLN\n"
     ]
    }
   ],
   "source": [
    "society_name([\"Harry\", \"Newt\", \"Luna\", \"Cho\"])    "
   ]
  },
  {
   "cell_type": "code",
   "execution_count": 39,
   "id": "3f5f1418",
   "metadata": {},
   "outputs": [
    {
     "name": "stdout",
     "output_type": "stream",
     "text": [
      "CJMPRR\n"
     ]
    }
   ],
   "source": [
    "society_name([\"Phoebe\", \"Chandler\", \"Rachel\", \"Ross\", \"Monica\", \"Joey\"])    "
   ]
  },
  {
   "cell_type": "markdown",
   "id": "6f9e8811",
   "metadata": {},
   "source": [
    "**Q4 An isogram is a word that has no duplicate letters. Create a function\n",
    "that takes a string and returns either True or False depending on\n",
    "whether or not it's an \"isogram\".**\n",
    "\n",
    "**Examples**\n",
    "\n",
    "is\\_isogram(\"Algorism\") ➞ True\n",
    "\n",
    "is\\_isogram(\"PasSword\") ➞ False\n",
    "\n",
    "\\# Not case sensitive.\n",
    "\n",
    "is\\_isogram(\"Consecutive\") ➞ False\n",
    "\n",
    "**Notes**\n",
    "\n",
    "-   Ignore letter case (should not be case sensitive).\n",
    "\n",
    "-   All test cases contain valid one word strings.\n"
   ]
  },
  {
   "cell_type": "code",
   "execution_count": 98,
   "id": "c0080e20",
   "metadata": {},
   "outputs": [],
   "source": [
    "def is_isogram(word):\n",
    "    if isinstance(word,str):\n",
    "        w = word.lower() # assuming you want a case in-sensitive search\n",
    "        return word, len(w) == len(set(w)) if w else False\n",
    "    else:\n",
    "        raise TypeError('Argument should be a string')"
   ]
  },
  {
   "cell_type": "code",
   "execution_count": 99,
   "id": "cdba23d2",
   "metadata": {},
   "outputs": [
    {
     "data": {
      "text/plain": [
       "('Algorism', True)"
      ]
     },
     "execution_count": 99,
     "metadata": {},
     "output_type": "execute_result"
    }
   ],
   "source": [
    "is_isogram('Algorism')                "
   ]
  },
  {
   "cell_type": "code",
   "execution_count": 100,
   "id": "f534d193",
   "metadata": {},
   "outputs": [
    {
     "data": {
      "text/plain": [
       "('PasSword', False)"
      ]
     },
     "execution_count": 100,
     "metadata": {},
     "output_type": "execute_result"
    }
   ],
   "source": [
    "is_isogram(\"PasSword\") "
   ]
  },
  {
   "cell_type": "code",
   "execution_count": 101,
   "id": "9d0416b1",
   "metadata": {},
   "outputs": [
    {
     "data": {
      "text/plain": [
       "('Consecutive', False)"
      ]
     },
     "execution_count": 101,
     "metadata": {},
     "output_type": "execute_result"
    }
   ],
   "source": [
    "is_isogram(\"Consecutive\") "
   ]
  },
  {
   "cell_type": "markdown",
   "id": "ca95521e",
   "metadata": {},
   "source": [
    "**Q5 Create a function that takes a string and returns True or False,\n",
    "depending on whether the characters are in order or not.**\n",
    "\n",
    "### Examples\n",
    "\n",
    "is\\_in\\_order(\"abc\") ➞ True\n",
    "\n",
    "is\\_in\\_order(\"edabit\") ➞ False\n",
    "\n",
    "is\\_in\\_order(\"123\") ➞ True\n",
    "\n",
    "is\\_in\\_order(\"xyzz\") ➞ True\n",
    "\n",
    "### Notes\n",
    "\n",
    "You don't have to handle empty strings."
   ]
  },
  {
   "cell_type": "code",
   "execution_count": 120,
   "id": "8841b960",
   "metadata": {},
   "outputs": [
    {
     "name": "stdout",
     "output_type": "stream",
     "text": [
      "True\n"
     ]
    }
   ],
   "source": [
    "def is_in_order(word):   \n",
    "    alphabets = 'abcdefghijklmnopqrstuvwxyz'\n",
    "    numbers = '0123456789'\n",
    "    word.lower()\n",
    "    if (word in alphabets or word in numbers):\n",
    "        print('True')\n",
    "    else:\n",
    "        print('False')\n",
    "is_in_order('abc')        "
   ]
  },
  {
   "cell_type": "code",
   "execution_count": 118,
   "id": "2f843586",
   "metadata": {},
   "outputs": [
    {
     "name": "stdout",
     "output_type": "stream",
     "text": [
      "False\n"
     ]
    }
   ],
   "source": [
    "is_in_order(\"edabit\") "
   ]
  },
  {
   "cell_type": "code",
   "execution_count": 119,
   "id": "ba3c9fc9",
   "metadata": {},
   "outputs": [
    {
     "name": "stdout",
     "output_type": "stream",
     "text": [
      "True\n"
     ]
    }
   ],
   "source": [
    "is_in_order(\"123\") "
   ]
  },
  {
   "cell_type": "code",
   "execution_count": null,
   "id": "8c1138e2",
   "metadata": {},
   "outputs": [],
   "source": []
  }
 ],
 "metadata": {
  "kernelspec": {
   "display_name": "Python 3 (ipykernel)",
   "language": "python",
   "name": "python3"
  },
  "language_info": {
   "codemirror_mode": {
    "name": "ipython",
    "version": 3
   },
   "file_extension": ".py",
   "mimetype": "text/x-python",
   "name": "python",
   "nbconvert_exporter": "python",
   "pygments_lexer": "ipython3",
   "version": "3.9.12"
  }
 },
 "nbformat": 4,
 "nbformat_minor": 5
}
