{
 "cells": [
  {
   "cell_type": "markdown",
   "id": "cca6667f",
   "metadata": {},
   "source": [
    "**Q1 Create an assert statement that throws an AssertionError if the\n",
    "variable spam is a negative integer.**\n",
    "\n",
    "**Ans**"
   ]
  },
  {
   "cell_type": "code",
   "execution_count": 134,
   "id": "be19c0b5",
   "metadata": {},
   "outputs": [],
   "source": [
    "def area_of_rectangle(length,breadth):\n",
    "    if (length < 0) or (breadth<0):\n",
    "        assert (length>=0 and breadth>=0), 'Only positive numbers are allowed'\n",
    "    else:\n",
    "        return (length*breadth),\"Square unit\""
   ]
  },
  {
   "cell_type": "code",
   "execution_count": 124,
   "id": "2dd7e783",
   "metadata": {},
   "outputs": [
    {
     "ename": "AssertionError",
     "evalue": "Only positive numbers are allowed",
     "output_type": "error",
     "traceback": [
      "\u001b[1;31m---------------------------------------------------------------------------\u001b[0m",
      "\u001b[1;31mAssertionError\u001b[0m                            Traceback (most recent call last)",
      "Input \u001b[1;32mIn [124]\u001b[0m, in \u001b[0;36m<cell line: 1>\u001b[1;34m()\u001b[0m\n\u001b[1;32m----> 1\u001b[0m \u001b[43marea_of_rectangle\u001b[49m\u001b[43m(\u001b[49m\u001b[38;5;241;43m23\u001b[39;49m\u001b[43m,\u001b[49m\u001b[38;5;241;43m-\u001b[39;49m\u001b[38;5;241;43m34\u001b[39;49m\u001b[43m)\u001b[49m\n",
      "Input \u001b[1;32mIn [123]\u001b[0m, in \u001b[0;36marea_of_rectangle\u001b[1;34m(length, breadth)\u001b[0m\n\u001b[0;32m      1\u001b[0m \u001b[38;5;28;01mdef\u001b[39;00m \u001b[38;5;21marea_of_rectangle\u001b[39m(length,breadth):\n\u001b[0;32m      2\u001b[0m     \u001b[38;5;28;01mif\u001b[39;00m (length \u001b[38;5;241m<\u001b[39m \u001b[38;5;241m0\u001b[39m) \u001b[38;5;129;01mor\u001b[39;00m (breadth\u001b[38;5;241m<\u001b[39m\u001b[38;5;241m0\u001b[39m):\n\u001b[1;32m----> 3\u001b[0m         \u001b[38;5;28;01massert\u001b[39;00m (length\u001b[38;5;241m>\u001b[39m\u001b[38;5;241m=\u001b[39m\u001b[38;5;241m0\u001b[39m \u001b[38;5;129;01mand\u001b[39;00m breadth\u001b[38;5;241m>\u001b[39m\u001b[38;5;241m=\u001b[39m\u001b[38;5;241m0\u001b[39m), \u001b[38;5;124m'\u001b[39m\u001b[38;5;124mOnly positive numbers are allowed\u001b[39m\u001b[38;5;124m'\u001b[39m\n\u001b[0;32m      4\u001b[0m     \u001b[38;5;28;01melse\u001b[39;00m:\n\u001b[0;32m      5\u001b[0m         \u001b[38;5;28;01mreturn\u001b[39;00m (length\u001b[38;5;241m*\u001b[39mbreadth),\u001b[38;5;124m\"\u001b[39m\u001b[38;5;124mSquare unit\u001b[39m\u001b[38;5;124m\"\u001b[39m\n",
      "\u001b[1;31mAssertionError\u001b[0m: Only positive numbers are allowed"
     ]
    }
   ],
   "source": [
    "area_of_rectangle(23,-34)"
   ]
  },
  {
   "cell_type": "code",
   "execution_count": 125,
   "id": "0b602c98",
   "metadata": {},
   "outputs": [
    {
     "data": {
      "text/plain": [
       "(100688, 'Square unit')"
      ]
     },
     "execution_count": 125,
     "metadata": {},
     "output_type": "execute_result"
    }
   ],
   "source": [
    "area_of_rectangle(232,434)"
   ]
  },
  {
   "cell_type": "markdown",
   "id": "b098f347",
   "metadata": {},
   "source": [
    "**Q2. Write an assert statement that triggers an AssertionError if the\n",
    "variables eggs and bacon contain strings that are the same as each\n",
    "other, even if their cases are different (that is, 'hello' and 'hello'\n",
    "are considered the same, and 'goodbye' and 'GOODbye' are also considered\n",
    "the same).**\n",
    "\n",
    "**Ans**"
   ]
  },
  {
   "cell_type": "code",
   "execution_count": 127,
   "id": "b8a277c9",
   "metadata": {},
   "outputs": [
    {
     "ename": "AssertionError",
     "evalue": "eggs/bacon should not be the same!",
     "output_type": "error",
     "traceback": [
      "\u001b[1;31m---------------------------------------------------------------------------\u001b[0m",
      "\u001b[1;31mAssertionError\u001b[0m                            Traceback (most recent call last)",
      "Input \u001b[1;32mIn [127]\u001b[0m, in \u001b[0;36m<cell line: 5>\u001b[1;34m()\u001b[0m\n\u001b[0;32m      2\u001b[0m bacon \u001b[38;5;241m=\u001b[39m \u001b[38;5;124m'\u001b[39m\u001b[38;5;124mboy\u001b[39m\u001b[38;5;124m'\u001b[39m\n\u001b[0;32m      4\u001b[0m \u001b[38;5;66;03m# Raise an AssertError if they are not different.\u001b[39;00m\n\u001b[1;32m----> 5\u001b[0m \u001b[38;5;28;01massert\u001b[39;00m eggs\u001b[38;5;241m.\u001b[39mlower() \u001b[38;5;241m!=\u001b[39m bacon\u001b[38;5;241m.\u001b[39mlower(), \u001b[38;5;124m'\u001b[39m\u001b[38;5;124meggs/bacon should not be the same!\u001b[39m\u001b[38;5;124m'\u001b[39m\n",
      "\u001b[1;31mAssertionError\u001b[0m: eggs/bacon should not be the same!"
     ]
    }
   ],
   "source": [
    "eggs = 'boy'\n",
    "bacon = 'man'\n",
    "\n",
    "# Raise an AssertError if they are not different.\n",
    "assert eggs.lower() != bacon.lower(), 'eggs/bacon should not be the same!'"
   ]
  },
  {
   "cell_type": "code",
   "execution_count": 128,
   "id": "ca153c2f",
   "metadata": {},
   "outputs": [
    {
     "ename": "AssertionError",
     "evalue": "eggs/bacon should not be the same!",
     "output_type": "error",
     "traceback": [
      "\u001b[1;31m---------------------------------------------------------------------------\u001b[0m",
      "\u001b[1;31mAssertionError\u001b[0m                            Traceback (most recent call last)",
      "Input \u001b[1;32mIn [128]\u001b[0m, in \u001b[0;36m<cell line: 5>\u001b[1;34m()\u001b[0m\n\u001b[0;32m      2\u001b[0m bacon \u001b[38;5;241m=\u001b[39m \u001b[38;5;124m'\u001b[39m\u001b[38;5;124mboy\u001b[39m\u001b[38;5;124m'\u001b[39m\n\u001b[0;32m      4\u001b[0m \u001b[38;5;66;03m# Raise an AssertError if they are not different.\u001b[39;00m\n\u001b[1;32m----> 5\u001b[0m \u001b[38;5;28;01massert\u001b[39;00m eggs\u001b[38;5;241m.\u001b[39mlower() \u001b[38;5;241m!=\u001b[39m bacon\u001b[38;5;241m.\u001b[39mlower(), \u001b[38;5;124m'\u001b[39m\u001b[38;5;124meggs/bacon should not be the same!\u001b[39m\u001b[38;5;124m'\u001b[39m\n",
      "\u001b[1;31mAssertionError\u001b[0m: eggs/bacon should not be the same!"
     ]
    }
   ],
   "source": [
    "eggs = 'boy'\n",
    "bacon = 'boy'\n",
    "\n",
    "# Raise an AssertError if they are not different.\n",
    "assert eggs.lower() != bacon.lower(), 'eggs/bacon should not be the same!'"
   ]
  },
  {
   "cell_type": "markdown",
   "id": "f7154398",
   "metadata": {},
   "source": [
    "**Q3 Create an assert statement that throws an AssertionError every time.**\n",
    "\n",
    "**Ans**"
   ]
  },
  {
   "cell_type": "code",
   "execution_count": 132,
   "id": "39818c3f",
   "metadata": {},
   "outputs": [],
   "source": [
    "assert True, ' Assertion Error!!!!'"
   ]
  },
  {
   "cell_type": "markdown",
   "id": "167756fc",
   "metadata": {},
   "source": [
    "**Q4/Q5 What are the two lines that must be present in your software in\n",
    "order to call logging.debug() send a logging message to a file named programLog.txt??**\n",
    "\n",
    "**Ans**"
   ]
  },
  {
   "cell_type": "code",
   "execution_count": 133,
   "id": "0778383a",
   "metadata": {},
   "outputs": [],
   "source": [
    "import logging\n",
    "logging.basicConfig(\n",
    "    filename='programLog.txt',\n",
    "    level=logging.DEBUG,\n",
    "    format='%(asctime)s - %(levelname)s - %(message)s'\n",
    ")\n",
    "\n",
    "# Test a logging.debug('message')\n",
    "#  2019-08-03 12:24:50,549 - DEBUG - This is a test message.\n",
    "# logging.debug('This is a test message.')"
   ]
  },
  {
   "cell_type": "markdown",
   "id": "494848c5",
   "metadata": {},
   "source": [
    "**Q6 What are the five levels of logging?**\n",
    "\n",
    "**Ans**"
   ]
  },
  {
   "cell_type": "code",
   "execution_count": null,
   "id": "f3507785",
   "metadata": {},
   "outputs": [],
   "source": [
    "# logging.debug() - variable's state and small details\n",
    "# logging.info() - general events, confirm a program is working\n",
    "# logging.warning() - potiental problem to work on in the future\n",
    "# logging.error() - record an error that caused program to fail to do something\n",
    "# logging.critical() - fatal error that has caused\n"
   ]
  },
  {
   "cell_type": "markdown",
   "id": "25079a58",
   "metadata": {},
   "source": [
    "**Q7 What line of code would you add to your software to disable all\n",
    "logging messages?**\n",
    "\n",
    "**Ans**\n",
    "\n",
    "logging.disable(logging.DEBUG)\n"
   ]
  },
  {
   "cell_type": "markdown",
   "id": "c8d8c2e0",
   "metadata": {},
   "source": [
    "**Q8 Why is using logging messages better than using print() to display the\n",
    "same message?**\n",
    "\n",
    "**Ans**"
   ]
  },
  {
   "cell_type": "markdown",
   "id": "3755c7f5",
   "metadata": {},
   "source": [
    "When using **print()** ,when it is ready to be deployed,we need to still remove it or comment it.\n",
    "Where as while logging message we can change the setting on/off to write it to a file."
   ]
  },
  {
   "cell_type": "markdown",
   "id": "8d6d2039",
   "metadata": {},
   "source": [
    "**Q9 What are the differences between the Step Over, Step In, and Step\n",
    "Out buttons in the debugger?**\n",
    "\n",
    "**Ans**\n",
    "\n",
    " Step into - will cause the debugger to descend into any method calls on the current line. \n",
    " \n",
    " Step Over - It runs the code and suspends the execution at the staring of the code after the call function function is returned.\n",
    " \n",
    " Step out  - It continues to run the code and suspends execution once the current function returns."
   ]
  },
  {
   "cell_type": "markdown",
   "id": "467e5a9c",
   "metadata": {},
   "source": [
    "**Q10 After you click Continue, when will the debugger stop ?**\n",
    "\n",
    "**Ans**"
   ]
  },
  {
   "cell_type": "markdown",
   "id": "1e619d7a",
   "metadata": {},
   "source": [
    " It runs until the program terminates or reaches a breakpoint set.\n"
   ]
  },
  {
   "cell_type": "markdown",
   "id": "cf85a4f9",
   "metadata": {},
   "source": [
    "**Q11 What is the concept of a breakpoint?**\n",
    "\n",
    "**Ans**\n",
    "\n",
    "After creating the breakpoint. Go will stop and wait for our next command"
   ]
  },
  {
   "cell_type": "code",
   "execution_count": null,
   "id": "32333bd1",
   "metadata": {},
   "outputs": [],
   "source": []
  },
  {
   "cell_type": "code",
   "execution_count": null,
   "id": "4cd26c5d",
   "metadata": {},
   "outputs": [],
   "source": []
  }
 ],
 "metadata": {
  "kernelspec": {
   "display_name": "Python 3 (ipykernel)",
   "language": "python",
   "name": "python3"
  },
  "language_info": {
   "codemirror_mode": {
    "name": "ipython",
    "version": 3
   },
   "file_extension": ".py",
   "mimetype": "text/x-python",
   "name": "python",
   "nbconvert_exporter": "python",
   "pygments_lexer": "ipython3",
   "version": "3.9.12"
  }
 },
 "nbformat": 4,
 "nbformat_minor": 5
}
