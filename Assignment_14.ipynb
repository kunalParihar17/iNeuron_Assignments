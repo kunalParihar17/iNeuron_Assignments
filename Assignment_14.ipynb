{
 "cells": [
  {
   "cell_type": "markdown",
   "id": "0d3d348b",
   "metadata": {},
   "source": [
    "**Q1 What does RGBA stand for?**\n",
    "\n",
    "**And**\n"
   ]
  },
  {
   "cell_type": "markdown",
   "id": "64ef9107",
   "metadata": {},
   "source": [
    "**RGBA** stands for Red,Green,Blue and alpha"
   ]
  },
  {
   "cell_type": "markdown",
   "id": "d8eb366b",
   "metadata": {},
   "source": [
    "**Q2 From the Pillow module, how do you get the RGBA value of any images?**\n",
    "\n",
    "**Ans**"
   ]
  },
  {
   "cell_type": "markdown",
   "id": "38a2f650",
   "metadata": {},
   "source": [
    "image = Exampleimage.open(‘image.png’)\n",
    "\n",
    "rgba = image.convert(“RGBA”)\n",
    "\n",
    "data = rgba.getdata()"
   ]
  },
  {
   "cell_type": "markdown",
   "id": "1ccd54c2",
   "metadata": {},
   "source": [
    "**Q3 What is a box tuple, and how does it work?**\n",
    "\n",
    "**Ans**\n"
   ]
  },
  {
   "cell_type": "markdown",
   "id": "4d4b80d7",
   "metadata": {},
   "source": [
    "**box tuple** is a four integer coordinates argument that represents a rectangular region in an image\n",
    "\n",
    "left : The x coord of the leftmost edge of the box.\n",
    "\n",
    "Top :  The y coord of the top edge of the box.\n",
    "\n",
    "Right :  The x coord of one pixel to the rightmost edge of the box.\n",
    "\n",
    "Bottom : The y coord of one pixel lower than the bottom edge of the box."
   ]
  },
  {
   "cell_type": "markdown",
   "id": "44dd2260",
   "metadata": {},
   "source": [
    "**Q4 Use your image and load in notebook then, How can you find out the width and height of an Image object?**\n",
    "\n",
    "**Ans**\n"
   ]
  },
  {
   "cell_type": "code",
   "execution_count": 26,
   "id": "dc8830a8",
   "metadata": {},
   "outputs": [
    {
     "name": "stdout",
     "output_type": "stream",
     "text": [
      "Widhth is: 319 Height is: 426\n"
     ]
    }
   ],
   "source": [
    "from PIL import Image\n",
    "catIm = Image.open('zophie.jpg')\n",
    "catIm.size\n",
    "width,height = catIm.size\n",
    "print('Widhth is:',width,'Height is:',height)"
   ]
  },
  {
   "cell_type": "markdown",
   "id": "b98a95d5",
   "metadata": {},
   "source": [
    "**Q5 What method would you call to get Image object for a 100×100 image,\n",
    "excluding the lower-left quarter of it?**\n",
    "\n",
    "**Ans**\n"
   ]
  },
  {
   "cell_type": "markdown",
   "id": "b8343a92",
   "metadata": {},
   "source": [
    "image.crop((0, 50, 50, 50))"
   ]
  },
  {
   "cell_type": "markdown",
   "id": "8f7b43ec",
   "metadata": {},
   "source": [
    "**Q6 After making changes to an Image object, how could you save it as an\n",
    "image file?**\n",
    "\n",
    "**Ans**"
   ]
  },
  {
   "cell_type": "markdown",
   "id": "bb5344a1",
   "metadata": {},
   "source": [
    "imageObj.save('new_name.png')"
   ]
  },
  {
   "cell_type": "markdown",
   "id": "3b4d94e2",
   "metadata": {},
   "source": [
    "**Q7 What module contains Pillow’s shape-drawing code?**\n",
    "\n",
    "**Ans**\n"
   ]
  },
  {
   "cell_type": "markdown",
   "id": "cac57f9d",
   "metadata": {},
   "source": [
    "ImageDraw module"
   ]
  },
  {
   "cell_type": "markdown",
   "id": "b8b79835",
   "metadata": {},
   "source": [
    "**Q8 Image objects do not have drawing methods. What kind of object does?\n",
    "How do you get this kind of object?**\n",
    "\n",
    "**Ans**"
   ]
  },
  {
   "cell_type": "markdown",
   "id": "e90c1d9c",
   "metadata": {},
   "source": [
    "ImageDraw objects contain shape-drawing methods such as point(), line(),or rectangle(). They are returned by passing the Image object to the ImageDraw.Draw() function."
   ]
  },
  {
   "cell_type": "code",
   "execution_count": null,
   "id": "175d545b",
   "metadata": {},
   "outputs": [],
   "source": []
  }
 ],
 "metadata": {
  "kernelspec": {
   "display_name": "Python 3 (ipykernel)",
   "language": "python",
   "name": "python3"
  },
  "language_info": {
   "codemirror_mode": {
    "name": "ipython",
    "version": 3
   },
   "file_extension": ".py",
   "mimetype": "text/x-python",
   "name": "python",
   "nbconvert_exporter": "python",
   "pygments_lexer": "ipython3",
   "version": "3.9.12"
  }
 },
 "nbformat": 4,
 "nbformat_minor": 5
}
