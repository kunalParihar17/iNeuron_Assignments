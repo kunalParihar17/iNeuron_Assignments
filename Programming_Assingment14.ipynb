{
 "cells": [
  {
   "cell_type": "markdown",
   "id": "80493b03",
   "metadata": {},
   "source": [
    "**Q1 Define a class with a generator which can iterate the numbers, which are\n",
    "divisible by 7, between a given range 0 and n.**\n"
   ]
  },
  {
   "cell_type": "markdown",
   "id": "909a7a1c",
   "metadata": {},
   "source": [
    "**Ans**"
   ]
  },
  {
   "cell_type": "code",
   "execution_count": 48,
   "id": "bd542806",
   "metadata": {},
   "outputs": [
    {
     "name": "stdout",
     "output_type": "stream",
     "text": [
      "0\n",
      "7\n",
      "14\n",
      "21\n",
      "28\n",
      "35\n",
      "42\n",
      "49\n",
      "56\n",
      "63\n",
      "70\n",
      "77\n",
      "84\n",
      "91\n",
      "98\n"
     ]
    }
   ],
   "source": [
    "def putNumbers(n):\n",
    " \n",
    "    i = 0\n",
    " \n",
    "    while i<n:\n",
    " \n",
    "        j=i\n",
    " \n",
    "        i=i+1\n",
    " \n",
    "        if j%7==0:\n",
    " \n",
    "            yield j\n",
    " \n",
    " \n",
    " \n",
    "for i in putNumbers(100):\n",
    " \n",
    "    print(i)"
   ]
  },
  {
   "cell_type": "markdown",
   "id": "cbe56028",
   "metadata": {},
   "source": [
    "\n",
    "Question 2:\n",
    "\n",
    "| Write a program to compute the frequency of the words from the input. The output should output after sorting the key alphanumerically. |\n",
    "|----------------------------------------------------------------------------------------------------------------------------------------|\n",
    "|                                                                                                                                        |\n",
    "\n",
    "| Suppose the following input is supplied to the program: |\n",
    "|---------------------------------------------------------|\n",
    "|                                                         |\n",
    "\n",
    "| New to Python or choosing between Python 2 and Python 3? Read Python 2 or Python 3. |\n",
    "|-------------------------------------------------------------------------------------|\n",
    "|                                                                                     |\n",
    "\n",
    "| Then, the output should be: |\n",
    "|-----------------------------|\n",
    "|                             |\n",
    "\n",
    "| 2:2 |\n",
    "|-----|\n",
    "|     |\n",
    "\n",
    "| 3.:1 |\n",
    "|------|\n",
    "|      |\n",
    "\n",
    "| 3?:1 |\n",
    "|------|\n",
    "|      |\n",
    "\n",
    "| New:1 |\n",
    "|-------|\n",
    "|       |\n",
    "\n",
    "| Python:5 |\n",
    "|----------|\n",
    "|          |\n",
    "\n",
    "| Read:1 |\n",
    "|--------|\n",
    "|        |\n",
    "\n",
    "| and:1 |\n",
    "|-------|\n",
    "|       |\n",
    "\n",
    "| between:1 |\n",
    "|-----------|\n",
    "|           |\n",
    "\n",
    "| choosing:1 |\n",
    "|------------|\n",
    "|            |\n",
    "\n",
    "| or:2 |\n",
    "|------|\n",
    "|      |\n",
    "\n",
    "to:1"
   ]
  },
  {
   "cell_type": "code",
   "execution_count": 2,
   "id": "a9e02d57",
   "metadata": {},
   "outputs": [
    {
     "name": "stdout",
     "output_type": "stream",
     "text": [
      "Enter the string\n",
      "\n",
      "New to Python or choosing between Python 2 and Python 3? Read Python 2 or Python 3.\n",
      "Frequency of New is 1\n",
      "Frequency of to is 1\n",
      "Frequency of Python is 5\n",
      "Frequency of or is 2\n",
      "Frequency of choosing is 1\n",
      "Frequency of between is 1\n",
      "Frequency of 2 is 2\n",
      "Frequency of and is 1\n",
      "Frequency of 3? is 1\n",
      "Frequency of Read is 1\n",
      "Frequency of 3. is 1\n"
     ]
    }
   ],
   "source": [
    "def frq_of_words():\n",
    "    string = str(input('Enter the string\\n\\n'))\n",
    "    str_a = []\n",
    "    for i in string.split():\n",
    "        if i not in str_a:\n",
    "            str_a.append(i)\n",
    "    for j in range(0,len(str_a)):\n",
    "            print('Frequency of',str_a[j],'is',string.count(str_a[j]))\n",
    "        \n",
    "#     print(a,b)\n",
    "frq_of_words()        "
   ]
  },
  {
   "cell_type": "markdown",
   "id": "9c4df552",
   "metadata": {},
   "source": [
    "**Q3 Define a class Person and its two child classes: Male and Female. All classes have a method \"getGender\" which can print \"Male\" for Male class and \"Female\" for Female class.**\n",
    "\n",
    "**Ans**"
   ]
  },
  {
   "cell_type": "code",
   "execution_count": 4,
   "id": "405ee630",
   "metadata": {},
   "outputs": [
    {
     "name": "stdout",
     "output_type": "stream",
     "text": [
      "Male\n",
      "Female\n"
     ]
    }
   ],
   "source": [
    "class Person(object):\n",
    "    def getGender( self ):\n",
    "        return \"Unknown\"\n",
    "\n",
    "class Male( Person ):\n",
    "    def getGender( self ):\n",
    "        return \"Male\"\n",
    "\n",
    "class Female( Person ):\n",
    "    def getGender( self ):\n",
    "        return \"Female\"\n",
    "\n",
    "aMale = Male()\n",
    "aFemale= Female()\n",
    "print (aMale.getGender())\n",
    "print (aFemale.getGender())"
   ]
  },
  {
   "cell_type": "markdown",
   "id": "01457c12",
   "metadata": {},
   "source": [
    "**Q4 Please write a program to generate all sentences where subject is in\n",
    "\\[\"I\", \"You\"\\] and verb is in \\[\"Play\", \"Love\"\\] and the object is in\n",
    "\\[\"Hockey\",\"Football\"\\].**\n",
    "\n",
    "**Ans**\n"
   ]
  },
  {
   "cell_type": "code",
   "execution_count": 22,
   "id": "bcb27a4d",
   "metadata": {},
   "outputs": [
    {
     "name": "stdout",
     "output_type": "stream",
     "text": [
      "['I Play Hockey', 'I Play Football', 'I Love Hockey', 'I Love Football', 'You Play Hockey', 'You Play Football', 'You Love Hockey', 'You Love Football']\n"
     ]
    }
   ],
   "source": [
    "a = [\"I\",\"You\"]\n",
    "b = [\"Play\",\"Love\"]\n",
    "c = [\"Hockey\",\"Football\"]\n",
    "def generate_sen(a,b,c):\n",
    "    abc = []\n",
    "    for i in a:\n",
    "        for j in b:\n",
    "            for k in c:\n",
    "                abc.append(i+\" \"+j+\" \"+k)\n",
    "    print(abc)\n",
    "generate_sen(a,b,c)    "
   ]
  },
  {
   "cell_type": "markdown",
   "id": "39dc492d",
   "metadata": {},
   "source": [
    "**Q5 Please write a program to compress and decompress the string \"hello\n",
    "world!hello world!hello world!hello world!\".**\n",
    "\n",
    "**Ans**"
   ]
  },
  {
   "cell_type": "code",
   "execution_count": 23,
   "id": "43082be6",
   "metadata": {},
   "outputs": [],
   "source": [
    "import zlib"
   ]
  },
  {
   "cell_type": "code",
   "execution_count": 30,
   "id": "a2556ea1",
   "metadata": {},
   "outputs": [],
   "source": [
    "s = \"hello world!hello world!hello world!hello world!\"\n",
    "t = zlib.compress(s)\n",
    "print(t,'\\n')\n",
    "u = zlib.decompress(t)\n",
    "print(u)"
   ]
  },
  {
   "cell_type": "markdown",
   "id": "4b0b8162",
   "metadata": {},
   "source": [
    "**Q6 Please write a binary search function which searches an item in a sorted\n",
    "list. The function should return the index of element to be searched in\n",
    "the list.**\n",
    "\n",
    "**Ans**"
   ]
  },
  {
   "cell_type": "code",
   "execution_count": 46,
   "id": "78ade7f2",
   "metadata": {},
   "outputs": [
    {
     "name": "stdout",
     "output_type": "stream",
     "text": [
      "\n",
      "Enter word to be searchedtulip\n",
      "Sorted list: ['bright', 'friend', 'hat', 'luster', 'man', 'motor', 'thief', 'tulip']\n",
      "\n",
      "The index of \" tulip \" is: 7\n"
     ]
    }
   ],
   "source": [
    "abc = ['man','hat','friend','thief','motor','bright','luster','tulip']\n",
    "def search(string):\n",
    "    word = str(input('\\nEnter word to be searched'))\n",
    "    string.sort()\n",
    "    print('Sorted list:',string)\n",
    "    for i,j in enumerate(string):\n",
    "        if j == word:\n",
    "            print('\\nThe index of \"',j,'\" is:',i)        \n",
    "search(abc)        "
   ]
  },
  {
   "cell_type": "code",
   "execution_count": null,
   "id": "ef6edbeb",
   "metadata": {},
   "outputs": [],
   "source": []
  }
 ],
 "metadata": {
  "kernelspec": {
   "display_name": "Python 3 (ipykernel)",
   "language": "python",
   "name": "python3"
  },
  "language_info": {
   "codemirror_mode": {
    "name": "ipython",
    "version": 3
   },
   "file_extension": ".py",
   "mimetype": "text/x-python",
   "name": "python",
   "nbconvert_exporter": "python",
   "pygments_lexer": "ipython3",
   "version": "3.9.12"
  }
 },
 "nbformat": 4,
 "nbformat_minor": 5
}
