{
 "cells": [
  {
   "cell_type": "markdown",
   "id": "cf2ff453",
   "metadata": {},
   "source": [
    "**Q1.  Write a Python program to Extract Unique values dictionary values?**\n",
    "\n",
    "**Ans**\n"
   ]
  },
  {
   "cell_type": "code",
   "execution_count": 14,
   "id": "974aca62",
   "metadata": {},
   "outputs": [
    {
     "data": {
      "text/plain": [
       "{123, '123', 345, 834}"
      ]
     },
     "execution_count": 14,
     "metadata": {},
     "output_type": "execute_result"
    }
   ],
   "source": [
    "dict_a = {\"a\":123,\"b\":345,\"c\":834,\"d\":'123'}\n",
    "uniq_vals = set(dict_a.values())\n",
    "uniq_vals"
   ]
  },
  {
   "cell_type": "markdown",
   "id": "128e5da7",
   "metadata": {},
   "source": [
    "**Q2.  Write a Python program to find the sum of all items in a dictionary?**\n",
    "\n",
    "**Ans**"
   ]
  },
  {
   "cell_type": "code",
   "execution_count": 36,
   "id": "7e33dff3",
   "metadata": {},
   "outputs": [
    {
     "name": "stdout",
     "output_type": "stream",
     "text": [
      "The Sum of the dictonarry is: 1770\n"
     ]
    }
   ],
   "source": [
    "dict_a = {\"a\":123,\"b\":345,\"c\":834,\"d\":123,\"e\":345}\n",
    "def sum_of_dict(di):\n",
    "    print('The Sum of the dictonarry is:',sum(di.values()))    \n",
    "sum_of_dict(dict_a)"
   ]
  },
  {
   "cell_type": "markdown",
   "id": "ee27cae8",
   "metadata": {},
   "source": [
    "**Q3.  Write a Python program to Merging two Dictionaries?**\n",
    "\n",
    "**Ans**"
   ]
  },
  {
   "cell_type": "code",
   "execution_count": 56,
   "id": "31df4ef4",
   "metadata": {},
   "outputs": [
    {
     "name": "stdout",
     "output_type": "stream",
     "text": [
      "None\n",
      "{'z': 122, 'x': 335, 'v': 134, 'n': 153, 'a': 123, 'b': 345, 'c': 834, 'd': 123, 'e': 345}\n"
     ]
    }
   ],
   "source": [
    "\n",
    "# Python code to merge dict using update() method\n",
    "def Merge(dict1, dict2):\n",
    "    return(dict2.update(dict1))\n",
    "dict1 = {\"a\":123,\"b\":345,\"c\":834,\"d\":123,\"e\":345}\n",
    "dict2 = {\"z\":122,\"x\":335,\"v\":134,\"n\":153}\n",
    " \n",
    "print(Merge(dict1, dict2))\n",
    "print(dict2)"
   ]
  },
  {
   "cell_type": "markdown",
   "id": "e2b20889",
   "metadata": {},
   "source": [
    "**Q4.  Write a Python program to convert key-values list to flat\n",
    "    dictionary?**\n",
    "    \n",
    "**Ans**    \n",
    "    "
   ]
  },
  {
   "cell_type": "code",
   "execution_count": 74,
   "id": "9ecedc40",
   "metadata": {},
   "outputs": [
    {
     "name": "stdout",
     "output_type": "stream",
     "text": [
      "The orignal dictonary is: {'b': ['pox', 1232, 'pow'], 'e': [345, 'name', 'goldbar']}\n"
     ]
    },
    {
     "ename": "TypeError",
     "evalue": "'dict' object is not callable",
     "output_type": "error",
     "traceback": [
      "\u001b[1;31m---------------------------------------------------------------------------\u001b[0m",
      "\u001b[1;31mTypeError\u001b[0m                                 Traceback (most recent call last)",
      "Input \u001b[1;32mIn [74]\u001b[0m, in \u001b[0;36m<cell line: 5>\u001b[1;34m()\u001b[0m\n\u001b[0;32m      1\u001b[0m dict1 \u001b[38;5;241m=\u001b[39m {\u001b[38;5;124m\"\u001b[39m\u001b[38;5;124mb\u001b[39m\u001b[38;5;124m\"\u001b[39m:[\u001b[38;5;124m'\u001b[39m\u001b[38;5;124mpox\u001b[39m\u001b[38;5;124m'\u001b[39m,\u001b[38;5;241m1232\u001b[39m,\u001b[38;5;124m'\u001b[39m\u001b[38;5;124mpow\u001b[39m\u001b[38;5;124m'\u001b[39m],\u001b[38;5;124m\"\u001b[39m\u001b[38;5;124me\u001b[39m\u001b[38;5;124m\"\u001b[39m:[\u001b[38;5;241m345\u001b[39m,\u001b[38;5;124m'\u001b[39m\u001b[38;5;124mname\u001b[39m\u001b[38;5;124m'\u001b[39m,\u001b[38;5;124m'\u001b[39m\u001b[38;5;124mgoldbar\u001b[39m\u001b[38;5;124m'\u001b[39m]}\n\u001b[0;32m      3\u001b[0m \u001b[38;5;28mprint\u001b[39m(\u001b[38;5;124m'\u001b[39m\u001b[38;5;124mThe orignal dictonary is:\u001b[39m\u001b[38;5;124m'\u001b[39m,dict1)\n\u001b[1;32m----> 5\u001b[0m result \u001b[38;5;241m=\u001b[39m \u001b[38;5;28;43mdict\u001b[39;49m\u001b[43m(\u001b[49m\u001b[38;5;28;43mzip\u001b[39;49m\u001b[43m(\u001b[49m\u001b[43mdict1\u001b[49m\u001b[43m[\u001b[49m\u001b[38;5;124;43m\"\u001b[39;49m\u001b[38;5;124;43mb\u001b[39;49m\u001b[38;5;124;43m\"\u001b[39;49m\u001b[43m]\u001b[49m\u001b[43m,\u001b[49m\u001b[43mdict1\u001b[49m\u001b[43m[\u001b[49m\u001b[38;5;124;43m\"\u001b[39;49m\u001b[38;5;124;43me\u001b[39;49m\u001b[38;5;124;43m\"\u001b[39;49m\u001b[43m]\u001b[49m\u001b[43m)\u001b[49m\u001b[43m)\u001b[49m\n\u001b[0;32m      6\u001b[0m result\n",
      "\u001b[1;31mTypeError\u001b[0m: 'dict' object is not callable"
     ]
    }
   ],
   "source": [
    "dict1 = {\"b\":['pox',1232,'pow'],\"e\":[345,'name','goldbar']}\n",
    "\n",
    "print('The orignal dictonary is:',dict1)\n",
    "\n",
    "result = dict(zip(dict1[\"b\"],dict1[\"e\"]))\n",
    "result"
   ]
  },
  {
   "cell_type": "markdown",
   "id": "c865f68f",
   "metadata": {},
   "source": [
    "**Q5.  Write a Python program to insertion at the beginning in OrderedDict?**\n",
    "\n",
    "\n",
    "**Ans**\n"
   ]
  },
  {
   "cell_type": "code",
   "execution_count": 88,
   "id": "9798b310",
   "metadata": {},
   "outputs": [
    {
     "name": "stdout",
     "output_type": "stream",
     "text": [
      "Orignal: OrderedDict([('abc', 123), ('def', 456), ('hij', 789)]) \n",
      "\n",
      "Updated: OrderedDict([('abc', 123), ('def', 456), ('hij', 789), ('klm', 101112)])\n"
     ]
    }
   ],
   "source": [
    "from collections import OrderedDict\n",
    "\n",
    "alphabets = OrderedDict()\n",
    "\n",
    "alphabets['abc'] = 123\n",
    "alphabets['def'] = 456\n",
    "alphabets['hij'] = 789\n",
    "\n",
    "print('Orignal:',alphabets,'\\n')\n",
    "\n",
    "alphabets.update({'klm':101112})\n",
    "print('Updated:',alphabets)"
   ]
  },
  {
   "cell_type": "markdown",
   "id": "302485f4",
   "metadata": {},
   "source": [
    "**Q6.  Write a Python program to check order of character in string using\n",
    "    OrderedDict()?**\n",
    "    \n",
    "**Ans**    \n"
   ]
  },
  {
   "cell_type": "code",
   "execution_count": 100,
   "id": "f1b00516",
   "metadata": {},
   "outputs": [
    {
     "name": "stdout",
     "output_type": "stream",
     "text": [
      "The string is \n",
      "Hi Sam\n",
      "The input pattern is \n",
      "am\n",
      "The order of pattern is correct\n"
     ]
    }
   ],
   "source": [
    "from collections import OrderedDict\n",
    "def check_the_order(my_input, my_pattern):\n",
    "   my_dict = OrderedDict.fromkeys(my_input)\n",
    "   pattern_len = 0\n",
    "   for key,value in my_dict.items():\n",
    "      if (key == my_pattern[pattern_len]):\n",
    "         pattern_len = pattern_len + 1\n",
    "\n",
    "      if (pattern_len == (len(my_pattern))):\n",
    "         return 'The order of pattern is correct'\n",
    "\n",
    "   return 'The order of pattern is incorrect'\n",
    "\n",
    "my_input = 'Hi Sam'\n",
    "input_pattern = 'am'\n",
    "print(\"The string is \")\n",
    "print(my_input)\n",
    "print(\"The input pattern is \")\n",
    "print(input_pattern)\n",
    "print(check_the_order(my_input,input_pattern))"
   ]
  },
  {
   "cell_type": "markdown",
   "id": "d0210533",
   "metadata": {},
   "source": [
    "**Q7.  Write a Python program to sort Python Dictionaries by Key or Value?**\n",
    "\n",
    "**Ans**"
   ]
  },
  {
   "cell_type": "code",
   "execution_count": 57,
   "id": "7044aba8",
   "metadata": {},
   "outputs": [],
   "source": [
    "def sort_dict(dict_a):\n",
    "    keys=[]\n",
    "    values=[]\n",
    "    print(sorted(dict_a))"
   ]
  },
  {
   "cell_type": "code",
   "execution_count": 58,
   "id": "cbfd9da1",
   "metadata": {},
   "outputs": [],
   "source": [
    "key_value = {}\n",
    "key_value['Ross'] = '100'       \n",
    "key_value['Raichel'] = '91'\n",
    "key_value['Monica'] = '10'\n",
    "key_value['Chandler'] = '12'\n",
    "key_value['Pheobe'] = '42'"
   ]
  },
  {
   "cell_type": "code",
   "execution_count": 59,
   "id": "34909852",
   "metadata": {},
   "outputs": [
    {
     "data": {
      "text/plain": [
       "{'Ross': '100',\n",
       " 'Raichel': '91',\n",
       " 'Monica': '10',\n",
       " 'Chandler': '12',\n",
       " 'Pheobe': '42'}"
      ]
     },
     "execution_count": 59,
     "metadata": {},
     "output_type": "execute_result"
    }
   ],
   "source": [
    "key_value"
   ]
  },
  {
   "cell_type": "code",
   "execution_count": 60,
   "id": "854d7930",
   "metadata": {},
   "outputs": [
    {
     "name": "stdout",
     "output_type": "stream",
     "text": [
      "[('Chandler', '12'), ('Monica', '10'), ('Pheobe', '42'), ('Raichel', '91'), ('Ross', '100')]\n"
     ]
    }
   ],
   "source": [
    "sort_dict(sorted(key_value.items()))"
   ]
  },
  {
   "cell_type": "code",
   "execution_count": null,
   "id": "f1241ebe",
   "metadata": {},
   "outputs": [],
   "source": []
  },
  {
   "cell_type": "code",
   "execution_count": null,
   "id": "0fff834b",
   "metadata": {},
   "outputs": [],
   "source": []
  }
 ],
 "metadata": {
  "kernelspec": {
   "display_name": "Python 3 (ipykernel)",
   "language": "python",
   "name": "python3"
  },
  "language_info": {
   "codemirror_mode": {
    "name": "ipython",
    "version": 3
   },
   "file_extension": ".py",
   "mimetype": "text/x-python",
   "name": "python",
   "nbconvert_exporter": "python",
   "pygments_lexer": "ipython3",
   "version": "3.9.12"
  }
 },
 "nbformat": 4,
 "nbformat_minor": 5
}
