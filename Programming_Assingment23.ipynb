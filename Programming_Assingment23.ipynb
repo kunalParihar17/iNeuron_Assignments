{
 "cells": [
  {
   "cell_type": "markdown",
   "id": "c6e7c399",
   "metadata": {},
   "source": [
    "**Q1  Create a function that takes a number as an argument and returns True or\n",
    "False depending on whether the number is symmetrical or not. A number is\n",
    "symmetrical when it is the same as its reverse.**\n",
    "\n",
    "**Examples**\n",
    "\n",
    "is\\_symmetrical(7227) ➞ True\n",
    "\n",
    "is\\_symmetrical(12567) ➞ False\n",
    "\n",
    "is\\_symmetrical(44444444) ➞ True\n",
    "\n",
    "is\\_symmetrical(9939) ➞ False\n",
    "\n",
    "is\\_symmetrical(1112111) ➞ True\n"
   ]
  },
  {
   "cell_type": "code",
   "execution_count": 35,
   "id": "f227568f",
   "metadata": {},
   "outputs": [],
   "source": [
    "import math"
   ]
  },
  {
   "cell_type": "code",
   "execution_count": 150,
   "id": "07ffba33",
   "metadata": {},
   "outputs": [
    {
     "name": "stdout",
     "output_type": "stream",
     "text": [
      "symmetrical\n"
     ]
    }
   ],
   "source": [
    "def check_sym(string):\n",
    "    n=len(string)\n",
    "    flag=0\n",
    "    if n%2:\n",
    "        mid=n//2+1\n",
    "    else:\n",
    "        mid= n//2\n",
    "    start=0\n",
    "    end= mid\n",
    "    while(start <mid and end<n):\n",
    "        if(string[start]== string[end]):\n",
    "            start= start+1\n",
    "            end= end+1\n",
    "        else:\n",
    "            flag=1\n",
    "            break\n",
    "    if flag==0:\n",
    "        print(\"symmetrical\")\n",
    "    else:\n",
    "        print(\"not symmetrical\")\n",
    "check_sym('77277')"
   ]
  },
  {
   "cell_type": "code",
   "execution_count": 151,
   "id": "bb905511",
   "metadata": {},
   "outputs": [
    {
     "name": "stdout",
     "output_type": "stream",
     "text": [
      "not symmetrical\n"
     ]
    }
   ],
   "source": [
    "check_sym('772727')"
   ]
  },
  {
   "cell_type": "markdown",
   "id": "2ed791f8",
   "metadata": {},
   "source": [
    "**Q2 Given a string of numbers separated by a comma and space, return the\n",
    "product of the numbers.**\n",
    "\n",
    "### Examples\n",
    "\n",
    "multiply\\_nums(\"2, 3\") ➞ 6\n",
    "\n",
    "multiply\\_nums(\"1, 2, 3, 4\") ➞ 24\n",
    "\n",
    "multiply\\_nums(\"54, 75, 453, 0\") ➞ 0\n",
    "\n",
    "multiply\\_nums(\"10, -2\") ➞ -20\n"
   ]
  },
  {
   "cell_type": "code",
   "execution_count": 188,
   "id": "3a087b02",
   "metadata": {},
   "outputs": [
    {
     "data": {
      "text/plain": [
       "0"
      ]
     },
     "execution_count": 188,
     "metadata": {},
     "output_type": "execute_result"
    }
   ],
   "source": [
    "def multiply_nums(string):\n",
    "    abc = [val for val in string.split(',') if val != \",\"]\n",
    "    prod=1\n",
    "    for i in abc:\n",
    "        prod = int(i)*prod\n",
    "    return(prod)    \n",
    "multiply_nums(\"54, 75, 453, 0\")"
   ]
  },
  {
   "cell_type": "code",
   "execution_count": 189,
   "id": "8caec8af",
   "metadata": {},
   "outputs": [
    {
     "data": {
      "text/plain": [
       "24"
      ]
     },
     "execution_count": 189,
     "metadata": {},
     "output_type": "execute_result"
    }
   ],
   "source": [
    "multiply_nums(\"1, 2, 3, 4\")"
   ]
  },
  {
   "cell_type": "code",
   "execution_count": 190,
   "id": "767d698c",
   "metadata": {},
   "outputs": [
    {
     "data": {
      "text/plain": [
       "-20"
      ]
     },
     "execution_count": 190,
     "metadata": {},
     "output_type": "execute_result"
    }
   ],
   "source": [
    "multiply_nums(\"10, -2\")"
   ]
  },
  {
   "cell_type": "markdown",
   "id": "98dac167",
   "metadata": {},
   "source": [
    "**Q3 Create a function that squares every digit of a number.**\n",
    "\n",
    "### Examples\n",
    "\n",
    "square\\_digits(9119) ➞ 811181\n",
    "\n",
    "square\\_digits(2483) ➞ 416649\n",
    "\n",
    "square\\_digits(3212) ➞ 9414\n",
    "\n",
    "### Notes\n",
    "\n",
    "The function receives an integer and must return an integer.\n"
   ]
  },
  {
   "cell_type": "code",
   "execution_count": 192,
   "id": "98cbe1b5",
   "metadata": {},
   "outputs": [],
   "source": [
    "import re"
   ]
  },
  {
   "cell_type": "code",
   "execution_count": 215,
   "id": "3ec96413",
   "metadata": {},
   "outputs": [
    {
     "data": {
      "text/plain": [
       "416649"
      ]
     },
     "execution_count": 215,
     "metadata": {},
     "output_type": "execute_result"
    }
   ],
   "source": [
    "def square_digits(num):\n",
    "    res = 1\n",
    "    abc = []\n",
    "    for i in str(num):\n",
    "        abc.append(str((int(i))**2))\n",
    "    return int(''.join(abc))    \n",
    "square_digits(2483)        "
   ]
  },
  {
   "cell_type": "code",
   "execution_count": 217,
   "id": "81386843",
   "metadata": {},
   "outputs": [
    {
     "data": {
      "text/plain": [
       "9414"
      ]
     },
     "execution_count": 217,
     "metadata": {},
     "output_type": "execute_result"
    }
   ],
   "source": [
    "square_digits(3212)"
   ]
  },
  {
   "cell_type": "markdown",
   "id": "22f4608a",
   "metadata": {},
   "source": [
    "**Q4 Create a function that sorts a list and removes all duplicate items from\n",
    "it.**\n",
    "\n",
    "### Examples\n",
    "\n",
    "setify(\\[1, 3, 3, 5, 5\\]) ➞ \\[1, 3, 5\\]\n",
    "\n",
    "setify(\\[4, 4, 4, 4\\]) ➞ \\[4\\]\n",
    "\n",
    "setify(\\[5, 7, 8, 9, 10, 15\\]) ➞ \\[5, 7, 8, 9, 10, 15\\]\n",
    "\n",
    "setify(\\[3, 3, 3, 2, 1\\]) ➞ \\[1, 2, 3\\]\n"
   ]
  },
  {
   "cell_type": "code",
   "execution_count": 220,
   "id": "90577689",
   "metadata": {},
   "outputs": [
    {
     "data": {
      "text/plain": [
       "[1, 2, 3]"
      ]
     },
     "execution_count": 220,
     "metadata": {},
     "output_type": "execute_result"
    }
   ],
   "source": [
    "def setify(list_a):\n",
    "    abc = []\n",
    "    for i in list_a:\n",
    "        abc.append(i)\n",
    "    return sorted(set(abc))    \n",
    "setify([3, 3, 3, 2, 1])"
   ]
  },
  {
   "cell_type": "code",
   "execution_count": 221,
   "id": "b711a89a",
   "metadata": {},
   "outputs": [
    {
     "data": {
      "text/plain": [
       "[5, 7, 8, 9, 10, 15]"
      ]
     },
     "execution_count": 221,
     "metadata": {},
     "output_type": "execute_result"
    }
   ],
   "source": [
    "setify([5, 7, 8, 9, 10, 15])"
   ]
  },
  {
   "cell_type": "code",
   "execution_count": 222,
   "id": "1f76dd0d",
   "metadata": {},
   "outputs": [
    {
     "data": {
      "text/plain": [
       "[1, 3, 5]"
      ]
     },
     "execution_count": 222,
     "metadata": {},
     "output_type": "execute_result"
    }
   ],
   "source": [
    "setify([1, 3, 3, 5, 5])"
   ]
  },
  {
   "cell_type": "markdown",
   "id": "b6777970",
   "metadata": {},
   "source": [
    "**Q5 Create a function that returns the mean of all digits.**\n",
    "\n",
    "### Examples\n",
    "\n",
    "mean(42) ➞ 3\n",
    "\n",
    "mean(12345) ➞ 3\n",
    "\n",
    "mean(666) ➞ 6\n",
    "\n",
    "### Notes\n",
    "\n",
    "-   The mean of all digits is the sum of digits / how many digits there\n",
    "    are (e.g. mean of digits in 512 is (5+1+2)/3(number of digits) =\n",
    "    8/3=2).\n",
    "\n",
    "-   The mean will always be an integer."
   ]
  },
  {
   "cell_type": "code",
   "execution_count": 240,
   "id": "d34dad88",
   "metadata": {},
   "outputs": [
    {
     "name": "stdout",
     "output_type": "stream",
     "text": [
      "3\n"
     ]
    }
   ],
   "source": [
    "def mean(num):\n",
    "    num = [int(a) for a in str(num)]\n",
    "    print(int(sum(num)/len(num)))\n",
    "mean(12345)"
   ]
  },
  {
   "cell_type": "code",
   "execution_count": 241,
   "id": "9a3b53b9",
   "metadata": {},
   "outputs": [
    {
     "name": "stdout",
     "output_type": "stream",
     "text": [
      "6\n"
     ]
    }
   ],
   "source": [
    "mean(666)"
   ]
  }
 ],
 "metadata": {
  "kernelspec": {
   "display_name": "Python 3 (ipykernel)",
   "language": "python",
   "name": "python3"
  },
  "language_info": {
   "codemirror_mode": {
    "name": "ipython",
    "version": 3
   },
   "file_extension": ".py",
   "mimetype": "text/x-python",
   "name": "python",
   "nbconvert_exporter": "python",
   "pygments_lexer": "ipython3",
   "version": "3.9.12"
  }
 },
 "nbformat": 4,
 "nbformat_minor": 5
}
