{
 "cells": [
  {
   "cell_type": "markdown",
   "id": "afcc6e49",
   "metadata": {},
   "source": [
    "**Q1\\. Create a list called years\\_list, starting with the year of your\n",
    "birth, and each year thereafter until the year of your fifth birthday.\n",
    "For example, if you were born in 1980. the list would be years\\_list =\n",
    "\\[1980, 1981, 1982, 1983, 1984, 1985\\].**\n",
    "\n",
    "**Ans**"
   ]
  },
  {
   "cell_type": "code",
   "execution_count": 1,
   "id": "4ca4df6d",
   "metadata": {},
   "outputs": [],
   "source": [
    "year_list = [1994,1995,1996,1997,1998]"
   ]
  },
  {
   "cell_type": "markdown",
   "id": "b31dd955",
   "metadata": {},
   "source": [
    "**Q2. In which year in years\\_list was your third birthday? Remember, you\n",
    "were 0 years of age for your first year.**\n",
    "\n",
    "**Ans**"
   ]
  },
  {
   "cell_type": "code",
   "execution_count": 63,
   "id": "4c3540c8",
   "metadata": {},
   "outputs": [
    {
     "data": {
      "text/plain": [
       "1997"
      ]
     },
     "execution_count": 63,
     "metadata": {},
     "output_type": "execute_result"
    }
   ],
   "source": [
    "year_list[3]"
   ]
  },
  {
   "cell_type": "markdown",
   "id": "39d4d44a",
   "metadata": {},
   "source": [
    "**Q3.In the years list, which year were you the oldest?**\n",
    "\n",
    "**Ans**"
   ]
  },
  {
   "cell_type": "code",
   "execution_count": 64,
   "id": "4a8f6c19",
   "metadata": {},
   "outputs": [
    {
     "data": {
      "text/plain": [
       "1998"
      ]
     },
     "execution_count": 64,
     "metadata": {},
     "output_type": "execute_result"
    }
   ],
   "source": [
    "year_list[-1]"
   ]
  },
  {
   "cell_type": "markdown",
   "id": "90d22cff",
   "metadata": {},
   "source": [
    "**Q4 Make a list called things with these three strings as elements:\n",
    "\"mozzarella\", \"cinderella\", \"salmonella\".**\n",
    "\n",
    "\n",
    "**Ans**"
   ]
  },
  {
   "cell_type": "code",
   "execution_count": 17,
   "id": "68a2acb1",
   "metadata": {},
   "outputs": [],
   "source": [
    "strings = ['mozzarella','cinderella','salmonella']"
   ]
  },
  {
   "cell_type": "markdown",
   "id": "8f029e1a",
   "metadata": {},
   "source": [
    "**Q5. Capitalize the element in things that refers to a person and then\n",
    "print the list. Did it change the element in the list?**\n",
    "\n",
    "**Ans**"
   ]
  },
  {
   "cell_type": "code",
   "execution_count": 22,
   "id": "1c649b33",
   "metadata": {},
   "outputs": [
    {
     "name": "stdout",
     "output_type": "stream",
     "text": [
      "CINDERELLA\n",
      "['mozzarella', 'cinderella', 'salmonella']\n"
     ]
    }
   ],
   "source": [
    "for i in strings:\n",
    "    if i=='cinderella':\n",
    "        i=i.upper()\n",
    "        print(i)\n",
    "print(strings)        "
   ]
  },
  {
   "cell_type": "markdown",
   "id": "a6b09d68",
   "metadata": {},
   "source": [
    "Element in the list did not modify after the element was capatalized"
   ]
  },
  {
   "cell_type": "markdown",
   "id": "c11ffb5f",
   "metadata": {},
   "source": [
    "**Q6 Make a surprise list with the elements \"Groucho,\" \"Chico,\" and\n",
    "\"Harpo.\"**\n",
    "\n",
    "\n",
    "**Ans**\n"
   ]
  },
  {
   "cell_type": "code",
   "execution_count": 24,
   "id": "9af64e8c",
   "metadata": {},
   "outputs": [],
   "source": [
    "surprise = ['Groucho','Chico','Harpo']"
   ]
  },
  {
   "cell_type": "markdown",
   "id": "6f0071d0",
   "metadata": {},
   "source": [
    "**Q7 Lowercase the last element of the surprise list, reverse it, and\n",
    "then capitalize it.**\n",
    "\n",
    "**Ans**"
   ]
  },
  {
   "cell_type": "code",
   "execution_count": 36,
   "id": "a67de884",
   "metadata": {},
   "outputs": [
    {
     "name": "stdout",
     "output_type": "stream",
     "text": [
      "harpo\n",
      "opraH\n",
      "OPRAH\n"
     ]
    }
   ],
   "source": [
    "print(surprise[-1].lower())\n",
    "print(surprise[-1][::-1])\n",
    "print(surprise[-1][::-1].upper())"
   ]
  },
  {
   "cell_type": "markdown",
   "id": "d8474d5a",
   "metadata": {},
   "source": [
    "**Q8 Make an English-to-French dictionary called e2f and print it. Here\n",
    "are your starter words: dog is chien, cat is chat, and walrus is morse.**\n",
    "\n",
    "**Ans**"
   ]
  },
  {
   "cell_type": "code",
   "execution_count": 58,
   "id": "24ab14a4",
   "metadata": {},
   "outputs": [],
   "source": [
    "e2f = {'dog':'chien','cat':'chat','walrus':'morse'}"
   ]
  },
  {
   "cell_type": "markdown",
   "id": "50bffa1f",
   "metadata": {},
   "source": [
    "**Q9 Write the French word for walrus in your three-word dictionary e2f.**\n",
    "\n",
    "**Ans**\n"
   ]
  },
  {
   "cell_type": "code",
   "execution_count": 39,
   "id": "1721a3d5",
   "metadata": {},
   "outputs": [
    {
     "data": {
      "text/plain": [
       "'morse'"
      ]
     },
     "execution_count": 39,
     "metadata": {},
     "output_type": "execute_result"
    }
   ],
   "source": [
    "e2f['walrus']"
   ]
  },
  {
   "cell_type": "markdown",
   "id": "e585609c",
   "metadata": {},
   "source": [
    "**Q10 Make a French-to-English dictionary called f2e from e2f. Use the\n",
    "items method.**\n",
    "\n",
    "**Ans**\n"
   ]
  },
  {
   "cell_type": "code",
   "execution_count": 59,
   "id": "60a2886b",
   "metadata": {},
   "outputs": [
    {
     "data": {
      "text/plain": [
       "dict_items([('dog', 'chien'), ('cat', 'chat'), ('walrus', 'morse')])"
      ]
     },
     "execution_count": 59,
     "metadata": {},
     "output_type": "execute_result"
    }
   ],
   "source": [
    "e2f.items()"
   ]
  },
  {
   "cell_type": "code",
   "execution_count": 61,
   "id": "e1d255ef",
   "metadata": {},
   "outputs": [
    {
     "data": {
      "text/plain": [
       "{'chien': 'dog', 'chat': 'cat', 'morse': 'walrus'}"
      ]
     },
     "execution_count": 61,
     "metadata": {},
     "output_type": "execute_result"
    }
   ],
   "source": [
    "f2e = {v: k for k, v in e2f.items()}\n",
    "f2e"
   ]
  },
  {
   "cell_type": "markdown",
   "id": "f4904724",
   "metadata": {},
   "source": [
    "**Q11 Print the English version of the French word chien using f2e.**\n",
    "\n",
    "**Ans**"
   ]
  },
  {
   "cell_type": "code",
   "execution_count": 65,
   "id": "9ee7e558",
   "metadata": {},
   "outputs": [
    {
     "data": {
      "text/plain": [
       "'dog'"
      ]
     },
     "execution_count": 65,
     "metadata": {},
     "output_type": "execute_result"
    }
   ],
   "source": [
    "f2e['chien']"
   ]
  },
  {
   "cell_type": "code",
   "execution_count": 62,
   "id": "0c3501d6",
   "metadata": {},
   "outputs": [
    {
     "name": "stdout",
     "output_type": "stream",
     "text": [
      "15\n"
     ]
    }
   ],
   "source": []
  },
  {
   "cell_type": "markdown",
   "id": "b67a95d4",
   "metadata": {},
   "source": [
    "**Q12 Make and print a set of English words from the keys in e2f**\n",
    "\n",
    "**Ans**"
   ]
  },
  {
   "cell_type": "code",
   "execution_count": 67,
   "id": "0895ba63",
   "metadata": {},
   "outputs": [
    {
     "data": {
      "text/plain": [
       "dict_keys(['dog', 'cat', 'walrus'])"
      ]
     },
     "execution_count": 67,
     "metadata": {},
     "output_type": "execute_result"
    }
   ],
   "source": [
    "e2f.keys()"
   ]
  },
  {
   "cell_type": "markdown",
   "id": "6d763358",
   "metadata": {},
   "source": [
    "**Q13 Make a multilevel dictionary called life. Use these strings for the\n",
    "topmost keys: 'animals', 'plants', and 'other'. Make the 'animals' key\n",
    "refer to another dictionary with the keys 'cats', 'octopi', and 'emus'.\n",
    "Make the 'cats' key refer to a list of strings with the values 'Henri',\n",
    "'Grumpy', and 'Lucy'. Make all the other keys refer to empty\n",
    "dictionaries.**"
   ]
  },
  {
   "cell_type": "markdown",
   "id": "6d3e5e0d",
   "metadata": {},
   "source": [
    "**Ans**"
   ]
  },
  {
   "cell_type": "code",
   "execution_count": 72,
   "id": "ba253534",
   "metadata": {},
   "outputs": [],
   "source": [
    "life = {'animals':{'cats':['Henri','Grumpy','Lucy'],'octopi':'','emus':''},'plants':'','other':''}"
   ]
  },
  {
   "cell_type": "code",
   "execution_count": 73,
   "id": "3a4954ae",
   "metadata": {},
   "outputs": [
    {
     "data": {
      "text/plain": [
       "{'animals': {'cats': ['Henri', 'Grumpy', 'Lucy'], 'octopi': '', 'emus': ''},\n",
       " 'plants': '',\n",
       " 'other': ''}"
      ]
     },
     "execution_count": 73,
     "metadata": {},
     "output_type": "execute_result"
    }
   ],
   "source": [
    "life"
   ]
  },
  {
   "cell_type": "markdown",
   "id": "699276c2",
   "metadata": {},
   "source": [
    "**Q14 Print the top-level keys of life.**\n",
    "\n",
    "**Ans**"
   ]
  },
  {
   "cell_type": "code",
   "execution_count": 74,
   "id": "bebe0000",
   "metadata": {},
   "outputs": [
    {
     "data": {
      "text/plain": [
       "dict_keys(['animals', 'plants', 'other'])"
      ]
     },
     "execution_count": 74,
     "metadata": {},
     "output_type": "execute_result"
    }
   ],
   "source": [
    "life.keys()"
   ]
  },
  {
   "cell_type": "markdown",
   "id": "acbe6627",
   "metadata": {},
   "source": [
    "**Q15 Print the keys for life\\['animals'\\].**\n",
    "\n",
    "**Ans**"
   ]
  },
  {
   "cell_type": "code",
   "execution_count": 76,
   "id": "4b69ab61",
   "metadata": {},
   "outputs": [
    {
     "data": {
      "text/plain": [
       "dict_keys(['cats', 'octopi', 'emus'])"
      ]
     },
     "execution_count": 76,
     "metadata": {},
     "output_type": "execute_result"
    }
   ],
   "source": [
    "life['animals'].keys()"
   ]
  },
  {
   "cell_type": "markdown",
   "id": "0aec1e72",
   "metadata": {},
   "source": [
    "**Q16\\. Print the values for life\\['animals'\\]\\['cats'\\]**\n",
    "\n",
    "**Ans**"
   ]
  },
  {
   "cell_type": "code",
   "execution_count": 79,
   "id": "131a5c6b",
   "metadata": {},
   "outputs": [
    {
     "data": {
      "text/plain": [
       "['Henri', 'Grumpy', 'Lucy']"
      ]
     },
     "execution_count": 79,
     "metadata": {},
     "output_type": "execute_result"
    }
   ],
   "source": [
    "life['animals']['cats']"
   ]
  },
  {
   "cell_type": "code",
   "execution_count": null,
   "id": "285ac42d",
   "metadata": {},
   "outputs": [],
   "source": []
  }
 ],
 "metadata": {
  "kernelspec": {
   "display_name": "Python 3 (ipykernel)",
   "language": "python",
   "name": "python3"
  },
  "language_info": {
   "codemirror_mode": {
    "name": "ipython",
    "version": 3
   },
   "file_extension": ".py",
   "mimetype": "text/x-python",
   "name": "python",
   "nbconvert_exporter": "python",
   "pygments_lexer": "ipython3",
   "version": "3.9.12"
  }
 },
 "nbformat": 4,
 "nbformat_minor": 5
}
